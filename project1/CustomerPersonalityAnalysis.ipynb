{
 "cells": [
  {
   "attachments": {},
   "cell_type": "markdown",
   "metadata": {},
   "source": [
    "## Customer Personality Analysis"
   ]
  },
  {
   "attachments": {},
   "cell_type": "markdown",
   "metadata": {},
   "source": [
    "### Necessary Imports"
   ]
  },
  {
   "cell_type": "code",
   "execution_count": 1,
   "metadata": {},
   "outputs": [],
   "source": [
    "from typing import Tuple, List, TypedDict, Callable, Sequence, Iterable\n",
    "from datetime import datetime, date, timedelta\n",
    "from enum import Enum, auto\n",
    "\n",
    "import pandas as pd\n",
    "import matplotlib.pyplot as plt\n",
    "import seaborn as sns\n",
    "import numpy as np\n",
    "\n",
    "from IPython.display import display, DisplayHandle, Markdown"
   ]
  },
  {
   "attachments": {},
   "cell_type": "markdown",
   "metadata": {},
   "source": [
    "### Dataset-specific & Helper constants"
   ]
  },
  {
   "cell_type": "code",
   "execution_count": 2,
   "metadata": {},
   "outputs": [],
   "source": [
    "READ_CSV: Callable[[], pd.DataFrame] = lambda: pd.read_csv('./marketing_campaign.csv', sep='\\t')\n",
    "\n",
    "# Autocomplete helper\n",
    "class DataColumn:\n",
    "    ID = 'ID'\n",
    "    YEAR_BIRTH = 'Year_Birth'\n",
    "    EDUCATION = 'Education'\n",
    "    MARITAL_STATUS = 'Marital_Status'\n",
    "    INCOME = 'Income'\n",
    "    KIDHOME = 'Kidhome'\n",
    "    TEENHOME = 'Teenhome'\n",
    "    DT_CUSTOMER = 'Dt_Customer'\n",
    "    RECENCY = 'Recency'\n",
    "    MNTWINES = 'MntWines'\n",
    "    MNTFRUITS = 'MntFruits'\n",
    "    MNTMEATPRODUCTS = 'MntMeatProducts'\n",
    "    MNTFISHPRODUCTS = 'MntFishProducts'\n",
    "    MNTSWEETPRODUCTS = 'MntSweetProducts'\n",
    "    MNTGOLDPRODS = 'MntGoldProds'\n",
    "    NUMDEALSPURCHASES = 'NumDealsPurchases'\n",
    "    NUMWEBPURCHASES = 'NumWebPurchases'    \n",
    "    NUMCATALOGPURCHASES = 'NumCatalogPurchases'\n",
    "    NUMSTOREPURCHASES = 'NumStorePurchases'\n",
    "    NUMWEBVISITSMONTH = 'NumWebVisitsMonth'\n",
    "    ACCEPTEDCMP1 = 'AcceptedCmp1'\n",
    "    ACCEPTEDCMP2 = 'AcceptedCmp2'\n",
    "    ACCEPTEDCMP3 = 'AcceptedCmp3'\n",
    "    ACCEPTEDCMP4 = 'AcceptedCmp4'\n",
    "    ACCEPTEDCMP5 = 'AcceptedCmp5'\n",
    "    COMPLAIN = 'Complain'\n",
    "    RESPONSE = 'Response'\n",
    "    Z_COSTCONTACT = 'Z_CostContact'\n",
    "    Z_REVENUE = 'Z_Revenue'\n",
    "    CUSTOMER_FOR = 'Customer_For'\n",
    "    AGE = 'Age'\n",
    "    SPENT = 'Spent'\n",
    "    LIVING_WITH = 'Living_With'\n",
    "    CHILDREN_TOTAL = 'Children_Total'\n",
    "    FAMILY_SIZE = 'Family_Size'\n",
    "    AGE_GROUP = 'Age_Group'\n",
    "    IS_PARENT = 'Is_Parent'\n",
    "\n",
    "printMd: Callable[[str], \"DisplayHandle | None\"] = lambda s: display(Markdown(s))"
   ]
  },
  {
   "attachments": {},
   "cell_type": "markdown",
   "metadata": {},
   "source": [
    "### **Q1**: Initial Dataset preprocessing & cleaning\n",
    "\n",
    "We read the dataset to observe its shape:"
   ]
  },
  {
   "cell_type": "code",
   "execution_count": 3,
   "metadata": {},
   "outputs": [
    {
     "data": {
      "text/html": [
       "<div>\n",
       "<style scoped>\n",
       "    .dataframe tbody tr th:only-of-type {\n",
       "        vertical-align: middle;\n",
       "    }\n",
       "\n",
       "    .dataframe tbody tr th {\n",
       "        vertical-align: top;\n",
       "    }\n",
       "\n",
       "    .dataframe thead th {\n",
       "        text-align: right;\n",
       "    }\n",
       "</style>\n",
       "<table border=\"1\" class=\"dataframe\">\n",
       "  <thead>\n",
       "    <tr style=\"text-align: right;\">\n",
       "      <th></th>\n",
       "      <th>ID</th>\n",
       "      <th>Year_Birth</th>\n",
       "      <th>Education</th>\n",
       "      <th>Marital_Status</th>\n",
       "      <th>Income</th>\n",
       "      <th>Kidhome</th>\n",
       "      <th>Teenhome</th>\n",
       "      <th>Dt_Customer</th>\n",
       "      <th>Recency</th>\n",
       "      <th>MntWines</th>\n",
       "      <th>...</th>\n",
       "      <th>NumWebVisitsMonth</th>\n",
       "      <th>AcceptedCmp3</th>\n",
       "      <th>AcceptedCmp4</th>\n",
       "      <th>AcceptedCmp5</th>\n",
       "      <th>AcceptedCmp1</th>\n",
       "      <th>AcceptedCmp2</th>\n",
       "      <th>Complain</th>\n",
       "      <th>Z_CostContact</th>\n",
       "      <th>Z_Revenue</th>\n",
       "      <th>Response</th>\n",
       "    </tr>\n",
       "  </thead>\n",
       "  <tbody>\n",
       "    <tr>\n",
       "      <th>0</th>\n",
       "      <td>5524</td>\n",
       "      <td>1957</td>\n",
       "      <td>Graduation</td>\n",
       "      <td>Single</td>\n",
       "      <td>58138.0</td>\n",
       "      <td>0</td>\n",
       "      <td>0</td>\n",
       "      <td>04-09-2012</td>\n",
       "      <td>58</td>\n",
       "      <td>635</td>\n",
       "      <td>...</td>\n",
       "      <td>7</td>\n",
       "      <td>0</td>\n",
       "      <td>0</td>\n",
       "      <td>0</td>\n",
       "      <td>0</td>\n",
       "      <td>0</td>\n",
       "      <td>0</td>\n",
       "      <td>3</td>\n",
       "      <td>11</td>\n",
       "      <td>1</td>\n",
       "    </tr>\n",
       "    <tr>\n",
       "      <th>1</th>\n",
       "      <td>2174</td>\n",
       "      <td>1954</td>\n",
       "      <td>Graduation</td>\n",
       "      <td>Single</td>\n",
       "      <td>46344.0</td>\n",
       "      <td>1</td>\n",
       "      <td>1</td>\n",
       "      <td>08-03-2014</td>\n",
       "      <td>38</td>\n",
       "      <td>11</td>\n",
       "      <td>...</td>\n",
       "      <td>5</td>\n",
       "      <td>0</td>\n",
       "      <td>0</td>\n",
       "      <td>0</td>\n",
       "      <td>0</td>\n",
       "      <td>0</td>\n",
       "      <td>0</td>\n",
       "      <td>3</td>\n",
       "      <td>11</td>\n",
       "      <td>0</td>\n",
       "    </tr>\n",
       "    <tr>\n",
       "      <th>2</th>\n",
       "      <td>4141</td>\n",
       "      <td>1965</td>\n",
       "      <td>Graduation</td>\n",
       "      <td>Together</td>\n",
       "      <td>71613.0</td>\n",
       "      <td>0</td>\n",
       "      <td>0</td>\n",
       "      <td>21-08-2013</td>\n",
       "      <td>26</td>\n",
       "      <td>426</td>\n",
       "      <td>...</td>\n",
       "      <td>4</td>\n",
       "      <td>0</td>\n",
       "      <td>0</td>\n",
       "      <td>0</td>\n",
       "      <td>0</td>\n",
       "      <td>0</td>\n",
       "      <td>0</td>\n",
       "      <td>3</td>\n",
       "      <td>11</td>\n",
       "      <td>0</td>\n",
       "    </tr>\n",
       "    <tr>\n",
       "      <th>3</th>\n",
       "      <td>6182</td>\n",
       "      <td>1984</td>\n",
       "      <td>Graduation</td>\n",
       "      <td>Together</td>\n",
       "      <td>26646.0</td>\n",
       "      <td>1</td>\n",
       "      <td>0</td>\n",
       "      <td>10-02-2014</td>\n",
       "      <td>26</td>\n",
       "      <td>11</td>\n",
       "      <td>...</td>\n",
       "      <td>6</td>\n",
       "      <td>0</td>\n",
       "      <td>0</td>\n",
       "      <td>0</td>\n",
       "      <td>0</td>\n",
       "      <td>0</td>\n",
       "      <td>0</td>\n",
       "      <td>3</td>\n",
       "      <td>11</td>\n",
       "      <td>0</td>\n",
       "    </tr>\n",
       "    <tr>\n",
       "      <th>4</th>\n",
       "      <td>5324</td>\n",
       "      <td>1981</td>\n",
       "      <td>PhD</td>\n",
       "      <td>Married</td>\n",
       "      <td>58293.0</td>\n",
       "      <td>1</td>\n",
       "      <td>0</td>\n",
       "      <td>19-01-2014</td>\n",
       "      <td>94</td>\n",
       "      <td>173</td>\n",
       "      <td>...</td>\n",
       "      <td>5</td>\n",
       "      <td>0</td>\n",
       "      <td>0</td>\n",
       "      <td>0</td>\n",
       "      <td>0</td>\n",
       "      <td>0</td>\n",
       "      <td>0</td>\n",
       "      <td>3</td>\n",
       "      <td>11</td>\n",
       "      <td>0</td>\n",
       "    </tr>\n",
       "  </tbody>\n",
       "</table>\n",
       "<p>5 rows × 29 columns</p>\n",
       "</div>"
      ],
      "text/plain": [
       "     ID  Year_Birth   Education Marital_Status   Income  Kidhome  Teenhome  \\\n",
       "0  5524        1957  Graduation         Single  58138.0        0         0   \n",
       "1  2174        1954  Graduation         Single  46344.0        1         1   \n",
       "2  4141        1965  Graduation       Together  71613.0        0         0   \n",
       "3  6182        1984  Graduation       Together  26646.0        1         0   \n",
       "4  5324        1981         PhD        Married  58293.0        1         0   \n",
       "\n",
       "  Dt_Customer  Recency  MntWines  ...  NumWebVisitsMonth  AcceptedCmp3  \\\n",
       "0  04-09-2012       58       635  ...                  7             0   \n",
       "1  08-03-2014       38        11  ...                  5             0   \n",
       "2  21-08-2013       26       426  ...                  4             0   \n",
       "3  10-02-2014       26        11  ...                  6             0   \n",
       "4  19-01-2014       94       173  ...                  5             0   \n",
       "\n",
       "   AcceptedCmp4  AcceptedCmp5  AcceptedCmp1  AcceptedCmp2  Complain  \\\n",
       "0             0             0             0             0         0   \n",
       "1             0             0             0             0         0   \n",
       "2             0             0             0             0         0   \n",
       "3             0             0             0             0         0   \n",
       "4             0             0             0             0         0   \n",
       "\n",
       "   Z_CostContact  Z_Revenue  Response  \n",
       "0              3         11         1  \n",
       "1              3         11         0  \n",
       "2              3         11         0  \n",
       "3              3         11         0  \n",
       "4              3         11         0  \n",
       "\n",
       "[5 rows x 29 columns]"
      ]
     },
     "execution_count": 3,
     "metadata": {},
     "output_type": "execute_result"
    }
   ],
   "source": [
    "dataDf = READ_CSV()\n",
    "dataDf.head()"
   ]
  },
  {
   "attachments": {},
   "cell_type": "markdown",
   "metadata": {},
   "source": [
    "We initially search for columns with missing values:"
   ]
  },
  {
   "cell_type": "code",
   "execution_count": 4,
   "metadata": {},
   "outputs": [
    {
     "data": {
      "text/html": [
       "<div>\n",
       "<style scoped>\n",
       "    .dataframe tbody tr th:only-of-type {\n",
       "        vertical-align: middle;\n",
       "    }\n",
       "\n",
       "    .dataframe tbody tr th {\n",
       "        vertical-align: top;\n",
       "    }\n",
       "\n",
       "    .dataframe thead th {\n",
       "        text-align: right;\n",
       "    }\n",
       "</style>\n",
       "<table border=\"1\" class=\"dataframe\">\n",
       "  <thead>\n",
       "    <tr style=\"text-align: right;\">\n",
       "      <th></th>\n",
       "      <th>Missing</th>\n",
       "    </tr>\n",
       "  </thead>\n",
       "  <tbody>\n",
       "    <tr>\n",
       "      <th>Income</th>\n",
       "      <td>24</td>\n",
       "    </tr>\n",
       "  </tbody>\n",
       "</table>\n",
       "</div>"
      ],
      "text/plain": [
       "        Missing\n",
       "Income       24"
      ]
     },
     "execution_count": 4,
     "metadata": {},
     "output_type": "execute_result"
    }
   ],
   "source": [
    "def countMissingByColumn(df: pd.DataFrame):\n",
    "    temp = df.isnull().sum().sort_values(ascending=False)\n",
    "    missingDf = pd.DataFrame(temp.loc[temp > 0])\n",
    "    missingDf.columns = ['Missing']\n",
    "    return missingDf\n",
    "\n",
    "countMissingByColumn(dataDf)"
   ]
  },
  {
   "attachments": {},
   "cell_type": "markdown",
   "metadata": {},
   "source": [
    "We can see there are missing `Income` values in some rows. Let's examine them in detail:"
   ]
  },
  {
   "cell_type": "code",
   "execution_count": 5,
   "metadata": {},
   "outputs": [
    {
     "data": {
      "text/html": [
       "<div>\n",
       "<style scoped>\n",
       "    .dataframe tbody tr th:only-of-type {\n",
       "        vertical-align: middle;\n",
       "    }\n",
       "\n",
       "    .dataframe tbody tr th {\n",
       "        vertical-align: top;\n",
       "    }\n",
       "\n",
       "    .dataframe thead th {\n",
       "        text-align: right;\n",
       "    }\n",
       "</style>\n",
       "<table border=\"1\" class=\"dataframe\">\n",
       "  <thead>\n",
       "    <tr style=\"text-align: right;\">\n",
       "      <th></th>\n",
       "      <th>ID</th>\n",
       "      <th>Year_Birth</th>\n",
       "      <th>Education</th>\n",
       "      <th>Marital_Status</th>\n",
       "      <th>Income</th>\n",
       "      <th>Kidhome</th>\n",
       "      <th>Teenhome</th>\n",
       "      <th>Dt_Customer</th>\n",
       "      <th>Recency</th>\n",
       "      <th>MntWines</th>\n",
       "      <th>...</th>\n",
       "      <th>NumWebVisitsMonth</th>\n",
       "      <th>AcceptedCmp3</th>\n",
       "      <th>AcceptedCmp4</th>\n",
       "      <th>AcceptedCmp5</th>\n",
       "      <th>AcceptedCmp1</th>\n",
       "      <th>AcceptedCmp2</th>\n",
       "      <th>Complain</th>\n",
       "      <th>Z_CostContact</th>\n",
       "      <th>Z_Revenue</th>\n",
       "      <th>Response</th>\n",
       "    </tr>\n",
       "  </thead>\n",
       "  <tbody>\n",
       "    <tr>\n",
       "      <th>10</th>\n",
       "      <td>1994</td>\n",
       "      <td>1983</td>\n",
       "      <td>Graduation</td>\n",
       "      <td>Married</td>\n",
       "      <td>NaN</td>\n",
       "      <td>1</td>\n",
       "      <td>0</td>\n",
       "      <td>15-11-2013</td>\n",
       "      <td>11</td>\n",
       "      <td>5</td>\n",
       "      <td>...</td>\n",
       "      <td>7</td>\n",
       "      <td>0</td>\n",
       "      <td>0</td>\n",
       "      <td>0</td>\n",
       "      <td>0</td>\n",
       "      <td>0</td>\n",
       "      <td>0</td>\n",
       "      <td>3</td>\n",
       "      <td>11</td>\n",
       "      <td>0</td>\n",
       "    </tr>\n",
       "    <tr>\n",
       "      <th>27</th>\n",
       "      <td>5255</td>\n",
       "      <td>1986</td>\n",
       "      <td>Graduation</td>\n",
       "      <td>Single</td>\n",
       "      <td>NaN</td>\n",
       "      <td>1</td>\n",
       "      <td>0</td>\n",
       "      <td>20-02-2013</td>\n",
       "      <td>19</td>\n",
       "      <td>5</td>\n",
       "      <td>...</td>\n",
       "      <td>1</td>\n",
       "      <td>0</td>\n",
       "      <td>0</td>\n",
       "      <td>0</td>\n",
       "      <td>0</td>\n",
       "      <td>0</td>\n",
       "      <td>0</td>\n",
       "      <td>3</td>\n",
       "      <td>11</td>\n",
       "      <td>0</td>\n",
       "    </tr>\n",
       "    <tr>\n",
       "      <th>43</th>\n",
       "      <td>7281</td>\n",
       "      <td>1959</td>\n",
       "      <td>PhD</td>\n",
       "      <td>Single</td>\n",
       "      <td>NaN</td>\n",
       "      <td>0</td>\n",
       "      <td>0</td>\n",
       "      <td>05-11-2013</td>\n",
       "      <td>80</td>\n",
       "      <td>81</td>\n",
       "      <td>...</td>\n",
       "      <td>2</td>\n",
       "      <td>0</td>\n",
       "      <td>0</td>\n",
       "      <td>0</td>\n",
       "      <td>0</td>\n",
       "      <td>0</td>\n",
       "      <td>0</td>\n",
       "      <td>3</td>\n",
       "      <td>11</td>\n",
       "      <td>0</td>\n",
       "    </tr>\n",
       "    <tr>\n",
       "      <th>48</th>\n",
       "      <td>7244</td>\n",
       "      <td>1951</td>\n",
       "      <td>Graduation</td>\n",
       "      <td>Single</td>\n",
       "      <td>NaN</td>\n",
       "      <td>2</td>\n",
       "      <td>1</td>\n",
       "      <td>01-01-2014</td>\n",
       "      <td>96</td>\n",
       "      <td>48</td>\n",
       "      <td>...</td>\n",
       "      <td>6</td>\n",
       "      <td>0</td>\n",
       "      <td>0</td>\n",
       "      <td>0</td>\n",
       "      <td>0</td>\n",
       "      <td>0</td>\n",
       "      <td>0</td>\n",
       "      <td>3</td>\n",
       "      <td>11</td>\n",
       "      <td>0</td>\n",
       "    </tr>\n",
       "    <tr>\n",
       "      <th>58</th>\n",
       "      <td>8557</td>\n",
       "      <td>1982</td>\n",
       "      <td>Graduation</td>\n",
       "      <td>Single</td>\n",
       "      <td>NaN</td>\n",
       "      <td>1</td>\n",
       "      <td>0</td>\n",
       "      <td>17-06-2013</td>\n",
       "      <td>57</td>\n",
       "      <td>11</td>\n",
       "      <td>...</td>\n",
       "      <td>6</td>\n",
       "      <td>0</td>\n",
       "      <td>0</td>\n",
       "      <td>0</td>\n",
       "      <td>0</td>\n",
       "      <td>0</td>\n",
       "      <td>0</td>\n",
       "      <td>3</td>\n",
       "      <td>11</td>\n",
       "      <td>0</td>\n",
       "    </tr>\n",
       "    <tr>\n",
       "      <th>71</th>\n",
       "      <td>10629</td>\n",
       "      <td>1973</td>\n",
       "      <td>2n Cycle</td>\n",
       "      <td>Married</td>\n",
       "      <td>NaN</td>\n",
       "      <td>1</td>\n",
       "      <td>0</td>\n",
       "      <td>14-09-2012</td>\n",
       "      <td>25</td>\n",
       "      <td>25</td>\n",
       "      <td>...</td>\n",
       "      <td>8</td>\n",
       "      <td>0</td>\n",
       "      <td>0</td>\n",
       "      <td>0</td>\n",
       "      <td>0</td>\n",
       "      <td>0</td>\n",
       "      <td>0</td>\n",
       "      <td>3</td>\n",
       "      <td>11</td>\n",
       "      <td>0</td>\n",
       "    </tr>\n",
       "    <tr>\n",
       "      <th>90</th>\n",
       "      <td>8996</td>\n",
       "      <td>1957</td>\n",
       "      <td>PhD</td>\n",
       "      <td>Married</td>\n",
       "      <td>NaN</td>\n",
       "      <td>2</td>\n",
       "      <td>1</td>\n",
       "      <td>19-11-2012</td>\n",
       "      <td>4</td>\n",
       "      <td>230</td>\n",
       "      <td>...</td>\n",
       "      <td>9</td>\n",
       "      <td>0</td>\n",
       "      <td>0</td>\n",
       "      <td>0</td>\n",
       "      <td>0</td>\n",
       "      <td>0</td>\n",
       "      <td>0</td>\n",
       "      <td>3</td>\n",
       "      <td>11</td>\n",
       "      <td>0</td>\n",
       "    </tr>\n",
       "    <tr>\n",
       "      <th>91</th>\n",
       "      <td>9235</td>\n",
       "      <td>1957</td>\n",
       "      <td>Graduation</td>\n",
       "      <td>Single</td>\n",
       "      <td>NaN</td>\n",
       "      <td>1</td>\n",
       "      <td>1</td>\n",
       "      <td>27-05-2014</td>\n",
       "      <td>45</td>\n",
       "      <td>7</td>\n",
       "      <td>...</td>\n",
       "      <td>7</td>\n",
       "      <td>0</td>\n",
       "      <td>0</td>\n",
       "      <td>0</td>\n",
       "      <td>0</td>\n",
       "      <td>0</td>\n",
       "      <td>0</td>\n",
       "      <td>3</td>\n",
       "      <td>11</td>\n",
       "      <td>0</td>\n",
       "    </tr>\n",
       "  </tbody>\n",
       "</table>\n",
       "<p>8 rows × 29 columns</p>\n",
       "</div>"
      ],
      "text/plain": [
       "       ID  Year_Birth   Education Marital_Status  Income  Kidhome  Teenhome  \\\n",
       "10   1994        1983  Graduation        Married     NaN        1         0   \n",
       "27   5255        1986  Graduation         Single     NaN        1         0   \n",
       "43   7281        1959         PhD         Single     NaN        0         0   \n",
       "48   7244        1951  Graduation         Single     NaN        2         1   \n",
       "58   8557        1982  Graduation         Single     NaN        1         0   \n",
       "71  10629        1973    2n Cycle        Married     NaN        1         0   \n",
       "90   8996        1957         PhD        Married     NaN        2         1   \n",
       "91   9235        1957  Graduation         Single     NaN        1         1   \n",
       "\n",
       "   Dt_Customer  Recency  MntWines  ...  NumWebVisitsMonth  AcceptedCmp3  \\\n",
       "10  15-11-2013       11         5  ...                  7             0   \n",
       "27  20-02-2013       19         5  ...                  1             0   \n",
       "43  05-11-2013       80        81  ...                  2             0   \n",
       "48  01-01-2014       96        48  ...                  6             0   \n",
       "58  17-06-2013       57        11  ...                  6             0   \n",
       "71  14-09-2012       25        25  ...                  8             0   \n",
       "90  19-11-2012        4       230  ...                  9             0   \n",
       "91  27-05-2014       45         7  ...                  7             0   \n",
       "\n",
       "    AcceptedCmp4  AcceptedCmp5  AcceptedCmp1  AcceptedCmp2  Complain  \\\n",
       "10             0             0             0             0         0   \n",
       "27             0             0             0             0         0   \n",
       "43             0             0             0             0         0   \n",
       "48             0             0             0             0         0   \n",
       "58             0             0             0             0         0   \n",
       "71             0             0             0             0         0   \n",
       "90             0             0             0             0         0   \n",
       "91             0             0             0             0         0   \n",
       "\n",
       "    Z_CostContact  Z_Revenue  Response  \n",
       "10              3         11         0  \n",
       "27              3         11         0  \n",
       "43              3         11         0  \n",
       "48              3         11         0  \n",
       "58              3         11         0  \n",
       "71              3         11         0  \n",
       "90              3         11         0  \n",
       "91              3         11         0  \n",
       "\n",
       "[8 rows x 29 columns]"
      ]
     },
     "execution_count": 5,
     "metadata": {},
     "output_type": "execute_result"
    }
   ],
   "source": [
    "dataDf.loc[dataDf[DataColumn.INCOME].isna()].head(n=8)"
   ]
  },
  {
   "attachments": {},
   "cell_type": "markdown",
   "metadata": {},
   "source": [
    "These rows actually have useful data, excluding the `Income` value, therefore we choose to keep them.\\\n",
    "We can fill the missing `Income` values with the **mean** dataset `Income` value."
   ]
  },
  {
   "cell_type": "code",
   "execution_count": 6,
   "metadata": {},
   "outputs": [],
   "source": [
    "dataDf[DataColumn.INCOME].fillna(dataDf[DataColumn.INCOME].mean(), inplace=True )"
   ]
  },
  {
   "cell_type": "code",
   "execution_count": 7,
   "metadata": {},
   "outputs": [],
   "source": [
    "# dataDf.loc[dataDf['ID'] == 1994]"
   ]
  },
  {
   "attachments": {},
   "cell_type": "markdown",
   "metadata": {},
   "source": [
    "There are no longer missing values, in any column:"
   ]
  },
  {
   "cell_type": "code",
   "execution_count": 8,
   "metadata": {},
   "outputs": [
    {
     "data": {
      "text/html": [
       "<div>\n",
       "<style scoped>\n",
       "    .dataframe tbody tr th:only-of-type {\n",
       "        vertical-align: middle;\n",
       "    }\n",
       "\n",
       "    .dataframe tbody tr th {\n",
       "        vertical-align: top;\n",
       "    }\n",
       "\n",
       "    .dataframe thead th {\n",
       "        text-align: right;\n",
       "    }\n",
       "</style>\n",
       "<table border=\"1\" class=\"dataframe\">\n",
       "  <thead>\n",
       "    <tr style=\"text-align: right;\">\n",
       "      <th></th>\n",
       "      <th>Missing</th>\n",
       "    </tr>\n",
       "  </thead>\n",
       "  <tbody>\n",
       "  </tbody>\n",
       "</table>\n",
       "</div>"
      ],
      "text/plain": [
       "Empty DataFrame\n",
       "Columns: [Missing]\n",
       "Index: []"
      ]
     },
     "execution_count": 8,
     "metadata": {},
     "output_type": "execute_result"
    }
   ],
   "source": [
    "countMissingByColumn(dataDf)"
   ]
  },
  {
   "attachments": {},
   "cell_type": "markdown",
   "metadata": {},
   "source": [
    "We notice certain columns have non-numerical values:"
   ]
  },
  {
   "cell_type": "code",
   "execution_count": 9,
   "metadata": {},
   "outputs": [
    {
     "data": {
      "text/html": [
       "<div>\n",
       "<style scoped>\n",
       "    .dataframe tbody tr th:only-of-type {\n",
       "        vertical-align: middle;\n",
       "    }\n",
       "\n",
       "    .dataframe tbody tr th {\n",
       "        vertical-align: top;\n",
       "    }\n",
       "\n",
       "    .dataframe thead th {\n",
       "        text-align: right;\n",
       "    }\n",
       "</style>\n",
       "<table border=\"1\" class=\"dataframe\">\n",
       "  <thead>\n",
       "    <tr style=\"text-align: right;\">\n",
       "      <th></th>\n",
       "      <th>Education</th>\n",
       "      <th>Marital_Status</th>\n",
       "      <th>Dt_Customer</th>\n",
       "    </tr>\n",
       "  </thead>\n",
       "  <tbody>\n",
       "    <tr>\n",
       "      <th>0</th>\n",
       "      <td>Graduation</td>\n",
       "      <td>Single</td>\n",
       "      <td>04-09-2012</td>\n",
       "    </tr>\n",
       "    <tr>\n",
       "      <th>1</th>\n",
       "      <td>Graduation</td>\n",
       "      <td>Single</td>\n",
       "      <td>08-03-2014</td>\n",
       "    </tr>\n",
       "    <tr>\n",
       "      <th>2</th>\n",
       "      <td>Graduation</td>\n",
       "      <td>Together</td>\n",
       "      <td>21-08-2013</td>\n",
       "    </tr>\n",
       "    <tr>\n",
       "      <th>3</th>\n",
       "      <td>Graduation</td>\n",
       "      <td>Together</td>\n",
       "      <td>10-02-2014</td>\n",
       "    </tr>\n",
       "    <tr>\n",
       "      <th>4</th>\n",
       "      <td>PhD</td>\n",
       "      <td>Married</td>\n",
       "      <td>19-01-2014</td>\n",
       "    </tr>\n",
       "  </tbody>\n",
       "</table>\n",
       "</div>"
      ],
      "text/plain": [
       "    Education Marital_Status Dt_Customer\n",
       "0  Graduation         Single  04-09-2012\n",
       "1  Graduation         Single  08-03-2014\n",
       "2  Graduation       Together  21-08-2013\n",
       "3  Graduation       Together  10-02-2014\n",
       "4         PhD        Married  19-01-2014"
      ]
     },
     "execution_count": 9,
     "metadata": {},
     "output_type": "execute_result"
    }
   ],
   "source": [
    "dataDf.select_dtypes(include='object').head()"
   ]
  },
  {
   "attachments": {},
   "cell_type": "markdown",
   "metadata": {},
   "source": [
    "We convert `Dt_Customer` string values (dates) to `datetime` objects.\\\n",
    "`Education` & `Marital_Status` will be processed in Q7 using **one hot encoding**."
   ]
  },
  {
   "cell_type": "code",
   "execution_count": 10,
   "metadata": {},
   "outputs": [
    {
     "data": {
      "text/plain": [
       "0   2012-09-04\n",
       "1   2014-03-08\n",
       "2   2013-08-21\n",
       "3   2014-02-10\n",
       "4   2014-01-19\n",
       "Name: Dt_Customer, dtype: datetime64[ns]"
      ]
     },
     "execution_count": 10,
     "metadata": {},
     "output_type": "execute_result"
    }
   ],
   "source": [
    "dataDf[DataColumn.DT_CUSTOMER] = dataDf[DataColumn.DT_CUSTOMER].apply(lambda d: datetime.strptime(d, \"%d-%m-%Y\"))\n",
    "dataDf[DataColumn.DT_CUSTOMER].head()"
   ]
  },
  {
   "attachments": {},
   "cell_type": "markdown",
   "metadata": {},
   "source": [
    "### **Q2**: Simplyfying `Marital_Status` values"
   ]
  },
  {
   "attachments": {},
   "cell_type": "markdown",
   "metadata": {},
   "source": [
    "Now, as requested, we observe the unique values in the `Education` column:"
   ]
  },
  {
   "cell_type": "code",
   "execution_count": 11,
   "metadata": {},
   "outputs": [
    {
     "data": {
      "text/plain": [
       "array(['Graduation', 'PhD', 'Master', 'Basic', '2n Cycle'], dtype=object)"
      ]
     },
     "execution_count": 11,
     "metadata": {},
     "output_type": "execute_result"
    }
   ],
   "source": [
    "dataDf[DataColumn.EDUCATION].unique()"
   ]
  },
  {
   "attachments": {},
   "cell_type": "markdown",
   "metadata": {},
   "source": [
    "As well as the values in the `Marital_Status` column:"
   ]
  },
  {
   "cell_type": "code",
   "execution_count": 12,
   "metadata": {},
   "outputs": [
    {
     "data": {
      "text/plain": [
       "array(['Single', 'Together', 'Married', 'Divorced', 'Widow', 'Alone',\n",
       "       'Absurd', 'YOLO'], dtype=object)"
      ]
     },
     "execution_count": 12,
     "metadata": {},
     "output_type": "execute_result"
    }
   ],
   "source": [
    "dataDf[DataColumn.MARITAL_STATUS].unique()"
   ]
  },
  {
   "attachments": {},
   "cell_type": "markdown",
   "metadata": {},
   "source": [
    "And replace `Marital_Status` values `'Alone'`, `'Absurd'` and `'YOLO'` with `'Single'`"
   ]
  },
  {
   "cell_type": "code",
   "execution_count": 13,
   "metadata": {},
   "outputs": [
    {
     "data": {
      "text/plain": [
       "array(['Single', 'Together', 'Married', 'Divorced', 'Widow'], dtype=object)"
      ]
     },
     "execution_count": 13,
     "metadata": {},
     "output_type": "execute_result"
    }
   ],
   "source": [
    "# A helper enum class, which will be used below as well as afterwards\n",
    "class TitlecasedStrEnum(Enum):\n",
    "    def _generate_next_value_(name: str, *_):\n",
    "        return str.title(name)\n",
    "\n",
    "class MaritalStatus(str, TitlecasedStrEnum):\n",
    "    SINGLE = auto()\n",
    "    TOGETHER = auto()\n",
    "    MARRIED = auto()\n",
    "    DIVORCED = auto()\n",
    "    WIDOW = auto()\n",
    "\n",
    "maritalStatusToReplace = ['Alone', 'Absurd', 'YOLO']\n",
    "\n",
    "dataDf.replace(to_replace=maritalStatusToReplace, value=MaritalStatus.SINGLE, inplace=True)\n",
    "dataDf[DataColumn.MARITAL_STATUS].unique()"
   ]
  },
  {
   "attachments": {},
   "cell_type": "markdown",
   "metadata": {},
   "source": [
    "Below we can see the number of customers assigned to each `Marital_Status` and `Education` category:"
   ]
  },
  {
   "cell_type": "code",
   "execution_count": 14,
   "metadata": {},
   "outputs": [
    {
     "data": {
      "image/png": "[encoded data removed]",
      "text/plain": [
       "<Figure size 864x288 with 2 Axes>"
      ]
     },
     "metadata": {
      "needs_background": "light"
     },
     "output_type": "display_data"
    }
   ],
   "source": [
    "def barPlotCategoryDistribution(df: pd.DataFrame, *cols: str):\n",
    "    _, axes = plt.subplots(1, len(cols), figsize=(len(cols)*6, 4))\n",
    "    for ax, col in zip(axes if len(cols) > 1 else (axes,), cols):\n",
    "        ax.set_title(col)\n",
    "        ax.set_xlabel('Category')\n",
    "        ax.set_ylabel('# Customers')\n",
    "        _ = df[col].value_counts().plot(kind=\"bar\", ax=ax).plot()\n",
    "    \n",
    "barPlotCategoryDistribution(dataDf, DataColumn.MARITAL_STATUS, DataColumn.EDUCATION)"
   ]
  },
  {
   "attachments": {},
   "cell_type": "markdown",
   "metadata": {},
   "source": [
    "We also notice that all `Z_CostContact` and `Z_Revenue` cells have the same values:"
   ]
  },
  {
   "cell_type": "code",
   "execution_count": 15,
   "metadata": {},
   "outputs": [
    {
     "data": {
      "text/plain": [
       "(array([3]), array([11]))"
      ]
     },
     "execution_count": 15,
     "metadata": {},
     "output_type": "execute_result"
    }
   ],
   "source": [
    "dataDf[DataColumn.Z_COSTCONTACT].unique(), dataDf[DataColumn.Z_REVENUE].unique()"
   ]
  },
  {
   "attachments": {},
   "cell_type": "markdown",
   "metadata": {},
   "source": [
    "Therefore we can drop them entirely:"
   ]
  },
  {
   "cell_type": "code",
   "execution_count": 16,
   "metadata": {},
   "outputs": [],
   "source": [
    "dataDf.drop(columns=[DataColumn.Z_COSTCONTACT, DataColumn.Z_REVENUE], inplace=True)"
   ]
  },
  {
   "attachments": {},
   "cell_type": "markdown",
   "metadata": {},
   "source": [
    "### **Q3**: Generating new features"
   ]
  },
  {
   "attachments": {},
   "cell_type": "markdown",
   "metadata": {},
   "source": [
    "**A.** Adding a new `Customer_For` feature using the `Dt_Customer` and `Recency` features"
   ]
  },
  {
   "cell_type": "code",
   "execution_count": 17,
   "metadata": {},
   "outputs": [],
   "source": [
    "def extractCustomerTime(args: Tuple[int, datetime]):\n",
    "    daysSince, startDate = args\n",
    "    recencyDate = datetime.now() - timedelta(days=daysSince)\n",
    "    return (recencyDate - startDate).days\n",
    "\n",
    "dataDf[DataColumn.CUSTOMER_FOR] = dataDf[[DataColumn.RECENCY, DataColumn.DT_CUSTOMER]].apply(\n",
    "    lambda args: extractCustomerTime(tuple(args)),\n",
    "    axis=1\n",
    ")"
   ]
  },
  {
   "attachments": {},
   "cell_type": "markdown",
   "metadata": {},
   "source": [
    "**B.** Adding a new `Age` column based on `Year_Birth` column:"
   ]
  },
  {
   "cell_type": "code",
   "execution_count": 18,
   "metadata": {},
   "outputs": [],
   "source": [
    "dataDf[DataColumn.AGE] = date.today().year - dataDf[DataColumn.YEAR_BIRTH]"
   ]
  },
  {
   "attachments": {},
   "cell_type": "markdown",
   "metadata": {},
   "source": [
    "**C.** Creating a new `Spent` column, which is the sum of `MntWines`, `MntFruits`, `MntMeatProducts`, `MntFishProducts`, `MntSweetProducts` & `MntGoldProds` columns"
   ]
  },
  {
   "cell_type": "code",
   "execution_count": 19,
   "metadata": {},
   "outputs": [],
   "source": [
    "mntCols = [\n",
    "    DataColumn.MNTWINES,\n",
    "    DataColumn.MNTFRUITS,\n",
    "    DataColumn.MNTMEATPRODUCTS,\n",
    "    DataColumn.MNTFISHPRODUCTS,\n",
    "    DataColumn.MNTSWEETPRODUCTS,\n",
    "    DataColumn.MNTGOLDPRODS\n",
    "]\n",
    "dataDf[DataColumn.SPENT] = dataDf[mntCols].sum(axis=1)"
   ]
  },
  {
   "attachments": {},
   "cell_type": "markdown",
   "metadata": {},
   "source": [
    "**D.** Adding a new `Children_Total` column, which is the sum of `Kidhome` and `Teenhome` columns"
   ]
  },
  {
   "cell_type": "code",
   "execution_count": 20,
   "metadata": {},
   "outputs": [],
   "source": [
    "dataDf[DataColumn.CHILDREN_TOTAL] = dataDf[[DataColumn.KIDHOME, DataColumn.TEENHOME]].sum(axis=1)"
   ]
  },
  {
   "attachments": {},
   "cell_type": "markdown",
   "metadata": {},
   "source": [
    "**F.** Generating a new `Is_Parent` feature, based on the `Children_Total` feature."
   ]
  },
  {
   "cell_type": "code",
   "execution_count": 21,
   "metadata": {},
   "outputs": [],
   "source": [
    "dataDf[DataColumn.IS_PARENT] = dataDf[DataColumn.CHILDREN_TOTAL].apply(lambda total: int(total > 0))"
   ]
  },
  {
   "attachments": {},
   "cell_type": "markdown",
   "metadata": {},
   "source": [
    "**G.** Generating a new `Living_With` feature, based on the `Marital_Status` feature."
   ]
  },
  {
   "cell_type": "code",
   "execution_count": 22,
   "metadata": {},
   "outputs": [
    {
     "data": {
      "text/html": [
       "<div>\n",
       "<style scoped>\n",
       "    .dataframe tbody tr th:only-of-type {\n",
       "        vertical-align: middle;\n",
       "    }\n",
       "\n",
       "    .dataframe tbody tr th {\n",
       "        vertical-align: top;\n",
       "    }\n",
       "\n",
       "    .dataframe thead th {\n",
       "        text-align: right;\n",
       "    }\n",
       "</style>\n",
       "<table border=\"1\" class=\"dataframe\">\n",
       "  <thead>\n",
       "    <tr style=\"text-align: right;\">\n",
       "      <th></th>\n",
       "      <th>Living_With</th>\n",
       "      <th>Marital_Status</th>\n",
       "    </tr>\n",
       "  </thead>\n",
       "  <tbody>\n",
       "    <tr>\n",
       "      <th>0</th>\n",
       "      <td>Alone</td>\n",
       "      <td>Single</td>\n",
       "    </tr>\n",
       "    <tr>\n",
       "      <th>1</th>\n",
       "      <td>Alone</td>\n",
       "      <td>Single</td>\n",
       "    </tr>\n",
       "    <tr>\n",
       "      <th>2</th>\n",
       "      <td>Partner</td>\n",
       "      <td>Together</td>\n",
       "    </tr>\n",
       "    <tr>\n",
       "      <th>3</th>\n",
       "      <td>Partner</td>\n",
       "      <td>Together</td>\n",
       "    </tr>\n",
       "    <tr>\n",
       "      <th>4</th>\n",
       "      <td>Partner</td>\n",
       "      <td>Married</td>\n",
       "    </tr>\n",
       "    <tr>\n",
       "      <th>5</th>\n",
       "      <td>Partner</td>\n",
       "      <td>Together</td>\n",
       "    </tr>\n",
       "    <tr>\n",
       "      <th>6</th>\n",
       "      <td>Alone</td>\n",
       "      <td>Divorced</td>\n",
       "    </tr>\n",
       "    <tr>\n",
       "      <th>7</th>\n",
       "      <td>Partner</td>\n",
       "      <td>Married</td>\n",
       "    </tr>\n",
       "  </tbody>\n",
       "</table>\n",
       "</div>"
      ],
      "text/plain": [
       "  Living_With Marital_Status\n",
       "0       Alone         Single\n",
       "1       Alone         Single\n",
       "2     Partner       Together\n",
       "3     Partner       Together\n",
       "4     Partner        Married\n",
       "5     Partner       Together\n",
       "6       Alone       Divorced\n",
       "7     Partner        Married"
      ]
     },
     "execution_count": 22,
     "metadata": {},
     "output_type": "execute_result"
    }
   ],
   "source": [
    "class LivingWithStatus(str, TitlecasedStrEnum):\n",
    "    PARTNER = auto()\n",
    "    ALONE = auto()\n",
    "\n",
    "def mapMaritalStatusToLivingWith(ms: MaritalStatus):\n",
    "    if ms == MaritalStatus.MARRIED or ms == MaritalStatus.TOGETHER:\n",
    "        return LivingWithStatus.PARTNER.value\n",
    "    return LivingWithStatus.ALONE.value\n",
    "\n",
    "dataDf[DataColumn.LIVING_WITH] = dataDf[DataColumn.MARITAL_STATUS].apply(mapMaritalStatusToLivingWith)\n",
    "dataDf[[DataColumn.LIVING_WITH, DataColumn.MARITAL_STATUS]].head(n=8)"
   ]
  },
  {
   "attachments": {},
   "cell_type": "markdown",
   "metadata": {},
   "source": [
    "**E.** Generating a new `Family_Size` feature, based on `Children_Total` & `Living_With` (**Q3.G**) features."
   ]
  },
  {
   "cell_type": "code",
   "execution_count": 23,
   "metadata": {},
   "outputs": [
    {
     "data": {
      "text/html": [
       "<div>\n",
       "<style scoped>\n",
       "    .dataframe tbody tr th:only-of-type {\n",
       "        vertical-align: middle;\n",
       "    }\n",
       "\n",
       "    .dataframe tbody tr th {\n",
       "        vertical-align: top;\n",
       "    }\n",
       "\n",
       "    .dataframe thead th {\n",
       "        text-align: right;\n",
       "    }\n",
       "</style>\n",
       "<table border=\"1\" class=\"dataframe\">\n",
       "  <thead>\n",
       "    <tr style=\"text-align: right;\">\n",
       "      <th></th>\n",
       "      <th>Family_Size</th>\n",
       "      <th>Living_With</th>\n",
       "      <th>Children_Total</th>\n",
       "    </tr>\n",
       "  </thead>\n",
       "  <tbody>\n",
       "    <tr>\n",
       "      <th>0</th>\n",
       "      <td>1</td>\n",
       "      <td>Alone</td>\n",
       "      <td>0</td>\n",
       "    </tr>\n",
       "    <tr>\n",
       "      <th>1</th>\n",
       "      <td>3</td>\n",
       "      <td>Alone</td>\n",
       "      <td>2</td>\n",
       "    </tr>\n",
       "    <tr>\n",
       "      <th>2</th>\n",
       "      <td>2</td>\n",
       "      <td>Partner</td>\n",
       "      <td>0</td>\n",
       "    </tr>\n",
       "    <tr>\n",
       "      <th>3</th>\n",
       "      <td>3</td>\n",
       "      <td>Partner</td>\n",
       "      <td>1</td>\n",
       "    </tr>\n",
       "    <tr>\n",
       "      <th>4</th>\n",
       "      <td>3</td>\n",
       "      <td>Partner</td>\n",
       "      <td>1</td>\n",
       "    </tr>\n",
       "    <tr>\n",
       "      <th>5</th>\n",
       "      <td>3</td>\n",
       "      <td>Partner</td>\n",
       "      <td>1</td>\n",
       "    </tr>\n",
       "    <tr>\n",
       "      <th>6</th>\n",
       "      <td>2</td>\n",
       "      <td>Alone</td>\n",
       "      <td>1</td>\n",
       "    </tr>\n",
       "    <tr>\n",
       "      <th>7</th>\n",
       "      <td>3</td>\n",
       "      <td>Partner</td>\n",
       "      <td>1</td>\n",
       "    </tr>\n",
       "  </tbody>\n",
       "</table>\n",
       "</div>"
      ],
      "text/plain": [
       "   Family_Size Living_With  Children_Total\n",
       "0            1       Alone               0\n",
       "1            3       Alone               2\n",
       "2            2     Partner               0\n",
       "3            3     Partner               1\n",
       "4            3     Partner               1\n",
       "5            3     Partner               1\n",
       "6            2       Alone               1\n",
       "7            3     Partner               1"
      ]
     },
     "execution_count": 23,
     "metadata": {},
     "output_type": "execute_result"
    }
   ],
   "source": [
    "def findFamilySize(args: Tuple[int, LivingWithStatus]):\n",
    "    childrenTotal, livingWith = args\n",
    "    return childrenTotal + int(livingWith == LivingWithStatus.PARTNER) + 1\n",
    "\n",
    "dataDf[DataColumn.FAMILY_SIZE] = dataDf[[DataColumn.CHILDREN_TOTAL, DataColumn.LIVING_WITH]].apply(\n",
    "    lambda args: findFamilySize(tuple(args)),\n",
    "    axis=1\n",
    ")\n",
    "dataDf[[DataColumn.FAMILY_SIZE, DataColumn.LIVING_WITH, DataColumn.CHILDREN_TOTAL]].head(n=8)"
   ]
  },
  {
   "attachments": {},
   "cell_type": "markdown",
   "metadata": {},
   "source": [
    "**H.** Generating a new `Age_Group` column, based on the `Age` column."
   ]
  },
  {
   "cell_type": "code",
   "execution_count": 24,
   "metadata": {},
   "outputs": [
    {
     "data": {
      "text/html": [
       "<div>\n",
       "<style scoped>\n",
       "    .dataframe tbody tr th:only-of-type {\n",
       "        vertical-align: middle;\n",
       "    }\n",
       "\n",
       "    .dataframe tbody tr th {\n",
       "        vertical-align: top;\n",
       "    }\n",
       "\n",
       "    .dataframe thead th {\n",
       "        text-align: right;\n",
       "    }\n",
       "</style>\n",
       "<table border=\"1\" class=\"dataframe\">\n",
       "  <thead>\n",
       "    <tr style=\"text-align: right;\">\n",
       "      <th></th>\n",
       "      <th>Age_Group</th>\n",
       "      <th>Age</th>\n",
       "    </tr>\n",
       "  </thead>\n",
       "  <tbody>\n",
       "    <tr>\n",
       "      <th>0</th>\n",
       "      <td>61-70</td>\n",
       "      <td>66</td>\n",
       "    </tr>\n",
       "    <tr>\n",
       "      <th>1</th>\n",
       "      <td>61-70</td>\n",
       "      <td>69</td>\n",
       "    </tr>\n",
       "    <tr>\n",
       "      <th>2</th>\n",
       "      <td>51-60</td>\n",
       "      <td>58</td>\n",
       "    </tr>\n",
       "    <tr>\n",
       "      <th>3</th>\n",
       "      <td>31-40</td>\n",
       "      <td>39</td>\n",
       "    </tr>\n",
       "    <tr>\n",
       "      <th>4</th>\n",
       "      <td>41-50</td>\n",
       "      <td>42</td>\n",
       "    </tr>\n",
       "    <tr>\n",
       "      <th>5</th>\n",
       "      <td>51-60</td>\n",
       "      <td>56</td>\n",
       "    </tr>\n",
       "    <tr>\n",
       "      <th>6</th>\n",
       "      <td>51-60</td>\n",
       "      <td>52</td>\n",
       "    </tr>\n",
       "    <tr>\n",
       "      <th>7</th>\n",
       "      <td>31-40</td>\n",
       "      <td>38</td>\n",
       "    </tr>\n",
       "  </tbody>\n",
       "</table>\n",
       "</div>"
      ],
      "text/plain": [
       "  Age_Group  Age\n",
       "0     61-70   66\n",
       "1     61-70   69\n",
       "2     51-60   58\n",
       "3     31-40   39\n",
       "4     41-50   42\n",
       "5     51-60   56\n",
       "6     51-60   52\n",
       "7     31-40   38"
      ]
     },
     "execution_count": 24,
     "metadata": {},
     "output_type": "execute_result"
    }
   ],
   "source": [
    "class AgeGroups:\n",
    "    groupLimits = [\n",
    "        21,\n",
    "        30,\n",
    "        40,\n",
    "        50,\n",
    "        60,\n",
    "        70,\n",
    "        80\n",
    "    ]\n",
    "    assert groupLimits == sorted(groupLimits)\n",
    "\n",
    "    @staticmethod\n",
    "    def getAgeGroupStrings():\n",
    "        groups: List[str] = []\n",
    "        for i, gl in enumerate(AgeGroups.groupLimits):\n",
    "            if i == 0:\n",
    "                groups.append(f'<{gl}')\n",
    "                if len(AgeGroups.groupLimits) > 1:\n",
    "                    groups.append(f'{gl}-{AgeGroups.groupLimits[i + 1]}')\n",
    "                continue\n",
    "\n",
    "            if i < len(AgeGroups.groupLimits) - 1:\n",
    "                groups.append(f'{gl + 1}-{AgeGroups.groupLimits[i + 1]}')\n",
    "        \n",
    "        groups.append(f'>{AgeGroups.groupLimits[-1]}')\n",
    "        return groups\n",
    "\n",
    "    @staticmethod\n",
    "    def mapAgeToAgeGroup(age: int):\n",
    "        for i, gl in enumerate(AgeGroups.groupLimits):\n",
    "            if age < gl:\n",
    "                if i > 0:\n",
    "                    return f'{AgeGroups.groupLimits[i-1] + 1}-{gl}'\n",
    "                else:\n",
    "                    return f'<{gl}'\n",
    "        \n",
    "        return f'>{AgeGroups.groupLimits[-1]}'\n",
    "\n",
    "dataDf[DataColumn.AGE_GROUP] = dataDf[DataColumn.AGE].apply(AgeGroups.mapAgeToAgeGroup)\n",
    "dataDf[[DataColumn.AGE_GROUP, DataColumn.AGE]].head(n=8)"
   ]
  },
  {
   "cell_type": "code",
   "execution_count": 25,
   "metadata": {},
   "outputs": [],
   "source": [
    "# AgeGroups.getAgeGroupStrings()"
   ]
  },
  {
   "attachments": {},
   "cell_type": "markdown",
   "metadata": {},
   "source": [
    "### **Q4**: Detecting & Removing outlier values"
   ]
  },
  {
   "attachments": {},
   "cell_type": "markdown",
   "metadata": {},
   "source": [
    "Before removing any rows, the shape of the `DataFrame` is:"
   ]
  },
  {
   "cell_type": "code",
   "execution_count": 26,
   "metadata": {},
   "outputs": [
    {
     "data": {
      "text/plain": [
       "(2240, 35)"
      ]
     },
     "execution_count": 26,
     "metadata": {},
     "output_type": "execute_result"
    }
   ],
   "source": [
    "dataDf.shape"
   ]
  },
  {
   "attachments": {},
   "cell_type": "markdown",
   "metadata": {},
   "source": [
    "After examining the box plots for each feature, we decided to remove rows with outlier `Age`, `Spent` & `Income` values."
   ]
  },
  {
   "cell_type": "code",
   "execution_count": 27,
   "metadata": {},
   "outputs": [
    {
     "data": {
      "image/png": "[encoded data removed]",
      "text/plain": [
       "<Figure size 1296x288 with 3 Axes>"
      ]
     },
     "metadata": {
      "needs_background": "light"
     },
     "output_type": "display_data"
    }
   ],
   "source": [
    "outlierCols = (\n",
    "    DataColumn.AGE,\n",
    "    DataColumn.SPENT,\n",
    "    DataColumn.INCOME\n",
    ")\n",
    "\n",
    "def boxPlotCols(df: pd.DataFrame, cols: Sequence[str]):\n",
    "    _, axes = plt.subplots(1, len(cols), figsize=(len(cols)*6, 4))\n",
    "    for i, col in enumerate(cols):\n",
    "        axes[i].set_title(col)\n",
    "        sns.boxplot(data=df[col], ax=axes[i])\n",
    "        \n",
    "boxPlotCols(dataDf, outlierCols)"
   ]
  },
  {
   "attachments": {},
   "cell_type": "markdown",
   "metadata": {},
   "source": [
    "We eliminate the outliers using the IQR (Inter Quartile Range) method.\n",
    "See also:\n",
    "- https://www.geeksforgeeks.org/detect-and-remove-the-outliers-using-python/\n",
    "- https://towardsdatascience.com/why-1-5-in-iqr-method-of-outlier-detection-5d07fdc82097"
   ]
  },
  {
   "cell_type": "code",
   "execution_count": 28,
   "metadata": {},
   "outputs": [],
   "source": [
    "def removeColumnOutliers(df: pd.DataFrame, col: str) -> pd.DataFrame:\n",
    "    q1 = np.percentile(df[col], q=25, interpolation='midpoint')\n",
    "    q3 = np.percentile(df[col], q=75, interpolation='midpoint')\n",
    "    iqr = q3 - q1\n",
    "\n",
    "    #lowerLimit = max(1, q3 - 1.5 * iqr)\n",
    "    lowerLimit = q3 - 1.5 * iqr\n",
    "    upperLimit = q3 + 1.5 * iqr\n",
    "\n",
    "    df = df[df[col] <= upperLimit]\n",
    "    return df[df[col] >= lowerLimit]\n",
    "\n",
    "for col in outlierCols:\n",
    "    dataDf = removeColumnOutliers(dataDf, col)"
   ]
  },
  {
   "attachments": {},
   "cell_type": "markdown",
   "metadata": {},
   "source": [
    "After removing outlier rows, the shape of the `DataFrame` is:"
   ]
  },
  {
   "cell_type": "code",
   "execution_count": 29,
   "metadata": {},
   "outputs": [
    {
     "data": {
      "text/plain": [
       "(1975, 35)"
      ]
     },
     "execution_count": 29,
     "metadata": {},
     "output_type": "execute_result"
    }
   ],
   "source": [
    "dataDf.shape"
   ]
  },
  {
   "attachments": {},
   "cell_type": "markdown",
   "metadata": {},
   "source": [
    "We can also verify the effect of the outliers removal by revisiting the boxplots of the target columns:"
   ]
  },
  {
   "cell_type": "code",
   "execution_count": 30,
   "metadata": {},
   "outputs": [
    {
     "data": {
      "image/png": "[encoded data removed]",
      "text/plain": [
       "<Figure size 1296x288 with 3 Axes>"
      ]
     },
     "metadata": {
      "needs_background": "light"
     },
     "output_type": "display_data"
    }
   ],
   "source": [
    "boxPlotCols(dataDf, outlierCols)"
   ]
  },
  {
   "attachments": {},
   "cell_type": "markdown",
   "metadata": {},
   "source": [
    "**Q5.** Presenting the relationships between (numeric) features using a **heatmap**.\\\n",
    "We exclude the following features:\n",
    "- `ID`, since it is not valuable information\n",
    "- `Year_Birth`, since it is represented by `Age`\n",
    "- `Is_Parent`, `Kidhome` and `Teenhome`, since they are represented by `Children_Total`"
   ]
  },
  {
   "cell_type": "code",
   "execution_count": 31,
   "metadata": {},
   "outputs": [
    {
     "data": {
      "image/png": "[encoded data removed]",
      "text/plain": [
       "<Figure size 1008x720 with 2 Axes>"
      ]
     },
     "metadata": {
      "needs_background": "light"
     },
     "output_type": "display_data"
    }
   ],
   "source": [
    "excludeCols = [\n",
    "    DataColumn.ID,\n",
    "    DataColumn.YEAR_BIRTH,\n",
    "    DataColumn.KIDHOME,\n",
    "    DataColumn.TEENHOME,\n",
    "    DataColumn.IS_PARENT,\n",
    "    \n",
    "    # DataColumn.ACCEPTEDCMP1,\n",
    "    # DataColumn.ACCEPTEDCMP2,\n",
    "    # DataColumn.ACCEPTEDCMP3,\n",
    "    # DataColumn.ACCEPTEDCMP4,\n",
    "    # DataColumn.ACCEPTEDCMP5,\n",
    "    # DataColumn.MNTFISHPRODUCTS,\n",
    "    # DataColumn.MNTFRUITS,\n",
    "    # DataColumn.MNTGOLDPRODS,\n",
    "    # DataColumn.MNTMEATPRODUCTS,\n",
    "    # DataColumn.MNTSWEETPRODUCTS,\n",
    "    # DataColumn.MNTWINES,\n",
    "    # DataColumn.NUMCATALOGPURCHASES,\n",
    "    # DataColumn.NUMDEALSPURCHASES,\n",
    "    # DataColumn.NUMWEBPURCHASES,\n",
    "    # DataColumn.NUMSTOREPURCHASES,\n",
    "    # DataColumn.NUMWEBVISITSMONTH,\n",
    "    # DataColumn.COMPLAIN,\n",
    "    # DataColumn.RESPONSE\n",
    "]\n",
    "\n",
    "dfView = dataDf.select_dtypes(include=['int64', 'float64']).drop(excludeCols, axis=1)\n",
    "_, axes = plt.subplots(1, 1, figsize=(14,10))\n",
    "_ = sns.heatmap(dfView.corr(), ax=axes)"
   ]
  },
  {
   "attachments": {},
   "cell_type": "markdown",
   "metadata": {},
   "source": [
    "### **Q6**. Answering questions using plots/graphs"
   ]
  },
  {
   "attachments": {},
   "cell_type": "markdown",
   "metadata": {},
   "source": [
    "**Q6.1**. Below we can see the number of customers assigned to each `Marital_Status` category:"
   ]
  },
  {
   "cell_type": "code",
   "execution_count": 32,
   "metadata": {},
   "outputs": [
    {
     "data": {
      "image/png": "[encoded data removed]",
      "text/plain": [
       "<Figure size 432x288 with 1 Axes>"
      ]
     },
     "metadata": {
      "needs_background": "light"
     },
     "output_type": "display_data"
    }
   ],
   "source": [
    "barPlotCategoryDistribution(dataDf, DataColumn.MARITAL_STATUS)"
   ]
  },
  {
   "cell_type": "code",
   "execution_count": 33,
   "metadata": {},
   "outputs": [
    {
     "data": {
      "text/markdown": [
       "We can see the most frequent `Marital_Status` value is `\"Married\"`"
      ],
      "text/plain": [
       "<IPython.core.display.Markdown object>"
      ]
     },
     "metadata": {},
     "output_type": "display_data"
    }
   ],
   "source": [
    "topMaritalStatus = dataDf[DataColumn.MARITAL_STATUS].mode()[0]\n",
    "printMd(f'We can see the most frequent `{DataColumn.MARITAL_STATUS}` value is `\"{topMaritalStatus}\"`')"
   ]
  },
  {
   "attachments": {},
   "cell_type": "markdown",
   "metadata": {},
   "source": [
    "**Q6.2**. Below we can see the how many customers have (or have not) complained:"
   ]
  },
  {
   "cell_type": "code",
   "execution_count": 34,
   "metadata": {},
   "outputs": [
    {
     "data": {
      "text/markdown": [
       "In total, **17 customers** have complained at least once."
      ],
      "text/plain": [
       "<IPython.core.display.Markdown object>"
      ]
     },
     "metadata": {},
     "output_type": "display_data"
    },
    {
     "data": {
      "image/png": "[encoded data removed]",
      "text/plain": [
       "<Figure size 432x288 with 1 Axes>"
      ]
     },
     "metadata": {
      "needs_background": "light"
     },
     "output_type": "display_data"
    }
   ],
   "source": [
    "totalComplaints = (dataDf[DataColumn.COMPLAIN] == 1).value_counts()[1]\n",
    "printMd(f'In total, **{totalComplaints} customers** have complained at least once.')\n",
    "barPlotCategoryDistribution(dataDf, DataColumn.COMPLAIN)"
   ]
  },
  {
   "attachments": {},
   "cell_type": "markdown",
   "metadata": {},
   "source": [
    "We are about to answer several questions by plotting histograms for dataset columns.\\\n",
    "The code below will help us automate this process."
   ]
  },
  {
   "cell_type": "code",
   "execution_count": 39,
   "metadata": {},
   "outputs": [],
   "source": [
    "class HistogramQuestionData(TypedDict):\n",
    "    \"\"\" Used to store question-specific information. \"\"\"\n",
    "    qnum: str\n",
    "    \"\"\" Question Number. \"\"\"\n",
    "    col: str\n",
    "    \"\"\" Column title. \"\"\"\n",
    "    xlabel: str\n",
    "    \"\"\" x-axis label. \"\"\"\n",
    "\n",
    "class HistogramAnswerGenerator:\n",
    "    \"\"\" Used to generate histogram answers. \"\"\"\n",
    "    def __init__(self) -> None:\n",
    "        self.questions: List[HistogramQuestionData] = []\n",
    "\n",
    "    def registerQuestions(self, questions: Iterable[HistogramQuestionData]):\n",
    "        self.questions = list(questions)\n",
    "        return self\n",
    "\n",
    "    def registerQuestion(self, qnum: str, col: str, xlabel: str):\n",
    "        self.questions.append({\n",
    "            'col': col,\n",
    "            'qnum': qnum,\n",
    "            'xlabel': xlabel\n",
    "        })\n",
    "        return self\n",
    "\n",
    "    def clearQuestions(self):\n",
    "        self.questions.clear()\n",
    "        return self\n",
    "    \n",
    "    def displayColumnHistogram(self, df: pd.DataFrame, col: str, xlabel: str, ylabel: str = '# Customers'):\n",
    "        ax = plt.subplot()\n",
    "        ax.grid(visible=False)\n",
    "        ax.set_title(col)\n",
    "        ax.set_xlabel(xlabel)\n",
    "        ax.set_ylabel(ylabel)\n",
    "        df[col].hist(ax=ax)\n",
    "\n",
    "    def generateAnswers(self, df: pd.DataFrame):\n",
    "        for q in self.questions:\n",
    "            printMd(f'**{q[\"qnum\"]}**. Below we can see the `{q[\"col\"]}` column histogram:')\n",
    "            self.displayColumnHistogram(df, q['col'], xlabel=q['xlabel'])\n",
    "            plt.show()\n",
    "        return self"
   ]
  },
  {
   "attachments": {},
   "cell_type": "markdown",
   "metadata": {},
   "source": [
    "Generating answers:"
   ]
  },
  {
   "cell_type": "code",
   "execution_count": 40,
   "metadata": {},
   "outputs": [
    {
     "data": {
      "text/markdown": [
       "**Q6.14**. Below we can see the `NumDealsPurchases` column histogram:"
      ],
      "text/plain": [
       "<IPython.core.display.Markdown object>"
      ]
     },
     "metadata": {},
     "output_type": "display_data"
    },
    {
     "data": {
      "image/png": "[encoded data removed]",
      "text/plain": [
       "<Figure size 432x288 with 1 Axes>"
      ]
     },
     "metadata": {
      "needs_background": "light"
     },
     "output_type": "display_data"
    },
    {
     "data": {
      "text/markdown": [
       "**Q6.15**. Below we can see the `Income` column histogram:"
      ],
      "text/plain": [
       "<IPython.core.display.Markdown object>"
      ]
     },
     "metadata": {},
     "output_type": "display_data"
    },
    {
     "data": {
      "image/png": "[encoded data removed]",
      "text/plain": [
       "<Figure size 432x288 with 1 Axes>"
      ]
     },
     "metadata": {
      "needs_background": "light"
     },
     "output_type": "display_data"
    },
    {
     "data": {
      "text/markdown": [
       "**Q6.16**. Below we can see the `Kidhome` column histogram:"
      ],
      "text/plain": [
       "<IPython.core.display.Markdown object>"
      ]
     },
     "metadata": {},
     "output_type": "display_data"
    },
    {
     "data": {
      "image/png": "[encoded data removed]",
      "text/plain": [
       "<Figure size 432x288 with 1 Axes>"
      ]
     },
     "metadata": {
      "needs_background": "light"
     },
     "output_type": "display_data"
    },
    {
     "data": {
      "text/markdown": [
       "**Q6.17**. Below we can see the `Family_Size` column histogram:"
      ],
      "text/plain": [
       "<IPython.core.display.Markdown object>"
      ]
     },
     "metadata": {},
     "output_type": "display_data"
    },
    {
     "data": {
      "image/png": "[encoded data removed]",
      "text/plain": [
       "<Figure size 432x288 with 1 Axes>"
      ]
     },
     "metadata": {
      "needs_background": "light"
     },
     "output_type": "display_data"
    }
   ],
   "source": [
    "questions: List[HistogramQuestionData] = [\n",
    "    {\n",
    "        'qnum': 'Q6.14',\n",
    "        'col': DataColumn.NUMDEALSPURCHASES,\n",
    "        'xlabel': 'Deals Purchased by customer'\n",
    "    },\n",
    "    {\n",
    "        'qnum': 'Q6.15',\n",
    "        'col': DataColumn.INCOME,\n",
    "        'xlabel': 'Customer Income'\n",
    "    },\n",
    "    {\n",
    "        'qnum': 'Q6.16',\n",
    "        'col': DataColumn.KIDHOME,\n",
    "        'xlabel': '# Kids by customer'\n",
    "    },\n",
    "    {\n",
    "        'qnum': 'Q6.17',\n",
    "        'col': DataColumn.FAMILY_SIZE,\n",
    "        'xlabel': 'Family Size by customer'\n",
    "    },\n",
    "]\n",
    "\n",
    "_ = HistogramAnswerGenerator().registerQuestions(questions).generateAnswers(dataDf)"
   ]
  }
 ],
 "metadata": {
  "kernelspec": {
   "display_name": "Python 3",
   "language": "python",
   "name": "python3"
  },
  "language_info": {
   "codemirror_mode": {
    "name": "ipython",
    "version": 3
   },
   "file_extension": ".py",
   "mimetype": "text/x-python",
   "name": "python",
   "nbconvert_exporter": "python",
   "pygments_lexer": "ipython3",
   "version": "3.8.10"
  },
  "orig_nbformat": 4
 },
 "nbformat": 4,
 "nbformat_minor": 2
}
