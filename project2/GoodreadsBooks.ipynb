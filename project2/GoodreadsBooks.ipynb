{
  "cells": [
    {
      "attachments": {},
      "cell_type": "markdown",
      "metadata": {
        "id": "tYHzFubCb-2D"
      },
      "source": [
        "**Pavlos Spanoudakis (sdi1800184)**\\\n",
        "**Theodora Troizi (sdi1800197)**\n",
        "### Homework 2 on Data Mining Techniques class\n",
        "# Goodreads Books Recommendation & Classification"
      ]
    },
    {
      "cell_type": "code",
      "execution_count": null,
      "metadata": {
        "colab": {
          "base_uri": "https://localhost:8080/"
        },
        "id": "7z-NZTPXb-2F",
        "outputId": "26402843-53f5-4528-c647-5d38338e4459"
      },
      "outputs": [],
      "source": [
        "### Standard Modules ###\n",
        "\n",
        "from typing import Iterable, List, Callable\n",
        "from collections import defaultdict\n",
        "import ast\n",
        "import string\n",
        "import re\n",
        "import io\n",
        "import requests\n",
        "import gc\n",
        "\n",
        "### Non-standard Modules ###\n",
        "\n",
        "from PIL import Image\n",
        "import pandas as pd\n",
        "import numpy as np\n",
        "import seaborn as sns\n",
        "import matplotlib.pyplot as plt\n",
        "from wordcloud import WordCloud\n",
        "# sklearn\n",
        "from sklearn.svm import SVC\n",
        "from sklearn.feature_extraction.text import TfidfVectorizer\n",
        "from sklearn.naive_bayes import GaussianNB\n",
        "from sklearn.ensemble import RandomForestClassifier\n",
        "# nltk\n",
        "import nltk\n",
        "nltk.download('stopwords')\n",
        "# ipynb-specific\n",
        "from IPython.display import display"
      ]
    },
    {
      "attachments": {},
      "cell_type": "markdown",
      "metadata": {
        "id": "q4ckl22X8B3X"
      },
      "source": [
        "Importing custom modules and reading the dataset"
      ]
    },
    {
      "cell_type": "code",
      "execution_count": null,
      "metadata": {
        "colab": {
          "base_uri": "https://localhost:8080/"
        },
        "id": "4_-P3cLN7-x0",
        "outputId": "9d0d83e7-40ca-4519-ae20-4b4558800b30"
      },
      "outputs": [],
      "source": [
        "CSV_PATH = './books_1.Best_Books_Ever.csv'\n",
        "\"\"\"\n",
        "     The path to read the dataset from.\n",
        "     It should be set to a relative path under `/content/gdrive/My Drive/`,\n",
        "     if expected to be found from Google Drive.\n",
        "\"\"\"\n",
        "\n",
        "USE_GDRIVE = True\n",
        "\"\"\"\n",
        "\n",
        "\"\"\"\n",
        "\n",
        "def mountDrive() -> str:\n",
        "    \"\"\"\n",
        "        Attempts to mount Google Drive, if `USE_GDRIVE` is `True`.\n",
        "        If this is the case and this notebook is running on Google Colab\n",
        "        (`google.colab` module is available), it returns the absolute mount path.\n",
        "        Otherwise, it returns `.`\n",
        "    \"\"\"\n",
        "    try:\n",
        "        from google.colab import drive # type: ignore\n",
        "        drive.mount('/content/gdrive')\n",
        "        return '/content/gdrive/MyDrive/goodreads/'\n",
        "    except ImportError:\n",
        "        return '.'\n",
        "\n",
        "if USE_GDRIVE:\n",
        "    importsPath = mountDrive()\n",
        "    %cd {importsPath}\n",
        "\n",
        "### Custom Modules ###\n",
        "\n",
        "from modules.utils import printMd, printDatasetShape, STOP_WORDS, DataColumn, runWithNoWarnings\n",
        "from modules.year_extractor import YearExtractor\n",
        "from modules.generators import AnswerGenerator, TopColumnValuesAnswerGenerator\n",
        "from modules.questions import AnswerGeneratorQuestion, TopColumnValuesQuestion\n",
        "from modules.recommender import BookRecommender\n",
        "from modules.classifier import BookGenreClassifier\n",
        "\n",
        "def readDataset() -> pd.DataFrame:\n",
        "    \"\"\"\n",
        "        Reads the dataset using `CSV_PATH`.\n",
        "    \"\"\"\n",
        "    return pd.read_csv(CSV_PATH)"
      ]
    },
    {
      "attachments": {},
      "cell_type": "markdown",
      "metadata": {
        "id": "gwyQxL867PTk"
      },
      "source": [
        "Setting custom seeds in pseudo-random generators for reproducability"
      ]
    },
    {
      "cell_type": "code",
      "execution_count": null,
      "metadata": {
        "id": "A-zq4UPC7PTk"
      },
      "outputs": [],
      "source": [
        "np.random.seed(420)"
      ]
    },
    {
      "attachments": {},
      "cell_type": "markdown",
      "metadata": {
        "id": "sUCID_dzb-2H"
      },
      "source": [
        "## Dataset Preprocessing"
      ]
    },
    {
      "cell_type": "code",
      "execution_count": null,
      "metadata": {
        "id": "871jOXUNb-2H"
      },
      "outputs": [],
      "source": [
        "def getFilteredColumns(df: pd.DataFrame, colsToIgnore: Iterable[str]) -> List[str]:\n",
        "    return [ c for c in df.columns if c not in colsToIgnore ]\n",
        "\n",
        "def extraDatasetNans(df: pd.DataFrame):\n",
        "    \"\"\"\n",
        "        Returns a single column, boolean `DataFrame`, indicating `df`\n",
        "        rows that should be considered NaN as well.\n",
        "    \"\"\" \n",
        "\n",
        "    return (\n",
        "        (df[DataColumn.RATINGSBYSTARS] == '[]')\n",
        "        |\n",
        "        (df[DataColumn.GENRES] == '[]')\n",
        "    )\n",
        "\n",
        "def dropNaNRows(df: pd.DataFrame, colsToIgnore: Iterable[str]):\n",
        "    \"\"\"\n",
        "        Drops rows in `df` with NaN values in columns *not* in `colsToIgnore`.\n",
        "    \"\"\"\n",
        "\n",
        "    cols = getFilteredColumns(df, colsToIgnore)\n",
        "\n",
        "    df.dropna(subset=cols, inplace=True)\n",
        "    df.drop(df[extraDatasetNans(df)].index, inplace=True)\n",
        "    df.reset_index(inplace=True, drop=True)\n",
        "\n",
        "def countMissingByColumn(df: pd.DataFrame, colsToIgnore: Iterable[str]):\n",
        "    \"\"\"\n",
        "        Returns a `DataFrame` which includes one row for each column\n",
        "        of `df` with at least one missing value.\n",
        "        \n",
        "        Each row contains the name of the respective column,\n",
        "        as well as the amount of missing values for that column.\n",
        "    \"\"\"\n",
        "\n",
        "    cols = getFilteredColumns(df, colsToIgnore)\n",
        "    nans = df[cols].isna().sum()\n",
        "    extras = df[[DataColumn.RATINGSBYSTARS, DataColumn.GENRES]] \n",
        "    extras = (extras[extraDatasetNans(extras)] == '[]').sum()\n",
        "\n",
        "    total = pd.concat([nans.loc[nans > 0], extras.loc[extras > 0]])\n",
        "    ret = pd.DataFrame(total.sort_values(ascending=False))\n",
        "    ret.columns = ['Missing']\n",
        "    return ret"
      ]
    },
    {
      "cell_type": "code",
      "execution_count": null,
      "metadata": {
        "colab": {
          "base_uri": "https://localhost:8080/"
        },
        "id": "LiPs7Yzeb-2I",
        "outputId": "9ca7e2aa-7621-46f2-c18e-c44490095dfd"
      },
      "outputs": [],
      "source": [
        "dataDf = readDataset()\n",
        "printDatasetShape(dataDf)"
      ]
    },
    {
      "cell_type": "code",
      "execution_count": null,
      "metadata": {
        "colab": {
          "base_uri": "https://localhost:8080/",
          "height": 269
        },
        "id": "vLkZKJK8b-2J",
        "outputId": "3b8eeced-0f9f-4e82-c374-f851a3d6c3e7"
      },
      "outputs": [],
      "source": [
        "colsToIgnore = [\n",
        "    DataColumn.EDITION,\n",
        "    DataColumn.SERIES,\n",
        "    DataColumn.FIRSTPUBLISHDATE,\n",
        "    DataColumn.PRICE,\n",
        "    DataColumn.BOOKFORMAT,\n",
        "    DataColumn.LIKEDPERCENT,\n",
        "    DataColumn.COVERIMG,\n",
        "    DataColumn.CHARACTERS,\n",
        "    DataColumn.SETTING\n",
        "]\n",
        "countMissingByColumn(dataDf, colsToIgnore)"
      ]
    },
    {
      "cell_type": "code",
      "execution_count": null,
      "metadata": {
        "colab": {
          "base_uri": "https://localhost:8080/",
          "height": 84
        },
        "id": "2kbz_Rzgb-2J",
        "outputId": "3b2b5610-abaf-4472-a96d-7826b2c12c45"
      },
      "outputs": [],
      "source": [
        "dropNaNRows(dataDf, colsToIgnore)\n",
        "dataDf.drop(labels=colsToIgnore, axis=1, inplace=True)\n",
        "printDatasetShape(dataDf)\n",
        "countMissingByColumn(dataDf, colsToIgnore)"
      ]
    },
    {
      "cell_type": "code",
      "execution_count": null,
      "metadata": {
        "colab": {
          "base_uri": "https://localhost:8080/",
          "height": 206
        },
        "id": "D3DPCK8Sb-2J",
        "outputId": "e9ac0db2-aa9a-4de6-da9f-e4ea0609de75"
      },
      "outputs": [],
      "source": [
        "class RatingStarColumns:\n",
        "    \n",
        "    starLabels = [\n",
        "        DataColumn.RATINGSTAR5,\n",
        "        DataColumn.RATINGSTAR4,\n",
        "        DataColumn.RATINGSTAR3,\n",
        "        DataColumn.RATINGSTAR2,\n",
        "        DataColumn.RATINGSTAR1\n",
        "    ]\n",
        "    allLabels = starLabels + [DataColumn.RATINGSBYSTARS]\n",
        "\n",
        "    @staticmethod\n",
        "    def extractColumns(df: pd.DataFrame) -> pd.DataFrame:        \n",
        "        for col in RatingStarColumns.starLabels:\n",
        "            if col in df.columns:\n",
        "                return df\n",
        "\n",
        "        ratingStarArray = np.zeros(shape=(df.shape[0], len(RatingStarColumns.starLabels)), dtype=int)\n",
        "        idxIter = iter(range(df.shape[0]))\n",
        "\n",
        "        def addRatingStarRow(ratingsByStarsStr: str):\n",
        "            idx = next(idxIter)\n",
        "            ratingsList: Iterable[str] = ast.literal_eval(ratingsByStarsStr)\n",
        "            for j, r in enumerate(ratingsList):\n",
        "                ratingStarArray[idx][j] = int(r)\n",
        "\n",
        "        df[DataColumn.RATINGSBYSTARS].apply(addRatingStarRow)\n",
        "\n",
        "        temp = pd.DataFrame(columns=RatingStarColumns.starLabels, data=ratingStarArray)\n",
        "        return pd.concat((df, temp), axis=1)\n",
        "    \n",
        "    @staticmethod\n",
        "    def testRatings(df: pd.DataFrame):\n",
        "        for _, row in df.iterrows():\n",
        "            a: List[str] = ast.literal_eval(row[DataColumn.RATINGSBYSTARS])\n",
        "            b = [str(row[col]) for col in (RatingStarColumns.starLabels)]\n",
        "            if a != b:\n",
        "                raise AssertionError(f'{a} != {b}')\n",
        "\n",
        "dataDf = RatingStarColumns.extractColumns(dataDf)\n",
        "RatingStarColumns.testRatings(dataDf)\n",
        "dataDf[RatingStarColumns.allLabels].head()"
      ]
    },
    {
      "cell_type": "code",
      "execution_count": null,
      "metadata": {
        "id": "85RC_kAZb-2K"
      },
      "outputs": [],
      "source": [
        "dataDf[DataColumn.PUBLISHYEAR] = dataDf[DataColumn.PUBLISHDATE].apply(YearExtractor.extractYear)"
      ]
    },
    {
      "cell_type": "code",
      "execution_count": null,
      "metadata": {
        "id": "Wd8X1YIqb-2K"
      },
      "outputs": [],
      "source": [
        "def extractSingleGenres(df: pd.DataFrame):\n",
        "\n",
        "    def singleGenreExtractor(s: str):\n",
        "        genres: List[str] = ast.literal_eval(s)\n",
        "        return genres[0] if len(genres) else 'NO_GENRE'\n",
        "\n",
        "    return df[DataColumn.GENRES].apply(singleGenreExtractor)\n",
        "\n",
        "dataDf[DataColumn.GENRESINGLE] = extractSingleGenres(dataDf)"
      ]
    },
    {
      "attachments": {},
      "cell_type": "markdown",
      "metadata": {
        "id": "jNlIFxSCb-2K"
      },
      "source": [
        "## Data Observation"
      ]
    },
    {
      "cell_type": "code",
      "execution_count": null,
      "metadata": {
        "colab": {
          "base_uri": "https://localhost:8080/",
          "height": 501
        },
        "id": "ZKWQy80nb-2L",
        "outputId": "4d67d8b4-a388-49a1-f627-76433ea124ab"
      },
      "outputs": [],
      "source": [
        "def displayColumnHistogram(\n",
        "    df: pd.DataFrame,\n",
        "    col: str,\n",
        "    xlabel: str,\n",
        "    ylabel: str = '# Books',\n",
        "    title: str = ''\n",
        "):\n",
        "    \"\"\"\n",
        "        Displays the Histogram for column `col` of `df`.\n",
        "        - `xlabel`: the label for x-axis.\n",
        "        - `ylabel`: the label for y-axis.\n",
        "    \"\"\"\n",
        "\n",
        "    ax = plt.subplot()\n",
        "    ax.set_title(title if title else col)\n",
        "    ax.set_xlabel(xlabel)\n",
        "    ax.set_ylabel(ylabel)\n",
        "    df[col].hist(ax=ax, grid=True, zorder=3)\n",
        "\n",
        "printMd('**1.** Book Ratings histogram')\n",
        "displayColumnHistogram(dataDf, col=DataColumn.RATING, xlabel='Rating', title='Book Ratings')"
      ]
    },
    {
      "cell_type": "code",
      "execution_count": null,
      "metadata": {
        "id": "jzYag0Cib-2M"
      },
      "outputs": [],
      "source": [
        "class TopBooksAnswerGenerator(AnswerGenerator[AnswerGeneratorQuestion]):\n",
        "    \"\"\"\n",
        "        Used to generate `DataFrame` answers on questions regarding\n",
        "        the top books based on a specific column value.\n",
        "    \"\"\" \n",
        "    \n",
        "    def createDataFrameAnswer(self, q: AnswerGeneratorQuestion, df: pd.DataFrame):\n",
        "        results = df.sort_values(by=q['col'], ascending=False)\n",
        "        return results[[DataColumn.TITLE, q['col']]]"
      ]
    },
    {
      "cell_type": "code",
      "execution_count": null,
      "metadata": {
        "colab": {
          "base_uri": "https://localhost:8080/",
          "height": 768
        },
        "id": "Q2dZ2Om1b-2M",
        "outputId": "1bea4c44-c8c4-4d2a-9c4f-e7419c74449e"
      },
      "outputs": [],
      "source": [
        "questions: List[AnswerGeneratorQuestion] = [\n",
        "    {\n",
        "        'qnum': '2',\n",
        "        'qtitle': 'Top 10 books with the most pages',\n",
        "        'col': DataColumn.PAGES,\n",
        "        'limit': 10,\n",
        "        'dataFilter': None\n",
        "    },\n",
        "    {\n",
        "        'qnum': '3',\n",
        "        'qtitle': 'Top 10 books with the most 5-star ratings (min 10000)',\n",
        "        'col': DataColumn.RATINGSTAR5,\n",
        "        'limit': 10,\n",
        "        'dataFilter': lambda df: df[df[DataColumn.RATINGSTAR5] > 10000]\n",
        "    },\n",
        "]\n",
        "\n",
        "TopBooksAnswerGenerator().registerQuestions(questions).displayAnswers(dataDf)"
      ]
    },
    {
      "cell_type": "code",
      "execution_count": null,
      "metadata": {
        "colab": {
          "base_uri": "https://localhost:8080/",
          "height": 392
        },
        "id": "cJ9V_lCHpd3i",
        "outputId": "ef4b9f2f-c656-47f2-d69f-740174b48777"
      },
      "outputs": [],
      "source": [
        "def displayMostCommonColumnWords(df: pd.DataFrame, col: str, n: int):\n",
        "    text = ' '.join(df[col]).lower()\n",
        "    \n",
        "    results = WordCloud(stopwords=STOP_WORDS).process_text(text)\n",
        "\n",
        "    resultsDf = pd.DataFrame(results.items())\n",
        "    resultsDf.columns = ['Word', 'Frequency']\n",
        "    resultsDf.sort_values(by='Frequency', inplace=True, ascending=False)\n",
        "    resultsDf.reset_index(drop=True, inplace=True)\n",
        "    resultsDf.index += 1\n",
        "\n",
        "    printMd(f'Most common words in column `{col}`:')\n",
        "    display(resultsDf.head(n))\n",
        "\n",
        "displayMostCommonColumnWords(dataDf, DataColumn.TITLE, 10)"
      ]
    },
    {
      "cell_type": "code",
      "execution_count": null,
      "metadata": {
        "colab": {
          "base_uri": "https://localhost:8080/",
          "height": 1000
        },
        "id": "xWL0qEw1b-2N",
        "outputId": "9e6984c9-c151-4fe5-dbf0-92ec52548109"
      },
      "outputs": [],
      "source": [
        "questions: List[TopColumnValuesQuestion] = [\n",
        "    {\n",
        "        'qnum': '5',\n",
        "        'qtitle': 'Top 10 Authors with the most books',\n",
        "        'col': DataColumn.AUTHOR,\n",
        "        'countCol': TopColumnValuesAnswerGenerator.COUNT_ROWS,\n",
        "        'limit': 10,\n",
        "        'extractor': lambda s: re.split(r'[,(]', s, maxsplit=1)[0].strip(),\n",
        "    },    \n",
        "    {\n",
        "        'qnum': '6',\n",
        "        'qtitle': 'Top 10 Authors with the most ratings',\n",
        "        'col': DataColumn.AUTHOR,\n",
        "        'countCol': DataColumn.NUMRATINGS,\n",
        "        'limit': 10,\n",
        "        'useExtracted': True\n",
        "    },\n",
        "    {\n",
        "        'qnum': '8',\n",
        "        'qtitle': 'Top 10 Languages used in the most books',\n",
        "        'col': DataColumn.LANGUAGE,\n",
        "        'countCol': TopColumnValuesAnswerGenerator.COUNT_ROWS,\n",
        "        'limit': 10,\n",
        "    },\n",
        "    {\n",
        "        'qnum': '9',\n",
        "        'qtitle': 'Top 10 Publishers with the most books',\n",
        "        'col': DataColumn.PUBLISHER,\n",
        "        'countCol': TopColumnValuesAnswerGenerator.COUNT_ROWS,\n",
        "        'limit': 10,\n",
        "    }\n",
        "]\n",
        "\n",
        "def buildYearFilter(y: int) -> Callable[[pd.DataFrame], pd.DataFrame]:\n",
        "    return lambda df: df[df[DataColumn.PUBLISHYEAR] == y]\n",
        "\n",
        "for i, y in enumerate(range(2000, 2016, 5)):\n",
        "    questions.append({\n",
        "        'qnum': f'7({i + 1})',\n",
        "        'qtitle': f'Top 10 Authors with the most books in {y}',\n",
        "        'col': DataColumn.AUTHOR,\n",
        "        'countCol': TopColumnValuesAnswerGenerator.COUNT_ROWS,\n",
        "        'limit': 10,\n",
        "        'dataFilter': buildYearFilter(y),\n",
        "    })\n",
        "questions = sorted(questions, key=lambda q: q['qnum'])\n",
        "TopColumnValuesAnswerGenerator().registerQuestions(questions).displayAnswers(dataDf)"
      ]
    },
    {
      "attachments": {},
      "cell_type": "markdown",
      "metadata": {
        "id": "RMeCRIMKb-2N"
      },
      "source": [
        "**10.** Relationship between number of pages and ratings"
      ]
    },
    {
      "cell_type": "code",
      "execution_count": null,
      "metadata": {
        "colab": {
          "base_uri": "https://localhost:8080/",
          "height": 751
        },
        "id": "lExQbwAdb-2N",
        "outputId": "4645a2df-8fa2-4c5c-eb4b-95696bfd41f3"
      },
      "outputs": [],
      "source": [
        "def drawHeatmap(df: pd.DataFrame, ax: plt.Axes, cmap: str = \"coolwarm\", **kwargs):\n",
        "    _ = sns.heatmap(df.corr(), ax=ax, cmap=cmap, **kwargs)\n",
        "\n",
        "_, axes = plt.subplots(1, 1, figsize=(8,8))\n",
        "cols = [\n",
        "    DataColumn.PAGES,\n",
        "    DataColumn.NUMRATINGS,\n",
        "    DataColumn.RATING,\n",
        "    DataColumn.RATINGSTAR1,\n",
        "    DataColumn.RATINGSTAR2,\n",
        "    DataColumn.RATINGSTAR3,\n",
        "    DataColumn.RATINGSTAR4,\n",
        "    DataColumn.RATINGSTAR5\n",
        "]\n",
        "\n",
        "def pageStrToInt(s: str):\n",
        "    try:\n",
        "        return int(s)\n",
        "    except ValueError:\n",
        "        return int(s.split(maxsplit=1)[0])\n",
        "\n",
        "dataDf[DataColumn.PAGES] = dataDf[DataColumn.PAGES].apply(pageStrToInt)\n",
        "drawHeatmap(dataDf[dataDf[DataColumn.PAGES] > 1000][cols], axes)"
      ]
    },
    {
      "cell_type": "code",
      "execution_count": null,
      "metadata": {
        "colab": {
          "base_uri": "https://localhost:8080/",
          "height": 768
        },
        "id": "IK8RMOwHb-2O",
        "outputId": "bf3400c7-8a64-4b68-a566-ef7576374bc1"
      },
      "outputs": [],
      "source": [
        "def countListRowStrings(d: \"defaultdict[str, int]\", s: str, listExtractor: Callable[[str], List[str]]):\n",
        "    items: List[str] = listExtractor(s)\n",
        "    for i in items:\n",
        "        d[i] += 1\n",
        "\n",
        "def awardTitlesExtractor(awardListStr: str) -> List[str]:    \n",
        "    awardList: List[str] = ast.literal_eval(awardListStr)\n",
        "    awards = []\n",
        "    for s in awardList:\n",
        "        awards.append(re.sub(fr'[(]{YearExtractor.YEAR_RE_NO_GROUP}[)]', repl='', string=s).strip())\n",
        "    return awards\n",
        "\n",
        "TopColumnValuesAnswerGenerator().registerQuestions([\n",
        "    {\n",
        "        'qnum': '11',\n",
        "        'qtitle': 'Top Genres of the most books',\n",
        "        'col': DataColumn.GENRES,\n",
        "        'countCol': TopColumnValuesAnswerGenerator.COUNT_ROWS,\n",
        "        'limit': 10,\n",
        "        'counter': lambda d, s, _: countListRowStrings(d, s, ast.literal_eval)\n",
        "    },\n",
        "    {\n",
        "        'qnum': '12',\n",
        "        'qtitle': 'Top Awards of the most books',\n",
        "        'col': DataColumn.AWARDS,\n",
        "        'countCol': TopColumnValuesAnswerGenerator.COUNT_ROWS,\n",
        "        'limit': 10,\n",
        "        'counter': lambda d, s, _: countListRowStrings(d, s, awardTitlesExtractor)\n",
        "    }\n",
        "]).displayAnswers(dataDf)"
      ]
    },
    {
      "cell_type": "code",
      "execution_count": null,
      "metadata": {
        "colab": {
          "base_uri": "https://localhost:8080/",
          "height": 549
        },
        "id": "1mqRbH5Pb-2O",
        "outputId": "68f1ba44-818d-4634-8ac6-cc5d4611ac20"
      },
      "outputs": [],
      "source": [
        "TopColumnValuesAnswerGenerator().registerQuestion({\n",
        "    'qnum': '13',\n",
        "    'qtitle': 'Books published by year',\n",
        "    'col': DataColumn.PUBLISHYEAR,\n",
        "    'countCol': TopColumnValuesAnswerGenerator.COUNT_ROWS,\n",
        "    'limit': 15\n",
        "}).displayAnswers(dataDf)"
      ]
    },
    {
      "cell_type": "code",
      "execution_count": 30,
      "metadata": {
        "colab": {
          "base_uri": "https://localhost:8080/",
          "height": 909
        },
        "id": "BvhaGQW7iFxj",
        "outputId": "bd881e86-36fa-4913-8c9f-7740c22e17e2"
      },
      "outputs": [
        {
          "data": {
            "image/png": "[encoded data removed]",
            "text/plain": [
              "<Figure size 432x288 with 1 Axes>"
            ]
          },
          "metadata": {
            "needs_background": "light"
          },
          "output_type": "display_data"
        },
        {
          "data": {
            "text/plain": [
              "<Figure size 2880x1440 with 0 Axes>"
            ]
          },
          "metadata": {},
          "output_type": "display_data"
        },
        {
          "data": {
            "text/markdown": [
              "Top 10 most popular words used in book descriptions:"
            ],
            "text/plain": [
              "<IPython.core.display.Markdown object>"
            ]
          },
          "metadata": {},
          "output_type": "display_data"
        },
        {
          "data": {
            "text/html": [
              "<div>\n",
              "<style scoped>\n",
              "    .dataframe tbody tr th:only-of-type {\n",
              "        vertical-align: middle;\n",
              "    }\n",
              "\n",
              "    .dataframe tbody tr th {\n",
              "        vertical-align: top;\n",
              "    }\n",
              "\n",
              "    .dataframe thead th {\n",
              "        text-align: right;\n",
              "    }\n",
              "</style>\n",
              "<table border=\"1\" class=\"dataframe\">\n",
              "  <thead>\n",
              "    <tr style=\"text-align: right;\">\n",
              "      <th></th>\n",
              "      <th>Word</th>\n",
              "    </tr>\n",
              "  </thead>\n",
              "  <tbody>\n",
              "    <tr>\n",
              "      <th>1</th>\n",
              "      <td>life</td>\n",
              "    </tr>\n",
              "    <tr>\n",
              "      <th>2</th>\n",
              "      <td>world</td>\n",
              "    </tr>\n",
              "    <tr>\n",
              "      <th>3</th>\n",
              "      <td>find</td>\n",
              "    </tr>\n",
              "    <tr>\n",
              "      <th>4</th>\n",
              "      <td>book</td>\n",
              "    </tr>\n",
              "    <tr>\n",
              "      <th>5</th>\n",
              "      <td>love</td>\n",
              "    </tr>\n",
              "    <tr>\n",
              "      <th>6</th>\n",
              "      <td>live</td>\n",
              "    </tr>\n",
              "    <tr>\n",
              "      <th>7</th>\n",
              "      <td>family</td>\n",
              "    </tr>\n",
              "    <tr>\n",
              "      <th>8</th>\n",
              "      <td>even</td>\n",
              "    </tr>\n",
              "    <tr>\n",
              "      <th>9</th>\n",
              "      <td>story</td>\n",
              "    </tr>\n",
              "    <tr>\n",
              "      <th>10</th>\n",
              "      <td>time</td>\n",
              "    </tr>\n",
              "  </tbody>\n",
              "</table>\n",
              "</div>"
            ],
            "text/plain": [
              "      Word\n",
              "1     life\n",
              "2    world\n",
              "3     find\n",
              "4     book\n",
              "5     love\n",
              "6     live\n",
              "7   family\n",
              "8     even\n",
              "9    story\n",
              "10    time"
            ]
          },
          "metadata": {},
          "output_type": "display_data"
        }
      ],
      "source": [
        "def displayWordcloud(text: str) -> WordCloud:\n",
        "\n",
        "    def downloadImageMask() -> \"np.ndarray | None\":\n",
        "        IMG_PATH = 'https://img.freepik.com/premium-vector/book-logo_535345-3487.jpg'\n",
        "\n",
        "        res = requests.get(IMG_PATH)\n",
        "\n",
        "        if res.ok:\n",
        "            return np.array( Image.open(io.BytesIO(res.content)) )\n",
        "        else:\n",
        "            return None\n",
        "\n",
        "    cloud = WordCloud(\n",
        "        background_color=\"rgba(255, 255, 255, 0)\", mode=\"RGBA\",\n",
        "        colormap='gist_heat',\n",
        "        width=2000, height=1000,\n",
        "        max_words=500,\n",
        "        min_word_length=4,\n",
        "        stopwords=STOP_WORDS,\n",
        "        mask=downloadImageMask()\n",
        "    ).generate(text)\n",
        "\n",
        "    plt.axis(\"off\")\n",
        "    plt.tight_layout(pad=0)\n",
        "    plt.imshow(cloud, interpolation='bilinear')\n",
        "    plt.figure(figsize=(40, 20))\n",
        "    plt.show()\n",
        "\n",
        "    return cloud\n",
        "\n",
        "def displayTopWordcloudWords(wcloud: WordCloud, n: int):\n",
        "    printMd(f'Top {n} most popular words used in book descriptions:')\n",
        "    topWords = pd.DataFrame(wcloud.words_.keys())\n",
        "    topWords.columns=['Word']\n",
        "    topWords.index += 1\n",
        "    display(topWords.head(n))\n",
        "\n",
        "descriptionsTotal = (\n",
        "    ' '.join(d for d in dataDf[DataColumn.DESCRIPTION])\n",
        "    .translate(str.maketrans('', '', string.punctuation))\n",
        ")\n",
        "wcloud = displayWordcloud(descriptionsTotal)\n",
        "displayTopWordcloudWords(wcloud, 10)"
      ]
    },
    {
      "attachments": {},
      "cell_type": "markdown",
      "metadata": {
        "id": "AVtCNJ08NtTI"
      },
      "source": [
        "## Similarity-based Recommendation System"
      ]
    },
    {
      "cell_type": "code",
      "execution_count": 31,
      "metadata": {
        "colab": {
          "base_uri": "https://localhost:8080/"
        },
        "id": "CNdtNDlE8fzE",
        "outputId": "1e647680-5f62-4952-dcbb-d1b2910fa8bd"
      },
      "outputs": [
        {
          "name": "stdout",
          "output_type": "stream",
          "text": [
            "Dataset Shape:\n",
            "Rows: 37005, Columns: 23\n"
          ]
        }
      ],
      "source": [
        "recommenderDf = dataDf[dataDf[DataColumn.LANGUAGE] == 'English']\n",
        "printDatasetShape(recommenderDf)"
      ]
    },
    {
      "cell_type": "code",
      "execution_count": 32,
      "metadata": {
        "colab": {
          "base_uri": "https://localhost:8080/"
        },
        "id": "XrCAbMth8fzF",
        "outputId": "fa53e68c-32ad-4d0f-a510-6582e9aae564"
      },
      "outputs": [
        {
          "data": {
            "text/plain": [
              "3549"
            ]
          },
          "execution_count": 32,
          "metadata": {},
          "output_type": "execute_result"
        }
      ],
      "source": [
        "gc.collect()"
      ]
    },
    {
      "cell_type": "code",
      "execution_count": 33,
      "metadata": {
        "colab": {
          "base_uri": "https://localhost:8080/",
          "height": 1000,
          "referenced_widgets": [
            "8d164a6503c44dfc93b866e16c16eef2",
            "334efdc8803946b4b0749f31446fc3f9",
            "25aea68af1274888850125cedded14af",
            "bcadf247481b47f3b770bab0dd7fa34a",
            "e6d85a05f44a419fac3d78f6e0d246f7",
            "76de3a77024140fe80bb0c6477e68a10",
            "0c1e322ceef94f6597ec882c66608946",
            "8347f08460ce4e7b85d6f4db4b14e31b",
            "f2b11551ad6d401e83790d969d9742bb",
            "233d1f916c8949fbb9374a794cb83149",
            "64bcdb3b54b1478283cfa02b45f879ce",
            "e18dee9ffcc347ce924f9029c32108fa",
            "1e228d801df7462fbc2f8f5c5e6eddbb",
            "710ec810d77047f5bcca2194ec5d0bd1",
            "8592c437b6bc4dad8ae4062f3c0ba162",
            "78a46733b3d142f5ba2e83f2df00cb60",
            "e51a192f348a4d16864850d1712d6b8b",
            "dcfe2326fa1a4269ade3430597ca7214",
            "af0ab46523b84af5a9a38198940f91a8",
            "3aeb1df3bd444f88826892b8e3f2ef54",
            "4715a6fc339e421a8e9b913d8e720fa1",
            "f1ba3dab63cf449e8c7e14fdf5cdc9ef"
          ]
        },
        "id": "3OXqEtXD8fzF",
        "outputId": "37802236-3ce6-4fde-9ebe-687050cdf70b"
      },
      "outputs": [
        {
          "data": {
            "text/markdown": [
              "### Using `1-grams`:"
            ],
            "text/plain": [
              "<IPython.core.display.Markdown object>"
            ]
          },
          "metadata": {},
          "output_type": "display_data"
        },
        {
          "data": {
            "application/json": {
              "ascii": false,
              "bar_format": "{desc}{bar} {n}/{total} -- Time Elapsed: {elapsed}",
              "colour": null,
              "elapsed": 0.056525230407714844,
              "initial": 0,
              "n": 0,
              "ncols": null,
              "nrows": null,
              "postfix": null,
              "prefix": "",
              "rate": null,
              "total": 1000,
              "unit": "it",
              "unit_divisor": 1000,
              "unit_scale": false
            },
            "application/vnd.jupyter.widget-view+json": {
              "model_id": "70b440695ae841449d3509797a1957d8",
              "version_major": 2,
              "version_minor": 0
            },
            "text/plain": [
              "           0/1000 -- Time Elapsed: 00:00"
            ]
          },
          "metadata": {},
          "output_type": "display_data"
        },
        {
          "data": {
            "text/markdown": [
              "Recommending up to 5 books similar to **Harry Potter and the Order of the Phoenix**"
            ],
            "text/plain": [
              "<IPython.core.display.Markdown object>"
            ]
          },
          "metadata": {},
          "output_type": "display_data"
        },
        {
          "data": {
            "text/markdown": [
              "***"
            ],
            "text/plain": [
              "<IPython.core.display.Markdown object>"
            ]
          },
          "metadata": {},
          "output_type": "display_data"
        },
        {
          "data": {
            "text/markdown": [
              "1. **Harry Potter and the Prisoner of Azkaban**"
            ],
            "text/plain": [
              "<IPython.core.display.Markdown object>"
            ]
          },
          "metadata": {},
          "output_type": "display_data"
        },
        {
          "data": {
            "text/markdown": [
              "<u>Description</u>: Harry Potter's third year at Hogwarts is full of new dangers.  A convicted murderer, Sirius Black,\\\n",
              "has broken out of Azkaban prison, and it seems he's after Harry.  Now Hogwarts is being patrolled by\\\n",
              "the dementors, the Azkaban guards who are hunting Sirius.  But Harry can't imagine that Sirius or,\\\n",
              "for that matter, the evil Lord Voldemort could be more frightening than the dementors themselves,\\\n",
              "who have the terrible power to fill anyone they come across with aching loneliness and despair.\\\n",
              "Meanwhile, life continues as usual at Hogwarts.  A top-of-the-line broom takes Harry's success at\\\n",
              "Quidditch, the sport of the Wizarding world, to new heights.  A cute fourth-year student catches his\\\n",
              "eye.  And he becomes close with the new Defense of the Dark Arts teacher, who was a childhood friend\\\n",
              "of his father.  Yet despite the relative safety of life at Hogwarts and the best efforts of the\\\n",
              "dementors, the threat of Sirius Black grows ever closer.  But if Harry has learned anything from his\\\n",
              "education in wizardry, it is that things are often not what they seem.  Tragic revelations,\\\n",
              "heartwarming surprises, and high-stakes magical adventures await the boy wizard in this funny and\\\n",
              "poignant third installment of the beloved series.--scholastic.com"
            ],
            "text/plain": [
              "<IPython.core.display.Markdown object>"
            ]
          },
          "metadata": {},
          "output_type": "display_data"
        },
        {
          "data": {
            "text/markdown": [
              "<u>Score</u>: 0.416161054787754"
            ],
            "text/plain": [
              "<IPython.core.display.Markdown object>"
            ]
          },
          "metadata": {},
          "output_type": "display_data"
        },
        {
          "data": {
            "text/markdown": [
              "2. **Harry Potter and the Chamber of Secrets**"
            ],
            "text/plain": [
              "<IPython.core.display.Markdown object>"
            ]
          },
          "metadata": {},
          "output_type": "display_data"
        },
        {
          "data": {
            "text/markdown": [
              "<u>Description</u>: Ever since Harry Potter had come home for the summer, the Dursleys had been so mean and hideous that\\\n",
              "all Harry wanted was to get back to the Hogwarts School for Witchcraft and Wizardry.  But just as\\\n",
              "he’s packing his bags, Harry receives a warning from a strange impish creature who says that if\\\n",
              "Harry returns to Hogwarts, disaster will strike.And strike it does.  For in Harry’s second year at\\\n",
              "Hogwarts, fresh torments and horrors arise, including an outrageously stuck-up new professor and a\\\n",
              "spirit who haunts the girls’ bathroom.  But then the real trouble begins – someone is turning\\\n",
              "Hogwarts students to stone.  Could it be Draco Malfoy, a more poisonous rival than ever?  Could it\\\n",
              "possible be Hagrid, whose mysterious past is finally told?  Or could it be the one everyone at\\\n",
              "Hogwarts most suspects… Harry Potter himself!"
            ],
            "text/plain": [
              "<IPython.core.display.Markdown object>"
            ]
          },
          "metadata": {},
          "output_type": "display_data"
        },
        {
          "data": {
            "text/markdown": [
              "<u>Score</u>: 0.3733984350022985"
            ],
            "text/plain": [
              "<IPython.core.display.Markdown object>"
            ]
          },
          "metadata": {},
          "output_type": "display_data"
        },
        {
          "data": {
            "text/markdown": [
              "3. **The Last of the Mohicans**"
            ],
            "text/plain": [
              "<IPython.core.display.Markdown object>"
            ]
          },
          "metadata": {},
          "output_type": "display_data"
        },
        {
          "data": {
            "text/markdown": [
              "<u>Description</u>: The wild rush of action in this classic frontier adventure story has made The Last of the Mohicans\\\n",
              "the most popular of James Fenimore Cooper’s Leatherstocking Tales.  Deep in the forests of upper New\\\n",
              "York State, the brave woodsman Hawkeye (Natty Bumppo) and his loyal Mohican friends Chingachgook and\\\n",
              "Uncas become embroiled in the bloody battles of the French and Indian War.  The abduction of the\\\n",
              "beautiful Munro sisters by hostile savages, the treachery of the renegade brave Magua, the ambush of\\\n",
              "innocent settlers, and the thrilling events that lead to the final tragic confrontation between\\\n",
              "rival war parties create an unforgettable, spine-tingling picture of life on the frontier.  And as\\\n",
              "the idyllic wilderness gives way to the forces of civilization, the novel presents a moving\\\n",
              "portrayal of a vanishing race and the end of its way of life in the great American forests."
            ],
            "text/plain": [
              "<IPython.core.display.Markdown object>"
            ]
          },
          "metadata": {},
          "output_type": "display_data"
        },
        {
          "data": {
            "text/markdown": [
              "<u>Score</u>: 0.3587625066857846"
            ],
            "text/plain": [
              "<IPython.core.display.Markdown object>"
            ]
          },
          "metadata": {},
          "output_type": "display_data"
        },
        {
          "data": {
            "text/markdown": [
              "4. **Harry Potter and the Sorcerer's Stone**"
            ],
            "text/plain": [
              "<IPython.core.display.Markdown object>"
            ]
          },
          "metadata": {},
          "output_type": "display_data"
        },
        {
          "data": {
            "text/markdown": [
              "<u>Description</u>: Harry Potter's life is miserable.  His parents are dead and he's stuck with his heartless relatives,\\\n",
              "who force him to live in a tiny closet under the stairs.  But his fortune changes when he receives a\\\n",
              "letter that tells him the truth about himself: he's a wizard.  A mysterious visitor rescues him from\\\n",
              "his relatives and takes him to his new home, Hogwarts School of Witchcraft and Wizardry.After a\\\n",
              "lifetime of bottling up his magical powers, Harry finally feels like a normal kid.  But even within\\\n",
              "the Wizarding community, he is special.  He is the boy who lived: the only person to have ever\\\n",
              "survived a killing curse inflicted by the evil Lord Voldemort, who launched a brutal takeover of the\\\n",
              "Wizarding world, only to vanish after failing to kill Harry.Though Harry's first year at Hogwarts is\\\n",
              "the best of his life, not everything is perfect.  There is a dangerous secret object hidden within\\\n",
              "the castle walls, and Harry believes it's his responsibility to prevent it from falling into evil\\\n",
              "hands.  But doing so will bring him into contact with forces more terrifying than he ever could have\\\n",
              "imagined.Full of sympathetic characters, wildly imaginative situations, and countless exciting\\\n",
              "details, the first installment in the series assembles an unforgettable magical world and sets the\\\n",
              "stage for many high-stakes adventures to come."
            ],
            "text/plain": [
              "<IPython.core.display.Markdown object>"
            ]
          },
          "metadata": {},
          "output_type": "display_data"
        },
        {
          "data": {
            "text/markdown": [
              "<u>Score</u>: 0.31790886991883904"
            ],
            "text/plain": [
              "<IPython.core.display.Markdown object>"
            ]
          },
          "metadata": {},
          "output_type": "display_data"
        },
        {
          "data": {
            "text/markdown": [
              "5. **Harry Potter and the Half-Blood Prince**"
            ],
            "text/plain": [
              "<IPython.core.display.Markdown object>"
            ]
          },
          "metadata": {},
          "output_type": "display_data"
        },
        {
          "data": {
            "text/markdown": [
              "<u>Description</u>: The war against Voldemort is not going well; even Muggle governments are noticing.  Ron scans the\\\n",
              "obituary pages of the Daily Prophet, looking for familiar names.  Dumbledore is absent from Hogwarts\\\n",
              "for long stretches of time, and the Order of the Phoenix has already suffered losses.And yet . . .As\\\n",
              "in all wars, life goes on.  The Weasley twins expand their business.  Sixth-year students learn to\\\n",
              "Apparate - and lose a few eyebrows in the process.  Teenagers flirt and fight and fall in love.\\\n",
              "Classes are never straightforward, through Harry receives some extraordinary help from the\\\n",
              "mysterious Half-Blood Prince.So it's the home front that takes center stage in the multilayered\\\n",
              "sixth installment of the story of Harry Potter.  Here at Hogwarts, Harry will search for the full\\\n",
              "and complete story of the boy who became Lord Voldemort - and thereby find what may be his only\\\n",
              "vulnerability."
            ],
            "text/plain": [
              "<IPython.core.display.Markdown object>"
            ]
          },
          "metadata": {},
          "output_type": "display_data"
        },
        {
          "data": {
            "text/markdown": [
              "<u>Score</u>: 0.2668923784082573"
            ],
            "text/plain": [
              "<IPython.core.display.Markdown object>"
            ]
          },
          "metadata": {},
          "output_type": "display_data"
        },
        {
          "data": {
            "text/markdown": [
              "***"
            ],
            "text/plain": [
              "<IPython.core.display.Markdown object>"
            ]
          },
          "metadata": {},
          "output_type": "display_data"
        },
        {
          "data": {
            "text/markdown": [
              "### Using `2-grams`:"
            ],
            "text/plain": [
              "<IPython.core.display.Markdown object>"
            ]
          },
          "metadata": {},
          "output_type": "display_data"
        },
        {
          "data": {
            "application/json": {
              "ascii": false,
              "bar_format": "{desc}{bar} {n}/{total} -- Time Elapsed: {elapsed}",
              "colour": null,
              "elapsed": 0.03714609146118164,
              "initial": 0,
              "n": 0,
              "ncols": null,
              "nrows": null,
              "postfix": null,
              "prefix": "",
              "rate": null,
              "total": 1000,
              "unit": "it",
              "unit_divisor": 1000,
              "unit_scale": false
            },
            "application/vnd.jupyter.widget-view+json": {
              "model_id": "044defb980e14aa8bbee81a8a49ea1cf",
              "version_major": 2,
              "version_minor": 0
            },
            "text/plain": [
              "           0/1000 -- Time Elapsed: 00:00"
            ]
          },
          "metadata": {},
          "output_type": "display_data"
        },
        {
          "data": {
            "text/markdown": [
              "Recommending up to 5 books similar to **Harry Potter and the Order of the Phoenix**"
            ],
            "text/plain": [
              "<IPython.core.display.Markdown object>"
            ]
          },
          "metadata": {},
          "output_type": "display_data"
        },
        {
          "data": {
            "text/markdown": [
              "***"
            ],
            "text/plain": [
              "<IPython.core.display.Markdown object>"
            ]
          },
          "metadata": {},
          "output_type": "display_data"
        },
        {
          "data": {
            "text/markdown": [
              "1. **Harry Potter and the Prisoner of Azkaban**"
            ],
            "text/plain": [
              "<IPython.core.display.Markdown object>"
            ]
          },
          "metadata": {},
          "output_type": "display_data"
        },
        {
          "data": {
            "text/markdown": [
              "<u>Description</u>: Harry Potter's third year at Hogwarts is full of new dangers.  A convicted murderer, Sirius Black,\\\n",
              "has broken out of Azkaban prison, and it seems he's after Harry.  Now Hogwarts is being patrolled by\\\n",
              "the dementors, the Azkaban guards who are hunting Sirius.  But Harry can't imagine that Sirius or,\\\n",
              "for that matter, the evil Lord Voldemort could be more frightening than the dementors themselves,\\\n",
              "who have the terrible power to fill anyone they come across with aching loneliness and despair.\\\n",
              "Meanwhile, life continues as usual at Hogwarts.  A top-of-the-line broom takes Harry's success at\\\n",
              "Quidditch, the sport of the Wizarding world, to new heights.  A cute fourth-year student catches his\\\n",
              "eye.  And he becomes close with the new Defense of the Dark Arts teacher, who was a childhood friend\\\n",
              "of his father.  Yet despite the relative safety of life at Hogwarts and the best efforts of the\\\n",
              "dementors, the threat of Sirius Black grows ever closer.  But if Harry has learned anything from his\\\n",
              "education in wizardry, it is that things are often not what they seem.  Tragic revelations,\\\n",
              "heartwarming surprises, and high-stakes magical adventures await the boy wizard in this funny and\\\n",
              "poignant third installment of the beloved series.--scholastic.com"
            ],
            "text/plain": [
              "<IPython.core.display.Markdown object>"
            ]
          },
          "metadata": {},
          "output_type": "display_data"
        },
        {
          "data": {
            "text/markdown": [
              "<u>Score</u>: 0.04166349433609784"
            ],
            "text/plain": [
              "<IPython.core.display.Markdown object>"
            ]
          },
          "metadata": {},
          "output_type": "display_data"
        },
        {
          "data": {
            "text/markdown": [
              "2. **Like Water for Chocolate**"
            ],
            "text/plain": [
              "<IPython.core.display.Markdown object>"
            ]
          },
          "metadata": {},
          "output_type": "display_data"
        },
        {
          "data": {
            "text/markdown": [
              "<u>Description</u>: Earthy, magical, and utterly charming, this tale of family life in turn-of-the-century Mexico became\\\n",
              "a best-selling phenomenon with its winning blend of poignant romance and bittersweet wit.The number\\\n",
              "one bestseller in Mexico and America for almost two years, and subsequently a bestseller around the\\\n",
              "world, Like Water For Chocolate is a romantic, poignant tale, touched with moments of magic, graphic\\\n",
              "earthiness, bittersweet wit - and recipes.  A sumptuous feast of a novel, it relates the bizarre\\\n",
              "history of the all-female De La Garza family.  Tita, the youngest daughter of the house, has been\\\n",
              "forbidden to marry, condemned by Mexican tradition to look after her mother until she dies.  But\\\n",
              "Tita falls in love with Pedro, and he is seduced by the magical food she cooks.  In desperation,\\\n",
              "Pedro marries her sister Rosaura so that he can stay close to her, so that Tita and Pedro are forced\\\n",
              "to circle each other in unconsummated passion.  Only a freakish chain of tragedies, bad luck and\\\n",
              "fate finally reunite them against all the odds."
            ],
            "text/plain": [
              "<IPython.core.display.Markdown object>"
            ]
          },
          "metadata": {},
          "output_type": "display_data"
        },
        {
          "data": {
            "text/markdown": [
              "<u>Score</u>: 0.01604368493115349"
            ],
            "text/plain": [
              "<IPython.core.display.Markdown object>"
            ]
          },
          "metadata": {},
          "output_type": "display_data"
        },
        {
          "data": {
            "text/markdown": [
              "3. **Harry Potter and the Chamber of Secrets**"
            ],
            "text/plain": [
              "<IPython.core.display.Markdown object>"
            ]
          },
          "metadata": {},
          "output_type": "display_data"
        },
        {
          "data": {
            "text/markdown": [
              "<u>Description</u>: Ever since Harry Potter had come home for the summer, the Dursleys had been so mean and hideous that\\\n",
              "all Harry wanted was to get back to the Hogwarts School for Witchcraft and Wizardry.  But just as\\\n",
              "he’s packing his bags, Harry receives a warning from a strange impish creature who says that if\\\n",
              "Harry returns to Hogwarts, disaster will strike.And strike it does.  For in Harry’s second year at\\\n",
              "Hogwarts, fresh torments and horrors arise, including an outrageously stuck-up new professor and a\\\n",
              "spirit who haunts the girls’ bathroom.  But then the real trouble begins – someone is turning\\\n",
              "Hogwarts students to stone.  Could it be Draco Malfoy, a more poisonous rival than ever?  Could it\\\n",
              "possible be Hagrid, whose mysterious past is finally told?  Or could it be the one everyone at\\\n",
              "Hogwarts most suspects… Harry Potter himself!"
            ],
            "text/plain": [
              "<IPython.core.display.Markdown object>"
            ]
          },
          "metadata": {},
          "output_type": "display_data"
        },
        {
          "data": {
            "text/markdown": [
              "<u>Score</u>: 0.011495027955446324"
            ],
            "text/plain": [
              "<IPython.core.display.Markdown object>"
            ]
          },
          "metadata": {},
          "output_type": "display_data"
        },
        {
          "data": {
            "text/markdown": [
              "4. **The Iron King**"
            ],
            "text/plain": [
              "<IPython.core.display.Markdown object>"
            ]
          },
          "metadata": {},
          "output_type": "display_data"
        },
        {
          "data": {
            "text/markdown": [
              "<u>Description</u>: Meghan Chase has a secret destiny; one she could never have imagined.Something has always felt\\\n",
              "slightly off in Meghan's life, ever since her father disappeared before her eyes when she was six.\\\n",
              "She has never quite fit in at school or at home.When a dark stranger begins watching her from afar,\\\n",
              "and her prankster best friend becomes strangely protective of her, Meghan senses that everything\\\n",
              "she's known is about to change.But she could never have guessed the truth - that she is the daughter\\\n",
              "of a mythical faery king and is a pawn in a deadly war.  Now Meghan will learn just how far she'll\\\n",
              "go to save someone she cares about, to stop a mysterious evil, no faery creature dare face; and to\\\n",
              "find love with a young prince who might rather see her dead than let her touch his icy heart."
            ],
            "text/plain": [
              "<IPython.core.display.Markdown object>"
            ]
          },
          "metadata": {},
          "output_type": "display_data"
        },
        {
          "data": {
            "text/markdown": [
              "<u>Score</u>: 0.009484079705203152"
            ],
            "text/plain": [
              "<IPython.core.display.Markdown object>"
            ]
          },
          "metadata": {},
          "output_type": "display_data"
        },
        {
          "data": {
            "text/markdown": [
              "5. **Harry Potter and the Sorcerer's Stone**"
            ],
            "text/plain": [
              "<IPython.core.display.Markdown object>"
            ]
          },
          "metadata": {},
          "output_type": "display_data"
        },
        {
          "data": {
            "text/markdown": [
              "<u>Description</u>: Harry Potter's life is miserable.  His parents are dead and he's stuck with his heartless relatives,\\\n",
              "who force him to live in a tiny closet under the stairs.  But his fortune changes when he receives a\\\n",
              "letter that tells him the truth about himself: he's a wizard.  A mysterious visitor rescues him from\\\n",
              "his relatives and takes him to his new home, Hogwarts School of Witchcraft and Wizardry.After a\\\n",
              "lifetime of bottling up his magical powers, Harry finally feels like a normal kid.  But even within\\\n",
              "the Wizarding community, he is special.  He is the boy who lived: the only person to have ever\\\n",
              "survived a killing curse inflicted by the evil Lord Voldemort, who launched a brutal takeover of the\\\n",
              "Wizarding world, only to vanish after failing to kill Harry.Though Harry's first year at Hogwarts is\\\n",
              "the best of his life, not everything is perfect.  There is a dangerous secret object hidden within\\\n",
              "the castle walls, and Harry believes it's his responsibility to prevent it from falling into evil\\\n",
              "hands.  But doing so will bring him into contact with forces more terrifying than he ever could have\\\n",
              "imagined.Full of sympathetic characters, wildly imaginative situations, and countless exciting\\\n",
              "details, the first installment in the series assembles an unforgettable magical world and sets the\\\n",
              "stage for many high-stakes adventures to come."
            ],
            "text/plain": [
              "<IPython.core.display.Markdown object>"
            ]
          },
          "metadata": {},
          "output_type": "display_data"
        },
        {
          "data": {
            "text/markdown": [
              "<u>Score</u>: 0.009234756451768522"
            ],
            "text/plain": [
              "<IPython.core.display.Markdown object>"
            ]
          },
          "metadata": {},
          "output_type": "display_data"
        },
        {
          "data": {
            "text/markdown": [
              "***"
            ],
            "text/plain": [
              "<IPython.core.display.Markdown object>"
            ]
          },
          "metadata": {},
          "output_type": "display_data"
        }
      ],
      "source": [
        "bookId = '2.Harry_Potter_and_the_Order_of_the_Phoenix'\n",
        "for n in range(1, 3):\n",
        "    recommender = BookRecommender(\n",
        "        books=recommenderDf,\n",
        "        numBooks=1000,\n",
        "        numTop=100,\n",
        "        vectorizer=TfidfVectorizer(\n",
        "            stop_words='english',\n",
        "            ngram_range=(n, n),\n",
        "            max_df=0.85, min_df=(0.01 if n == 1 else 1),\n",
        "            strip_accents='unicode',\n",
        "        )\n",
        "    )\n",
        "    printMd(f'### Using `{n}-grams`:')\n",
        "    runWithNoWarnings(lambda: recommender.findMostSimilar(showProgress=True))\n",
        "    recommender.showRecommendations(bookId, num=5)"
      ]
    },
    {
      "attachments": {},
      "cell_type": "markdown",
      "metadata": {
        "id": "oQlPN1EWNtTO"
      },
      "source": [
        "## Book Genre Classifier"
      ]
    },
    {
      "cell_type": "code",
      "execution_count": 34,
      "metadata": {
        "colab": {
          "base_uri": "https://localhost:8080/"
        },
        "id": "H3cNkHzR7PTx",
        "outputId": "64ef0070-bac7-4d83-a888-64ef78c52f6c"
      },
      "outputs": [
        {
          "data": {
            "text/plain": [
              "10132"
            ]
          },
          "execution_count": 34,
          "metadata": {},
          "output_type": "execute_result"
        }
      ],
      "source": [
        "gc.collect()"
      ]
    },
    {
      "cell_type": "code",
      "execution_count": 35,
      "metadata": {
        "colab": {
          "base_uri": "https://localhost:8080/",
          "height": 363
        },
        "id": "dmO5vg5rsm8J",
        "outputId": "846b6198-a0e6-4305-8eb6-212769f324de"
      },
      "outputs": [
        {
          "data": {
            "text/html": [
              "<div>\n",
              "<style scoped>\n",
              "    .dataframe tbody tr th:only-of-type {\n",
              "        vertical-align: middle;\n",
              "    }\n",
              "\n",
              "    .dataframe tbody tr th {\n",
              "        vertical-align: top;\n",
              "    }\n",
              "\n",
              "    .dataframe thead th {\n",
              "        text-align: right;\n",
              "    }\n",
              "</style>\n",
              "<table border=\"1\" class=\"dataframe\">\n",
              "  <thead>\n",
              "    <tr style=\"text-align: right;\">\n",
              "      <th></th>\n",
              "      <th>genreSingle</th>\n",
              "      <th>Books</th>\n",
              "    </tr>\n",
              "  </thead>\n",
              "  <tbody>\n",
              "    <tr>\n",
              "      <th>1</th>\n",
              "      <td>Fiction</td>\n",
              "      <td>4865</td>\n",
              "    </tr>\n",
              "    <tr>\n",
              "      <th>2</th>\n",
              "      <td>Fantasy</td>\n",
              "      <td>4561</td>\n",
              "    </tr>\n",
              "    <tr>\n",
              "      <th>3</th>\n",
              "      <td>Young Adult</td>\n",
              "      <td>2799</td>\n",
              "    </tr>\n",
              "    <tr>\n",
              "      <th>4</th>\n",
              "      <td>Romance</td>\n",
              "      <td>2207</td>\n",
              "    </tr>\n",
              "    <tr>\n",
              "      <th>5</th>\n",
              "      <td>Nonfiction</td>\n",
              "      <td>2073</td>\n",
              "    </tr>\n",
              "    <tr>\n",
              "      <th>6</th>\n",
              "      <td>Historical Fiction</td>\n",
              "      <td>1888</td>\n",
              "    </tr>\n",
              "    <tr>\n",
              "      <th>7</th>\n",
              "      <td>Mystery</td>\n",
              "      <td>1760</td>\n",
              "    </tr>\n",
              "    <tr>\n",
              "      <th>8</th>\n",
              "      <td>Science Fiction</td>\n",
              "      <td>1217</td>\n",
              "    </tr>\n",
              "    <tr>\n",
              "      <th>9</th>\n",
              "      <td>Classics</td>\n",
              "      <td>860</td>\n",
              "    </tr>\n",
              "    <tr>\n",
              "      <th>10</th>\n",
              "      <td>History</td>\n",
              "      <td>749</td>\n",
              "    </tr>\n",
              "  </tbody>\n",
              "</table>\n",
              "</div>"
            ],
            "text/plain": [
              "           genreSingle  Books\n",
              "1              Fiction   4865\n",
              "2              Fantasy   4561\n",
              "3          Young Adult   2799\n",
              "4              Romance   2207\n",
              "5           Nonfiction   2073\n",
              "6   Historical Fiction   1888\n",
              "7              Mystery   1760\n",
              "8      Science Fiction   1217\n",
              "9             Classics    860\n",
              "10             History    749"
            ]
          },
          "execution_count": 35,
          "metadata": {},
          "output_type": "execute_result"
        }
      ],
      "source": [
        "topGenreSingle = TopColumnValuesAnswerGenerator().generateAnswer(\n",
        "    df=dataDf,\n",
        "    q={\n",
        "        'col': DataColumn.GENRESINGLE,\n",
        "        'countCol': TopColumnValuesAnswerGenerator.COUNT_ROWS,\n",
        "        'dataFilter': lambda df: (\n",
        "            df[df[DataColumn.LANGUAGE] == 'English']\n",
        "        ),\n",
        "        'limit': 10\n",
        "    }\n",
        ")\n",
        "topGenreSingle"
      ]
    },
    {
      "cell_type": "code",
      "execution_count": 36,
      "metadata": {
        "id": "Hc_3GWYgMdwg"
      },
      "outputs": [],
      "source": [
        "classifierDf = dataDf[\n",
        "    (dataDf[DataColumn.LANGUAGE] == 'English')\n",
        "    &\n",
        "    (dataDf[DataColumn.GENRESINGLE].isin(topGenreSingle[DataColumn.GENRESINGLE].values))\n",
        "][[DataColumn.BOOKID, DataColumn.DESCRIPTION, DataColumn.GENRESINGLE]]\n",
        "\n",
        "classifier = BookGenreClassifier().createTrainingData(classifierDf, vectorSize=200, shuffle=True)"
      ]
    },
    {
      "cell_type": "code",
      "execution_count": 37,
      "metadata": {
        "colab": {
          "base_uri": "https://localhost:8080/",
          "height": 776,
          "referenced_widgets": [
            "8a39d2db4f024bd09e0d0d17fdac86b9",
            "f87783ff6fce48c1b54dfb5878a5a5ed",
            "062f6bdd7fd749148229552f222bf3ef",
            "8fa1aca86d6647bdb523053a3b31fae5",
            "48c50111ce2b4e9795f1d4082477badf",
            "e10067b3802048678690a39f17b5b038",
            "99a861cfa501421e84088f85672586f0",
            "0e431f66c2764a829773787b076eba13",
            "7dc552a1b4b64d76b87bff6a99a0f28d",
            "9cd504396553427a80c439cac89edff6",
            "696658adb3b74493ae5c3a88f3db2f7e",
            "d514f5f661954d78a9278999ae886f14",
            "8f187bf076444a7fbd3f59594666c95e",
            "f8864db582f54a2f9ba8f186646eec89",
            "31d21e9d30d2410e96f2229381dc2eb3",
            "11082e90f6bf40d7b3981070ce27d3c7",
            "e38fcd4f012f455d85afcb1d6e4d2230",
            "617e7e20a7064e4c9e37d4fb6690494d",
            "9a6004722c7e4296bf493636fa885ba7",
            "b7d5dddc4c984bd9b3e777e69a4016fe",
            "a175423872164048868964e63fc25de1",
            "8ca9e4d66d044791bbd63caf32377031"
          ]
        },
        "id": "ND1CgBVA7PTy",
        "outputId": "d80a60a5-b2b9-4547-f0d5-cd1eff8a6bd0"
      },
      "outputs": [
        {
          "data": {
            "text/markdown": [
              "***\n",
              " ### Using **Naive Bayes**:"
            ],
            "text/plain": [
              "<IPython.core.display.Markdown object>"
            ]
          },
          "metadata": {},
          "output_type": "display_data"
        },
        {
          "data": {
            "text/markdown": [
              "Performing **K-Fold Cross Validation**:"
            ],
            "text/plain": [
              "<IPython.core.display.Markdown object>"
            ]
          },
          "metadata": {},
          "output_type": "display_data"
        },
        {
          "data": {
            "application/json": {
              "ascii": false,
              "bar_format": "{desc}{bar} {n}/{total} -- Time Elapsed: {elapsed}",
              "colour": null,
              "elapsed": 0.04409909248352051,
              "initial": 0,
              "n": 0,
              "ncols": null,
              "nrows": null,
              "postfix": null,
              "prefix": "",
              "rate": null,
              "total": 10,
              "unit": "it",
              "unit_divisor": 1000,
              "unit_scale": false
            },
            "application/vnd.jupyter.widget-view+json": {
              "model_id": "a6a7047a34f7420b8421d50da4a59af0",
              "version_major": 2,
              "version_minor": 0
            },
            "text/plain": [
              "           0/10 -- Time Elapsed: 00:00"
            ]
          },
          "metadata": {},
          "output_type": "display_data"
        },
        {
          "data": {
            "text/markdown": [
              "**Total Results** (mean fold results):"
            ],
            "text/plain": [
              "<IPython.core.display.Markdown object>"
            ]
          },
          "metadata": {},
          "output_type": "display_data"
        },
        {
          "data": {
            "text/html": [
              "<div>\n",
              "<style scoped>\n",
              "    .dataframe tbody tr th:only-of-type {\n",
              "        vertical-align: middle;\n",
              "    }\n",
              "\n",
              "    .dataframe tbody tr th {\n",
              "        vertical-align: top;\n",
              "    }\n",
              "\n",
              "    .dataframe thead th {\n",
              "        text-align: right;\n",
              "    }\n",
              "</style>\n",
              "<table border=\"1\" class=\"dataframe\">\n",
              "  <thead>\n",
              "    <tr style=\"text-align: right;\">\n",
              "      <th></th>\n",
              "      <th>Accuracy</th>\n",
              "      <th>F-Score</th>\n",
              "      <th>Precision</th>\n",
              "      <th>Recall</th>\n",
              "    </tr>\n",
              "  </thead>\n",
              "  <tbody>\n",
              "    <tr>\n",
              "      <th>Train</th>\n",
              "      <td>0.181026</td>\n",
              "      <td>0.166982</td>\n",
              "      <td>0.190943</td>\n",
              "      <td>0.21101</td>\n",
              "    </tr>\n",
              "    <tr>\n",
              "      <th>Test</th>\n",
              "      <td>0.174202</td>\n",
              "      <td>0.158391</td>\n",
              "      <td>0.180860</td>\n",
              "      <td>0.20075</td>\n",
              "    </tr>\n",
              "  </tbody>\n",
              "</table>\n",
              "</div>"
            ],
            "text/plain": [
              "       Accuracy   F-Score  Precision   Recall\n",
              "Train  0.181026  0.166982   0.190943  0.21101\n",
              "Test   0.174202  0.158391   0.180860  0.20075"
            ]
          },
          "metadata": {},
          "output_type": "display_data"
        },
        {
          "data": {
            "text/markdown": [
              "Performing **Cross Validation** on the total dataset, using Train/Test split:"
            ],
            "text/plain": [
              "<IPython.core.display.Markdown object>"
            ]
          },
          "metadata": {},
          "output_type": "display_data"
        },
        {
          "data": {
            "text/markdown": [
              "**Total Results**:"
            ],
            "text/plain": [
              "<IPython.core.display.Markdown object>"
            ]
          },
          "metadata": {},
          "output_type": "display_data"
        },
        {
          "data": {
            "text/html": [
              "<div>\n",
              "<style scoped>\n",
              "    .dataframe tbody tr th:only-of-type {\n",
              "        vertical-align: middle;\n",
              "    }\n",
              "\n",
              "    .dataframe tbody tr th {\n",
              "        vertical-align: top;\n",
              "    }\n",
              "\n",
              "    .dataframe thead th {\n",
              "        text-align: right;\n",
              "    }\n",
              "</style>\n",
              "<table border=\"1\" class=\"dataframe\">\n",
              "  <thead>\n",
              "    <tr style=\"text-align: right;\">\n",
              "      <th></th>\n",
              "      <th>Accuracy</th>\n",
              "      <th>F-Score</th>\n",
              "      <th>Precision</th>\n",
              "      <th>Recall</th>\n",
              "    </tr>\n",
              "  </thead>\n",
              "  <tbody>\n",
              "    <tr>\n",
              "      <th>Train</th>\n",
              "      <td>0.180730</td>\n",
              "      <td>0.166532</td>\n",
              "      <td>0.190468</td>\n",
              "      <td>0.210651</td>\n",
              "    </tr>\n",
              "    <tr>\n",
              "      <th>Test</th>\n",
              "      <td>0.173194</td>\n",
              "      <td>0.158131</td>\n",
              "      <td>0.179325</td>\n",
              "      <td>0.201290</td>\n",
              "    </tr>\n",
              "  </tbody>\n",
              "</table>\n",
              "</div>"
            ],
            "text/plain": [
              "       Accuracy   F-Score  Precision    Recall\n",
              "Train  0.180730  0.166532   0.190468  0.210651\n",
              "Test   0.173194  0.158131   0.179325  0.201290"
            ]
          },
          "metadata": {},
          "output_type": "display_data"
        },
        {
          "data": {
            "text/markdown": [
              "***\n",
              " ### Using **Random Forest**:"
            ],
            "text/plain": [
              "<IPython.core.display.Markdown object>"
            ]
          },
          "metadata": {},
          "output_type": "display_data"
        },
        {
          "data": {
            "text/markdown": [
              "Performing **K-Fold Cross Validation**:"
            ],
            "text/plain": [
              "<IPython.core.display.Markdown object>"
            ]
          },
          "metadata": {},
          "output_type": "display_data"
        },
        {
          "data": {
            "application/json": {
              "ascii": false,
              "bar_format": "{desc}{bar} {n}/{total} -- Time Elapsed: {elapsed}",
              "colour": null,
              "elapsed": 0.04768228530883789,
              "initial": 0,
              "n": 0,
              "ncols": null,
              "nrows": null,
              "postfix": null,
              "prefix": "",
              "rate": null,
              "total": 10,
              "unit": "it",
              "unit_divisor": 1000,
              "unit_scale": false
            },
            "application/vnd.jupyter.widget-view+json": {
              "model_id": "7e74f7f73dc84388b68454b6d084d499",
              "version_major": 2,
              "version_minor": 0
            },
            "text/plain": [
              "           0/10 -- Time Elapsed: 00:00"
            ]
          },
          "metadata": {},
          "output_type": "display_data"
        },
        {
          "data": {
            "text/markdown": [
              "**Total Results** (mean fold results):"
            ],
            "text/plain": [
              "<IPython.core.display.Markdown object>"
            ]
          },
          "metadata": {},
          "output_type": "display_data"
        },
        {
          "data": {
            "text/html": [
              "<div>\n",
              "<style scoped>\n",
              "    .dataframe tbody tr th:only-of-type {\n",
              "        vertical-align: middle;\n",
              "    }\n",
              "\n",
              "    .dataframe tbody tr th {\n",
              "        vertical-align: top;\n",
              "    }\n",
              "\n",
              "    .dataframe thead th {\n",
              "        text-align: right;\n",
              "    }\n",
              "</style>\n",
              "<table border=\"1\" class=\"dataframe\">\n",
              "  <thead>\n",
              "    <tr style=\"text-align: right;\">\n",
              "      <th></th>\n",
              "      <th>Accuracy</th>\n",
              "      <th>F-Score</th>\n",
              "      <th>Precision</th>\n",
              "      <th>Recall</th>\n",
              "    </tr>\n",
              "  </thead>\n",
              "  <tbody>\n",
              "    <tr>\n",
              "      <th>Train</th>\n",
              "      <td>0.999752</td>\n",
              "      <td>0.999561</td>\n",
              "      <td>0.999603</td>\n",
              "      <td>0.999520</td>\n",
              "    </tr>\n",
              "    <tr>\n",
              "      <th>Test</th>\n",
              "      <td>0.272510</td>\n",
              "      <td>0.134649</td>\n",
              "      <td>0.234395</td>\n",
              "      <td>0.154476</td>\n",
              "    </tr>\n",
              "  </tbody>\n",
              "</table>\n",
              "</div>"
            ],
            "text/plain": [
              "       Accuracy   F-Score  Precision    Recall\n",
              "Train  0.999752  0.999561   0.999603  0.999520\n",
              "Test   0.272510  0.134649   0.234395  0.154476"
            ]
          },
          "metadata": {},
          "output_type": "display_data"
        },
        {
          "data": {
            "text/markdown": [
              "Performing **Cross Validation** on the total dataset, using Train/Test split:"
            ],
            "text/plain": [
              "<IPython.core.display.Markdown object>"
            ]
          },
          "metadata": {},
          "output_type": "display_data"
        },
        {
          "data": {
            "text/markdown": [
              "**Total Results**:"
            ],
            "text/plain": [
              "<IPython.core.display.Markdown object>"
            ]
          },
          "metadata": {},
          "output_type": "display_data"
        },
        {
          "data": {
            "text/html": [
              "<div>\n",
              "<style scoped>\n",
              "    .dataframe tbody tr th:only-of-type {\n",
              "        vertical-align: middle;\n",
              "    }\n",
              "\n",
              "    .dataframe tbody tr th {\n",
              "        vertical-align: top;\n",
              "    }\n",
              "\n",
              "    .dataframe thead th {\n",
              "        text-align: right;\n",
              "    }\n",
              "</style>\n",
              "<table border=\"1\" class=\"dataframe\">\n",
              "  <thead>\n",
              "    <tr style=\"text-align: right;\">\n",
              "      <th></th>\n",
              "      <th>Accuracy</th>\n",
              "      <th>F-Score</th>\n",
              "      <th>Precision</th>\n",
              "      <th>Recall</th>\n",
              "    </tr>\n",
              "  </thead>\n",
              "  <tbody>\n",
              "    <tr>\n",
              "      <th>Train</th>\n",
              "      <td>0.999728</td>\n",
              "      <td>0.999527</td>\n",
              "      <td>0.999492</td>\n",
              "      <td>0.999563</td>\n",
              "    </tr>\n",
              "    <tr>\n",
              "      <th>Test</th>\n",
              "      <td>0.265231</td>\n",
              "      <td>0.130394</td>\n",
              "      <td>0.230170</td>\n",
              "      <td>0.150935</td>\n",
              "    </tr>\n",
              "  </tbody>\n",
              "</table>\n",
              "</div>"
            ],
            "text/plain": [
              "       Accuracy   F-Score  Precision    Recall\n",
              "Train  0.999728  0.999527   0.999492  0.999563\n",
              "Test   0.265231  0.130394   0.230170  0.150935"
            ]
          },
          "metadata": {},
          "output_type": "display_data"
        }
      ],
      "source": [
        "for fn, name in (\n",
        "    (\n",
        "        lambda: GaussianNB(), 'Naive Bayes'\n",
        "    ),\n",
        "    (\n",
        "        lambda: RandomForestClassifier(\n",
        "            n_estimators=100,\n",
        "            n_jobs=-1,\n",
        "            criterion='gini',\n",
        "            verbose=False\n",
        "        ),'Random Forest'\n",
        "    )\n",
        "):\n",
        "    printMd(f'***\\n ### Using **{name}**:')\n",
        "\n",
        "    printMd(f'Performing **K-Fold Cross Validation**:')\n",
        "    results = classifier.performKFold(k=10, modelFactory=fn, verbose=True)\n",
        "    printMd('**Total Results** (mean fold results):')\n",
        "    display(results)\n",
        "\n",
        "    printMd(f'Performing **Cross Validation** on the total dataset, using Train/Test split:')\n",
        "    results = classifier.performCrossValidation(model=fn())\n",
        "    printMd('**Total Results**:')\n",
        "    display(results)"
      ]
    },
    {
      "attachments": {},
      "cell_type": "markdown",
      "metadata": {},
      "source": [
        "### Experimenting with `sklearn.svm.SVC`"
      ]
    },
    {
      "cell_type": "code",
      "execution_count": 29,
      "metadata": {},
      "outputs": [
        {
          "data": {
            "text/markdown": [
              "***\n",
              "### Using `SVC(cache_size=1500, kernel='linear')`:"
            ],
            "text/plain": [
              "<IPython.core.display.Markdown object>"
            ]
          },
          "metadata": {},
          "output_type": "display_data"
        },
        {
          "data": {
            "text/markdown": [
              "Performing **Cross Validation** on the total dataset, using Train/Test split:"
            ],
            "text/plain": [
              "<IPython.core.display.Markdown object>"
            ]
          },
          "metadata": {},
          "output_type": "display_data"
        },
        {
          "data": {
            "text/markdown": [
              "**Total Results**:"
            ],
            "text/plain": [
              "<IPython.core.display.Markdown object>"
            ]
          },
          "metadata": {},
          "output_type": "display_data"
        },
        {
          "data": {
            "text/html": [
              "<div>\n",
              "<style scoped>\n",
              "    .dataframe tbody tr th:only-of-type {\n",
              "        vertical-align: middle;\n",
              "    }\n",
              "\n",
              "    .dataframe tbody tr th {\n",
              "        vertical-align: top;\n",
              "    }\n",
              "\n",
              "    .dataframe thead th {\n",
              "        text-align: right;\n",
              "    }\n",
              "</style>\n",
              "<table border=\"1\" class=\"dataframe\">\n",
              "  <thead>\n",
              "    <tr style=\"text-align: right;\">\n",
              "      <th></th>\n",
              "      <th>Accuracy</th>\n",
              "      <th>F-Score</th>\n",
              "      <th>Precision</th>\n",
              "      <th>Recall</th>\n",
              "    </tr>\n",
              "  </thead>\n",
              "  <tbody>\n",
              "    <tr>\n",
              "      <th>Train</th>\n",
              "      <td>0.284587</td>\n",
              "      <td>0.102694</td>\n",
              "      <td>0.212099</td>\n",
              "      <td>0.145861</td>\n",
              "    </tr>\n",
              "    <tr>\n",
              "      <th>Test</th>\n",
              "      <td>0.286989</td>\n",
              "      <td>0.102688</td>\n",
              "      <td>0.115053</td>\n",
              "      <td>0.143852</td>\n",
              "    </tr>\n",
              "  </tbody>\n",
              "</table>\n",
              "</div>"
            ],
            "text/plain": [
              "       Accuracy   F-Score  Precision    Recall\n",
              "Train  0.284587  0.102694   0.212099  0.145861\n",
              "Test   0.286989  0.102688   0.115053  0.143852"
            ]
          },
          "metadata": {},
          "output_type": "display_data"
        },
        {
          "data": {
            "text/markdown": [
              "Performing **K-Fold Cross Validation**:"
            ],
            "text/plain": [
              "<IPython.core.display.Markdown object>"
            ]
          },
          "metadata": {},
          "output_type": "display_data"
        },
        {
          "data": {
            "application/json": {
              "ascii": false,
              "bar_format": "{desc}{bar} {n}/{total} -- Time Elapsed: {elapsed}",
              "colour": null,
              "elapsed": 0.06068253517150879,
              "initial": 0,
              "n": 0,
              "ncols": null,
              "nrows": null,
              "postfix": null,
              "prefix": "",
              "rate": null,
              "total": 10,
              "unit": "it",
              "unit_divisor": 1000,
              "unit_scale": false
            },
            "application/vnd.jupyter.widget-view+json": {
              "model_id": "2f93fe9f5ae647298ecbc3a234db8542",
              "version_major": 2,
              "version_minor": 0
            },
            "text/plain": [
              "           0/10 -- Time Elapsed: 00:00"
            ]
          },
          "metadata": {},
          "output_type": "display_data"
        },
        {
          "data": {
            "text/markdown": [
              "**Total Results** (mean fold results):"
            ],
            "text/plain": [
              "<IPython.core.display.Markdown object>"
            ]
          },
          "metadata": {},
          "output_type": "display_data"
        },
        {
          "data": {
            "text/html": [
              "<div>\n",
              "<style scoped>\n",
              "    .dataframe tbody tr th:only-of-type {\n",
              "        vertical-align: middle;\n",
              "    }\n",
              "\n",
              "    .dataframe tbody tr th {\n",
              "        vertical-align: top;\n",
              "    }\n",
              "\n",
              "    .dataframe thead th {\n",
              "        text-align: right;\n",
              "    }\n",
              "</style>\n",
              "<table border=\"1\" class=\"dataframe\">\n",
              "  <thead>\n",
              "    <tr style=\"text-align: right;\">\n",
              "      <th></th>\n",
              "      <th>Accuracy</th>\n",
              "      <th>F-Score</th>\n",
              "      <th>Precision</th>\n",
              "      <th>Recall</th>\n",
              "    </tr>\n",
              "  </thead>\n",
              "  <tbody>\n",
              "    <tr>\n",
              "      <th>Train</th>\n",
              "      <td>0.284575</td>\n",
              "      <td>0.10320</td>\n",
              "      <td>0.202983</td>\n",
              "      <td>0.146043</td>\n",
              "    </tr>\n",
              "    <tr>\n",
              "      <th>Test</th>\n",
              "      <td>0.281595</td>\n",
              "      <td>0.10086</td>\n",
              "      <td>0.107850</td>\n",
              "      <td>0.144149</td>\n",
              "    </tr>\n",
              "  </tbody>\n",
              "</table>\n",
              "</div>"
            ],
            "text/plain": [
              "       Accuracy  F-Score  Precision    Recall\n",
              "Train  0.284575  0.10320   0.202983  0.146043\n",
              "Test   0.281595  0.10086   0.107850  0.144149"
            ]
          },
          "metadata": {},
          "output_type": "display_data"
        }
      ],
      "source": [
        "for factory in (\n",
        "    # lambda: SVC(\n",
        "    #     C=1.0,\n",
        "    #     kernel='rbf',\n",
        "    #     gamma='scale',\n",
        "    # #     cache_size=1000\n",
        "    # ),\n",
        "    lambda: SVC(\n",
        "        C=1.0,\n",
        "        kernel='linear',\n",
        "        gamma='scale',\n",
        "        cache_size=1500\n",
        "    ),\n",
        "):\n",
        "    gc.collect()\n",
        "    model = factory()\n",
        "    printMd(f'***\\n### Using `{model}`:')\n",
        "\n",
        "    printMd(f'Performing **Cross Validation** on the total dataset, using Train/Test split:')\n",
        "    results = classifier.performCrossValidation(model)\n",
        "    printMd('**Total Results**:')\n",
        "    display(results)\n",
        "    \n",
        "    printMd(f'Performing **K-Fold Cross Validation**:')\n",
        "    results = classifier.performKFold(k=10, modelFactory=factory, verbose=True)\n",
        "    printMd('**Total Results** (mean fold results):')\n",
        "    display(results)"
      ]
    }
  ],
  "metadata": {
    "colab": {
      "provenance": []
    },
    "kernelspec": {
      "display_name": "Python 3",
      "language": "python",
      "name": "python3"
    },
    "language_info": {
      "codemirror_mode": {
        "name": "ipython",
        "version": 3
      },
      "file_extension": ".py",
      "mimetype": "text/x-python",
      "name": "python",
      "nbconvert_exporter": "python",
      "pygments_lexer": "ipython3",
      "version": "3.8.10"
    },
    "orig_nbformat": 4,
    "widgets": {
      "application/vnd.jupyter.widget-state+json": {
        "062f6bdd7fd749148229552f222bf3ef": {
          "model_module": "@jupyter-widgets/controls",
          "model_module_version": "1.5.0",
          "model_name": "FloatProgressModel",
          "state": {
            "_dom_classes": [],
            "_model_module": "@jupyter-widgets/controls",
            "_model_module_version": "1.5.0",
            "_model_name": "FloatProgressModel",
            "_view_count": null,
            "_view_module": "@jupyter-widgets/controls",
            "_view_module_version": "1.5.0",
            "_view_name": "ProgressView",
            "bar_style": "success",
            "description": "",
            "description_tooltip": null,
            "layout": "IPY_MODEL_0e431f66c2764a829773787b076eba13",
            "max": 10,
            "min": 0,
            "orientation": "horizontal",
            "style": "IPY_MODEL_7dc552a1b4b64d76b87bff6a99a0f28d",
            "value": 10
          }
        },
        "0c1e322ceef94f6597ec882c66608946": {
          "model_module": "@jupyter-widgets/controls",
          "model_module_version": "1.5.0",
          "model_name": "DescriptionStyleModel",
          "state": {
            "_model_module": "@jupyter-widgets/controls",
            "_model_module_version": "1.5.0",
            "_model_name": "DescriptionStyleModel",
            "_view_count": null,
            "_view_module": "@jupyter-widgets/base",
            "_view_module_version": "1.2.0",
            "_view_name": "StyleView",
            "description_width": ""
          }
        },
        "0e431f66c2764a829773787b076eba13": {
          "model_module": "@jupyter-widgets/base",
          "model_module_version": "1.2.0",
          "model_name": "LayoutModel",
          "state": {
            "_model_module": "@jupyter-widgets/base",
            "_model_module_version": "1.2.0",
            "_model_name": "LayoutModel",
            "_view_count": null,
            "_view_module": "@jupyter-widgets/base",
            "_view_module_version": "1.2.0",
            "_view_name": "LayoutView",
            "align_content": null,
            "align_items": null,
            "align_self": null,
            "border": null,
            "bottom": null,
            "display": null,
            "flex": null,
            "flex_flow": null,
            "grid_area": null,
            "grid_auto_columns": null,
            "grid_auto_flow": null,
            "grid_auto_rows": null,
            "grid_column": null,
            "grid_gap": null,
            "grid_row": null,
            "grid_template_areas": null,
            "grid_template_columns": null,
            "grid_template_rows": null,
            "height": null,
            "justify_content": null,
            "justify_items": null,
            "left": null,
            "margin": null,
            "max_height": null,
            "max_width": null,
            "min_height": null,
            "min_width": null,
            "object_fit": null,
            "object_position": null,
            "order": null,
            "overflow": null,
            "overflow_x": null,
            "overflow_y": null,
            "padding": null,
            "right": null,
            "top": null,
            "visibility": null,
            "width": null
          }
        },
        "11082e90f6bf40d7b3981070ce27d3c7": {
          "model_module": "@jupyter-widgets/base",
          "model_module_version": "1.2.0",
          "model_name": "LayoutModel",
          "state": {
            "_model_module": "@jupyter-widgets/base",
            "_model_module_version": "1.2.0",
            "_model_name": "LayoutModel",
            "_view_count": null,
            "_view_module": "@jupyter-widgets/base",
            "_view_module_version": "1.2.0",
            "_view_name": "LayoutView",
            "align_content": null,
            "align_items": null,
            "align_self": null,
            "border": null,
            "bottom": null,
            "display": null,
            "flex": null,
            "flex_flow": null,
            "grid_area": null,
            "grid_auto_columns": null,
            "grid_auto_flow": null,
            "grid_auto_rows": null,
            "grid_column": null,
            "grid_gap": null,
            "grid_row": null,
            "grid_template_areas": null,
            "grid_template_columns": null,
            "grid_template_rows": null,
            "height": null,
            "justify_content": null,
            "justify_items": null,
            "left": null,
            "margin": null,
            "max_height": null,
            "max_width": null,
            "min_height": null,
            "min_width": null,
            "object_fit": null,
            "object_position": null,
            "order": null,
            "overflow": null,
            "overflow_x": null,
            "overflow_y": null,
            "padding": null,
            "right": null,
            "top": null,
            "visibility": null,
            "width": null
          }
        },
        "1e228d801df7462fbc2f8f5c5e6eddbb": {
          "model_module": "@jupyter-widgets/controls",
          "model_module_version": "1.5.0",
          "model_name": "HTMLModel",
          "state": {
            "_dom_classes": [],
            "_model_module": "@jupyter-widgets/controls",
            "_model_module_version": "1.5.0",
            "_model_name": "HTMLModel",
            "_view_count": null,
            "_view_module": "@jupyter-widgets/controls",
            "_view_module_version": "1.5.0",
            "_view_name": "HTMLView",
            "description": "",
            "description_tooltip": null,
            "layout": "IPY_MODEL_e51a192f348a4d16864850d1712d6b8b",
            "placeholder": "​",
            "style": "IPY_MODEL_dcfe2326fa1a4269ade3430597ca7214",
            "value": ""
          }
        },
        "233d1f916c8949fbb9374a794cb83149": {
          "model_module": "@jupyter-widgets/base",
          "model_module_version": "1.2.0",
          "model_name": "LayoutModel",
          "state": {
            "_model_module": "@jupyter-widgets/base",
            "_model_module_version": "1.2.0",
            "_model_name": "LayoutModel",
            "_view_count": null,
            "_view_module": "@jupyter-widgets/base",
            "_view_module_version": "1.2.0",
            "_view_name": "LayoutView",
            "align_content": null,
            "align_items": null,
            "align_self": null,
            "border": null,
            "bottom": null,
            "display": null,
            "flex": null,
            "flex_flow": null,
            "grid_area": null,
            "grid_auto_columns": null,
            "grid_auto_flow": null,
            "grid_auto_rows": null,
            "grid_column": null,
            "grid_gap": null,
            "grid_row": null,
            "grid_template_areas": null,
            "grid_template_columns": null,
            "grid_template_rows": null,
            "height": null,
            "justify_content": null,
            "justify_items": null,
            "left": null,
            "margin": null,
            "max_height": null,
            "max_width": null,
            "min_height": null,
            "min_width": null,
            "object_fit": null,
            "object_position": null,
            "order": null,
            "overflow": null,
            "overflow_x": null,
            "overflow_y": null,
            "padding": null,
            "right": null,
            "top": null,
            "visibility": null,
            "width": null
          }
        },
        "25aea68af1274888850125cedded14af": {
          "model_module": "@jupyter-widgets/controls",
          "model_module_version": "1.5.0",
          "model_name": "FloatProgressModel",
          "state": {
            "_dom_classes": [],
            "_model_module": "@jupyter-widgets/controls",
            "_model_module_version": "1.5.0",
            "_model_name": "FloatProgressModel",
            "_view_count": null,
            "_view_module": "@jupyter-widgets/controls",
            "_view_module_version": "1.5.0",
            "_view_name": "ProgressView",
            "bar_style": "success",
            "description": "",
            "description_tooltip": null,
            "layout": "IPY_MODEL_8347f08460ce4e7b85d6f4db4b14e31b",
            "max": 1000,
            "min": 0,
            "orientation": "horizontal",
            "style": "IPY_MODEL_f2b11551ad6d401e83790d969d9742bb",
            "value": 1000
          }
        },
        "31d21e9d30d2410e96f2229381dc2eb3": {
          "model_module": "@jupyter-widgets/controls",
          "model_module_version": "1.5.0",
          "model_name": "HTMLModel",
          "state": {
            "_dom_classes": [],
            "_model_module": "@jupyter-widgets/controls",
            "_model_module_version": "1.5.0",
            "_model_name": "HTMLModel",
            "_view_count": null,
            "_view_module": "@jupyter-widgets/controls",
            "_view_module_version": "1.5.0",
            "_view_name": "HTMLView",
            "description": "",
            "description_tooltip": null,
            "layout": "IPY_MODEL_a175423872164048868964e63fc25de1",
            "placeholder": "​",
            "style": "IPY_MODEL_8ca9e4d66d044791bbd63caf32377031",
            "value": " 10/10 -- Time Elapsed: 04:26"
          }
        },
        "334efdc8803946b4b0749f31446fc3f9": {
          "model_module": "@jupyter-widgets/controls",
          "model_module_version": "1.5.0",
          "model_name": "HTMLModel",
          "state": {
            "_dom_classes": [],
            "_model_module": "@jupyter-widgets/controls",
            "_model_module_version": "1.5.0",
            "_model_name": "HTMLModel",
            "_view_count": null,
            "_view_module": "@jupyter-widgets/controls",
            "_view_module_version": "1.5.0",
            "_view_name": "HTMLView",
            "description": "",
            "description_tooltip": null,
            "layout": "IPY_MODEL_76de3a77024140fe80bb0c6477e68a10",
            "placeholder": "​",
            "style": "IPY_MODEL_0c1e322ceef94f6597ec882c66608946",
            "value": ""
          }
        },
        "3aeb1df3bd444f88826892b8e3f2ef54": {
          "model_module": "@jupyter-widgets/controls",
          "model_module_version": "1.5.0",
          "model_name": "ProgressStyleModel",
          "state": {
            "_model_module": "@jupyter-widgets/controls",
            "_model_module_version": "1.5.0",
            "_model_name": "ProgressStyleModel",
            "_view_count": null,
            "_view_module": "@jupyter-widgets/base",
            "_view_module_version": "1.2.0",
            "_view_name": "StyleView",
            "bar_color": null,
            "description_width": ""
          }
        },
        "4715a6fc339e421a8e9b913d8e720fa1": {
          "model_module": "@jupyter-widgets/base",
          "model_module_version": "1.2.0",
          "model_name": "LayoutModel",
          "state": {
            "_model_module": "@jupyter-widgets/base",
            "_model_module_version": "1.2.0",
            "_model_name": "LayoutModel",
            "_view_count": null,
            "_view_module": "@jupyter-widgets/base",
            "_view_module_version": "1.2.0",
            "_view_name": "LayoutView",
            "align_content": null,
            "align_items": null,
            "align_self": null,
            "border": null,
            "bottom": null,
            "display": null,
            "flex": null,
            "flex_flow": null,
            "grid_area": null,
            "grid_auto_columns": null,
            "grid_auto_flow": null,
            "grid_auto_rows": null,
            "grid_column": null,
            "grid_gap": null,
            "grid_row": null,
            "grid_template_areas": null,
            "grid_template_columns": null,
            "grid_template_rows": null,
            "height": null,
            "justify_content": null,
            "justify_items": null,
            "left": null,
            "margin": null,
            "max_height": null,
            "max_width": null,
            "min_height": null,
            "min_width": null,
            "object_fit": null,
            "object_position": null,
            "order": null,
            "overflow": null,
            "overflow_x": null,
            "overflow_y": null,
            "padding": null,
            "right": null,
            "top": null,
            "visibility": null,
            "width": null
          }
        },
        "48c50111ce2b4e9795f1d4082477badf": {
          "model_module": "@jupyter-widgets/base",
          "model_module_version": "1.2.0",
          "model_name": "LayoutModel",
          "state": {
            "_model_module": "@jupyter-widgets/base",
            "_model_module_version": "1.2.0",
            "_model_name": "LayoutModel",
            "_view_count": null,
            "_view_module": "@jupyter-widgets/base",
            "_view_module_version": "1.2.0",
            "_view_name": "LayoutView",
            "align_content": null,
            "align_items": null,
            "align_self": null,
            "border": null,
            "bottom": null,
            "display": null,
            "flex": null,
            "flex_flow": null,
            "grid_area": null,
            "grid_auto_columns": null,
            "grid_auto_flow": null,
            "grid_auto_rows": null,
            "grid_column": null,
            "grid_gap": null,
            "grid_row": null,
            "grid_template_areas": null,
            "grid_template_columns": null,
            "grid_template_rows": null,
            "height": null,
            "justify_content": null,
            "justify_items": null,
            "left": null,
            "margin": null,
            "max_height": null,
            "max_width": null,
            "min_height": null,
            "min_width": null,
            "object_fit": null,
            "object_position": null,
            "order": null,
            "overflow": null,
            "overflow_x": null,
            "overflow_y": null,
            "padding": null,
            "right": null,
            "top": null,
            "visibility": null,
            "width": null
          }
        },
        "617e7e20a7064e4c9e37d4fb6690494d": {
          "model_module": "@jupyter-widgets/controls",
          "model_module_version": "1.5.0",
          "model_name": "DescriptionStyleModel",
          "state": {
            "_model_module": "@jupyter-widgets/controls",
            "_model_module_version": "1.5.0",
            "_model_name": "DescriptionStyleModel",
            "_view_count": null,
            "_view_module": "@jupyter-widgets/base",
            "_view_module_version": "1.2.0",
            "_view_name": "StyleView",
            "description_width": ""
          }
        },
        "64bcdb3b54b1478283cfa02b45f879ce": {
          "model_module": "@jupyter-widgets/controls",
          "model_module_version": "1.5.0",
          "model_name": "DescriptionStyleModel",
          "state": {
            "_model_module": "@jupyter-widgets/controls",
            "_model_module_version": "1.5.0",
            "_model_name": "DescriptionStyleModel",
            "_view_count": null,
            "_view_module": "@jupyter-widgets/base",
            "_view_module_version": "1.2.0",
            "_view_name": "StyleView",
            "description_width": ""
          }
        },
        "696658adb3b74493ae5c3a88f3db2f7e": {
          "model_module": "@jupyter-widgets/controls",
          "model_module_version": "1.5.0",
          "model_name": "DescriptionStyleModel",
          "state": {
            "_model_module": "@jupyter-widgets/controls",
            "_model_module_version": "1.5.0",
            "_model_name": "DescriptionStyleModel",
            "_view_count": null,
            "_view_module": "@jupyter-widgets/base",
            "_view_module_version": "1.2.0",
            "_view_name": "StyleView",
            "description_width": ""
          }
        },
        "710ec810d77047f5bcca2194ec5d0bd1": {
          "model_module": "@jupyter-widgets/controls",
          "model_module_version": "1.5.0",
          "model_name": "FloatProgressModel",
          "state": {
            "_dom_classes": [],
            "_model_module": "@jupyter-widgets/controls",
            "_model_module_version": "1.5.0",
            "_model_name": "FloatProgressModel",
            "_view_count": null,
            "_view_module": "@jupyter-widgets/controls",
            "_view_module_version": "1.5.0",
            "_view_name": "ProgressView",
            "bar_style": "success",
            "description": "",
            "description_tooltip": null,
            "layout": "IPY_MODEL_af0ab46523b84af5a9a38198940f91a8",
            "max": 1000,
            "min": 0,
            "orientation": "horizontal",
            "style": "IPY_MODEL_3aeb1df3bd444f88826892b8e3f2ef54",
            "value": 1000
          }
        },
        "76de3a77024140fe80bb0c6477e68a10": {
          "model_module": "@jupyter-widgets/base",
          "model_module_version": "1.2.0",
          "model_name": "LayoutModel",
          "state": {
            "_model_module": "@jupyter-widgets/base",
            "_model_module_version": "1.2.0",
            "_model_name": "LayoutModel",
            "_view_count": null,
            "_view_module": "@jupyter-widgets/base",
            "_view_module_version": "1.2.0",
            "_view_name": "LayoutView",
            "align_content": null,
            "align_items": null,
            "align_self": null,
            "border": null,
            "bottom": null,
            "display": null,
            "flex": null,
            "flex_flow": null,
            "grid_area": null,
            "grid_auto_columns": null,
            "grid_auto_flow": null,
            "grid_auto_rows": null,
            "grid_column": null,
            "grid_gap": null,
            "grid_row": null,
            "grid_template_areas": null,
            "grid_template_columns": null,
            "grid_template_rows": null,
            "height": null,
            "justify_content": null,
            "justify_items": null,
            "left": null,
            "margin": null,
            "max_height": null,
            "max_width": null,
            "min_height": null,
            "min_width": null,
            "object_fit": null,
            "object_position": null,
            "order": null,
            "overflow": null,
            "overflow_x": null,
            "overflow_y": null,
            "padding": null,
            "right": null,
            "top": null,
            "visibility": null,
            "width": null
          }
        },
        "78a46733b3d142f5ba2e83f2df00cb60": {
          "model_module": "@jupyter-widgets/base",
          "model_module_version": "1.2.0",
          "model_name": "LayoutModel",
          "state": {
            "_model_module": "@jupyter-widgets/base",
            "_model_module_version": "1.2.0",
            "_model_name": "LayoutModel",
            "_view_count": null,
            "_view_module": "@jupyter-widgets/base",
            "_view_module_version": "1.2.0",
            "_view_name": "LayoutView",
            "align_content": null,
            "align_items": null,
            "align_self": null,
            "border": null,
            "bottom": null,
            "display": null,
            "flex": null,
            "flex_flow": null,
            "grid_area": null,
            "grid_auto_columns": null,
            "grid_auto_flow": null,
            "grid_auto_rows": null,
            "grid_column": null,
            "grid_gap": null,
            "grid_row": null,
            "grid_template_areas": null,
            "grid_template_columns": null,
            "grid_template_rows": null,
            "height": null,
            "justify_content": null,
            "justify_items": null,
            "left": null,
            "margin": null,
            "max_height": null,
            "max_width": null,
            "min_height": null,
            "min_width": null,
            "object_fit": null,
            "object_position": null,
            "order": null,
            "overflow": null,
            "overflow_x": null,
            "overflow_y": null,
            "padding": null,
            "right": null,
            "top": null,
            "visibility": null,
            "width": null
          }
        },
        "7dc552a1b4b64d76b87bff6a99a0f28d": {
          "model_module": "@jupyter-widgets/controls",
          "model_module_version": "1.5.0",
          "model_name": "ProgressStyleModel",
          "state": {
            "_model_module": "@jupyter-widgets/controls",
            "_model_module_version": "1.5.0",
            "_model_name": "ProgressStyleModel",
            "_view_count": null,
            "_view_module": "@jupyter-widgets/base",
            "_view_module_version": "1.2.0",
            "_view_name": "StyleView",
            "bar_color": null,
            "description_width": ""
          }
        },
        "8347f08460ce4e7b85d6f4db4b14e31b": {
          "model_module": "@jupyter-widgets/base",
          "model_module_version": "1.2.0",
          "model_name": "LayoutModel",
          "state": {
            "_model_module": "@jupyter-widgets/base",
            "_model_module_version": "1.2.0",
            "_model_name": "LayoutModel",
            "_view_count": null,
            "_view_module": "@jupyter-widgets/base",
            "_view_module_version": "1.2.0",
            "_view_name": "LayoutView",
            "align_content": null,
            "align_items": null,
            "align_self": null,
            "border": null,
            "bottom": null,
            "display": null,
            "flex": null,
            "flex_flow": null,
            "grid_area": null,
            "grid_auto_columns": null,
            "grid_auto_flow": null,
            "grid_auto_rows": null,
            "grid_column": null,
            "grid_gap": null,
            "grid_row": null,
            "grid_template_areas": null,
            "grid_template_columns": null,
            "grid_template_rows": null,
            "height": null,
            "justify_content": null,
            "justify_items": null,
            "left": null,
            "margin": null,
            "max_height": null,
            "max_width": null,
            "min_height": null,
            "min_width": null,
            "object_fit": null,
            "object_position": null,
            "order": null,
            "overflow": null,
            "overflow_x": null,
            "overflow_y": null,
            "padding": null,
            "right": null,
            "top": null,
            "visibility": null,
            "width": null
          }
        },
        "8592c437b6bc4dad8ae4062f3c0ba162": {
          "model_module": "@jupyter-widgets/controls",
          "model_module_version": "1.5.0",
          "model_name": "HTMLModel",
          "state": {
            "_dom_classes": [],
            "_model_module": "@jupyter-widgets/controls",
            "_model_module_version": "1.5.0",
            "_model_name": "HTMLModel",
            "_view_count": null,
            "_view_module": "@jupyter-widgets/controls",
            "_view_module_version": "1.5.0",
            "_view_name": "HTMLView",
            "description": "",
            "description_tooltip": null,
            "layout": "IPY_MODEL_4715a6fc339e421a8e9b913d8e720fa1",
            "placeholder": "​",
            "style": "IPY_MODEL_f1ba3dab63cf449e8c7e14fdf5cdc9ef",
            "value": " 1000/1000 -- Time Elapsed: 02:20"
          }
        },
        "8a39d2db4f024bd09e0d0d17fdac86b9": {
          "model_module": "@jupyter-widgets/controls",
          "model_module_version": "1.5.0",
          "model_name": "HBoxModel",
          "state": {
            "_dom_classes": [],
            "_model_module": "@jupyter-widgets/controls",
            "_model_module_version": "1.5.0",
            "_model_name": "HBoxModel",
            "_view_count": null,
            "_view_module": "@jupyter-widgets/controls",
            "_view_module_version": "1.5.0",
            "_view_name": "HBoxView",
            "box_style": "",
            "children": [
              "IPY_MODEL_f87783ff6fce48c1b54dfb5878a5a5ed",
              "IPY_MODEL_062f6bdd7fd749148229552f222bf3ef",
              "IPY_MODEL_8fa1aca86d6647bdb523053a3b31fae5"
            ],
            "layout": "IPY_MODEL_48c50111ce2b4e9795f1d4082477badf"
          }
        },
        "8ca9e4d66d044791bbd63caf32377031": {
          "model_module": "@jupyter-widgets/controls",
          "model_module_version": "1.5.0",
          "model_name": "DescriptionStyleModel",
          "state": {
            "_model_module": "@jupyter-widgets/controls",
            "_model_module_version": "1.5.0",
            "_model_name": "DescriptionStyleModel",
            "_view_count": null,
            "_view_module": "@jupyter-widgets/base",
            "_view_module_version": "1.2.0",
            "_view_name": "StyleView",
            "description_width": ""
          }
        },
        "8d164a6503c44dfc93b866e16c16eef2": {
          "model_module": "@jupyter-widgets/controls",
          "model_module_version": "1.5.0",
          "model_name": "HBoxModel",
          "state": {
            "_dom_classes": [],
            "_model_module": "@jupyter-widgets/controls",
            "_model_module_version": "1.5.0",
            "_model_name": "HBoxModel",
            "_view_count": null,
            "_view_module": "@jupyter-widgets/controls",
            "_view_module_version": "1.5.0",
            "_view_name": "HBoxView",
            "box_style": "",
            "children": [
              "IPY_MODEL_334efdc8803946b4b0749f31446fc3f9",
              "IPY_MODEL_25aea68af1274888850125cedded14af",
              "IPY_MODEL_bcadf247481b47f3b770bab0dd7fa34a"
            ],
            "layout": "IPY_MODEL_e6d85a05f44a419fac3d78f6e0d246f7"
          }
        },
        "8f187bf076444a7fbd3f59594666c95e": {
          "model_module": "@jupyter-widgets/controls",
          "model_module_version": "1.5.0",
          "model_name": "HTMLModel",
          "state": {
            "_dom_classes": [],
            "_model_module": "@jupyter-widgets/controls",
            "_model_module_version": "1.5.0",
            "_model_name": "HTMLModel",
            "_view_count": null,
            "_view_module": "@jupyter-widgets/controls",
            "_view_module_version": "1.5.0",
            "_view_name": "HTMLView",
            "description": "",
            "description_tooltip": null,
            "layout": "IPY_MODEL_e38fcd4f012f455d85afcb1d6e4d2230",
            "placeholder": "​",
            "style": "IPY_MODEL_617e7e20a7064e4c9e37d4fb6690494d",
            "value": ""
          }
        },
        "8fa1aca86d6647bdb523053a3b31fae5": {
          "model_module": "@jupyter-widgets/controls",
          "model_module_version": "1.5.0",
          "model_name": "HTMLModel",
          "state": {
            "_dom_classes": [],
            "_model_module": "@jupyter-widgets/controls",
            "_model_module_version": "1.5.0",
            "_model_name": "HTMLModel",
            "_view_count": null,
            "_view_module": "@jupyter-widgets/controls",
            "_view_module_version": "1.5.0",
            "_view_name": "HTMLView",
            "description": "",
            "description_tooltip": null,
            "layout": "IPY_MODEL_9cd504396553427a80c439cac89edff6",
            "placeholder": "​",
            "style": "IPY_MODEL_696658adb3b74493ae5c3a88f3db2f7e",
            "value": " 10/10 -- Time Elapsed: 00:04"
          }
        },
        "99a861cfa501421e84088f85672586f0": {
          "model_module": "@jupyter-widgets/controls",
          "model_module_version": "1.5.0",
          "model_name": "DescriptionStyleModel",
          "state": {
            "_model_module": "@jupyter-widgets/controls",
            "_model_module_version": "1.5.0",
            "_model_name": "DescriptionStyleModel",
            "_view_count": null,
            "_view_module": "@jupyter-widgets/base",
            "_view_module_version": "1.2.0",
            "_view_name": "StyleView",
            "description_width": ""
          }
        },
        "9a6004722c7e4296bf493636fa885ba7": {
          "model_module": "@jupyter-widgets/base",
          "model_module_version": "1.2.0",
          "model_name": "LayoutModel",
          "state": {
            "_model_module": "@jupyter-widgets/base",
            "_model_module_version": "1.2.0",
            "_model_name": "LayoutModel",
            "_view_count": null,
            "_view_module": "@jupyter-widgets/base",
            "_view_module_version": "1.2.0",
            "_view_name": "LayoutView",
            "align_content": null,
            "align_items": null,
            "align_self": null,
            "border": null,
            "bottom": null,
            "display": null,
            "flex": null,
            "flex_flow": null,
            "grid_area": null,
            "grid_auto_columns": null,
            "grid_auto_flow": null,
            "grid_auto_rows": null,
            "grid_column": null,
            "grid_gap": null,
            "grid_row": null,
            "grid_template_areas": null,
            "grid_template_columns": null,
            "grid_template_rows": null,
            "height": null,
            "justify_content": null,
            "justify_items": null,
            "left": null,
            "margin": null,
            "max_height": null,
            "max_width": null,
            "min_height": null,
            "min_width": null,
            "object_fit": null,
            "object_position": null,
            "order": null,
            "overflow": null,
            "overflow_x": null,
            "overflow_y": null,
            "padding": null,
            "right": null,
            "top": null,
            "visibility": null,
            "width": null
          }
        },
        "9cd504396553427a80c439cac89edff6": {
          "model_module": "@jupyter-widgets/base",
          "model_module_version": "1.2.0",
          "model_name": "LayoutModel",
          "state": {
            "_model_module": "@jupyter-widgets/base",
            "_model_module_version": "1.2.0",
            "_model_name": "LayoutModel",
            "_view_count": null,
            "_view_module": "@jupyter-widgets/base",
            "_view_module_version": "1.2.0",
            "_view_name": "LayoutView",
            "align_content": null,
            "align_items": null,
            "align_self": null,
            "border": null,
            "bottom": null,
            "display": null,
            "flex": null,
            "flex_flow": null,
            "grid_area": null,
            "grid_auto_columns": null,
            "grid_auto_flow": null,
            "grid_auto_rows": null,
            "grid_column": null,
            "grid_gap": null,
            "grid_row": null,
            "grid_template_areas": null,
            "grid_template_columns": null,
            "grid_template_rows": null,
            "height": null,
            "justify_content": null,
            "justify_items": null,
            "left": null,
            "margin": null,
            "max_height": null,
            "max_width": null,
            "min_height": null,
            "min_width": null,
            "object_fit": null,
            "object_position": null,
            "order": null,
            "overflow": null,
            "overflow_x": null,
            "overflow_y": null,
            "padding": null,
            "right": null,
            "top": null,
            "visibility": null,
            "width": null
          }
        },
        "a175423872164048868964e63fc25de1": {
          "model_module": "@jupyter-widgets/base",
          "model_module_version": "1.2.0",
          "model_name": "LayoutModel",
          "state": {
            "_model_module": "@jupyter-widgets/base",
            "_model_module_version": "1.2.0",
            "_model_name": "LayoutModel",
            "_view_count": null,
            "_view_module": "@jupyter-widgets/base",
            "_view_module_version": "1.2.0",
            "_view_name": "LayoutView",
            "align_content": null,
            "align_items": null,
            "align_self": null,
            "border": null,
            "bottom": null,
            "display": null,
            "flex": null,
            "flex_flow": null,
            "grid_area": null,
            "grid_auto_columns": null,
            "grid_auto_flow": null,
            "grid_auto_rows": null,
            "grid_column": null,
            "grid_gap": null,
            "grid_row": null,
            "grid_template_areas": null,
            "grid_template_columns": null,
            "grid_template_rows": null,
            "height": null,
            "justify_content": null,
            "justify_items": null,
            "left": null,
            "margin": null,
            "max_height": null,
            "max_width": null,
            "min_height": null,
            "min_width": null,
            "object_fit": null,
            "object_position": null,
            "order": null,
            "overflow": null,
            "overflow_x": null,
            "overflow_y": null,
            "padding": null,
            "right": null,
            "top": null,
            "visibility": null,
            "width": null
          }
        },
        "af0ab46523b84af5a9a38198940f91a8": {
          "model_module": "@jupyter-widgets/base",
          "model_module_version": "1.2.0",
          "model_name": "LayoutModel",
          "state": {
            "_model_module": "@jupyter-widgets/base",
            "_model_module_version": "1.2.0",
            "_model_name": "LayoutModel",
            "_view_count": null,
            "_view_module": "@jupyter-widgets/base",
            "_view_module_version": "1.2.0",
            "_view_name": "LayoutView",
            "align_content": null,
            "align_items": null,
            "align_self": null,
            "border": null,
            "bottom": null,
            "display": null,
            "flex": null,
            "flex_flow": null,
            "grid_area": null,
            "grid_auto_columns": null,
            "grid_auto_flow": null,
            "grid_auto_rows": null,
            "grid_column": null,
            "grid_gap": null,
            "grid_row": null,
            "grid_template_areas": null,
            "grid_template_columns": null,
            "grid_template_rows": null,
            "height": null,
            "justify_content": null,
            "justify_items": null,
            "left": null,
            "margin": null,
            "max_height": null,
            "max_width": null,
            "min_height": null,
            "min_width": null,
            "object_fit": null,
            "object_position": null,
            "order": null,
            "overflow": null,
            "overflow_x": null,
            "overflow_y": null,
            "padding": null,
            "right": null,
            "top": null,
            "visibility": null,
            "width": null
          }
        },
        "b7d5dddc4c984bd9b3e777e69a4016fe": {
          "model_module": "@jupyter-widgets/controls",
          "model_module_version": "1.5.0",
          "model_name": "ProgressStyleModel",
          "state": {
            "_model_module": "@jupyter-widgets/controls",
            "_model_module_version": "1.5.0",
            "_model_name": "ProgressStyleModel",
            "_view_count": null,
            "_view_module": "@jupyter-widgets/base",
            "_view_module_version": "1.2.0",
            "_view_name": "StyleView",
            "bar_color": null,
            "description_width": ""
          }
        },
        "bcadf247481b47f3b770bab0dd7fa34a": {
          "model_module": "@jupyter-widgets/controls",
          "model_module_version": "1.5.0",
          "model_name": "HTMLModel",
          "state": {
            "_dom_classes": [],
            "_model_module": "@jupyter-widgets/controls",
            "_model_module_version": "1.5.0",
            "_model_name": "HTMLModel",
            "_view_count": null,
            "_view_module": "@jupyter-widgets/controls",
            "_view_module_version": "1.5.0",
            "_view_name": "HTMLView",
            "description": "",
            "description_tooltip": null,
            "layout": "IPY_MODEL_233d1f916c8949fbb9374a794cb83149",
            "placeholder": "​",
            "style": "IPY_MODEL_64bcdb3b54b1478283cfa02b45f879ce",
            "value": " 1000/1000 -- Time Elapsed: 00:33"
          }
        },
        "d514f5f661954d78a9278999ae886f14": {
          "model_module": "@jupyter-widgets/controls",
          "model_module_version": "1.5.0",
          "model_name": "HBoxModel",
          "state": {
            "_dom_classes": [],
            "_model_module": "@jupyter-widgets/controls",
            "_model_module_version": "1.5.0",
            "_model_name": "HBoxModel",
            "_view_count": null,
            "_view_module": "@jupyter-widgets/controls",
            "_view_module_version": "1.5.0",
            "_view_name": "HBoxView",
            "box_style": "",
            "children": [
              "IPY_MODEL_8f187bf076444a7fbd3f59594666c95e",
              "IPY_MODEL_f8864db582f54a2f9ba8f186646eec89",
              "IPY_MODEL_31d21e9d30d2410e96f2229381dc2eb3"
            ],
            "layout": "IPY_MODEL_11082e90f6bf40d7b3981070ce27d3c7"
          }
        },
        "dcfe2326fa1a4269ade3430597ca7214": {
          "model_module": "@jupyter-widgets/controls",
          "model_module_version": "1.5.0",
          "model_name": "DescriptionStyleModel",
          "state": {
            "_model_module": "@jupyter-widgets/controls",
            "_model_module_version": "1.5.0",
            "_model_name": "DescriptionStyleModel",
            "_view_count": null,
            "_view_module": "@jupyter-widgets/base",
            "_view_module_version": "1.2.0",
            "_view_name": "StyleView",
            "description_width": ""
          }
        },
        "e10067b3802048678690a39f17b5b038": {
          "model_module": "@jupyter-widgets/base",
          "model_module_version": "1.2.0",
          "model_name": "LayoutModel",
          "state": {
            "_model_module": "@jupyter-widgets/base",
            "_model_module_version": "1.2.0",
            "_model_name": "LayoutModel",
            "_view_count": null,
            "_view_module": "@jupyter-widgets/base",
            "_view_module_version": "1.2.0",
            "_view_name": "LayoutView",
            "align_content": null,
            "align_items": null,
            "align_self": null,
            "border": null,
            "bottom": null,
            "display": null,
            "flex": null,
            "flex_flow": null,
            "grid_area": null,
            "grid_auto_columns": null,
            "grid_auto_flow": null,
            "grid_auto_rows": null,
            "grid_column": null,
            "grid_gap": null,
            "grid_row": null,
            "grid_template_areas": null,
            "grid_template_columns": null,
            "grid_template_rows": null,
            "height": null,
            "justify_content": null,
            "justify_items": null,
            "left": null,
            "margin": null,
            "max_height": null,
            "max_width": null,
            "min_height": null,
            "min_width": null,
            "object_fit": null,
            "object_position": null,
            "order": null,
            "overflow": null,
            "overflow_x": null,
            "overflow_y": null,
            "padding": null,
            "right": null,
            "top": null,
            "visibility": null,
            "width": null
          }
        },
        "e18dee9ffcc347ce924f9029c32108fa": {
          "model_module": "@jupyter-widgets/controls",
          "model_module_version": "1.5.0",
          "model_name": "HBoxModel",
          "state": {
            "_dom_classes": [],
            "_model_module": "@jupyter-widgets/controls",
            "_model_module_version": "1.5.0",
            "_model_name": "HBoxModel",
            "_view_count": null,
            "_view_module": "@jupyter-widgets/controls",
            "_view_module_version": "1.5.0",
            "_view_name": "HBoxView",
            "box_style": "",
            "children": [
              "IPY_MODEL_1e228d801df7462fbc2f8f5c5e6eddbb",
              "IPY_MODEL_710ec810d77047f5bcca2194ec5d0bd1",
              "IPY_MODEL_8592c437b6bc4dad8ae4062f3c0ba162"
            ],
            "layout": "IPY_MODEL_78a46733b3d142f5ba2e83f2df00cb60"
          }
        },
        "e38fcd4f012f455d85afcb1d6e4d2230": {
          "model_module": "@jupyter-widgets/base",
          "model_module_version": "1.2.0",
          "model_name": "LayoutModel",
          "state": {
            "_model_module": "@jupyter-widgets/base",
            "_model_module_version": "1.2.0",
            "_model_name": "LayoutModel",
            "_view_count": null,
            "_view_module": "@jupyter-widgets/base",
            "_view_module_version": "1.2.0",
            "_view_name": "LayoutView",
            "align_content": null,
            "align_items": null,
            "align_self": null,
            "border": null,
            "bottom": null,
            "display": null,
            "flex": null,
            "flex_flow": null,
            "grid_area": null,
            "grid_auto_columns": null,
            "grid_auto_flow": null,
            "grid_auto_rows": null,
            "grid_column": null,
            "grid_gap": null,
            "grid_row": null,
            "grid_template_areas": null,
            "grid_template_columns": null,
            "grid_template_rows": null,
            "height": null,
            "justify_content": null,
            "justify_items": null,
            "left": null,
            "margin": null,
            "max_height": null,
            "max_width": null,
            "min_height": null,
            "min_width": null,
            "object_fit": null,
            "object_position": null,
            "order": null,
            "overflow": null,
            "overflow_x": null,
            "overflow_y": null,
            "padding": null,
            "right": null,
            "top": null,
            "visibility": null,
            "width": null
          }
        },
        "e51a192f348a4d16864850d1712d6b8b": {
          "model_module": "@jupyter-widgets/base",
          "model_module_version": "1.2.0",
          "model_name": "LayoutModel",
          "state": {
            "_model_module": "@jupyter-widgets/base",
            "_model_module_version": "1.2.0",
            "_model_name": "LayoutModel",
            "_view_count": null,
            "_view_module": "@jupyter-widgets/base",
            "_view_module_version": "1.2.0",
            "_view_name": "LayoutView",
            "align_content": null,
            "align_items": null,
            "align_self": null,
            "border": null,
            "bottom": null,
            "display": null,
            "flex": null,
            "flex_flow": null,
            "grid_area": null,
            "grid_auto_columns": null,
            "grid_auto_flow": null,
            "grid_auto_rows": null,
            "grid_column": null,
            "grid_gap": null,
            "grid_row": null,
            "grid_template_areas": null,
            "grid_template_columns": null,
            "grid_template_rows": null,
            "height": null,
            "justify_content": null,
            "justify_items": null,
            "left": null,
            "margin": null,
            "max_height": null,
            "max_width": null,
            "min_height": null,
            "min_width": null,
            "object_fit": null,
            "object_position": null,
            "order": null,
            "overflow": null,
            "overflow_x": null,
            "overflow_y": null,
            "padding": null,
            "right": null,
            "top": null,
            "visibility": null,
            "width": null
          }
        },
        "e6d85a05f44a419fac3d78f6e0d246f7": {
          "model_module": "@jupyter-widgets/base",
          "model_module_version": "1.2.0",
          "model_name": "LayoutModel",
          "state": {
            "_model_module": "@jupyter-widgets/base",
            "_model_module_version": "1.2.0",
            "_model_name": "LayoutModel",
            "_view_count": null,
            "_view_module": "@jupyter-widgets/base",
            "_view_module_version": "1.2.0",
            "_view_name": "LayoutView",
            "align_content": null,
            "align_items": null,
            "align_self": null,
            "border": null,
            "bottom": null,
            "display": null,
            "flex": null,
            "flex_flow": null,
            "grid_area": null,
            "grid_auto_columns": null,
            "grid_auto_flow": null,
            "grid_auto_rows": null,
            "grid_column": null,
            "grid_gap": null,
            "grid_row": null,
            "grid_template_areas": null,
            "grid_template_columns": null,
            "grid_template_rows": null,
            "height": null,
            "justify_content": null,
            "justify_items": null,
            "left": null,
            "margin": null,
            "max_height": null,
            "max_width": null,
            "min_height": null,
            "min_width": null,
            "object_fit": null,
            "object_position": null,
            "order": null,
            "overflow": null,
            "overflow_x": null,
            "overflow_y": null,
            "padding": null,
            "right": null,
            "top": null,
            "visibility": null,
            "width": null
          }
        },
        "f1ba3dab63cf449e8c7e14fdf5cdc9ef": {
          "model_module": "@jupyter-widgets/controls",
          "model_module_version": "1.5.0",
          "model_name": "DescriptionStyleModel",
          "state": {
            "_model_module": "@jupyter-widgets/controls",
            "_model_module_version": "1.5.0",
            "_model_name": "DescriptionStyleModel",
            "_view_count": null,
            "_view_module": "@jupyter-widgets/base",
            "_view_module_version": "1.2.0",
            "_view_name": "StyleView",
            "description_width": ""
          }
        },
        "f2b11551ad6d401e83790d969d9742bb": {
          "model_module": "@jupyter-widgets/controls",
          "model_module_version": "1.5.0",
          "model_name": "ProgressStyleModel",
          "state": {
            "_model_module": "@jupyter-widgets/controls",
            "_model_module_version": "1.5.0",
            "_model_name": "ProgressStyleModel",
            "_view_count": null,
            "_view_module": "@jupyter-widgets/base",
            "_view_module_version": "1.2.0",
            "_view_name": "StyleView",
            "bar_color": null,
            "description_width": ""
          }
        },
        "f87783ff6fce48c1b54dfb5878a5a5ed": {
          "model_module": "@jupyter-widgets/controls",
          "model_module_version": "1.5.0",
          "model_name": "HTMLModel",
          "state": {
            "_dom_classes": [],
            "_model_module": "@jupyter-widgets/controls",
            "_model_module_version": "1.5.0",
            "_model_name": "HTMLModel",
            "_view_count": null,
            "_view_module": "@jupyter-widgets/controls",
            "_view_module_version": "1.5.0",
            "_view_name": "HTMLView",
            "description": "",
            "description_tooltip": null,
            "layout": "IPY_MODEL_e10067b3802048678690a39f17b5b038",
            "placeholder": "​",
            "style": "IPY_MODEL_99a861cfa501421e84088f85672586f0",
            "value": ""
          }
        },
        "f8864db582f54a2f9ba8f186646eec89": {
          "model_module": "@jupyter-widgets/controls",
          "model_module_version": "1.5.0",
          "model_name": "FloatProgressModel",
          "state": {
            "_dom_classes": [],
            "_model_module": "@jupyter-widgets/controls",
            "_model_module_version": "1.5.0",
            "_model_name": "FloatProgressModel",
            "_view_count": null,
            "_view_module": "@jupyter-widgets/controls",
            "_view_module_version": "1.5.0",
            "_view_name": "ProgressView",
            "bar_style": "success",
            "description": "",
            "description_tooltip": null,
            "layout": "IPY_MODEL_9a6004722c7e4296bf493636fa885ba7",
            "max": 10,
            "min": 0,
            "orientation": "horizontal",
            "style": "IPY_MODEL_b7d5dddc4c984bd9b3e777e69a4016fe",
            "value": 10
          }
        }
      }
    }
  },
  "nbformat": 4,
  "nbformat_minor": 0
}
