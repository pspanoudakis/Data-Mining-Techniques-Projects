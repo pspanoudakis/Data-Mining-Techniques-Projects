{
  "cells": [
    {
      "attachments": {},
      "cell_type": "markdown",
      "metadata": {
        "id": "tYHzFubCb-2D"
      },
      "source": [
        "**Pavlos Spanoudakis (sdi1800184)**\\\n",
        "**Theodora Troizi (sdi1800197)**\n",
        "### Homework 2 on Data Mining Techniques class\n",
        "# Goodreads Books Recommendation & Classification"
      ]
    },
    {
      "cell_type": "code",
      "execution_count": 1,
      "metadata": {
        "colab": {
          "base_uri": "https://localhost:8080/"
        },
        "id": "7z-NZTPXb-2F",
        "outputId": "e43823be-2af9-42b2-fa0b-4ddf82c4b64c"
      },
      "outputs": [
        {
          "name": "stderr",
          "output_type": "stream",
          "text": [
            "[nltk_data] Downloading package stopwords to /home/pavlos/nltk_data...\n",
            "[nltk_data]   Package stopwords is already up-to-date!\n"
          ]
        }
      ],
      "source": [
        "### Standard Modules ###\n",
        "\n",
        "from typing import Iterable, List, Callable\n",
        "from collections import defaultdict\n",
        "import ast\n",
        "import string\n",
        "import re\n",
        "import io\n",
        "import requests\n",
        "import gc\n",
        "\n",
        "### Non-standard Modules ###\n",
        "\n",
        "from PIL import Image\n",
        "import pandas as pd\n",
        "import numpy as np\n",
        "import seaborn as sns\n",
        "import matplotlib.pyplot as plt\n",
        "from wordcloud import WordCloud\n",
        "# sklearn\n",
        "from sklearn.svm import SVC\n",
        "from sklearn.feature_extraction.text import TfidfVectorizer\n",
        "from sklearn.naive_bayes import GaussianNB\n",
        "from sklearn.ensemble import RandomForestClassifier\n",
        "from sklearn.model_selection import GridSearchCV, StratifiedShuffleSplit\n",
        "# nltk\n",
        "import nltk\n",
        "nltk.download('stopwords')\n",
        "# ipynb-specific\n",
        "from IPython.display import display"
      ]
    },
    {
      "attachments": {},
      "cell_type": "markdown",
      "metadata": {
        "id": "q4ckl22X8B3X"
      },
      "source": [
        "## Importing custom modules and reading the dataset"
      ]
    },
    {
      "cell_type": "code",
      "execution_count": 2,
      "metadata": {
        "colab": {
          "base_uri": "https://localhost:8080/"
        },
        "id": "4_-P3cLN7-x0",
        "outputId": "00f4ae3b-7817-40cd-9489-12d3f42d27a7"
      },
      "outputs": [
        {
          "name": "stdout",
          "output_type": "stream",
          "text": [
            "/home/pavlos/Data-Mining-Techniques-Projects/project2\n"
          ]
        }
      ],
      "source": [
        "CSV_PATH = './books_1.Best_Books_Ever.csv'\n",
        "\"\"\"\n",
        "     The path to read the dataset from.\n",
        "     It should be set to a **relative** path under `/content/gdrive/My Drive/`,\n",
        "     if expected to be obtained from Google Drive.\n",
        "\"\"\"\n",
        "\n",
        "USE_GDRIVE = True\n",
        "\"\"\"\n",
        "    Set this to `True` to read CSV file and custom modules\n",
        "    from a mounted Google Drive folder.\n",
        "\"\"\"\n",
        "\n",
        "def mountDrive() -> str:\n",
        "    \"\"\"\n",
        "        Attempts to mount Google Drive, if `USE_GDRIVE` is `True`.\n",
        "        If this is the case and this notebook is running on Google Colab\n",
        "        (`google.colab` module is available), it returns the absolute mount path.\n",
        "        Otherwise, it returns `.`\n",
        "    \"\"\"\n",
        "    try:\n",
        "        from google.colab import drive # type: ignore\n",
        "        drive.mount('/content/gdrive')\n",
        "        return '/content/gdrive/MyDrive/goodreads/'\n",
        "    except ImportError:\n",
        "        return '.'\n",
        "\n",
        "if USE_GDRIVE:\n",
        "    gdrivePath = mountDrive()\n",
        "    %cd {gdrivePath}\n",
        "\n",
        "### Custom Modules ###\n",
        "# Several helper routines/classes as well as implemented solvers,\n",
        "# recommenders and classifiers are stored in separate files to avoid \n",
        "# worsening the notebook readability.\n",
        "\n",
        "from modules.utils import printMd, printDatasetShape, STOP_WORDS, DataColumn, runWithNoWarnings\n",
        "from modules.year_extractor import YearExtractor\n",
        "from modules.questions import AnswerGeneratorQuestion, TopColumnValuesQuestion\n",
        "from modules.generators import AnswerGenerator, TopColumnValuesAnswerGenerator\n",
        "from modules.recommender import BookRecommender\n",
        "from modules.classifier import BookGenreClassifier\n",
        "\n",
        "def readDataset() -> pd.DataFrame:\n",
        "    \"\"\"\n",
        "        Reads the dataset using `CSV_PATH`.\n",
        "    \"\"\"\n",
        "    return pd.read_csv(CSV_PATH)"
      ]
    },
    {
      "attachments": {},
      "cell_type": "markdown",
      "metadata": {
        "id": "sUCID_dzb-2H"
      },
      "source": [
        "## Dataset Preprocessing"
      ]
    },
    {
      "attachments": {},
      "cell_type": "markdown",
      "metadata": {
        "id": "LqUTIf1jjFkN"
      },
      "source": [
        "First, we locate rows with missing values in columns we are interseted in, and remove them.\n",
        "There are columns where the value is a **stringified** `list`, which are not interpreted as `NaN` by `pd.DataFrame.dropna` & `pd.DataFrame.isna`, and require some custom functionality (see `extraDatasetNans`):"
      ]
    },
    {
      "cell_type": "code",
      "execution_count": 3,
      "metadata": {
        "id": "871jOXUNb-2H"
      },
      "outputs": [],
      "source": [
        "def getFilteredColumns(df: pd.DataFrame, colsToIgnore: Iterable[str]) -> List[str]:\n",
        "    \"\"\"\n",
        "        Returns `df` without any columns included in `colsToIgnore`\n",
        "    \"\"\"\n",
        "    \n",
        "    return [ c for c in df.columns if c not in colsToIgnore ]\n",
        "\n",
        "def extraDatasetNans(df: pd.DataFrame):\n",
        "    \"\"\"\n",
        "        Returns a single column, boolean `DataFrame`, indicating `df`\n",
        "        rows that should be considered NaN as well.\n",
        "    \"\"\" \n",
        "\n",
        "    return (\n",
        "        (df[DataColumn.RATINGSBYSTARS] == '[]')\n",
        "        |\n",
        "        (df[DataColumn.GENRES] == '[]')\n",
        "    )\n",
        "\n",
        "def dropNaNRows(df: pd.DataFrame, colsToIgnore: Iterable[str]):\n",
        "    \"\"\"\n",
        "        Drops rows in `df` with NaN values in columns *not* in `colsToIgnore`.\n",
        "    \"\"\"\n",
        "\n",
        "    cols = getFilteredColumns(df, colsToIgnore)\n",
        "\n",
        "    df.dropna(subset=cols, inplace=True)\n",
        "    df.drop(df[extraDatasetNans(df)].index, inplace=True)\n",
        "    df.reset_index(inplace=True, drop=True)\n",
        "\n",
        "def countMissingByColumn(df: pd.DataFrame, colsToIgnore: Iterable[str]):\n",
        "    \"\"\"\n",
        "        Returns a `DataFrame` which includes one row for each column\n",
        "        of `df` with at least one missing value.\n",
        "        \n",
        "        Each row contains the name of the respective column,\n",
        "        as well as the amount of missing values for that column.\n",
        "    \"\"\"\n",
        "\n",
        "    cols = getFilteredColumns(df, colsToIgnore)\n",
        "    nans = df[cols].isna().sum()\n",
        "    extras = df[[DataColumn.RATINGSBYSTARS, DataColumn.GENRES]] \n",
        "    extras = (extras[extraDatasetNans(extras)] == '[]').sum()\n",
        "\n",
        "    total = pd.concat([nans.loc[nans > 0], extras.loc[extras > 0]])\n",
        "    ret = pd.DataFrame(total.sort_values(ascending=False))\n",
        "    ret.columns = ['Missing']\n",
        "    return ret"
      ]
    },
    {
      "attachments": {},
      "cell_type": "markdown",
      "metadata": {
        "id": "akBpreyZjFkO"
      },
      "source": [
        "We examine the initial shape of the dataset"
      ]
    },
    {
      "cell_type": "code",
      "execution_count": 4,
      "metadata": {
        "colab": {
          "base_uri": "https://localhost:8080/"
        },
        "id": "LiPs7Yzeb-2I",
        "outputId": "f24aff00-96f8-4c12-e25a-112f7e147cdc"
      },
      "outputs": [
        {
          "name": "stdout",
          "output_type": "stream",
          "text": [
            "Dataset Shape:\n",
            "Rows: 52478, Columns: 25\n"
          ]
        }
      ],
      "source": [
        "dataDf = readDataset()\n",
        "printDatasetShape(dataDf)"
      ]
    },
    {
      "attachments": {},
      "cell_type": "markdown",
      "metadata": {
        "id": "hqaJdpsnjFkQ"
      },
      "source": [
        "We count the missing values, excluding columns we are not interested in"
      ]
    },
    {
      "cell_type": "code",
      "execution_count": 5,
      "metadata": {
        "colab": {
          "base_uri": "https://localhost:8080/",
          "height": 269
        },
        "id": "vLkZKJK8b-2J",
        "outputId": "9ca63ba9-1e3a-4f36-fb96-3b68f6ee377e"
      },
      "outputs": [
        {
          "data": {
            "text/html": [
              "<div>\n",
              "<style scoped>\n",
              "    .dataframe tbody tr th:only-of-type {\n",
              "        vertical-align: middle;\n",
              "    }\n",
              "\n",
              "    .dataframe tbody tr th {\n",
              "        vertical-align: top;\n",
              "    }\n",
              "\n",
              "    .dataframe thead th {\n",
              "        text-align: right;\n",
              "    }\n",
              "</style>\n",
              "<table border=\"1\" class=\"dataframe\">\n",
              "  <thead>\n",
              "    <tr style=\"text-align: right;\">\n",
              "      <th></th>\n",
              "      <th>Missing</th>\n",
              "    </tr>\n",
              "  </thead>\n",
              "  <tbody>\n",
              "    <tr>\n",
              "      <th>genres</th>\n",
              "      <td>4623</td>\n",
              "    </tr>\n",
              "    <tr>\n",
              "      <th>language</th>\n",
              "      <td>3806</td>\n",
              "    </tr>\n",
              "    <tr>\n",
              "      <th>publisher</th>\n",
              "      <td>3696</td>\n",
              "    </tr>\n",
              "    <tr>\n",
              "      <th>pages</th>\n",
              "      <td>2347</td>\n",
              "    </tr>\n",
              "    <tr>\n",
              "      <th>ratingsByStars</th>\n",
              "      <td>1423</td>\n",
              "    </tr>\n",
              "    <tr>\n",
              "      <th>description</th>\n",
              "      <td>1338</td>\n",
              "    </tr>\n",
              "    <tr>\n",
              "      <th>publishDate</th>\n",
              "      <td>880</td>\n",
              "    </tr>\n",
              "  </tbody>\n",
              "</table>\n",
              "</div>"
            ],
            "text/plain": [
              "                Missing\n",
              "genres             4623\n",
              "language           3806\n",
              "publisher          3696\n",
              "pages              2347\n",
              "ratingsByStars     1423\n",
              "description        1338\n",
              "publishDate         880"
            ]
          },
          "execution_count": 5,
          "metadata": {},
          "output_type": "execute_result"
        }
      ],
      "source": [
        "colsToIgnore = [\n",
        "    DataColumn.EDITION,\n",
        "    DataColumn.SERIES,\n",
        "    DataColumn.FIRSTPUBLISHDATE,\n",
        "    DataColumn.PRICE,\n",
        "    DataColumn.BOOKFORMAT,\n",
        "    DataColumn.LIKEDPERCENT,\n",
        "    DataColumn.COVERIMG,\n",
        "    DataColumn.CHARACTERS,\n",
        "    DataColumn.SETTING\n",
        "]\n",
        "countMissingByColumn(dataDf, colsToIgnore)"
      ]
    },
    {
      "attachments": {},
      "cell_type": "markdown",
      "metadata": {
        "id": "nYV8E00HjFkR"
      },
      "source": [
        "In the remaining columns, we locate missing values and remove the respective rows"
      ]
    },
    {
      "cell_type": "code",
      "execution_count": 6,
      "metadata": {
        "colab": {
          "base_uri": "https://localhost:8080/",
          "height": 84
        },
        "id": "2kbz_Rzgb-2J",
        "outputId": "9002c8ca-e96f-4ab8-8eec-2b76c85d6a35"
      },
      "outputs": [
        {
          "name": "stdout",
          "output_type": "stream",
          "text": [
            "Dataset Shape:\n",
            "Rows: 41572, Columns: 16\n"
          ]
        },
        {
          "data": {
            "text/html": [
              "<div>\n",
              "<style scoped>\n",
              "    .dataframe tbody tr th:only-of-type {\n",
              "        vertical-align: middle;\n",
              "    }\n",
              "\n",
              "    .dataframe tbody tr th {\n",
              "        vertical-align: top;\n",
              "    }\n",
              "\n",
              "    .dataframe thead th {\n",
              "        text-align: right;\n",
              "    }\n",
              "</style>\n",
              "<table border=\"1\" class=\"dataframe\">\n",
              "  <thead>\n",
              "    <tr style=\"text-align: right;\">\n",
              "      <th></th>\n",
              "      <th>Missing</th>\n",
              "    </tr>\n",
              "  </thead>\n",
              "  <tbody>\n",
              "  </tbody>\n",
              "</table>\n",
              "</div>"
            ],
            "text/plain": [
              "Empty DataFrame\n",
              "Columns: [Missing]\n",
              "Index: []"
            ]
          },
          "execution_count": 6,
          "metadata": {},
          "output_type": "execute_result"
        }
      ],
      "source": [
        "dropNaNRows(dataDf, colsToIgnore)\n",
        "dataDf.drop(labels=colsToIgnore, axis=1, inplace=True)\n",
        "printDatasetShape(dataDf)\n",
        "countMissingByColumn(dataDf, colsToIgnore)"
      ]
    },
    {
      "attachments": {},
      "cell_type": "markdown",
      "metadata": {
        "id": "O6kwjlpYjFkS"
      },
      "source": [
        "The next requirement is to use the `ratingsByStars` column, to extract `ratingStar<i>` columns.\n",
        "The code below will help us automate this process, and also test whether the extraction results are valid."
      ]
    },
    {
      "cell_type": "code",
      "execution_count": 7,
      "metadata": {
        "colab": {
          "base_uri": "https://localhost:8080/",
          "height": 206
        },
        "id": "D3DPCK8Sb-2J",
        "outputId": "a329570c-1e9a-4ffa-fbfa-7619a77597f8"
      },
      "outputs": [
        {
          "data": {
            "text/html": [
              "<div>\n",
              "<style scoped>\n",
              "    .dataframe tbody tr th:only-of-type {\n",
              "        vertical-align: middle;\n",
              "    }\n",
              "\n",
              "    .dataframe tbody tr th {\n",
              "        vertical-align: top;\n",
              "    }\n",
              "\n",
              "    .dataframe thead th {\n",
              "        text-align: right;\n",
              "    }\n",
              "</style>\n",
              "<table border=\"1\" class=\"dataframe\">\n",
              "  <thead>\n",
              "    <tr style=\"text-align: right;\">\n",
              "      <th></th>\n",
              "      <th>ratingStar5</th>\n",
              "      <th>ratingStar4</th>\n",
              "      <th>ratingStar3</th>\n",
              "      <th>ratingStar2</th>\n",
              "      <th>ratingStar1</th>\n",
              "      <th>ratingsByStars</th>\n",
              "    </tr>\n",
              "  </thead>\n",
              "  <tbody>\n",
              "    <tr>\n",
              "      <th>0</th>\n",
              "      <td>3444695</td>\n",
              "      <td>1921313</td>\n",
              "      <td>745221</td>\n",
              "      <td>171994</td>\n",
              "      <td>93557</td>\n",
              "      <td>['3444695', '1921313', '745221', '171994', '93...</td>\n",
              "    </tr>\n",
              "    <tr>\n",
              "      <th>1</th>\n",
              "      <td>1593642</td>\n",
              "      <td>637516</td>\n",
              "      <td>222366</td>\n",
              "      <td>39573</td>\n",
              "      <td>14526</td>\n",
              "      <td>['1593642', '637516', '222366', '39573', '14526']</td>\n",
              "    </tr>\n",
              "    <tr>\n",
              "      <th>2</th>\n",
              "      <td>2363896</td>\n",
              "      <td>1333153</td>\n",
              "      <td>573280</td>\n",
              "      <td>149952</td>\n",
              "      <td>80794</td>\n",
              "      <td>['2363896', '1333153', '573280', '149952', '80...</td>\n",
              "    </tr>\n",
              "    <tr>\n",
              "      <th>3</th>\n",
              "      <td>1617567</td>\n",
              "      <td>816659</td>\n",
              "      <td>373311</td>\n",
              "      <td>113934</td>\n",
              "      <td>76770</td>\n",
              "      <td>['1617567', '816659', '373311', '113934', '767...</td>\n",
              "    </tr>\n",
              "    <tr>\n",
              "      <th>4</th>\n",
              "      <td>1751460</td>\n",
              "      <td>1113682</td>\n",
              "      <td>1008686</td>\n",
              "      <td>542017</td>\n",
              "      <td>548674</td>\n",
              "      <td>['1751460', '1113682', '1008686', '542017', '5...</td>\n",
              "    </tr>\n",
              "  </tbody>\n",
              "</table>\n",
              "</div>"
            ],
            "text/plain": [
              "   ratingStar5  ratingStar4  ratingStar3  ratingStar2  ratingStar1  \\\n",
              "0      3444695      1921313       745221       171994        93557   \n",
              "1      1593642       637516       222366        39573        14526   \n",
              "2      2363896      1333153       573280       149952        80794   \n",
              "3      1617567       816659       373311       113934        76770   \n",
              "4      1751460      1113682      1008686       542017       548674   \n",
              "\n",
              "                                      ratingsByStars  \n",
              "0  ['3444695', '1921313', '745221', '171994', '93...  \n",
              "1  ['1593642', '637516', '222366', '39573', '14526']  \n",
              "2  ['2363896', '1333153', '573280', '149952', '80...  \n",
              "3  ['1617567', '816659', '373311', '113934', '767...  \n",
              "4  ['1751460', '1113682', '1008686', '542017', '5...  "
            ]
          },
          "execution_count": 7,
          "metadata": {},
          "output_type": "execute_result"
        }
      ],
      "source": [
        "class RatingStarColumns:\n",
        "    \n",
        "    starLabels = [\n",
        "        DataColumn.RATINGSTAR5,\n",
        "        DataColumn.RATINGSTAR4,\n",
        "        DataColumn.RATINGSTAR3,\n",
        "        DataColumn.RATINGSTAR2,\n",
        "        DataColumn.RATINGSTAR1\n",
        "    ]\n",
        "    allLabels = starLabels + [DataColumn.RATINGSBYSTARS]\n",
        "\n",
        "    @staticmethod\n",
        "    def extractColumns(df: pd.DataFrame) -> pd.DataFrame:\n",
        "        \"\"\"\n",
        "            Adds new `ratingStar<i>` columns in `df`, using the `ratingsByStars` column.\n",
        "        \"\"\"\n",
        "\n",
        "        for col in RatingStarColumns.starLabels:\n",
        "            if col in df.columns:\n",
        "                # Avoid recreating the columns\n",
        "                return df\n",
        "\n",
        "        # The extracted ratings from each `ratingsByStars` value are initially stored here.\n",
        "        ratingStarArray = np.zeros(shape=(df.shape[0], len(RatingStarColumns.starLabels)), dtype=int)\n",
        "\n",
        "        # Used by `addRatingStarRow` to figure out the correct `ratingStarArray`\n",
        "        # row to store extracted ratings in each call.\n",
        "        idxIter = iter(range(df.shape[0]))\n",
        "\n",
        "        def addRatingStarRow(ratingsByStarsStr: str):\n",
        "            \"\"\"\n",
        "                Using the provided stringified `list` (`ratingsByStarsStr`), store\n",
        "                the extracted ratings in the next `ratingStarArray` list\n",
        "            \"\"\"\n",
        "\n",
        "            idx = next(idxIter)\n",
        "            ratingsList: Iterable[str] = ast.literal_eval(ratingsByStarsStr)\n",
        "            for j, r in enumerate(ratingsList):\n",
        "                ratingStarArray[idx][j] = int(r)\n",
        "\n",
        "        df[DataColumn.RATINGSBYSTARS].apply(addRatingStarRow)\n",
        "\n",
        "        temp = pd.DataFrame(columns=RatingStarColumns.starLabels, data=ratingStarArray)\n",
        "        return pd.concat((df, temp), axis=1)\n",
        "    \n",
        "    @staticmethod\n",
        "    def testRatings(df: pd.DataFrame):\n",
        "        for _, row in df.iterrows():\n",
        "            a: List[str] = ast.literal_eval(row[DataColumn.RATINGSBYSTARS])\n",
        "            b = [str(row[col]) for col in (RatingStarColumns.starLabels)]\n",
        "            if a != b:\n",
        "                raise AssertionError(f'{a} != {b}')\n",
        "\n",
        "dataDf = RatingStarColumns.extractColumns(dataDf)\n",
        "RatingStarColumns.testRatings(dataDf)\n",
        "dataDf[RatingStarColumns.allLabels].head()"
      ]
    },
    {
      "attachments": {},
      "cell_type": "markdown",
      "metadata": {
        "id": "6zDRQDanjFkT"
      },
      "source": [
        "We add a new column `publishDate` storing the publish year extracted from `publishYear`.\n",
        "See `YearExtractor` in [modules/year_extractor.py](./modules/year_extractor.py)"
      ]
    },
    {
      "cell_type": "code",
      "execution_count": 8,
      "metadata": {
        "id": "85RC_kAZb-2K"
      },
      "outputs": [],
      "source": [
        "dataDf[DataColumn.PUBLISHYEAR] = dataDf[DataColumn.PUBLISHDATE].apply(YearExtractor.extractYear)"
      ]
    },
    {
      "attachments": {},
      "cell_type": "markdown",
      "metadata": {
        "id": "V1jZxuR9jFkU"
      },
      "source": [
        "We add a new column `genreSingle` storing the first book genre extracted from the `genres` column:"
      ]
    },
    {
      "cell_type": "code",
      "execution_count": 9,
      "metadata": {
        "id": "Wd8X1YIqb-2K"
      },
      "outputs": [],
      "source": [
        "def extractSingleGenres(df: pd.DataFrame):\n",
        "\n",
        "    def singleGenreExtractor(s: str):\n",
        "        genres: List[str] = ast.literal_eval(s)\n",
        "        return genres[0] if len(genres) else 'NO_GENRE'\n",
        "\n",
        "    return df[DataColumn.GENRES].apply(singleGenreExtractor)\n",
        "\n",
        "dataDf[DataColumn.GENRESINGLE] = extractSingleGenres(dataDf)"
      ]
    },
    {
      "attachments": {},
      "cell_type": "markdown",
      "metadata": {
        "id": "jNlIFxSCb-2K"
      },
      "source": [
        "## Data Observation"
      ]
    },
    {
      "cell_type": "code",
      "execution_count": 10,
      "metadata": {
        "colab": {
          "base_uri": "https://localhost:8080/",
          "height": 501
        },
        "id": "ZKWQy80nb-2L",
        "outputId": "40c6864b-32c2-48b3-8e02-8c68988895f0"
      },
      "outputs": [
        {
          "data": {
            "text/markdown": [
              "**1.** Book Ratings histogram"
            ],
            "text/plain": [
              "<IPython.core.display.Markdown object>"
            ]
          },
          "metadata": {},
          "output_type": "display_data"
        },
        {
          "data": {
            "image/png": "[encoded data removed]",
            "text/plain": [
              "<Figure size 432x288 with 1 Axes>"
            ]
          },
          "metadata": {
            "needs_background": "light"
          },
          "output_type": "display_data"
        }
      ],
      "source": [
        "def displayColumnHistogram(\n",
        "    df: pd.DataFrame,\n",
        "    col: str,\n",
        "    xlabel: str,\n",
        "    ylabel: str = '# Books',\n",
        "    title: str = ''\n",
        "):\n",
        "    \"\"\"\n",
        "        Displays the Histogram for column `col` of `df`.\n",
        "        - `xlabel`: the label for x-axis.\n",
        "        - `ylabel`: the label for y-axis.\n",
        "    \"\"\"\n",
        "\n",
        "    ax = plt.subplot()\n",
        "    ax.set_title(title if title else col)\n",
        "    ax.set_xlabel(xlabel)\n",
        "    ax.set_ylabel(ylabel)\n",
        "    df[col].hist(ax=ax, grid=True, zorder=3)\n",
        "\n",
        "printMd('**1.** Book Ratings histogram')\n",
        "displayColumnHistogram(dataDf, col=DataColumn.RATING, xlabel='Rating', title='Book Ratings')"
      ]
    },
    {
      "attachments": {},
      "cell_type": "markdown",
      "metadata": {},
      "source": [
        "To answer questions regarding the top books, or top authors, genres awards etc. according to certain criteria, we use use the base class `AnswerGenerator` and its subclasses (see [modules/generators.py](./modules/generators.py)).\n",
        "In short, the following process is used to generate `DataFrame` answers:\n",
        "- The questions are registered in `dict` format, inherited from [`AnswerGeneratorQuestion`](./modules/questions.py)\n",
        "- We call the `displayAnswers` of `AnswerGenerator`, which uses the `generateAnswer` of the base class.\n",
        "- This method applies any generic filters to the data used to generate the answer, as well as the answer itsefl (e.g. answer size).\n",
        "- Then, `createDataFrameAnswer` (which must be implemented in the subclass) is invoked and generates the answer using the custom subclass logic."
      ]
    },
    {
      "cell_type": "code",
      "execution_count": 11,
      "metadata": {
        "id": "jzYag0Cib-2M"
      },
      "outputs": [],
      "source": [
        "class TopBooksAnswerGenerator(AnswerGenerator[AnswerGeneratorQuestion]):\n",
        "    \"\"\"\n",
        "        Used to generate `DataFrame` answers on questions regarding\n",
        "        the top books based on a specific column value.\n",
        "    \"\"\" \n",
        "    \n",
        "    def createDataFrameAnswer(self, q: AnswerGeneratorQuestion, df: pd.DataFrame):\n",
        "        results = df.sort_values(by=q['col'], ascending=False)\n",
        "        return results[[DataColumn.TITLE, q['col']]]"
      ]
    },
    {
      "cell_type": "code",
      "execution_count": 12,
      "metadata": {
        "colab": {
          "base_uri": "https://localhost:8080/",
          "height": 768
        },
        "id": "Q2dZ2Om1b-2M",
        "outputId": "a0bc7dc2-3c7b-4640-d469-c8614cb4a524"
      },
      "outputs": [
        {
          "data": {
            "text/markdown": [
              "**2**. Top 10 books with the most pages:"
            ],
            "text/plain": [
              "<IPython.core.display.Markdown object>"
            ]
          },
          "metadata": {},
          "output_type": "display_data"
        },
        {
          "data": {
            "text/html": [
              "<div>\n",
              "<style scoped>\n",
              "    .dataframe tbody tr th:only-of-type {\n",
              "        vertical-align: middle;\n",
              "    }\n",
              "\n",
              "    .dataframe tbody tr th {\n",
              "        vertical-align: top;\n",
              "    }\n",
              "\n",
              "    .dataframe thead th {\n",
              "        text-align: right;\n",
              "    }\n",
              "</style>\n",
              "<table border=\"1\" class=\"dataframe\">\n",
              "  <thead>\n",
              "    <tr style=\"text-align: right;\">\n",
              "      <th></th>\n",
              "      <th>title</th>\n",
              "      <th>pages</th>\n",
              "    </tr>\n",
              "  </thead>\n",
              "  <tbody>\n",
              "    <tr>\n",
              "      <th>30698</th>\n",
              "      <td>The Marx Sisters: A Kathy Kolla and David Broc...</td>\n",
              "      <td>999</td>\n",
              "    </tr>\n",
              "    <tr>\n",
              "      <th>304</th>\n",
              "      <td>The Wise Man's Fear</td>\n",
              "      <td>994</td>\n",
              "    </tr>\n",
              "    <tr>\n",
              "      <th>656</th>\n",
              "      <td>A Breath of Snow and Ashes</td>\n",
              "      <td>993</td>\n",
              "    </tr>\n",
              "    <tr>\n",
              "      <th>35898</th>\n",
              "      <td>Hamzanama: The Adventures of Amir Hamza</td>\n",
              "      <td>992</td>\n",
              "    </tr>\n",
              "    <tr>\n",
              "      <th>27195</th>\n",
              "      <td>The Ball is Round: A Global History of Soccer</td>\n",
              "      <td>992</td>\n",
              "    </tr>\n",
              "    <tr>\n",
              "      <th>14843</th>\n",
              "      <td>The Endymion Omnibus</td>\n",
              "      <td>992</td>\n",
              "    </tr>\n",
              "    <tr>\n",
              "      <th>11779</th>\n",
              "      <td>The Braided Path</td>\n",
              "      <td>992</td>\n",
              "    </tr>\n",
              "    <tr>\n",
              "      <th>17695</th>\n",
              "      <td>Three Novels of Old New York: The House of Mir...</td>\n",
              "      <td>992</td>\n",
              "    </tr>\n",
              "    <tr>\n",
              "      <th>12217</th>\n",
              "      <td>The Last Lion: Winston Spencer Churchill: Visi...</td>\n",
              "      <td>992</td>\n",
              "    </tr>\n",
              "    <tr>\n",
              "      <th>36110</th>\n",
              "      <td>1,000 Places to See Before You Die</td>\n",
              "      <td>992</td>\n",
              "    </tr>\n",
              "  </tbody>\n",
              "</table>\n",
              "</div>"
            ],
            "text/plain": [
              "                                                   title pages\n",
              "30698  The Marx Sisters: A Kathy Kolla and David Broc...   999\n",
              "304                                  The Wise Man's Fear   994\n",
              "656                           A Breath of Snow and Ashes   993\n",
              "35898            Hamzanama: The Adventures of Amir Hamza   992\n",
              "27195      The Ball is Round: A Global History of Soccer   992\n",
              "14843                               The Endymion Omnibus   992\n",
              "11779                                   The Braided Path   992\n",
              "17695  Three Novels of Old New York: The House of Mir...   992\n",
              "12217  The Last Lion: Winston Spencer Churchill: Visi...   992\n",
              "36110                 1,000 Places to See Before You Die   992"
            ]
          },
          "metadata": {},
          "output_type": "display_data"
        },
        {
          "data": {
            "text/markdown": [
              "**3**. Top 10 books with the most 5-star ratings (min 10000):"
            ],
            "text/plain": [
              "<IPython.core.display.Markdown object>"
            ]
          },
          "metadata": {},
          "output_type": "display_data"
        },
        {
          "data": {
            "text/html": [
              "<div>\n",
              "<style scoped>\n",
              "    .dataframe tbody tr th:only-of-type {\n",
              "        vertical-align: middle;\n",
              "    }\n",
              "\n",
              "    .dataframe tbody tr th {\n",
              "        vertical-align: top;\n",
              "    }\n",
              "\n",
              "    .dataframe thead th {\n",
              "        text-align: right;\n",
              "    }\n",
              "</style>\n",
              "<table border=\"1\" class=\"dataframe\">\n",
              "  <thead>\n",
              "    <tr style=\"text-align: right;\">\n",
              "      <th></th>\n",
              "      <th>title</th>\n",
              "      <th>ratingStar5</th>\n",
              "    </tr>\n",
              "  </thead>\n",
              "  <tbody>\n",
              "    <tr>\n",
              "      <th>32</th>\n",
              "      <td>Harry Potter and the Sorcerer's Stone</td>\n",
              "      <td>4578137</td>\n",
              "    </tr>\n",
              "    <tr>\n",
              "      <th>0</th>\n",
              "      <td>The Hunger Games</td>\n",
              "      <td>3444695</td>\n",
              "    </tr>\n",
              "    <tr>\n",
              "      <th>2</th>\n",
              "      <td>To Kill a Mockingbird</td>\n",
              "      <td>2363896</td>\n",
              "    </tr>\n",
              "    <tr>\n",
              "      <th>71</th>\n",
              "      <td>Harry Potter and the Deathly Hallows</td>\n",
              "      <td>2038930</td>\n",
              "    </tr>\n",
              "    <tr>\n",
              "      <th>93</th>\n",
              "      <td>Harry Potter and the Prisoner of Azkaban</td>\n",
              "      <td>1892635</td>\n",
              "    </tr>\n",
              "    <tr>\n",
              "      <th>10</th>\n",
              "      <td>The Fault in Our Stars</td>\n",
              "      <td>1784471</td>\n",
              "    </tr>\n",
              "    <tr>\n",
              "      <th>4</th>\n",
              "      <td>Twilight</td>\n",
              "      <td>1751460</td>\n",
              "    </tr>\n",
              "    <tr>\n",
              "      <th>103</th>\n",
              "      <td>Harry Potter and the Goblet of Fire</td>\n",
              "      <td>1729403</td>\n",
              "    </tr>\n",
              "    <tr>\n",
              "      <th>105</th>\n",
              "      <td>Harry Potter and the Half-Blood Prince</td>\n",
              "      <td>1646703</td>\n",
              "    </tr>\n",
              "    <tr>\n",
              "      <th>3</th>\n",
              "      <td>Pride and Prejudice</td>\n",
              "      <td>1617567</td>\n",
              "    </tr>\n",
              "  </tbody>\n",
              "</table>\n",
              "</div>"
            ],
            "text/plain": [
              "                                        title  ratingStar5\n",
              "32      Harry Potter and the Sorcerer's Stone      4578137\n",
              "0                            The Hunger Games      3444695\n",
              "2                       To Kill a Mockingbird      2363896\n",
              "71       Harry Potter and the Deathly Hallows      2038930\n",
              "93   Harry Potter and the Prisoner of Azkaban      1892635\n",
              "10                     The Fault in Our Stars      1784471\n",
              "4                                    Twilight      1751460\n",
              "103       Harry Potter and the Goblet of Fire      1729403\n",
              "105    Harry Potter and the Half-Blood Prince      1646703\n",
              "3                         Pride and Prejudice      1617567"
            ]
          },
          "metadata": {},
          "output_type": "display_data"
        }
      ],
      "source": [
        "questions: List[AnswerGeneratorQuestion] = [\n",
        "    {\n",
        "        'qnum': '2',\n",
        "        'qtitle': 'Top 10 books with the most pages',\n",
        "        'col': DataColumn.PAGES,\n",
        "        'limit': 10,\n",
        "        'dataFilter': None\n",
        "    },\n",
        "    {\n",
        "        'qnum': '3',\n",
        "        'qtitle': 'Top 10 books with the most 5-star ratings (min 10000)',\n",
        "        'col': DataColumn.RATINGSTAR5,\n",
        "        'limit': 10,\n",
        "        'dataFilter': lambda df: df[df[DataColumn.RATINGSTAR5] > 10000]\n",
        "    },\n",
        "]\n",
        "\n",
        "TopBooksAnswerGenerator().registerQuestions(questions).displayAnswers(dataDf)"
      ]
    },
    {
      "cell_type": "code",
      "execution_count": 19,
      "metadata": {
        "colab": {
          "base_uri": "https://localhost:8080/",
          "height": 392
        },
        "id": "cJ9V_lCHpd3i",
        "outputId": "8a230612-5dec-4280-d9d6-49d587c9420f"
      },
      "outputs": [
        {
          "data": {
            "text/markdown": [
              "**4.** Most common words in column `title`:"
            ],
            "text/plain": [
              "<IPython.core.display.Markdown object>"
            ]
          },
          "metadata": {},
          "output_type": "display_data"
        },
        {
          "data": {
            "text/html": [
              "<div>\n",
              "<style scoped>\n",
              "    .dataframe tbody tr th:only-of-type {\n",
              "        vertical-align: middle;\n",
              "    }\n",
              "\n",
              "    .dataframe tbody tr th {\n",
              "        vertical-align: top;\n",
              "    }\n",
              "\n",
              "    .dataframe thead th {\n",
              "        text-align: right;\n",
              "    }\n",
              "</style>\n",
              "<table border=\"1\" class=\"dataframe\">\n",
              "  <thead>\n",
              "    <tr style=\"text-align: right;\">\n",
              "      <th></th>\n",
              "      <th>Word</th>\n",
              "      <th>Frequency</th>\n",
              "    </tr>\n",
              "  </thead>\n",
              "  <tbody>\n",
              "    <tr>\n",
              "      <th>1</th>\n",
              "      <td>life</td>\n",
              "      <td>721</td>\n",
              "    </tr>\n",
              "    <tr>\n",
              "      <th>2</th>\n",
              "      <td>love</td>\n",
              "      <td>603</td>\n",
              "    </tr>\n",
              "    <tr>\n",
              "      <th>3</th>\n",
              "      <td>world</td>\n",
              "      <td>456</td>\n",
              "    </tr>\n",
              "    <tr>\n",
              "      <th>4</th>\n",
              "      <td>girl</td>\n",
              "      <td>449</td>\n",
              "    </tr>\n",
              "    <tr>\n",
              "      <th>5</th>\n",
              "      <td>book</td>\n",
              "      <td>440</td>\n",
              "    </tr>\n",
              "    <tr>\n",
              "      <th>6</th>\n",
              "      <td>de</td>\n",
              "      <td>373</td>\n",
              "    </tr>\n",
              "    <tr>\n",
              "      <th>7</th>\n",
              "      <td>secret</td>\n",
              "      <td>368</td>\n",
              "    </tr>\n",
              "    <tr>\n",
              "      <th>8</th>\n",
              "      <td>story</td>\n",
              "      <td>364</td>\n",
              "    </tr>\n",
              "    <tr>\n",
              "      <th>9</th>\n",
              "      <td>one</td>\n",
              "      <td>347</td>\n",
              "    </tr>\n",
              "    <tr>\n",
              "      <th>10</th>\n",
              "      <td>god</td>\n",
              "      <td>344</td>\n",
              "    </tr>\n",
              "  </tbody>\n",
              "</table>\n",
              "</div>"
            ],
            "text/plain": [
              "      Word  Frequency\n",
              "1     life        721\n",
              "2     love        603\n",
              "3    world        456\n",
              "4     girl        449\n",
              "5     book        440\n",
              "6       de        373\n",
              "7   secret        368\n",
              "8    story        364\n",
              "9      one        347\n",
              "10     god        344"
            ]
          },
          "metadata": {},
          "output_type": "display_data"
        }
      ],
      "source": [
        "def displayMostCommonColumnWords(df: pd.DataFrame, col: str, n: int):\n",
        "    text = ' '.join(df[col]).lower()\n",
        "    \n",
        "    # Here we use `WordCloud` as a helper for finding the most popular words\n",
        "    results = WordCloud(stopwords=STOP_WORDS).process_text(text)\n",
        "\n",
        "    resultsDf = pd.DataFrame(results.items())\n",
        "    resultsDf.columns = ['Word', 'Frequency']\n",
        "    resultsDf.sort_values(by='Frequency', inplace=True, ascending=False)\n",
        "    resultsDf.reset_index(drop=True, inplace=True)\n",
        "    resultsDf.index += 1\n",
        "\n",
        "    display(resultsDf.head(n))\n",
        "\n",
        "printMd(f'**4.** Most common words in column `{DataColumn.TITLE}`:')\n",
        "displayMostCommonColumnWords(dataDf, DataColumn.TITLE, 10)"
      ]
    },
    {
      "cell_type": "code",
      "execution_count": 14,
      "metadata": {
        "colab": {
          "base_uri": "https://localhost:8080/",
          "height": 1000
        },
        "id": "xWL0qEw1b-2N",
        "outputId": "d39fbe04-6bbd-4033-fd73-6c01bf07b7e3"
      },
      "outputs": [
        {
          "data": {
            "text/markdown": [
              "**5**. Top 10 Authors with the most books:"
            ],
            "text/plain": [
              "<IPython.core.display.Markdown object>"
            ]
          },
          "metadata": {},
          "output_type": "display_data"
        },
        {
          "data": {
            "text/html": [
              "<div>\n",
              "<style scoped>\n",
              "    .dataframe tbody tr th:only-of-type {\n",
              "        vertical-align: middle;\n",
              "    }\n",
              "\n",
              "    .dataframe tbody tr th {\n",
              "        vertical-align: top;\n",
              "    }\n",
              "\n",
              "    .dataframe thead th {\n",
              "        text-align: right;\n",
              "    }\n",
              "</style>\n",
              "<table border=\"1\" class=\"dataframe\">\n",
              "  <thead>\n",
              "    <tr style=\"text-align: right;\">\n",
              "      <th></th>\n",
              "      <th>author</th>\n",
              "      <th>Books</th>\n",
              "    </tr>\n",
              "  </thead>\n",
              "  <tbody>\n",
              "    <tr>\n",
              "      <th>1</th>\n",
              "      <td>Stephen King</td>\n",
              "      <td>90</td>\n",
              "    </tr>\n",
              "    <tr>\n",
              "      <th>2</th>\n",
              "      <td>Nora Roberts</td>\n",
              "      <td>89</td>\n",
              "    </tr>\n",
              "    <tr>\n",
              "      <th>3</th>\n",
              "      <td>James Patterson</td>\n",
              "      <td>82</td>\n",
              "    </tr>\n",
              "    <tr>\n",
              "      <th>4</th>\n",
              "      <td>Agatha Christie</td>\n",
              "      <td>81</td>\n",
              "    </tr>\n",
              "    <tr>\n",
              "      <th>5</th>\n",
              "      <td>Erin Hunter</td>\n",
              "      <td>67</td>\n",
              "    </tr>\n",
              "    <tr>\n",
              "      <th>6</th>\n",
              "      <td>J.D. Robb</td>\n",
              "      <td>63</td>\n",
              "    </tr>\n",
              "    <tr>\n",
              "      <th>7</th>\n",
              "      <td>Terry Pratchett</td>\n",
              "      <td>62</td>\n",
              "    </tr>\n",
              "    <tr>\n",
              "      <th>8</th>\n",
              "      <td>Francine Pascal</td>\n",
              "      <td>60</td>\n",
              "    </tr>\n",
              "    <tr>\n",
              "      <th>9</th>\n",
              "      <td>Carolyn Keene</td>\n",
              "      <td>57</td>\n",
              "    </tr>\n",
              "    <tr>\n",
              "      <th>10</th>\n",
              "      <td>Karen Kingsbury</td>\n",
              "      <td>57</td>\n",
              "    </tr>\n",
              "  </tbody>\n",
              "</table>\n",
              "</div>"
            ],
            "text/plain": [
              "             author  Books\n",
              "1      Stephen King     90\n",
              "2      Nora Roberts     89\n",
              "3   James Patterson     82\n",
              "4   Agatha Christie     81\n",
              "5       Erin Hunter     67\n",
              "6         J.D. Robb     63\n",
              "7   Terry Pratchett     62\n",
              "8   Francine Pascal     60\n",
              "9     Carolyn Keene     57\n",
              "10  Karen Kingsbury     57"
            ]
          },
          "metadata": {},
          "output_type": "display_data"
        },
        {
          "data": {
            "text/markdown": [
              "**6**. Top 10 Authors with the most ratings:"
            ],
            "text/plain": [
              "<IPython.core.display.Markdown object>"
            ]
          },
          "metadata": {},
          "output_type": "display_data"
        },
        {
          "data": {
            "text/html": [
              "<div>\n",
              "<style scoped>\n",
              "    .dataframe tbody tr th:only-of-type {\n",
              "        vertical-align: middle;\n",
              "    }\n",
              "\n",
              "    .dataframe tbody tr th {\n",
              "        vertical-align: top;\n",
              "    }\n",
              "\n",
              "    .dataframe thead th {\n",
              "        text-align: right;\n",
              "    }\n",
              "</style>\n",
              "<table border=\"1\" class=\"dataframe\">\n",
              "  <thead>\n",
              "    <tr style=\"text-align: right;\">\n",
              "      <th></th>\n",
              "      <th>author</th>\n",
              "      <th>Total numRatings</th>\n",
              "    </tr>\n",
              "  </thead>\n",
              "  <tbody>\n",
              "    <tr>\n",
              "      <th>1</th>\n",
              "      <td>J.K. Rowling</td>\n",
              "      <td>24342485</td>\n",
              "    </tr>\n",
              "    <tr>\n",
              "      <th>2</th>\n",
              "      <td>Stephen King</td>\n",
              "      <td>12994174</td>\n",
              "    </tr>\n",
              "    <tr>\n",
              "      <th>3</th>\n",
              "      <td>Suzanne Collins</td>\n",
              "      <td>11836703</td>\n",
              "    </tr>\n",
              "    <tr>\n",
              "      <th>4</th>\n",
              "      <td>Stephenie Meyer</td>\n",
              "      <td>10562763</td>\n",
              "    </tr>\n",
              "    <tr>\n",
              "      <th>5</th>\n",
              "      <td>Rick Riordan</td>\n",
              "      <td>8432058</td>\n",
              "    </tr>\n",
              "    <tr>\n",
              "      <th>6</th>\n",
              "      <td>J.R.R. Tolkien</td>\n",
              "      <td>8086696</td>\n",
              "    </tr>\n",
              "    <tr>\n",
              "      <th>7</th>\n",
              "      <td>Dan Brown</td>\n",
              "      <td>7014203</td>\n",
              "    </tr>\n",
              "    <tr>\n",
              "      <th>8</th>\n",
              "      <td>John Green</td>\n",
              "      <td>6793133</td>\n",
              "    </tr>\n",
              "    <tr>\n",
              "      <th>9</th>\n",
              "      <td>Cassandra Clare</td>\n",
              "      <td>6650456</td>\n",
              "    </tr>\n",
              "    <tr>\n",
              "      <th>10</th>\n",
              "      <td>George Orwell</td>\n",
              "      <td>6230842</td>\n",
              "    </tr>\n",
              "  </tbody>\n",
              "</table>\n",
              "</div>"
            ],
            "text/plain": [
              "             author  Total numRatings\n",
              "1      J.K. Rowling          24342485\n",
              "2      Stephen King          12994174\n",
              "3   Suzanne Collins          11836703\n",
              "4   Stephenie Meyer          10562763\n",
              "5      Rick Riordan           8432058\n",
              "6    J.R.R. Tolkien           8086696\n",
              "7         Dan Brown           7014203\n",
              "8        John Green           6793133\n",
              "9   Cassandra Clare           6650456\n",
              "10    George Orwell           6230842"
            ]
          },
          "metadata": {},
          "output_type": "display_data"
        },
        {
          "data": {
            "text/markdown": [
              "**7(1)**. Top 10 Authors with the most books in 2000:"
            ],
            "text/plain": [
              "<IPython.core.display.Markdown object>"
            ]
          },
          "metadata": {},
          "output_type": "display_data"
        },
        {
          "data": {
            "text/html": [
              "<div>\n",
              "<style scoped>\n",
              "    .dataframe tbody tr th:only-of-type {\n",
              "        vertical-align: middle;\n",
              "    }\n",
              "\n",
              "    .dataframe tbody tr th {\n",
              "        vertical-align: top;\n",
              "    }\n",
              "\n",
              "    .dataframe thead th {\n",
              "        text-align: right;\n",
              "    }\n",
              "</style>\n",
              "<table border=\"1\" class=\"dataframe\">\n",
              "  <thead>\n",
              "    <tr style=\"text-align: right;\">\n",
              "      <th></th>\n",
              "      <th>author</th>\n",
              "      <th>Books</th>\n",
              "    </tr>\n",
              "  </thead>\n",
              "  <tbody>\n",
              "    <tr>\n",
              "      <th>1</th>\n",
              "      <td>Agatha Christie</td>\n",
              "      <td>7</td>\n",
              "    </tr>\n",
              "    <tr>\n",
              "      <th>2</th>\n",
              "      <td>Larry McMurtry</td>\n",
              "      <td>5</td>\n",
              "    </tr>\n",
              "    <tr>\n",
              "      <th>3</th>\n",
              "      <td>Lawrence Block (Goodreads Author)</td>\n",
              "      <td>5</td>\n",
              "    </tr>\n",
              "    <tr>\n",
              "      <th>4</th>\n",
              "      <td>Katherine Applegate</td>\n",
              "      <td>5</td>\n",
              "    </tr>\n",
              "    <tr>\n",
              "      <th>5</th>\n",
              "      <td>Linda Howard</td>\n",
              "      <td>4</td>\n",
              "    </tr>\n",
              "    <tr>\n",
              "      <th>6</th>\n",
              "      <td>P.G. Wodehouse</td>\n",
              "      <td>4</td>\n",
              "    </tr>\n",
              "    <tr>\n",
              "      <th>7</th>\n",
              "      <td>Jude Watson (Goodreads Author)</td>\n",
              "      <td>3</td>\n",
              "    </tr>\n",
              "    <tr>\n",
              "      <th>8</th>\n",
              "      <td>Elizabeth Peters</td>\n",
              "      <td>3</td>\n",
              "    </tr>\n",
              "    <tr>\n",
              "      <th>9</th>\n",
              "      <td>Francine Rivers (Goodreads Author)</td>\n",
              "      <td>3</td>\n",
              "    </tr>\n",
              "    <tr>\n",
              "      <th>10</th>\n",
              "      <td>Jude Watson (Goodreads Author), Cliff Nielsen ...</td>\n",
              "      <td>3</td>\n",
              "    </tr>\n",
              "  </tbody>\n",
              "</table>\n",
              "</div>"
            ],
            "text/plain": [
              "                                               author  Books\n",
              "1                                     Agatha Christie      7\n",
              "2                                      Larry McMurtry      5\n",
              "3                   Lawrence Block (Goodreads Author)      5\n",
              "4                                 Katherine Applegate      5\n",
              "5                                        Linda Howard      4\n",
              "6                                      P.G. Wodehouse      4\n",
              "7                      Jude Watson (Goodreads Author)      3\n",
              "8                                    Elizabeth Peters      3\n",
              "9                  Francine Rivers (Goodreads Author)      3\n",
              "10  Jude Watson (Goodreads Author), Cliff Nielsen ...      3"
            ]
          },
          "metadata": {},
          "output_type": "display_data"
        },
        {
          "data": {
            "text/markdown": [
              "**7(2)**. Top 10 Authors with the most books in 2005:"
            ],
            "text/plain": [
              "<IPython.core.display.Markdown object>"
            ]
          },
          "metadata": {},
          "output_type": "display_data"
        },
        {
          "data": {
            "text/html": [
              "<div>\n",
              "<style scoped>\n",
              "    .dataframe tbody tr th:only-of-type {\n",
              "        vertical-align: middle;\n",
              "    }\n",
              "\n",
              "    .dataframe tbody tr th {\n",
              "        vertical-align: top;\n",
              "    }\n",
              "\n",
              "    .dataframe thead th {\n",
              "        text-align: right;\n",
              "    }\n",
              "</style>\n",
              "<table border=\"1\" class=\"dataframe\">\n",
              "  <thead>\n",
              "    <tr style=\"text-align: right;\">\n",
              "      <th></th>\n",
              "      <th>author</th>\n",
              "      <th>Books</th>\n",
              "    </tr>\n",
              "  </thead>\n",
              "  <tbody>\n",
              "    <tr>\n",
              "      <th>1</th>\n",
              "      <td>Terry Pratchett</td>\n",
              "      <td>9</td>\n",
              "    </tr>\n",
              "    <tr>\n",
              "      <th>2</th>\n",
              "      <td>Bodie Thoene (Goodreads Author), Brock Thoene</td>\n",
              "      <td>9</td>\n",
              "    </tr>\n",
              "    <tr>\n",
              "      <th>3</th>\n",
              "      <td>Georgette Heyer</td>\n",
              "      <td>9</td>\n",
              "    </tr>\n",
              "    <tr>\n",
              "      <th>4</th>\n",
              "      <td>R.L. Stine (Goodreads Author)</td>\n",
              "      <td>8</td>\n",
              "    </tr>\n",
              "    <tr>\n",
              "      <th>5</th>\n",
              "      <td>Ted Dekker (Goodreads Author)</td>\n",
              "      <td>8</td>\n",
              "    </tr>\n",
              "    <tr>\n",
              "      <th>6</th>\n",
              "      <td>Tamora Pierce (Goodreads Author)</td>\n",
              "      <td>8</td>\n",
              "    </tr>\n",
              "    <tr>\n",
              "      <th>7</th>\n",
              "      <td>Laurell K. Hamilton (Goodreads Author)</td>\n",
              "      <td>7</td>\n",
              "    </tr>\n",
              "    <tr>\n",
              "      <th>8</th>\n",
              "      <td>Nora Roberts (Goodreads Author)</td>\n",
              "      <td>7</td>\n",
              "    </tr>\n",
              "    <tr>\n",
              "      <th>9</th>\n",
              "      <td>C.S. Lewis</td>\n",
              "      <td>7</td>\n",
              "    </tr>\n",
              "    <tr>\n",
              "      <th>10</th>\n",
              "      <td>CLAMP, William Flanagan (Translator)</td>\n",
              "      <td>7</td>\n",
              "    </tr>\n",
              "  </tbody>\n",
              "</table>\n",
              "</div>"
            ],
            "text/plain": [
              "                                           author  Books\n",
              "1                                 Terry Pratchett      9\n",
              "2   Bodie Thoene (Goodreads Author), Brock Thoene      9\n",
              "3                                 Georgette Heyer      9\n",
              "4                   R.L. Stine (Goodreads Author)      8\n",
              "5                   Ted Dekker (Goodreads Author)      8\n",
              "6                Tamora Pierce (Goodreads Author)      8\n",
              "7          Laurell K. Hamilton (Goodreads Author)      7\n",
              "8                 Nora Roberts (Goodreads Author)      7\n",
              "9                                      C.S. Lewis      7\n",
              "10           CLAMP, William Flanagan (Translator)      7"
            ]
          },
          "metadata": {},
          "output_type": "display_data"
        },
        {
          "data": {
            "text/markdown": [
              "**7(3)**. Top 10 Authors with the most books in 2010:"
            ],
            "text/plain": [
              "<IPython.core.display.Markdown object>"
            ]
          },
          "metadata": {},
          "output_type": "display_data"
        },
        {
          "data": {
            "text/html": [
              "<div>\n",
              "<style scoped>\n",
              "    .dataframe tbody tr th:only-of-type {\n",
              "        vertical-align: middle;\n",
              "    }\n",
              "\n",
              "    .dataframe tbody tr th {\n",
              "        vertical-align: top;\n",
              "    }\n",
              "\n",
              "    .dataframe thead th {\n",
              "        text-align: right;\n",
              "    }\n",
              "</style>\n",
              "<table border=\"1\" class=\"dataframe\">\n",
              "  <thead>\n",
              "    <tr style=\"text-align: right;\">\n",
              "      <th></th>\n",
              "      <th>author</th>\n",
              "      <th>Books</th>\n",
              "    </tr>\n",
              "  </thead>\n",
              "  <tbody>\n",
              "    <tr>\n",
              "      <th>1</th>\n",
              "      <td>Mary Pope Osborne, Salvatore Murdocca (Illustr...</td>\n",
              "      <td>8</td>\n",
              "    </tr>\n",
              "    <tr>\n",
              "      <th>2</th>\n",
              "      <td>Laurann Dohner</td>\n",
              "      <td>7</td>\n",
              "    </tr>\n",
              "    <tr>\n",
              "      <th>3</th>\n",
              "      <td>Joey W. Hill (Goodreads Author)</td>\n",
              "      <td>5</td>\n",
              "    </tr>\n",
              "    <tr>\n",
              "      <th>4</th>\n",
              "      <td>Rachel Caine (Goodreads Author)</td>\n",
              "      <td>5</td>\n",
              "    </tr>\n",
              "    <tr>\n",
              "      <th>5</th>\n",
              "      <td>Jim Butcher (Goodreads Author)</td>\n",
              "      <td>5</td>\n",
              "    </tr>\n",
              "    <tr>\n",
              "      <th>6</th>\n",
              "      <td>Meg Cabot (Goodreads Author)</td>\n",
              "      <td>5</td>\n",
              "    </tr>\n",
              "    <tr>\n",
              "      <th>7</th>\n",
              "      <td>Gena Showalter (Goodreads Author)</td>\n",
              "      <td>5</td>\n",
              "    </tr>\n",
              "    <tr>\n",
              "      <th>8</th>\n",
              "      <td>Christopher Pike</td>\n",
              "      <td>5</td>\n",
              "    </tr>\n",
              "    <tr>\n",
              "      <th>9</th>\n",
              "      <td>Will Durant, Ariel Durant, عبد الرحمن عبد الله...</td>\n",
              "      <td>5</td>\n",
              "    </tr>\n",
              "    <tr>\n",
              "      <th>10</th>\n",
              "      <td>T.M. Nielsen</td>\n",
              "      <td>4</td>\n",
              "    </tr>\n",
              "  </tbody>\n",
              "</table>\n",
              "</div>"
            ],
            "text/plain": [
              "                                               author  Books\n",
              "1   Mary Pope Osborne, Salvatore Murdocca (Illustr...      8\n",
              "2                                      Laurann Dohner      7\n",
              "3                     Joey W. Hill (Goodreads Author)      5\n",
              "4                     Rachel Caine (Goodreads Author)      5\n",
              "5                      Jim Butcher (Goodreads Author)      5\n",
              "6                        Meg Cabot (Goodreads Author)      5\n",
              "7                   Gena Showalter (Goodreads Author)      5\n",
              "8                                    Christopher Pike      5\n",
              "9   Will Durant, Ariel Durant, عبد الرحمن عبد الله...      5\n",
              "10                                       T.M. Nielsen      4"
            ]
          },
          "metadata": {},
          "output_type": "display_data"
        },
        {
          "data": {
            "text/markdown": [
              "**7(4)**. Top 10 Authors with the most books in 2015:"
            ],
            "text/plain": [
              "<IPython.core.display.Markdown object>"
            ]
          },
          "metadata": {},
          "output_type": "display_data"
        },
        {
          "data": {
            "text/html": [
              "<div>\n",
              "<style scoped>\n",
              "    .dataframe tbody tr th:only-of-type {\n",
              "        vertical-align: middle;\n",
              "    }\n",
              "\n",
              "    .dataframe tbody tr th {\n",
              "        vertical-align: top;\n",
              "    }\n",
              "\n",
              "    .dataframe thead th {\n",
              "        text-align: right;\n",
              "    }\n",
              "</style>\n",
              "<table border=\"1\" class=\"dataframe\">\n",
              "  <thead>\n",
              "    <tr style=\"text-align: right;\">\n",
              "      <th></th>\n",
              "      <th>author</th>\n",
              "      <th>Books</th>\n",
              "    </tr>\n",
              "  </thead>\n",
              "  <tbody>\n",
              "    <tr>\n",
              "      <th>1</th>\n",
              "      <td>Jennifer L. Armentrout (Goodreads Author)</td>\n",
              "      <td>5</td>\n",
              "    </tr>\n",
              "    <tr>\n",
              "      <th>2</th>\n",
              "      <td>Anna Gallegos (Goodreads Author)</td>\n",
              "      <td>4</td>\n",
              "    </tr>\n",
              "    <tr>\n",
              "      <th>3</th>\n",
              "      <td>Penny Reid (Goodreads Author)</td>\n",
              "      <td>4</td>\n",
              "    </tr>\n",
              "    <tr>\n",
              "      <th>4</th>\n",
              "      <td>Anne Jolin (Goodreads Author)</td>\n",
              "      <td>4</td>\n",
              "    </tr>\n",
              "    <tr>\n",
              "      <th>5</th>\n",
              "      <td>Meredith Wild (Goodreads Author)</td>\n",
              "      <td>4</td>\n",
              "    </tr>\n",
              "    <tr>\n",
              "      <th>6</th>\n",
              "      <td>Suzanne Wright (Goodreads Author)</td>\n",
              "      <td>3</td>\n",
              "    </tr>\n",
              "    <tr>\n",
              "      <th>7</th>\n",
              "      <td>Sherrilyn Kenyon (Goodreads Author)</td>\n",
              "      <td>3</td>\n",
              "    </tr>\n",
              "    <tr>\n",
              "      <th>8</th>\n",
              "      <td>Marissa Meyer (Goodreads Author)</td>\n",
              "      <td>3</td>\n",
              "    </tr>\n",
              "    <tr>\n",
              "      <th>9</th>\n",
              "      <td>Jennifer Donnelly (Goodreads Author)</td>\n",
              "      <td>3</td>\n",
              "    </tr>\n",
              "    <tr>\n",
              "      <th>10</th>\n",
              "      <td>C.S. Lewis</td>\n",
              "      <td>3</td>\n",
              "    </tr>\n",
              "  </tbody>\n",
              "</table>\n",
              "</div>"
            ],
            "text/plain": [
              "                                       author  Books\n",
              "1   Jennifer L. Armentrout (Goodreads Author)      5\n",
              "2            Anna Gallegos (Goodreads Author)      4\n",
              "3               Penny Reid (Goodreads Author)      4\n",
              "4               Anne Jolin (Goodreads Author)      4\n",
              "5            Meredith Wild (Goodreads Author)      4\n",
              "6           Suzanne Wright (Goodreads Author)      3\n",
              "7         Sherrilyn Kenyon (Goodreads Author)      3\n",
              "8            Marissa Meyer (Goodreads Author)      3\n",
              "9        Jennifer Donnelly (Goodreads Author)      3\n",
              "10                                 C.S. Lewis      3"
            ]
          },
          "metadata": {},
          "output_type": "display_data"
        },
        {
          "data": {
            "text/markdown": [
              "**8**. Top 10 Languages used in the most books:"
            ],
            "text/plain": [
              "<IPython.core.display.Markdown object>"
            ]
          },
          "metadata": {},
          "output_type": "display_data"
        },
        {
          "data": {
            "text/html": [
              "<div>\n",
              "<style scoped>\n",
              "    .dataframe tbody tr th:only-of-type {\n",
              "        vertical-align: middle;\n",
              "    }\n",
              "\n",
              "    .dataframe tbody tr th {\n",
              "        vertical-align: top;\n",
              "    }\n",
              "\n",
              "    .dataframe thead th {\n",
              "        text-align: right;\n",
              "    }\n",
              "</style>\n",
              "<table border=\"1\" class=\"dataframe\">\n",
              "  <thead>\n",
              "    <tr style=\"text-align: right;\">\n",
              "      <th></th>\n",
              "      <th>language</th>\n",
              "      <th>Books</th>\n",
              "    </tr>\n",
              "  </thead>\n",
              "  <tbody>\n",
              "    <tr>\n",
              "      <th>1</th>\n",
              "      <td>English</td>\n",
              "      <td>37005</td>\n",
              "    </tr>\n",
              "    <tr>\n",
              "      <th>2</th>\n",
              "      <td>Arabic</td>\n",
              "      <td>744</td>\n",
              "    </tr>\n",
              "    <tr>\n",
              "      <th>3</th>\n",
              "      <td>Spanish</td>\n",
              "      <td>519</td>\n",
              "    </tr>\n",
              "    <tr>\n",
              "      <th>4</th>\n",
              "      <td>French</td>\n",
              "      <td>494</td>\n",
              "    </tr>\n",
              "    <tr>\n",
              "      <th>5</th>\n",
              "      <td>German</td>\n",
              "      <td>404</td>\n",
              "    </tr>\n",
              "    <tr>\n",
              "      <th>6</th>\n",
              "      <td>Indonesian</td>\n",
              "      <td>300</td>\n",
              "    </tr>\n",
              "    <tr>\n",
              "      <th>7</th>\n",
              "      <td>Portuguese</td>\n",
              "      <td>298</td>\n",
              "    </tr>\n",
              "    <tr>\n",
              "      <th>8</th>\n",
              "      <td>Italian</td>\n",
              "      <td>214</td>\n",
              "    </tr>\n",
              "    <tr>\n",
              "      <th>9</th>\n",
              "      <td>Dutch</td>\n",
              "      <td>192</td>\n",
              "    </tr>\n",
              "    <tr>\n",
              "      <th>10</th>\n",
              "      <td>Turkish</td>\n",
              "      <td>173</td>\n",
              "    </tr>\n",
              "  </tbody>\n",
              "</table>\n",
              "</div>"
            ],
            "text/plain": [
              "      language  Books\n",
              "1      English  37005\n",
              "2       Arabic    744\n",
              "3      Spanish    519\n",
              "4       French    494\n",
              "5       German    404\n",
              "6   Indonesian    300\n",
              "7   Portuguese    298\n",
              "8      Italian    214\n",
              "9        Dutch    192\n",
              "10     Turkish    173"
            ]
          },
          "metadata": {},
          "output_type": "display_data"
        },
        {
          "data": {
            "text/markdown": [
              "**9**. Top 10 Publishers with the most books:"
            ],
            "text/plain": [
              "<IPython.core.display.Markdown object>"
            ]
          },
          "metadata": {},
          "output_type": "display_data"
        },
        {
          "data": {
            "text/html": [
              "<div>\n",
              "<style scoped>\n",
              "    .dataframe tbody tr th:only-of-type {\n",
              "        vertical-align: middle;\n",
              "    }\n",
              "\n",
              "    .dataframe tbody tr th {\n",
              "        vertical-align: top;\n",
              "    }\n",
              "\n",
              "    .dataframe thead th {\n",
              "        text-align: right;\n",
              "    }\n",
              "</style>\n",
              "<table border=\"1\" class=\"dataframe\">\n",
              "  <thead>\n",
              "    <tr style=\"text-align: right;\">\n",
              "      <th></th>\n",
              "      <th>publisher</th>\n",
              "      <th>Books</th>\n",
              "    </tr>\n",
              "  </thead>\n",
              "  <tbody>\n",
              "    <tr>\n",
              "      <th>1</th>\n",
              "      <td>Vintage</td>\n",
              "      <td>559</td>\n",
              "    </tr>\n",
              "    <tr>\n",
              "      <th>2</th>\n",
              "      <td>HarperCollins</td>\n",
              "      <td>494</td>\n",
              "    </tr>\n",
              "    <tr>\n",
              "      <th>3</th>\n",
              "      <td>Penguin Books</td>\n",
              "      <td>410</td>\n",
              "    </tr>\n",
              "    <tr>\n",
              "      <th>4</th>\n",
              "      <td>Ballantine Books</td>\n",
              "      <td>383</td>\n",
              "    </tr>\n",
              "    <tr>\n",
              "      <th>5</th>\n",
              "      <td>Bantam</td>\n",
              "      <td>346</td>\n",
              "    </tr>\n",
              "    <tr>\n",
              "      <th>6</th>\n",
              "      <td>Avon</td>\n",
              "      <td>305</td>\n",
              "    </tr>\n",
              "    <tr>\n",
              "      <th>7</th>\n",
              "      <td>Pocket Books</td>\n",
              "      <td>304</td>\n",
              "    </tr>\n",
              "    <tr>\n",
              "      <th>8</th>\n",
              "      <td>Del Rey</td>\n",
              "      <td>282</td>\n",
              "    </tr>\n",
              "    <tr>\n",
              "      <th>9</th>\n",
              "      <td>Berkley</td>\n",
              "      <td>276</td>\n",
              "    </tr>\n",
              "    <tr>\n",
              "      <th>10</th>\n",
              "      <td>Tor Books</td>\n",
              "      <td>275</td>\n",
              "    </tr>\n",
              "  </tbody>\n",
              "</table>\n",
              "</div>"
            ],
            "text/plain": [
              "           publisher  Books\n",
              "1            Vintage    559\n",
              "2      HarperCollins    494\n",
              "3      Penguin Books    410\n",
              "4   Ballantine Books    383\n",
              "5             Bantam    346\n",
              "6               Avon    305\n",
              "7       Pocket Books    304\n",
              "8            Del Rey    282\n",
              "9            Berkley    276\n",
              "10         Tor Books    275"
            ]
          },
          "metadata": {},
          "output_type": "display_data"
        }
      ],
      "source": [
        "questions: List[TopColumnValuesQuestion] = [\n",
        "    {\n",
        "        'qnum': '5',\n",
        "        'qtitle': 'Top 10 Authors with the most books',\n",
        "        'col': DataColumn.AUTHOR,\n",
        "        'countCol': TopColumnValuesAnswerGenerator.COUNT_ROWS,\n",
        "        'limit': 10,\n",
        "        'extractor': lambda s: re.split(r'[,(]', s, maxsplit=1)[0].strip(),\n",
        "    },    \n",
        "    {\n",
        "        'qnum': '6',\n",
        "        'qtitle': 'Top 10 Authors with the most ratings',\n",
        "        'col': DataColumn.AUTHOR,\n",
        "        'countCol': DataColumn.NUMRATINGS,\n",
        "        'limit': 10,\n",
        "        'useExtracted': True\n",
        "    },\n",
        "    {\n",
        "        'qnum': '8',\n",
        "        'qtitle': 'Top 10 Languages used in the most books',\n",
        "        'col': DataColumn.LANGUAGE,\n",
        "        'countCol': TopColumnValuesAnswerGenerator.COUNT_ROWS,\n",
        "        'limit': 10,\n",
        "    },\n",
        "    {\n",
        "        'qnum': '9',\n",
        "        'qtitle': 'Top 10 Publishers with the most books',\n",
        "        'col': DataColumn.PUBLISHER,\n",
        "        'countCol': TopColumnValuesAnswerGenerator.COUNT_ROWS,\n",
        "        'limit': 10,\n",
        "    }\n",
        "]\n",
        "\n",
        "for i, y in enumerate(range(2000, 2016, 5)):\n",
        "    questions.append({\n",
        "        'qnum': f'7({i + 1})',\n",
        "        'qtitle': f'Top 10 Authors with the most books in {y}',\n",
        "        'col': DataColumn.AUTHOR,\n",
        "        'countCol': TopColumnValuesAnswerGenerator.COUNT_ROWS,\n",
        "        'limit': 10,\n",
        "        'dataFilter': lambda df, y=y: df[df[DataColumn.PUBLISHYEAR] == y],\n",
        "    })\n",
        "questions = sorted(questions, key=lambda q: q['qnum'])\n",
        "TopColumnValuesAnswerGenerator().registerQuestions(questions).displayAnswers(dataDf)"
      ]
    },
    {
      "attachments": {},
      "cell_type": "markdown",
      "metadata": {
        "id": "RMeCRIMKb-2N"
      },
      "source": [
        "**10.** Relationship between number of pages and ratings"
      ]
    },
    {
      "cell_type": "code",
      "execution_count": 20,
      "metadata": {
        "colab": {
          "base_uri": "https://localhost:8080/",
          "height": 751
        },
        "id": "lExQbwAdb-2N",
        "outputId": "71e9f60a-5eb4-4297-de4c-1332339594c5"
      },
      "outputs": [
        {
          "data": {
            "image/png": "[encoded data removed]",
            "text/plain": [
              "<Figure size 576x576 with 2 Axes>"
            ]
          },
          "metadata": {
            "needs_background": "light"
          },
          "output_type": "display_data"
        }
      ],
      "source": [
        "def drawHeatmap(df: pd.DataFrame, ax: plt.Axes, cmap: str = \"coolwarm\", **kwargs):\n",
        "    _ = sns.heatmap(df.corr(), ax=ax, cmap=cmap, **kwargs)\n",
        "\n",
        "_, axes = plt.subplots(1, 1, figsize=(8,8))\n",
        "cols = [\n",
        "    DataColumn.PAGES,\n",
        "    DataColumn.NUMRATINGS,\n",
        "    DataColumn.RATING,\n",
        "    DataColumn.RATINGSTAR1,\n",
        "    DataColumn.RATINGSTAR2,\n",
        "    DataColumn.RATINGSTAR3,\n",
        "    DataColumn.RATINGSTAR4,\n",
        "    DataColumn.RATINGSTAR5\n",
        "]\n",
        "\n",
        "def pageStrToInt(s: str):\n",
        "    try:\n",
        "        return int(s)\n",
        "    except ValueError:\n",
        "        return int(s.split(maxsplit=1)[0])\n",
        "\n",
        "dataDf[DataColumn.PAGES] = dataDf[DataColumn.PAGES].apply(pageStrToInt)\n",
        "drawHeatmap(dataDf[cols], axes)"
      ]
    },
    {
      "attachments": {},
      "cell_type": "markdown",
      "metadata": {},
      "source": [
        "By observing the `Heatmap`, we can see that the books with the most pages tend to have worse ratings."
      ]
    },
    {
      "cell_type": "code",
      "execution_count": 16,
      "metadata": {
        "colab": {
          "base_uri": "https://localhost:8080/",
          "height": 768
        },
        "id": "IK8RMOwHb-2O",
        "outputId": "755b4b90-6d87-4e1c-f72d-4fc2089b5fc6"
      },
      "outputs": [
        {
          "data": {
            "text/markdown": [
              "**11(1)**. Top Genres of the most books:"
            ],
            "text/plain": [
              "<IPython.core.display.Markdown object>"
            ]
          },
          "metadata": {},
          "output_type": "display_data"
        },
        {
          "data": {
            "text/html": [
              "<div>\n",
              "<style scoped>\n",
              "    .dataframe tbody tr th:only-of-type {\n",
              "        vertical-align: middle;\n",
              "    }\n",
              "\n",
              "    .dataframe tbody tr th {\n",
              "        vertical-align: top;\n",
              "    }\n",
              "\n",
              "    .dataframe thead th {\n",
              "        text-align: right;\n",
              "    }\n",
              "</style>\n",
              "<table border=\"1\" class=\"dataframe\">\n",
              "  <thead>\n",
              "    <tr style=\"text-align: right;\">\n",
              "      <th></th>\n",
              "      <th>genres</th>\n",
              "      <th>Books</th>\n",
              "    </tr>\n",
              "  </thead>\n",
              "  <tbody>\n",
              "    <tr>\n",
              "      <th>1</th>\n",
              "      <td>Fiction</td>\n",
              "      <td>28657</td>\n",
              "    </tr>\n",
              "    <tr>\n",
              "      <th>2</th>\n",
              "      <td>Fantasy</td>\n",
              "      <td>13481</td>\n",
              "    </tr>\n",
              "    <tr>\n",
              "      <th>3</th>\n",
              "      <td>Romance</td>\n",
              "      <td>13159</td>\n",
              "    </tr>\n",
              "    <tr>\n",
              "      <th>4</th>\n",
              "      <td>Young Adult</td>\n",
              "      <td>10453</td>\n",
              "    </tr>\n",
              "    <tr>\n",
              "      <th>5</th>\n",
              "      <td>Contemporary</td>\n",
              "      <td>8919</td>\n",
              "    </tr>\n",
              "    <tr>\n",
              "      <th>6</th>\n",
              "      <td>Nonfiction</td>\n",
              "      <td>7310</td>\n",
              "    </tr>\n",
              "    <tr>\n",
              "      <th>7</th>\n",
              "      <td>Adult</td>\n",
              "      <td>7228</td>\n",
              "    </tr>\n",
              "    <tr>\n",
              "      <th>8</th>\n",
              "      <td>Novels</td>\n",
              "      <td>7224</td>\n",
              "    </tr>\n",
              "    <tr>\n",
              "      <th>9</th>\n",
              "      <td>Historical Fiction</td>\n",
              "      <td>7098</td>\n",
              "    </tr>\n",
              "    <tr>\n",
              "      <th>10</th>\n",
              "      <td>Mystery</td>\n",
              "      <td>7075</td>\n",
              "    </tr>\n",
              "  </tbody>\n",
              "</table>\n",
              "</div>"
            ],
            "text/plain": [
              "                genres  Books\n",
              "1              Fiction  28657\n",
              "2              Fantasy  13481\n",
              "3              Romance  13159\n",
              "4          Young Adult  10453\n",
              "5         Contemporary   8919\n",
              "6           Nonfiction   7310\n",
              "7                Adult   7228\n",
              "8               Novels   7224\n",
              "9   Historical Fiction   7098\n",
              "10             Mystery   7075"
            ]
          },
          "metadata": {},
          "output_type": "display_data"
        },
        {
          "data": {
            "text/markdown": [
              "**11(2)**. Top Awards of the most books:"
            ],
            "text/plain": [
              "<IPython.core.display.Markdown object>"
            ]
          },
          "metadata": {},
          "output_type": "display_data"
        },
        {
          "data": {
            "text/html": [
              "<div>\n",
              "<style scoped>\n",
              "    .dataframe tbody tr th:only-of-type {\n",
              "        vertical-align: middle;\n",
              "    }\n",
              "\n",
              "    .dataframe tbody tr th {\n",
              "        vertical-align: top;\n",
              "    }\n",
              "\n",
              "    .dataframe thead th {\n",
              "        text-align: right;\n",
              "    }\n",
              "</style>\n",
              "<table border=\"1\" class=\"dataframe\">\n",
              "  <thead>\n",
              "    <tr style=\"text-align: right;\">\n",
              "      <th></th>\n",
              "      <th>awards</th>\n",
              "      <th>Books</th>\n",
              "    </tr>\n",
              "  </thead>\n",
              "  <tbody>\n",
              "    <tr>\n",
              "      <th>1</th>\n",
              "      <td>Dorothy Canfield Fisher Children's Book Award ...</td>\n",
              "      <td>317</td>\n",
              "    </tr>\n",
              "    <tr>\n",
              "      <th>2</th>\n",
              "      <td>Lincoln Award Nominee</td>\n",
              "      <td>246</td>\n",
              "    </tr>\n",
              "    <tr>\n",
              "      <th>3</th>\n",
              "      <td>Rhode Island Teen Book Award Nominee</td>\n",
              "      <td>214</td>\n",
              "    </tr>\n",
              "    <tr>\n",
              "      <th>4</th>\n",
              "      <td>Carnegie Medal Nominee</td>\n",
              "      <td>160</td>\n",
              "    </tr>\n",
              "    <tr>\n",
              "      <th>5</th>\n",
              "      <td>Goodreads Choice Award Nominee for Young Adult...</td>\n",
              "      <td>155</td>\n",
              "    </tr>\n",
              "    <tr>\n",
              "      <th>6</th>\n",
              "      <td>Rebecca Caudill Young Readers' Book Award Nominee</td>\n",
              "      <td>138</td>\n",
              "    </tr>\n",
              "    <tr>\n",
              "      <th>7</th>\n",
              "      <td>Goodreads Choice Award Nominee for Fiction</td>\n",
              "      <td>137</td>\n",
              "    </tr>\n",
              "    <tr>\n",
              "      <th>8</th>\n",
              "      <td>Goodreads Choice Award Nominee for Romance</td>\n",
              "      <td>136</td>\n",
              "    </tr>\n",
              "    <tr>\n",
              "      <th>9</th>\n",
              "      <td>Missouri Gateway Readers Award Nominee</td>\n",
              "      <td>136</td>\n",
              "    </tr>\n",
              "    <tr>\n",
              "      <th>10</th>\n",
              "      <td>Goodreads Choice Award Nominee for Young Adult...</td>\n",
              "      <td>134</td>\n",
              "    </tr>\n",
              "  </tbody>\n",
              "</table>\n",
              "</div>"
            ],
            "text/plain": [
              "                                               awards  Books\n",
              "1   Dorothy Canfield Fisher Children's Book Award ...    317\n",
              "2                               Lincoln Award Nominee    246\n",
              "3                Rhode Island Teen Book Award Nominee    214\n",
              "4                              Carnegie Medal Nominee    160\n",
              "5   Goodreads Choice Award Nominee for Young Adult...    155\n",
              "6   Rebecca Caudill Young Readers' Book Award Nominee    138\n",
              "7          Goodreads Choice Award Nominee for Fiction    137\n",
              "8          Goodreads Choice Award Nominee for Romance    136\n",
              "9              Missouri Gateway Readers Award Nominee    136\n",
              "10  Goodreads Choice Award Nominee for Young Adult...    134"
            ]
          },
          "metadata": {},
          "output_type": "display_data"
        }
      ],
      "source": [
        "def countListRowStrings(d: \"defaultdict[str, int]\", s: str, listExtractor: Callable[[str], List[str]]):\n",
        "    items: List[str] = listExtractor(s)\n",
        "    for i in items:\n",
        "        d[i] += 1\n",
        "\n",
        "def awardTitlesExtractor(awardListStr: str) -> List[str]:    \n",
        "    awardList: List[str] = ast.literal_eval(awardListStr)\n",
        "    awards = []\n",
        "    for s in awardList:\n",
        "        awards.append(re.sub(fr'[(]{YearExtractor.YEAR_RE_NO_GROUP}[)]', repl='', string=s).strip())\n",
        "    return awards\n",
        "\n",
        "TopColumnValuesAnswerGenerator().registerQuestions([\n",
        "    {\n",
        "        'qnum': '11(1)',\n",
        "        'qtitle': 'Top Genres of the most books',\n",
        "        'col': DataColumn.GENRES,\n",
        "        'countCol': TopColumnValuesAnswerGenerator.COUNT_ROWS,\n",
        "        'limit': 10,\n",
        "        'counter': lambda d, s, _: countListRowStrings(d, s, ast.literal_eval)\n",
        "    },\n",
        "    {\n",
        "        'qnum': '11(2)',\n",
        "        'qtitle': 'Top Awards of the most books',\n",
        "        'col': DataColumn.AWARDS,\n",
        "        'countCol': TopColumnValuesAnswerGenerator.COUNT_ROWS,\n",
        "        'limit': 10,\n",
        "        'counter': lambda d, s, _: countListRowStrings(d, s, awardTitlesExtractor)\n",
        "    }\n",
        "]).displayAnswers(dataDf)"
      ]
    },
    {
      "attachments": {},
      "cell_type": "markdown",
      "metadata": {},
      "source": [
        "**12.** `WordCloud` for book descriptions"
      ]
    },
    {
      "cell_type": "code",
      "execution_count": 17,
      "metadata": {
        "colab": {
          "base_uri": "https://localhost:8080/",
          "height": 909
        },
        "id": "BvhaGQW7iFxj",
        "outputId": "1ae4a403-24d5-46da-e59a-bc340fb6d57a"
      },
      "outputs": [
        {
          "data": {
            "image/png": "[encoded data removed]",
            "text/plain": [
              "<Figure size 432x288 with 1 Axes>"
            ]
          },
          "metadata": {
            "needs_background": "light"
          },
          "output_type": "display_data"
        },
        {
          "data": {
            "text/plain": [
              "<Figure size 2880x1440 with 0 Axes>"
            ]
          },
          "metadata": {},
          "output_type": "display_data"
        },
        {
          "data": {
            "text/markdown": [
              "Top 10 most popular words used in book descriptions:"
            ],
            "text/plain": [
              "<IPython.core.display.Markdown object>"
            ]
          },
          "metadata": {},
          "output_type": "display_data"
        },
        {
          "data": {
            "text/html": [
              "<div>\n",
              "<style scoped>\n",
              "    .dataframe tbody tr th:only-of-type {\n",
              "        vertical-align: middle;\n",
              "    }\n",
              "\n",
              "    .dataframe tbody tr th {\n",
              "        vertical-align: top;\n",
              "    }\n",
              "\n",
              "    .dataframe thead th {\n",
              "        text-align: right;\n",
              "    }\n",
              "</style>\n",
              "<table border=\"1\" class=\"dataframe\">\n",
              "  <thead>\n",
              "    <tr style=\"text-align: right;\">\n",
              "      <th></th>\n",
              "      <th>Word</th>\n",
              "    </tr>\n",
              "  </thead>\n",
              "  <tbody>\n",
              "    <tr>\n",
              "      <th>1</th>\n",
              "      <td>life</td>\n",
              "    </tr>\n",
              "    <tr>\n",
              "      <th>2</th>\n",
              "      <td>world</td>\n",
              "    </tr>\n",
              "    <tr>\n",
              "      <th>3</th>\n",
              "      <td>find</td>\n",
              "    </tr>\n",
              "    <tr>\n",
              "      <th>4</th>\n",
              "      <td>book</td>\n",
              "    </tr>\n",
              "    <tr>\n",
              "      <th>5</th>\n",
              "      <td>love</td>\n",
              "    </tr>\n",
              "    <tr>\n",
              "      <th>6</th>\n",
              "      <td>live</td>\n",
              "    </tr>\n",
              "    <tr>\n",
              "      <th>7</th>\n",
              "      <td>family</td>\n",
              "    </tr>\n",
              "    <tr>\n",
              "      <th>8</th>\n",
              "      <td>even</td>\n",
              "    </tr>\n",
              "    <tr>\n",
              "      <th>9</th>\n",
              "      <td>story</td>\n",
              "    </tr>\n",
              "    <tr>\n",
              "      <th>10</th>\n",
              "      <td>time</td>\n",
              "    </tr>\n",
              "  </tbody>\n",
              "</table>\n",
              "</div>"
            ],
            "text/plain": [
              "      Word\n",
              "1     life\n",
              "2    world\n",
              "3     find\n",
              "4     book\n",
              "5     love\n",
              "6     live\n",
              "7   family\n",
              "8     even\n",
              "9    story\n",
              "10    time"
            ]
          },
          "metadata": {},
          "output_type": "display_data"
        }
      ],
      "source": [
        "def displayWordcloud(text: str) -> WordCloud:\n",
        "    \"\"\"\n",
        "        Generates and displays the `WordCloud` for the specified text.\n",
        "    \"\"\"\n",
        "\n",
        "    def downloadImageMask() -> \"np.ndarray | None\":\n",
        "        \"\"\"\n",
        "            Downloads the image to be used as a `WordCloud` mask on the fly\n",
        "            (without saving it locally) and returns the respective `np.ndarray`.\n",
        "        \"\"\"\n",
        "\n",
        "        IMG_PATH = 'https://img.freepik.com/premium-vector/book-logo_535345-3487.jpg'\n",
        "\n",
        "        res = requests.get(IMG_PATH)\n",
        "\n",
        "        if res.ok:\n",
        "            return np.array( Image.open(io.BytesIO(res.content)) )\n",
        "        else:\n",
        "            return None\n",
        "\n",
        "    cloud = WordCloud(\n",
        "        background_color=\"rgba(255, 255, 255, 0)\", mode=\"RGBA\",\n",
        "        colormap='gist_heat',\n",
        "        width=2000, height=1000,\n",
        "        max_words=500,\n",
        "        min_word_length=4,\n",
        "        stopwords=STOP_WORDS,\n",
        "        mask=downloadImageMask()\n",
        "    ).generate(text)\n",
        "\n",
        "    plt.axis(\"off\")\n",
        "    plt.tight_layout(pad=0)\n",
        "    plt.imshow(cloud, interpolation='bilinear')\n",
        "    plt.figure(figsize=(40, 20))\n",
        "    plt.show()\n",
        "\n",
        "    return cloud\n",
        "\n",
        "def displayTopWordcloudWords(wcloud: WordCloud, n: int):\n",
        "    \"\"\"\n",
        "        Extracts and displays the top `n` words of the pre-generated `WordCloud.`\n",
        "    \"\"\"\n",
        "    \n",
        "    printMd(f'Top {n} most popular words used in book descriptions:')\n",
        "    topWords = pd.DataFrame(wcloud.words_.keys())\n",
        "    topWords.columns=['Word']\n",
        "    topWords.index += 1\n",
        "    display(topWords.head(n))\n",
        "\n",
        "descriptionsTotal = (\n",
        "    ' '.join(d for d in dataDf[DataColumn.DESCRIPTION])\n",
        "    .translate(str.maketrans('', '', string.punctuation))\n",
        ")\n",
        "wcloud = displayWordcloud(descriptionsTotal)\n",
        "displayTopWordcloudWords(wcloud, 10)"
      ]
    },
    {
      "cell_type": "code",
      "execution_count": 18,
      "metadata": {
        "colab": {
          "base_uri": "https://localhost:8080/",
          "height": 549
        },
        "id": "1mqRbH5Pb-2O",
        "outputId": "cdb0b3fa-8117-4887-a5b8-b42d9372a00c"
      },
      "outputs": [
        {
          "data": {
            "text/markdown": [
              "**13**. Books published by year:"
            ],
            "text/plain": [
              "<IPython.core.display.Markdown object>"
            ]
          },
          "metadata": {},
          "output_type": "display_data"
        },
        {
          "data": {
            "text/html": [
              "<div>\n",
              "<style scoped>\n",
              "    .dataframe tbody tr th:only-of-type {\n",
              "        vertical-align: middle;\n",
              "    }\n",
              "\n",
              "    .dataframe tbody tr th {\n",
              "        vertical-align: top;\n",
              "    }\n",
              "\n",
              "    .dataframe thead th {\n",
              "        text-align: right;\n",
              "    }\n",
              "</style>\n",
              "<table border=\"1\" class=\"dataframe\">\n",
              "  <thead>\n",
              "    <tr style=\"text-align: right;\">\n",
              "      <th></th>\n",
              "      <th>publishYear</th>\n",
              "      <th>Books</th>\n",
              "    </tr>\n",
              "  </thead>\n",
              "  <tbody>\n",
              "    <tr>\n",
              "      <th>1</th>\n",
              "      <td>2012</td>\n",
              "      <td>2642</td>\n",
              "    </tr>\n",
              "    <tr>\n",
              "      <th>2</th>\n",
              "      <td>2006</td>\n",
              "      <td>2432</td>\n",
              "    </tr>\n",
              "    <tr>\n",
              "      <th>3</th>\n",
              "      <td>2013</td>\n",
              "      <td>2418</td>\n",
              "    </tr>\n",
              "    <tr>\n",
              "      <th>4</th>\n",
              "      <td>2011</td>\n",
              "      <td>2399</td>\n",
              "    </tr>\n",
              "    <tr>\n",
              "      <th>5</th>\n",
              "      <td>2010</td>\n",
              "      <td>2235</td>\n",
              "    </tr>\n",
              "    <tr>\n",
              "      <th>6</th>\n",
              "      <td>2007</td>\n",
              "      <td>2217</td>\n",
              "    </tr>\n",
              "    <tr>\n",
              "      <th>7</th>\n",
              "      <td>2009</td>\n",
              "      <td>2014</td>\n",
              "    </tr>\n",
              "    <tr>\n",
              "      <th>8</th>\n",
              "      <td>2014</td>\n",
              "      <td>1995</td>\n",
              "    </tr>\n",
              "    <tr>\n",
              "      <th>9</th>\n",
              "      <td>2005</td>\n",
              "      <td>1902</td>\n",
              "    </tr>\n",
              "    <tr>\n",
              "      <th>10</th>\n",
              "      <td>2008</td>\n",
              "      <td>1866</td>\n",
              "    </tr>\n",
              "    <tr>\n",
              "      <th>11</th>\n",
              "      <td>2004</td>\n",
              "      <td>1697</td>\n",
              "    </tr>\n",
              "    <tr>\n",
              "      <th>12</th>\n",
              "      <td>2003</td>\n",
              "      <td>1479</td>\n",
              "    </tr>\n",
              "    <tr>\n",
              "      <th>13</th>\n",
              "      <td>2015</td>\n",
              "      <td>1475</td>\n",
              "    </tr>\n",
              "    <tr>\n",
              "      <th>14</th>\n",
              "      <td>2002</td>\n",
              "      <td>1254</td>\n",
              "    </tr>\n",
              "    <tr>\n",
              "      <th>15</th>\n",
              "      <td>2001</td>\n",
              "      <td>1101</td>\n",
              "    </tr>\n",
              "  </tbody>\n",
              "</table>\n",
              "</div>"
            ],
            "text/plain": [
              "    publishYear  Books\n",
              "1          2012   2642\n",
              "2          2006   2432\n",
              "3          2013   2418\n",
              "4          2011   2399\n",
              "5          2010   2235\n",
              "6          2007   2217\n",
              "7          2009   2014\n",
              "8          2014   1995\n",
              "9          2005   1902\n",
              "10         2008   1866\n",
              "11         2004   1697\n",
              "12         2003   1479\n",
              "13         2015   1475\n",
              "14         2002   1254\n",
              "15         2001   1101"
            ]
          },
          "metadata": {},
          "output_type": "display_data"
        }
      ],
      "source": [
        "TopColumnValuesAnswerGenerator().registerQuestion({\n",
        "    'qnum': '13',\n",
        "    'qtitle': 'Books published by year',\n",
        "    'col': DataColumn.PUBLISHYEAR,\n",
        "    'countCol': TopColumnValuesAnswerGenerator.COUNT_ROWS,\n",
        "    'limit': 15\n",
        "}).displayAnswers(dataDf)"
      ]
    },
    {
      "attachments": {},
      "cell_type": "markdown",
      "metadata": {
        "id": "AVtCNJ08NtTI"
      },
      "source": [
        "## Similarity-based Recommendation System"
      ]
    },
    {
      "cell_type": "code",
      "execution_count": 19,
      "metadata": {
        "colab": {
          "base_uri": "https://localhost:8080/"
        },
        "id": "CNdtNDlE8fzE",
        "outputId": "37c52152-277c-41ce-93b8-10b4bb36491e"
      },
      "outputs": [
        {
          "name": "stdout",
          "output_type": "stream",
          "text": [
            "Dataset Shape:\n",
            "Rows: 37005, Columns: 23\n"
          ]
        }
      ],
      "source": [
        "recommenderDf = dataDf[dataDf[DataColumn.LANGUAGE] == 'English']\n",
        "printDatasetShape(recommenderDf)"
      ]
    },
    {
      "cell_type": "code",
      "execution_count": 20,
      "metadata": {
        "colab": {
          "base_uri": "https://localhost:8080/"
        },
        "id": "XrCAbMth8fzF",
        "outputId": "f5e15433-483a-4308-9382-4ae0f22b58cc"
      },
      "outputs": [
        {
          "data": {
            "text/plain": [
              "8522"
            ]
          },
          "execution_count": 20,
          "metadata": {},
          "output_type": "execute_result"
        }
      ],
      "source": [
        "gc.collect()"
      ]
    },
    {
      "cell_type": "code",
      "execution_count": 21,
      "metadata": {
        "colab": {
          "base_uri": "https://localhost:8080/",
          "height": 1000,
          "referenced_widgets": [
            "c983e046f63b45c0b3ac319bf283e1a5",
            "578dca528216426ea6e8701d178e9466",
            "ca4ea0191aac4ae4ad005a901bf040cf",
            "b448975c511540ddba952c7284a5c3ec",
            "de135c49422548dcaa2770e3bba74523",
            "96e17b0467d44f13bb249b8ab78e544d",
            "399c575558724ff8a2da0e17cadec752",
            "4b368a19031646498940f3a8a9172b30",
            "95b880eb07424852b9d9221c4c2ead69",
            "b5bd2b42b759402da2926194d15e0ee8",
            "c6264557a5a3456abc77e7f21e43cb8e",
            "ae2df40e9c2749b9a9f171a9fe7fd374",
            "aab64614594740f39ffa591df650242e",
            "4b3470fa287549e393bcf5e4e6607b45",
            "5f37be8b45e94f6aa6a139a92e1bac28",
            "df764ea8c1414a709af2d7e284726319",
            "ee16bd4bb75f40ac84bb056efd0f36b7",
            "efb58316a56349868d7d5e27f3540c07",
            "4029d49491de464cb5da616c20a7af8e",
            "9972d2f0defd4e61a356f53b2fc58dc8",
            "881d80fe6c024105a830870d55c2e560",
            "42c2d05af92546438e76203ffd74e231"
          ]
        },
        "id": "3OXqEtXD8fzF",
        "outputId": "0612f6ea-acf2-443d-da2c-8aa478eff3a6"
      },
      "outputs": [
        {
          "data": {
            "text/markdown": [
              "### Using `1-grams`:"
            ],
            "text/plain": [
              "<IPython.core.display.Markdown object>"
            ]
          },
          "metadata": {},
          "output_type": "display_data"
        },
        {
          "data": {
            "application/vnd.jupyter.widget-view+json": {
              "model_id": "c983e046f63b45c0b3ac319bf283e1a5",
              "version_major": 2,
              "version_minor": 0
            },
            "text/plain": [
              "           0/1000 -- Time Elapsed: 00:00"
            ]
          },
          "metadata": {},
          "output_type": "display_data"
        },
        {
          "data": {
            "text/markdown": [
              "Recommending up to 5 books similar to **Harry Potter and the Order of the Phoenix**"
            ],
            "text/plain": [
              "<IPython.core.display.Markdown object>"
            ]
          },
          "metadata": {},
          "output_type": "display_data"
        },
        {
          "data": {
            "text/markdown": [
              "***"
            ],
            "text/plain": [
              "<IPython.core.display.Markdown object>"
            ]
          },
          "metadata": {},
          "output_type": "display_data"
        },
        {
          "data": {
            "text/markdown": [
              "1. **Harry Potter and the Prisoner of Azkaban**"
            ],
            "text/plain": [
              "<IPython.core.display.Markdown object>"
            ]
          },
          "metadata": {},
          "output_type": "display_data"
        },
        {
          "data": {
            "text/markdown": [
              "<u>Description</u>: Harry Potter's third year at Hogwarts is full of new dangers.  A convicted murderer, Sirius Black,\\\n",
              "has broken out of Azkaban prison, and it seems he's after Harry.  Now Hogwarts is being patrolled by\\\n",
              "the dementors, the Azkaban guards who are hunting Sirius.  But Harry can't imagine that Sirius or,\\\n",
              "for that matter, the evil Lord Voldemort could be more frightening than the dementors themselves,\\\n",
              "who have the terrible power to fill anyone they come across with aching loneliness and despair.\\\n",
              "Meanwhile, life continues as usual at Hogwarts.  A top-of-the-line broom takes Harry's success at\\\n",
              "Quidditch, the sport of the Wizarding world, to new heights.  A cute fourth-year student catches his\\\n",
              "eye.  And he becomes close with the new Defense of the Dark Arts teacher, who was a childhood friend\\\n",
              "of his father.  Yet despite the relative safety of life at Hogwarts and the best efforts of the\\\n",
              "dementors, the threat of Sirius Black grows ever closer.  But if Harry has learned anything from his\\\n",
              "education in wizardry, it is that things are often not what they seem.  Tragic revelations,\\\n",
              "heartwarming surprises, and high-stakes magical adventures await the boy wizard in this funny and\\\n",
              "poignant third installment of the beloved series.--scholastic.com"
            ],
            "text/plain": [
              "<IPython.core.display.Markdown object>"
            ]
          },
          "metadata": {},
          "output_type": "display_data"
        },
        {
          "data": {
            "text/markdown": [
              "<u>Score</u>: 0.416161054787754"
            ],
            "text/plain": [
              "<IPython.core.display.Markdown object>"
            ]
          },
          "metadata": {},
          "output_type": "display_data"
        },
        {
          "data": {
            "text/markdown": [
              "2. **Harry Potter and the Chamber of Secrets**"
            ],
            "text/plain": [
              "<IPython.core.display.Markdown object>"
            ]
          },
          "metadata": {},
          "output_type": "display_data"
        },
        {
          "data": {
            "text/markdown": [
              "<u>Description</u>: Ever since Harry Potter had come home for the summer, the Dursleys had been so mean and hideous that\\\n",
              "all Harry wanted was to get back to the Hogwarts School for Witchcraft and Wizardry.  But just as\\\n",
              "he’s packing his bags, Harry receives a warning from a strange impish creature who says that if\\\n",
              "Harry returns to Hogwarts, disaster will strike.And strike it does.  For in Harry’s second year at\\\n",
              "Hogwarts, fresh torments and horrors arise, including an outrageously stuck-up new professor and a\\\n",
              "spirit who haunts the girls’ bathroom.  But then the real trouble begins – someone is turning\\\n",
              "Hogwarts students to stone.  Could it be Draco Malfoy, a more poisonous rival than ever?  Could it\\\n",
              "possible be Hagrid, whose mysterious past is finally told?  Or could it be the one everyone at\\\n",
              "Hogwarts most suspects… Harry Potter himself!"
            ],
            "text/plain": [
              "<IPython.core.display.Markdown object>"
            ]
          },
          "metadata": {},
          "output_type": "display_data"
        },
        {
          "data": {
            "text/markdown": [
              "<u>Score</u>: 0.3733984350022985"
            ],
            "text/plain": [
              "<IPython.core.display.Markdown object>"
            ]
          },
          "metadata": {},
          "output_type": "display_data"
        },
        {
          "data": {
            "text/markdown": [
              "3. **The Last of the Mohicans**"
            ],
            "text/plain": [
              "<IPython.core.display.Markdown object>"
            ]
          },
          "metadata": {},
          "output_type": "display_data"
        },
        {
          "data": {
            "text/markdown": [
              "<u>Description</u>: The wild rush of action in this classic frontier adventure story has made The Last of the Mohicans\\\n",
              "the most popular of James Fenimore Cooper’s Leatherstocking Tales.  Deep in the forests of upper New\\\n",
              "York State, the brave woodsman Hawkeye (Natty Bumppo) and his loyal Mohican friends Chingachgook and\\\n",
              "Uncas become embroiled in the bloody battles of the French and Indian War.  The abduction of the\\\n",
              "beautiful Munro sisters by hostile savages, the treachery of the renegade brave Magua, the ambush of\\\n",
              "innocent settlers, and the thrilling events that lead to the final tragic confrontation between\\\n",
              "rival war parties create an unforgettable, spine-tingling picture of life on the frontier.  And as\\\n",
              "the idyllic wilderness gives way to the forces of civilization, the novel presents a moving\\\n",
              "portrayal of a vanishing race and the end of its way of life in the great American forests."
            ],
            "text/plain": [
              "<IPython.core.display.Markdown object>"
            ]
          },
          "metadata": {},
          "output_type": "display_data"
        },
        {
          "data": {
            "text/markdown": [
              "<u>Score</u>: 0.3587625066857846"
            ],
            "text/plain": [
              "<IPython.core.display.Markdown object>"
            ]
          },
          "metadata": {},
          "output_type": "display_data"
        },
        {
          "data": {
            "text/markdown": [
              "4. **Harry Potter and the Sorcerer's Stone**"
            ],
            "text/plain": [
              "<IPython.core.display.Markdown object>"
            ]
          },
          "metadata": {},
          "output_type": "display_data"
        },
        {
          "data": {
            "text/markdown": [
              "<u>Description</u>: Harry Potter's life is miserable.  His parents are dead and he's stuck with his heartless relatives,\\\n",
              "who force him to live in a tiny closet under the stairs.  But his fortune changes when he receives a\\\n",
              "letter that tells him the truth about himself: he's a wizard.  A mysterious visitor rescues him from\\\n",
              "his relatives and takes him to his new home, Hogwarts School of Witchcraft and Wizardry.After a\\\n",
              "lifetime of bottling up his magical powers, Harry finally feels like a normal kid.  But even within\\\n",
              "the Wizarding community, he is special.  He is the boy who lived: the only person to have ever\\\n",
              "survived a killing curse inflicted by the evil Lord Voldemort, who launched a brutal takeover of the\\\n",
              "Wizarding world, only to vanish after failing to kill Harry.Though Harry's first year at Hogwarts is\\\n",
              "the best of his life, not everything is perfect.  There is a dangerous secret object hidden within\\\n",
              "the castle walls, and Harry believes it's his responsibility to prevent it from falling into evil\\\n",
              "hands.  But doing so will bring him into contact with forces more terrifying than he ever could have\\\n",
              "imagined.Full of sympathetic characters, wildly imaginative situations, and countless exciting\\\n",
              "details, the first installment in the series assembles an unforgettable magical world and sets the\\\n",
              "stage for many high-stakes adventures to come."
            ],
            "text/plain": [
              "<IPython.core.display.Markdown object>"
            ]
          },
          "metadata": {},
          "output_type": "display_data"
        },
        {
          "data": {
            "text/markdown": [
              "<u>Score</u>: 0.31790886991883904"
            ],
            "text/plain": [
              "<IPython.core.display.Markdown object>"
            ]
          },
          "metadata": {},
          "output_type": "display_data"
        },
        {
          "data": {
            "text/markdown": [
              "5. **Harry Potter and the Half-Blood Prince**"
            ],
            "text/plain": [
              "<IPython.core.display.Markdown object>"
            ]
          },
          "metadata": {},
          "output_type": "display_data"
        },
        {
          "data": {
            "text/markdown": [
              "<u>Description</u>: The war against Voldemort is not going well; even Muggle governments are noticing.  Ron scans the\\\n",
              "obituary pages of the Daily Prophet, looking for familiar names.  Dumbledore is absent from Hogwarts\\\n",
              "for long stretches of time, and the Order of the Phoenix has already suffered losses.And yet . . .As\\\n",
              "in all wars, life goes on.  The Weasley twins expand their business.  Sixth-year students learn to\\\n",
              "Apparate - and lose a few eyebrows in the process.  Teenagers flirt and fight and fall in love.\\\n",
              "Classes are never straightforward, through Harry receives some extraordinary help from the\\\n",
              "mysterious Half-Blood Prince.So it's the home front that takes center stage in the multilayered\\\n",
              "sixth installment of the story of Harry Potter.  Here at Hogwarts, Harry will search for the full\\\n",
              "and complete story of the boy who became Lord Voldemort - and thereby find what may be his only\\\n",
              "vulnerability."
            ],
            "text/plain": [
              "<IPython.core.display.Markdown object>"
            ]
          },
          "metadata": {},
          "output_type": "display_data"
        },
        {
          "data": {
            "text/markdown": [
              "<u>Score</u>: 0.2668923784082573"
            ],
            "text/plain": [
              "<IPython.core.display.Markdown object>"
            ]
          },
          "metadata": {},
          "output_type": "display_data"
        },
        {
          "data": {
            "text/markdown": [
              "***"
            ],
            "text/plain": [
              "<IPython.core.display.Markdown object>"
            ]
          },
          "metadata": {},
          "output_type": "display_data"
        },
        {
          "data": {
            "text/markdown": [
              "### Using `2-grams`:"
            ],
            "text/plain": [
              "<IPython.core.display.Markdown object>"
            ]
          },
          "metadata": {},
          "output_type": "display_data"
        },
        {
          "data": {
            "application/vnd.jupyter.widget-view+json": {
              "model_id": "ae2df40e9c2749b9a9f171a9fe7fd374",
              "version_major": 2,
              "version_minor": 0
            },
            "text/plain": [
              "           0/1000 -- Time Elapsed: 00:00"
            ]
          },
          "metadata": {},
          "output_type": "display_data"
        },
        {
          "data": {
            "text/markdown": [
              "Recommending up to 5 books similar to **Harry Potter and the Order of the Phoenix**"
            ],
            "text/plain": [
              "<IPython.core.display.Markdown object>"
            ]
          },
          "metadata": {},
          "output_type": "display_data"
        },
        {
          "data": {
            "text/markdown": [
              "***"
            ],
            "text/plain": [
              "<IPython.core.display.Markdown object>"
            ]
          },
          "metadata": {},
          "output_type": "display_data"
        },
        {
          "data": {
            "text/markdown": [
              "1. **Harry Potter and the Prisoner of Azkaban**"
            ],
            "text/plain": [
              "<IPython.core.display.Markdown object>"
            ]
          },
          "metadata": {},
          "output_type": "display_data"
        },
        {
          "data": {
            "text/markdown": [
              "<u>Description</u>: Harry Potter's third year at Hogwarts is full of new dangers.  A convicted murderer, Sirius Black,\\\n",
              "has broken out of Azkaban prison, and it seems he's after Harry.  Now Hogwarts is being patrolled by\\\n",
              "the dementors, the Azkaban guards who are hunting Sirius.  But Harry can't imagine that Sirius or,\\\n",
              "for that matter, the evil Lord Voldemort could be more frightening than the dementors themselves,\\\n",
              "who have the terrible power to fill anyone they come across with aching loneliness and despair.\\\n",
              "Meanwhile, life continues as usual at Hogwarts.  A top-of-the-line broom takes Harry's success at\\\n",
              "Quidditch, the sport of the Wizarding world, to new heights.  A cute fourth-year student catches his\\\n",
              "eye.  And he becomes close with the new Defense of the Dark Arts teacher, who was a childhood friend\\\n",
              "of his father.  Yet despite the relative safety of life at Hogwarts and the best efforts of the\\\n",
              "dementors, the threat of Sirius Black grows ever closer.  But if Harry has learned anything from his\\\n",
              "education in wizardry, it is that things are often not what they seem.  Tragic revelations,\\\n",
              "heartwarming surprises, and high-stakes magical adventures await the boy wizard in this funny and\\\n",
              "poignant third installment of the beloved series.--scholastic.com"
            ],
            "text/plain": [
              "<IPython.core.display.Markdown object>"
            ]
          },
          "metadata": {},
          "output_type": "display_data"
        },
        {
          "data": {
            "text/markdown": [
              "<u>Score</u>: 0.04166349433609784"
            ],
            "text/plain": [
              "<IPython.core.display.Markdown object>"
            ]
          },
          "metadata": {},
          "output_type": "display_data"
        },
        {
          "data": {
            "text/markdown": [
              "2. **Like Water for Chocolate**"
            ],
            "text/plain": [
              "<IPython.core.display.Markdown object>"
            ]
          },
          "metadata": {},
          "output_type": "display_data"
        },
        {
          "data": {
            "text/markdown": [
              "<u>Description</u>: Earthy, magical, and utterly charming, this tale of family life in turn-of-the-century Mexico became\\\n",
              "a best-selling phenomenon with its winning blend of poignant romance and bittersweet wit.The number\\\n",
              "one bestseller in Mexico and America for almost two years, and subsequently a bestseller around the\\\n",
              "world, Like Water For Chocolate is a romantic, poignant tale, touched with moments of magic, graphic\\\n",
              "earthiness, bittersweet wit - and recipes.  A sumptuous feast of a novel, it relates the bizarre\\\n",
              "history of the all-female De La Garza family.  Tita, the youngest daughter of the house, has been\\\n",
              "forbidden to marry, condemned by Mexican tradition to look after her mother until she dies.  But\\\n",
              "Tita falls in love with Pedro, and he is seduced by the magical food she cooks.  In desperation,\\\n",
              "Pedro marries her sister Rosaura so that he can stay close to her, so that Tita and Pedro are forced\\\n",
              "to circle each other in unconsummated passion.  Only a freakish chain of tragedies, bad luck and\\\n",
              "fate finally reunite them against all the odds."
            ],
            "text/plain": [
              "<IPython.core.display.Markdown object>"
            ]
          },
          "metadata": {},
          "output_type": "display_data"
        },
        {
          "data": {
            "text/markdown": [
              "<u>Score</u>: 0.01604368493115349"
            ],
            "text/plain": [
              "<IPython.core.display.Markdown object>"
            ]
          },
          "metadata": {},
          "output_type": "display_data"
        },
        {
          "data": {
            "text/markdown": [
              "3. **Harry Potter and the Chamber of Secrets**"
            ],
            "text/plain": [
              "<IPython.core.display.Markdown object>"
            ]
          },
          "metadata": {},
          "output_type": "display_data"
        },
        {
          "data": {
            "text/markdown": [
              "<u>Description</u>: Ever since Harry Potter had come home for the summer, the Dursleys had been so mean and hideous that\\\n",
              "all Harry wanted was to get back to the Hogwarts School for Witchcraft and Wizardry.  But just as\\\n",
              "he’s packing his bags, Harry receives a warning from a strange impish creature who says that if\\\n",
              "Harry returns to Hogwarts, disaster will strike.And strike it does.  For in Harry’s second year at\\\n",
              "Hogwarts, fresh torments and horrors arise, including an outrageously stuck-up new professor and a\\\n",
              "spirit who haunts the girls’ bathroom.  But then the real trouble begins – someone is turning\\\n",
              "Hogwarts students to stone.  Could it be Draco Malfoy, a more poisonous rival than ever?  Could it\\\n",
              "possible be Hagrid, whose mysterious past is finally told?  Or could it be the one everyone at\\\n",
              "Hogwarts most suspects… Harry Potter himself!"
            ],
            "text/plain": [
              "<IPython.core.display.Markdown object>"
            ]
          },
          "metadata": {},
          "output_type": "display_data"
        },
        {
          "data": {
            "text/markdown": [
              "<u>Score</u>: 0.011495027955446324"
            ],
            "text/plain": [
              "<IPython.core.display.Markdown object>"
            ]
          },
          "metadata": {},
          "output_type": "display_data"
        },
        {
          "data": {
            "text/markdown": [
              "4. **The Iron King**"
            ],
            "text/plain": [
              "<IPython.core.display.Markdown object>"
            ]
          },
          "metadata": {},
          "output_type": "display_data"
        },
        {
          "data": {
            "text/markdown": [
              "<u>Description</u>: Meghan Chase has a secret destiny; one she could never have imagined.Something has always felt\\\n",
              "slightly off in Meghan's life, ever since her father disappeared before her eyes when she was six.\\\n",
              "She has never quite fit in at school or at home.When a dark stranger begins watching her from afar,\\\n",
              "and her prankster best friend becomes strangely protective of her, Meghan senses that everything\\\n",
              "she's known is about to change.But she could never have guessed the truth - that she is the daughter\\\n",
              "of a mythical faery king and is a pawn in a deadly war.  Now Meghan will learn just how far she'll\\\n",
              "go to save someone she cares about, to stop a mysterious evil, no faery creature dare face; and to\\\n",
              "find love with a young prince who might rather see her dead than let her touch his icy heart."
            ],
            "text/plain": [
              "<IPython.core.display.Markdown object>"
            ]
          },
          "metadata": {},
          "output_type": "display_data"
        },
        {
          "data": {
            "text/markdown": [
              "<u>Score</u>: 0.009484079705203152"
            ],
            "text/plain": [
              "<IPython.core.display.Markdown object>"
            ]
          },
          "metadata": {},
          "output_type": "display_data"
        },
        {
          "data": {
            "text/markdown": [
              "5. **Harry Potter and the Sorcerer's Stone**"
            ],
            "text/plain": [
              "<IPython.core.display.Markdown object>"
            ]
          },
          "metadata": {},
          "output_type": "display_data"
        },
        {
          "data": {
            "text/markdown": [
              "<u>Description</u>: Harry Potter's life is miserable.  His parents are dead and he's stuck with his heartless relatives,\\\n",
              "who force him to live in a tiny closet under the stairs.  But his fortune changes when he receives a\\\n",
              "letter that tells him the truth about himself: he's a wizard.  A mysterious visitor rescues him from\\\n",
              "his relatives and takes him to his new home, Hogwarts School of Witchcraft and Wizardry.After a\\\n",
              "lifetime of bottling up his magical powers, Harry finally feels like a normal kid.  But even within\\\n",
              "the Wizarding community, he is special.  He is the boy who lived: the only person to have ever\\\n",
              "survived a killing curse inflicted by the evil Lord Voldemort, who launched a brutal takeover of the\\\n",
              "Wizarding world, only to vanish after failing to kill Harry.Though Harry's first year at Hogwarts is\\\n",
              "the best of his life, not everything is perfect.  There is a dangerous secret object hidden within\\\n",
              "the castle walls, and Harry believes it's his responsibility to prevent it from falling into evil\\\n",
              "hands.  But doing so will bring him into contact with forces more terrifying than he ever could have\\\n",
              "imagined.Full of sympathetic characters, wildly imaginative situations, and countless exciting\\\n",
              "details, the first installment in the series assembles an unforgettable magical world and sets the\\\n",
              "stage for many high-stakes adventures to come."
            ],
            "text/plain": [
              "<IPython.core.display.Markdown object>"
            ]
          },
          "metadata": {},
          "output_type": "display_data"
        },
        {
          "data": {
            "text/markdown": [
              "<u>Score</u>: 0.009234756451768522"
            ],
            "text/plain": [
              "<IPython.core.display.Markdown object>"
            ]
          },
          "metadata": {},
          "output_type": "display_data"
        },
        {
          "data": {
            "text/markdown": [
              "***"
            ],
            "text/plain": [
              "<IPython.core.display.Markdown object>"
            ]
          },
          "metadata": {},
          "output_type": "display_data"
        }
      ],
      "source": [
        "bookId = '2.Harry_Potter_and_the_Order_of_the_Phoenix'\n",
        "for n in range(1, 3):\n",
        "    recommender = BookRecommender(\n",
        "        books=recommenderDf,\n",
        "        numBooks=1000,\n",
        "        numTop=100,\n",
        "        vectorizer=TfidfVectorizer(\n",
        "            stop_words='english',\n",
        "            ngram_range=(n, n),\n",
        "            max_df=0.85, min_df=(0.01 if n == 1 else 1),\n",
        "            strip_accents='unicode',\n",
        "        )\n",
        "    )\n",
        "    printMd(f'### Using `{n}-grams`:')\n",
        "    runWithNoWarnings(lambda: recommender.findMostSimilar(showProgress=True))\n",
        "    recommender.showRecommendations(bookId, num=5)"
      ]
    },
    {
      "attachments": {},
      "cell_type": "markdown",
      "metadata": {
        "id": "oQlPN1EWNtTO"
      },
      "source": [
        "## Book Genre Classifier"
      ]
    },
    {
      "cell_type": "code",
      "execution_count": 22,
      "metadata": {
        "colab": {
          "base_uri": "https://localhost:8080/"
        },
        "id": "H3cNkHzR7PTx",
        "outputId": "d4b1422e-5452-45a0-ca03-0aafc38123bf"
      },
      "outputs": [
        {
          "data": {
            "text/plain": [
              "10053"
            ]
          },
          "execution_count": 22,
          "metadata": {},
          "output_type": "execute_result"
        }
      ],
      "source": [
        "gc.collect()"
      ]
    },
    {
      "cell_type": "code",
      "execution_count": 23,
      "metadata": {
        "colab": {
          "base_uri": "https://localhost:8080/",
          "height": 363
        },
        "id": "dmO5vg5rsm8J",
        "outputId": "69075f64-d40e-4e25-cf71-766ede08aac0"
      },
      "outputs": [
        {
          "data": {
            "text/html": [
              "\n",
              "  <div id=\"df-ffed5473-fb6d-488d-9500-41f0d18ec374\">\n",
              "    <div class=\"colab-df-container\">\n",
              "      <div>\n",
              "<style scoped>\n",
              "    .dataframe tbody tr th:only-of-type {\n",
              "        vertical-align: middle;\n",
              "    }\n",
              "\n",
              "    .dataframe tbody tr th {\n",
              "        vertical-align: top;\n",
              "    }\n",
              "\n",
              "    .dataframe thead th {\n",
              "        text-align: right;\n",
              "    }\n",
              "</style>\n",
              "<table border=\"1\" class=\"dataframe\">\n",
              "  <thead>\n",
              "    <tr style=\"text-align: right;\">\n",
              "      <th></th>\n",
              "      <th>genreSingle</th>\n",
              "      <th>Books</th>\n",
              "    </tr>\n",
              "  </thead>\n",
              "  <tbody>\n",
              "    <tr>\n",
              "      <th>1</th>\n",
              "      <td>Fiction</td>\n",
              "      <td>4865</td>\n",
              "    </tr>\n",
              "    <tr>\n",
              "      <th>2</th>\n",
              "      <td>Fantasy</td>\n",
              "      <td>4561</td>\n",
              "    </tr>\n",
              "    <tr>\n",
              "      <th>3</th>\n",
              "      <td>Young Adult</td>\n",
              "      <td>2799</td>\n",
              "    </tr>\n",
              "    <tr>\n",
              "      <th>4</th>\n",
              "      <td>Romance</td>\n",
              "      <td>2207</td>\n",
              "    </tr>\n",
              "    <tr>\n",
              "      <th>5</th>\n",
              "      <td>Nonfiction</td>\n",
              "      <td>2073</td>\n",
              "    </tr>\n",
              "    <tr>\n",
              "      <th>6</th>\n",
              "      <td>Historical Fiction</td>\n",
              "      <td>1888</td>\n",
              "    </tr>\n",
              "    <tr>\n",
              "      <th>7</th>\n",
              "      <td>Mystery</td>\n",
              "      <td>1760</td>\n",
              "    </tr>\n",
              "    <tr>\n",
              "      <th>8</th>\n",
              "      <td>Science Fiction</td>\n",
              "      <td>1217</td>\n",
              "    </tr>\n",
              "    <tr>\n",
              "      <th>9</th>\n",
              "      <td>Classics</td>\n",
              "      <td>860</td>\n",
              "    </tr>\n",
              "    <tr>\n",
              "      <th>10</th>\n",
              "      <td>History</td>\n",
              "      <td>749</td>\n",
              "    </tr>\n",
              "  </tbody>\n",
              "</table>\n",
              "</div>\n",
              "      <button class=\"colab-df-convert\" onclick=\"convertToInteractive('df-ffed5473-fb6d-488d-9500-41f0d18ec374')\"\n",
              "              title=\"Convert this dataframe to an interactive table.\"\n",
              "              style=\"display:none;\">\n",
              "        \n",
              "  <svg xmlns=\"http://www.w3.org/2000/svg\" height=\"24px\"viewBox=\"0 0 24 24\"\n",
              "       width=\"24px\">\n",
              "    <path d=\"M0 0h24v24H0V0z\" fill=\"none\"/>\n",
              "    <path d=\"M18.56 5.44l.94 2.06.94-2.06 2.06-.94-2.06-.94-.94-2.06-.94 2.06-2.06.94zm-11 1L8.5 8.5l.94-2.06 2.06-.94-2.06-.94L8.5 2.5l-.94 2.06-2.06.94zm10 10l.94 2.06.94-2.06 2.06-.94-2.06-.94-.94-2.06-.94 2.06-2.06.94z\"/><path d=\"M17.41 7.96l-1.37-1.37c-.4-.4-.92-.59-1.43-.59-.52 0-1.04.2-1.43.59L10.3 9.45l-7.72 7.72c-.78.78-.78 2.05 0 2.83L4 21.41c.39.39.9.59 1.41.59.51 0 1.02-.2 1.41-.59l7.78-7.78 2.81-2.81c.8-.78.8-2.07 0-2.86zM5.41 20L4 18.59l7.72-7.72 1.47 1.35L5.41 20z\"/>\n",
              "  </svg>\n",
              "      </button>\n",
              "      \n",
              "  <style>\n",
              "    .colab-df-container {\n",
              "      display:flex;\n",
              "      flex-wrap:wrap;\n",
              "      gap: 12px;\n",
              "    }\n",
              "\n",
              "    .colab-df-convert {\n",
              "      background-color: #E8F0FE;\n",
              "      border: none;\n",
              "      border-radius: 50%;\n",
              "      cursor: pointer;\n",
              "      display: none;\n",
              "      fill: #1967D2;\n",
              "      height: 32px;\n",
              "      padding: 0 0 0 0;\n",
              "      width: 32px;\n",
              "    }\n",
              "\n",
              "    .colab-df-convert:hover {\n",
              "      background-color: #E2EBFA;\n",
              "      box-shadow: 0px 1px 2px rgba(60, 64, 67, 0.3), 0px 1px 3px 1px rgba(60, 64, 67, 0.15);\n",
              "      fill: #174EA6;\n",
              "    }\n",
              "\n",
              "    [theme=dark] .colab-df-convert {\n",
              "      background-color: #3B4455;\n",
              "      fill: #D2E3FC;\n",
              "    }\n",
              "\n",
              "    [theme=dark] .colab-df-convert:hover {\n",
              "      background-color: #434B5C;\n",
              "      box-shadow: 0px 1px 3px 1px rgba(0, 0, 0, 0.15);\n",
              "      filter: drop-shadow(0px 1px 2px rgba(0, 0, 0, 0.3));\n",
              "      fill: #FFFFFF;\n",
              "    }\n",
              "  </style>\n",
              "\n",
              "      <script>\n",
              "        const buttonEl =\n",
              "          document.querySelector('#df-ffed5473-fb6d-488d-9500-41f0d18ec374 button.colab-df-convert');\n",
              "        buttonEl.style.display =\n",
              "          google.colab.kernel.accessAllowed ? 'block' : 'none';\n",
              "\n",
              "        async function convertToInteractive(key) {\n",
              "          const element = document.querySelector('#df-ffed5473-fb6d-488d-9500-41f0d18ec374');\n",
              "          const dataTable =\n",
              "            await google.colab.kernel.invokeFunction('convertToInteractive',\n",
              "                                                     [key], {});\n",
              "          if (!dataTable) return;\n",
              "\n",
              "          const docLinkHtml = 'Like what you see? Visit the ' +\n",
              "            '<a target=\"_blank\" href=https://colab.research.google.com/notebooks/data_table.ipynb>data table notebook</a>'\n",
              "            + ' to learn more about interactive tables.';\n",
              "          element.innerHTML = '';\n",
              "          dataTable['output_type'] = 'display_data';\n",
              "          await google.colab.output.renderOutput(dataTable, element);\n",
              "          const docLink = document.createElement('div');\n",
              "          docLink.innerHTML = docLinkHtml;\n",
              "          element.appendChild(docLink);\n",
              "        }\n",
              "      </script>\n",
              "    </div>\n",
              "  </div>\n",
              "  "
            ],
            "text/plain": [
              "           genreSingle  Books\n",
              "1              Fiction   4865\n",
              "2              Fantasy   4561\n",
              "3          Young Adult   2799\n",
              "4              Romance   2207\n",
              "5           Nonfiction   2073\n",
              "6   Historical Fiction   1888\n",
              "7              Mystery   1760\n",
              "8      Science Fiction   1217\n",
              "9             Classics    860\n",
              "10             History    749"
            ]
          },
          "execution_count": 23,
          "metadata": {},
          "output_type": "execute_result"
        }
      ],
      "source": [
        "topGenreSingle = TopColumnValuesAnswerGenerator().generateAnswer(\n",
        "    df=dataDf,\n",
        "    q={\n",
        "        'col': DataColumn.GENRESINGLE,\n",
        "        'countCol': TopColumnValuesAnswerGenerator.COUNT_ROWS,\n",
        "        'dataFilter': lambda df: (\n",
        "            df[df[DataColumn.LANGUAGE] == 'English']\n",
        "        ),\n",
        "        'limit': 10\n",
        "    }\n",
        ")\n",
        "topGenreSingle"
      ]
    },
    {
      "cell_type": "code",
      "execution_count": 46,
      "metadata": {
        "id": "Hc_3GWYgMdwg"
      },
      "outputs": [],
      "source": [
        "classifierData = dataDf[\n",
        "    (dataDf[DataColumn.LANGUAGE] == 'English')\n",
        "    &\n",
        "    (dataDf[DataColumn.GENRESINGLE].isin(topGenreSingle[DataColumn.GENRESINGLE].values))\n",
        "][[DataColumn.BOOKID, DataColumn.DESCRIPTION, DataColumn.GENRESINGLE]]\n",
        "\n",
        "classifier = BookGenreClassifier()\n",
        "_ = classifier.createTrainingData(classifierData, vectorSize=300, shuffle=True)"
      ]
    },
    {
      "cell_type": "code",
      "execution_count": 47,
      "metadata": {
        "colab": {
          "base_uri": "https://localhost:8080/",
          "height": 776,
          "referenced_widgets": [
            "8c2878ea879d4060afeafe7f9525e02d",
            "78463bbae5b94ce4abb5ea7492c0a738",
            "442cbd35d58d4214b8882e179f6e0f0e",
            "5c41d3c7ce864ad0a1429d61979488f2",
            "828ac1052ed64072b86b31582ba51b3f",
            "db3878beaed3436ca3cbf1e1a9a3d5de",
            "b412c09865a84735ba04cdc3afd6cc90",
            "da5b73691dcf46118afee32f0da258a0",
            "0b4e11e4cacc49f2a81c5089db1c80fe",
            "c5f1f0e1a35e42dc9bc1bfdf8c821387",
            "b3ad1c3aa70f4903ab2021ca053718d2",
            "a0cc8422060b4e51bf8382c660442765",
            "46b55aa0b62041c4b64e86dc34d0fd34",
            "e272a471d6124e6e93018572beeb8e37",
            "c506fc7943b74fa5a8333df07c98ff6e",
            "8efbc635eb6e48d4b677c23eb73ac4f0",
            "6fa8002464b54a9890a428ff2e69b340",
            "f5928b846e9740c9ad705caab13dc9f1",
            "d6806b27bc4248f18e2a2e6f9180f0b8",
            "d18e2951c9cc41dc89f71ce59147fcb7",
            "d3cfc24619834a72ae925f7eae1b2144",
            "e76954d81b2140f4984e8eb4df9a004b"
          ]
        },
        "id": "ND1CgBVA7PTy",
        "outputId": "d512bdf2-f05c-490e-ef9f-535dc3d3e926"
      },
      "outputs": [
        {
          "data": {
            "text/markdown": [
              "***\n",
              " ### Using **Naive Bayes**:"
            ],
            "text/plain": [
              "<IPython.core.display.Markdown object>"
            ]
          },
          "metadata": {},
          "output_type": "display_data"
        },
        {
          "data": {
            "text/markdown": [
              "Performing **K-Fold Cross Validation**:"
            ],
            "text/plain": [
              "<IPython.core.display.Markdown object>"
            ]
          },
          "metadata": {},
          "output_type": "display_data"
        },
        {
          "data": {
            "application/vnd.jupyter.widget-view+json": {
              "model_id": "8c2878ea879d4060afeafe7f9525e02d",
              "version_major": 2,
              "version_minor": 0
            },
            "text/plain": [
              "           0/10 -- Time Elapsed: 00:00"
            ]
          },
          "metadata": {},
          "output_type": "display_data"
        },
        {
          "data": {
            "text/markdown": [
              "**Total Results** (mean fold results):"
            ],
            "text/plain": [
              "<IPython.core.display.Markdown object>"
            ]
          },
          "metadata": {},
          "output_type": "display_data"
        },
        {
          "data": {
            "text/html": [
              "\n",
              "  <div id=\"df-fe714a7f-73a1-4420-9db7-139572d99085\">\n",
              "    <div class=\"colab-df-container\">\n",
              "      <div>\n",
              "<style scoped>\n",
              "    .dataframe tbody tr th:only-of-type {\n",
              "        vertical-align: middle;\n",
              "    }\n",
              "\n",
              "    .dataframe tbody tr th {\n",
              "        vertical-align: top;\n",
              "    }\n",
              "\n",
              "    .dataframe thead th {\n",
              "        text-align: right;\n",
              "    }\n",
              "</style>\n",
              "<table border=\"1\" class=\"dataframe\">\n",
              "  <thead>\n",
              "    <tr style=\"text-align: right;\">\n",
              "      <th></th>\n",
              "      <th>Accuracy</th>\n",
              "      <th>F-Score</th>\n",
              "      <th>Precision</th>\n",
              "      <th>Recall</th>\n",
              "    </tr>\n",
              "  </thead>\n",
              "  <tbody>\n",
              "    <tr>\n",
              "      <th>Train</th>\n",
              "      <td>0.463842</td>\n",
              "      <td>0.448847</td>\n",
              "      <td>0.445369</td>\n",
              "      <td>0.507668</td>\n",
              "    </tr>\n",
              "    <tr>\n",
              "      <th>Test</th>\n",
              "      <td>0.461781</td>\n",
              "      <td>0.446187</td>\n",
              "      <td>0.443478</td>\n",
              "      <td>0.505245</td>\n",
              "    </tr>\n",
              "  </tbody>\n",
              "</table>\n",
              "</div>\n",
              "      <button class=\"colab-df-convert\" onclick=\"convertToInteractive('df-fe714a7f-73a1-4420-9db7-139572d99085')\"\n",
              "              title=\"Convert this dataframe to an interactive table.\"\n",
              "              style=\"display:none;\">\n",
              "        \n",
              "  <svg xmlns=\"http://www.w3.org/2000/svg\" height=\"24px\"viewBox=\"0 0 24 24\"\n",
              "       width=\"24px\">\n",
              "    <path d=\"M0 0h24v24H0V0z\" fill=\"none\"/>\n",
              "    <path d=\"M18.56 5.44l.94 2.06.94-2.06 2.06-.94-2.06-.94-.94-2.06-.94 2.06-2.06.94zm-11 1L8.5 8.5l.94-2.06 2.06-.94-2.06-.94L8.5 2.5l-.94 2.06-2.06.94zm10 10l.94 2.06.94-2.06 2.06-.94-2.06-.94-.94-2.06-.94 2.06-2.06.94z\"/><path d=\"M17.41 7.96l-1.37-1.37c-.4-.4-.92-.59-1.43-.59-.52 0-1.04.2-1.43.59L10.3 9.45l-7.72 7.72c-.78.78-.78 2.05 0 2.83L4 21.41c.39.39.9.59 1.41.59.51 0 1.02-.2 1.41-.59l7.78-7.78 2.81-2.81c.8-.78.8-2.07 0-2.86zM5.41 20L4 18.59l7.72-7.72 1.47 1.35L5.41 20z\"/>\n",
              "  </svg>\n",
              "      </button>\n",
              "      \n",
              "  <style>\n",
              "    .colab-df-container {\n",
              "      display:flex;\n",
              "      flex-wrap:wrap;\n",
              "      gap: 12px;\n",
              "    }\n",
              "\n",
              "    .colab-df-convert {\n",
              "      background-color: #E8F0FE;\n",
              "      border: none;\n",
              "      border-radius: 50%;\n",
              "      cursor: pointer;\n",
              "      display: none;\n",
              "      fill: #1967D2;\n",
              "      height: 32px;\n",
              "      padding: 0 0 0 0;\n",
              "      width: 32px;\n",
              "    }\n",
              "\n",
              "    .colab-df-convert:hover {\n",
              "      background-color: #E2EBFA;\n",
              "      box-shadow: 0px 1px 2px rgba(60, 64, 67, 0.3), 0px 1px 3px 1px rgba(60, 64, 67, 0.15);\n",
              "      fill: #174EA6;\n",
              "    }\n",
              "\n",
              "    [theme=dark] .colab-df-convert {\n",
              "      background-color: #3B4455;\n",
              "      fill: #D2E3FC;\n",
              "    }\n",
              "\n",
              "    [theme=dark] .colab-df-convert:hover {\n",
              "      background-color: #434B5C;\n",
              "      box-shadow: 0px 1px 3px 1px rgba(0, 0, 0, 0.15);\n",
              "      filter: drop-shadow(0px 1px 2px rgba(0, 0, 0, 0.3));\n",
              "      fill: #FFFFFF;\n",
              "    }\n",
              "  </style>\n",
              "\n",
              "      <script>\n",
              "        const buttonEl =\n",
              "          document.querySelector('#df-fe714a7f-73a1-4420-9db7-139572d99085 button.colab-df-convert');\n",
              "        buttonEl.style.display =\n",
              "          google.colab.kernel.accessAllowed ? 'block' : 'none';\n",
              "\n",
              "        async function convertToInteractive(key) {\n",
              "          const element = document.querySelector('#df-fe714a7f-73a1-4420-9db7-139572d99085');\n",
              "          const dataTable =\n",
              "            await google.colab.kernel.invokeFunction('convertToInteractive',\n",
              "                                                     [key], {});\n",
              "          if (!dataTable) return;\n",
              "\n",
              "          const docLinkHtml = 'Like what you see? Visit the ' +\n",
              "            '<a target=\"_blank\" href=https://colab.research.google.com/notebooks/data_table.ipynb>data table notebook</a>'\n",
              "            + ' to learn more about interactive tables.';\n",
              "          element.innerHTML = '';\n",
              "          dataTable['output_type'] = 'display_data';\n",
              "          await google.colab.output.renderOutput(dataTable, element);\n",
              "          const docLink = document.createElement('div');\n",
              "          docLink.innerHTML = docLinkHtml;\n",
              "          element.appendChild(docLink);\n",
              "        }\n",
              "      </script>\n",
              "    </div>\n",
              "  </div>\n",
              "  "
            ],
            "text/plain": [
              "       Accuracy   F-Score  Precision    Recall\n",
              "Train  0.463842  0.448847   0.445369  0.507668\n",
              "Test   0.461781  0.446187   0.443478  0.505245"
            ]
          },
          "metadata": {},
          "output_type": "display_data"
        },
        {
          "data": {
            "text/markdown": [
              "Performing **Cross Validation** on the total dataset, using Train/Test split:"
            ],
            "text/plain": [
              "<IPython.core.display.Markdown object>"
            ]
          },
          "metadata": {},
          "output_type": "display_data"
        },
        {
          "data": {
            "text/markdown": [
              "**Total Results**:"
            ],
            "text/plain": [
              "<IPython.core.display.Markdown object>"
            ]
          },
          "metadata": {},
          "output_type": "display_data"
        },
        {
          "data": {
            "text/html": [
              "\n",
              "  <div id=\"df-5744e183-bef9-4546-94e2-37db4dacca79\">\n",
              "    <div class=\"colab-df-container\">\n",
              "      <div>\n",
              "<style scoped>\n",
              "    .dataframe tbody tr th:only-of-type {\n",
              "        vertical-align: middle;\n",
              "    }\n",
              "\n",
              "    .dataframe tbody tr th {\n",
              "        vertical-align: top;\n",
              "    }\n",
              "\n",
              "    .dataframe thead th {\n",
              "        text-align: right;\n",
              "    }\n",
              "</style>\n",
              "<table border=\"1\" class=\"dataframe\">\n",
              "  <thead>\n",
              "    <tr style=\"text-align: right;\">\n",
              "      <th></th>\n",
              "      <th>Accuracy</th>\n",
              "      <th>F-Score</th>\n",
              "      <th>Precision</th>\n",
              "      <th>Recall</th>\n",
              "    </tr>\n",
              "  </thead>\n",
              "  <tbody>\n",
              "    <tr>\n",
              "      <th>Train</th>\n",
              "      <td>0.463794</td>\n",
              "      <td>0.448563</td>\n",
              "      <td>0.445071</td>\n",
              "      <td>0.507399</td>\n",
              "    </tr>\n",
              "    <tr>\n",
              "      <th>Test</th>\n",
              "      <td>0.456049</td>\n",
              "      <td>0.439208</td>\n",
              "      <td>0.435725</td>\n",
              "      <td>0.493376</td>\n",
              "    </tr>\n",
              "  </tbody>\n",
              "</table>\n",
              "</div>\n",
              "      <button class=\"colab-df-convert\" onclick=\"convertToInteractive('df-5744e183-bef9-4546-94e2-37db4dacca79')\"\n",
              "              title=\"Convert this dataframe to an interactive table.\"\n",
              "              style=\"display:none;\">\n",
              "        \n",
              "  <svg xmlns=\"http://www.w3.org/2000/svg\" height=\"24px\"viewBox=\"0 0 24 24\"\n",
              "       width=\"24px\">\n",
              "    <path d=\"M0 0h24v24H0V0z\" fill=\"none\"/>\n",
              "    <path d=\"M18.56 5.44l.94 2.06.94-2.06 2.06-.94-2.06-.94-.94-2.06-.94 2.06-2.06.94zm-11 1L8.5 8.5l.94-2.06 2.06-.94-2.06-.94L8.5 2.5l-.94 2.06-2.06.94zm10 10l.94 2.06.94-2.06 2.06-.94-2.06-.94-.94-2.06-.94 2.06-2.06.94z\"/><path d=\"M17.41 7.96l-1.37-1.37c-.4-.4-.92-.59-1.43-.59-.52 0-1.04.2-1.43.59L10.3 9.45l-7.72 7.72c-.78.78-.78 2.05 0 2.83L4 21.41c.39.39.9.59 1.41.59.51 0 1.02-.2 1.41-.59l7.78-7.78 2.81-2.81c.8-.78.8-2.07 0-2.86zM5.41 20L4 18.59l7.72-7.72 1.47 1.35L5.41 20z\"/>\n",
              "  </svg>\n",
              "      </button>\n",
              "      \n",
              "  <style>\n",
              "    .colab-df-container {\n",
              "      display:flex;\n",
              "      flex-wrap:wrap;\n",
              "      gap: 12px;\n",
              "    }\n",
              "\n",
              "    .colab-df-convert {\n",
              "      background-color: #E8F0FE;\n",
              "      border: none;\n",
              "      border-radius: 50%;\n",
              "      cursor: pointer;\n",
              "      display: none;\n",
              "      fill: #1967D2;\n",
              "      height: 32px;\n",
              "      padding: 0 0 0 0;\n",
              "      width: 32px;\n",
              "    }\n",
              "\n",
              "    .colab-df-convert:hover {\n",
              "      background-color: #E2EBFA;\n",
              "      box-shadow: 0px 1px 2px rgba(60, 64, 67, 0.3), 0px 1px 3px 1px rgba(60, 64, 67, 0.15);\n",
              "      fill: #174EA6;\n",
              "    }\n",
              "\n",
              "    [theme=dark] .colab-df-convert {\n",
              "      background-color: #3B4455;\n",
              "      fill: #D2E3FC;\n",
              "    }\n",
              "\n",
              "    [theme=dark] .colab-df-convert:hover {\n",
              "      background-color: #434B5C;\n",
              "      box-shadow: 0px 1px 3px 1px rgba(0, 0, 0, 0.15);\n",
              "      filter: drop-shadow(0px 1px 2px rgba(0, 0, 0, 0.3));\n",
              "      fill: #FFFFFF;\n",
              "    }\n",
              "  </style>\n",
              "\n",
              "      <script>\n",
              "        const buttonEl =\n",
              "          document.querySelector('#df-5744e183-bef9-4546-94e2-37db4dacca79 button.colab-df-convert');\n",
              "        buttonEl.style.display =\n",
              "          google.colab.kernel.accessAllowed ? 'block' : 'none';\n",
              "\n",
              "        async function convertToInteractive(key) {\n",
              "          const element = document.querySelector('#df-5744e183-bef9-4546-94e2-37db4dacca79');\n",
              "          const dataTable =\n",
              "            await google.colab.kernel.invokeFunction('convertToInteractive',\n",
              "                                                     [key], {});\n",
              "          if (!dataTable) return;\n",
              "\n",
              "          const docLinkHtml = 'Like what you see? Visit the ' +\n",
              "            '<a target=\"_blank\" href=https://colab.research.google.com/notebooks/data_table.ipynb>data table notebook</a>'\n",
              "            + ' to learn more about interactive tables.';\n",
              "          element.innerHTML = '';\n",
              "          dataTable['output_type'] = 'display_data';\n",
              "          await google.colab.output.renderOutput(dataTable, element);\n",
              "          const docLink = document.createElement('div');\n",
              "          docLink.innerHTML = docLinkHtml;\n",
              "          element.appendChild(docLink);\n",
              "        }\n",
              "      </script>\n",
              "    </div>\n",
              "  </div>\n",
              "  "
            ],
            "text/plain": [
              "       Accuracy   F-Score  Precision    Recall\n",
              "Train  0.463794  0.448563   0.445071  0.507399\n",
              "Test   0.456049  0.439208   0.435725  0.493376"
            ]
          },
          "metadata": {},
          "output_type": "display_data"
        },
        {
          "data": {
            "text/markdown": [
              "***\n",
              " ### Using **Random Forest**:"
            ],
            "text/plain": [
              "<IPython.core.display.Markdown object>"
            ]
          },
          "metadata": {},
          "output_type": "display_data"
        },
        {
          "data": {
            "text/markdown": [
              "Performing **K-Fold Cross Validation**:"
            ],
            "text/plain": [
              "<IPython.core.display.Markdown object>"
            ]
          },
          "metadata": {},
          "output_type": "display_data"
        },
        {
          "data": {
            "application/vnd.jupyter.widget-view+json": {
              "model_id": "a0cc8422060b4e51bf8382c660442765",
              "version_major": 2,
              "version_minor": 0
            },
            "text/plain": [
              "           0/10 -- Time Elapsed: 00:00"
            ]
          },
          "metadata": {},
          "output_type": "display_data"
        },
        {
          "data": {
            "text/markdown": [
              "**Total Results** (mean fold results):"
            ],
            "text/plain": [
              "<IPython.core.display.Markdown object>"
            ]
          },
          "metadata": {},
          "output_type": "display_data"
        },
        {
          "data": {
            "text/html": [
              "\n",
              "  <div id=\"df-4c0f6ae8-bd72-41f0-b1de-1fc4e145b107\">\n",
              "    <div class=\"colab-df-container\">\n",
              "      <div>\n",
              "<style scoped>\n",
              "    .dataframe tbody tr th:only-of-type {\n",
              "        vertical-align: middle;\n",
              "    }\n",
              "\n",
              "    .dataframe tbody tr th {\n",
              "        vertical-align: top;\n",
              "    }\n",
              "\n",
              "    .dataframe thead th {\n",
              "        text-align: right;\n",
              "    }\n",
              "</style>\n",
              "<table border=\"1\" class=\"dataframe\">\n",
              "  <thead>\n",
              "    <tr style=\"text-align: right;\">\n",
              "      <th></th>\n",
              "      <th>Accuracy</th>\n",
              "      <th>F-Score</th>\n",
              "      <th>Precision</th>\n",
              "      <th>Recall</th>\n",
              "    </tr>\n",
              "  </thead>\n",
              "  <tbody>\n",
              "    <tr>\n",
              "      <th>Train</th>\n",
              "      <td>0.999788</td>\n",
              "      <td>0.999652</td>\n",
              "      <td>0.999582</td>\n",
              "      <td>0.999723</td>\n",
              "    </tr>\n",
              "    <tr>\n",
              "      <th>Test</th>\n",
              "      <td>0.580165</td>\n",
              "      <td>0.531784</td>\n",
              "      <td>0.583848</td>\n",
              "      <td>0.512351</td>\n",
              "    </tr>\n",
              "  </tbody>\n",
              "</table>\n",
              "</div>\n",
              "      <button class=\"colab-df-convert\" onclick=\"convertToInteractive('df-4c0f6ae8-bd72-41f0-b1de-1fc4e145b107')\"\n",
              "              title=\"Convert this dataframe to an interactive table.\"\n",
              "              style=\"display:none;\">\n",
              "        \n",
              "  <svg xmlns=\"http://www.w3.org/2000/svg\" height=\"24px\"viewBox=\"0 0 24 24\"\n",
              "       width=\"24px\">\n",
              "    <path d=\"M0 0h24v24H0V0z\" fill=\"none\"/>\n",
              "    <path d=\"M18.56 5.44l.94 2.06.94-2.06 2.06-.94-2.06-.94-.94-2.06-.94 2.06-2.06.94zm-11 1L8.5 8.5l.94-2.06 2.06-.94-2.06-.94L8.5 2.5l-.94 2.06-2.06.94zm10 10l.94 2.06.94-2.06 2.06-.94-2.06-.94-.94-2.06-.94 2.06-2.06.94z\"/><path d=\"M17.41 7.96l-1.37-1.37c-.4-.4-.92-.59-1.43-.59-.52 0-1.04.2-1.43.59L10.3 9.45l-7.72 7.72c-.78.78-.78 2.05 0 2.83L4 21.41c.39.39.9.59 1.41.59.51 0 1.02-.2 1.41-.59l7.78-7.78 2.81-2.81c.8-.78.8-2.07 0-2.86zM5.41 20L4 18.59l7.72-7.72 1.47 1.35L5.41 20z\"/>\n",
              "  </svg>\n",
              "      </button>\n",
              "      \n",
              "  <style>\n",
              "    .colab-df-container {\n",
              "      display:flex;\n",
              "      flex-wrap:wrap;\n",
              "      gap: 12px;\n",
              "    }\n",
              "\n",
              "    .colab-df-convert {\n",
              "      background-color: #E8F0FE;\n",
              "      border: none;\n",
              "      border-radius: 50%;\n",
              "      cursor: pointer;\n",
              "      display: none;\n",
              "      fill: #1967D2;\n",
              "      height: 32px;\n",
              "      padding: 0 0 0 0;\n",
              "      width: 32px;\n",
              "    }\n",
              "\n",
              "    .colab-df-convert:hover {\n",
              "      background-color: #E2EBFA;\n",
              "      box-shadow: 0px 1px 2px rgba(60, 64, 67, 0.3), 0px 1px 3px 1px rgba(60, 64, 67, 0.15);\n",
              "      fill: #174EA6;\n",
              "    }\n",
              "\n",
              "    [theme=dark] .colab-df-convert {\n",
              "      background-color: #3B4455;\n",
              "      fill: #D2E3FC;\n",
              "    }\n",
              "\n",
              "    [theme=dark] .colab-df-convert:hover {\n",
              "      background-color: #434B5C;\n",
              "      box-shadow: 0px 1px 3px 1px rgba(0, 0, 0, 0.15);\n",
              "      filter: drop-shadow(0px 1px 2px rgba(0, 0, 0, 0.3));\n",
              "      fill: #FFFFFF;\n",
              "    }\n",
              "  </style>\n",
              "\n",
              "      <script>\n",
              "        const buttonEl =\n",
              "          document.querySelector('#df-4c0f6ae8-bd72-41f0-b1de-1fc4e145b107 button.colab-df-convert');\n",
              "        buttonEl.style.display =\n",
              "          google.colab.kernel.accessAllowed ? 'block' : 'none';\n",
              "\n",
              "        async function convertToInteractive(key) {\n",
              "          const element = document.querySelector('#df-4c0f6ae8-bd72-41f0-b1de-1fc4e145b107');\n",
              "          const dataTable =\n",
              "            await google.colab.kernel.invokeFunction('convertToInteractive',\n",
              "                                                     [key], {});\n",
              "          if (!dataTable) return;\n",
              "\n",
              "          const docLinkHtml = 'Like what you see? Visit the ' +\n",
              "            '<a target=\"_blank\" href=https://colab.research.google.com/notebooks/data_table.ipynb>data table notebook</a>'\n",
              "            + ' to learn more about interactive tables.';\n",
              "          element.innerHTML = '';\n",
              "          dataTable['output_type'] = 'display_data';\n",
              "          await google.colab.output.renderOutput(dataTable, element);\n",
              "          const docLink = document.createElement('div');\n",
              "          docLink.innerHTML = docLinkHtml;\n",
              "          element.appendChild(docLink);\n",
              "        }\n",
              "      </script>\n",
              "    </div>\n",
              "  </div>\n",
              "  "
            ],
            "text/plain": [
              "       Accuracy   F-Score  Precision    Recall\n",
              "Train  0.999788  0.999652   0.999582  0.999723\n",
              "Test   0.580165  0.531784   0.583848  0.512351"
            ]
          },
          "metadata": {},
          "output_type": "display_data"
        },
        {
          "data": {
            "text/markdown": [
              "Performing **Cross Validation** on the total dataset, using Train/Test split:"
            ],
            "text/plain": [
              "<IPython.core.display.Markdown object>"
            ]
          },
          "metadata": {},
          "output_type": "display_data"
        },
        {
          "data": {
            "text/markdown": [
              "**Total Results**:"
            ],
            "text/plain": [
              "<IPython.core.display.Markdown object>"
            ]
          },
          "metadata": {},
          "output_type": "display_data"
        },
        {
          "data": {
            "text/html": [
              "\n",
              "  <div id=\"df-fd51fdcd-feef-49a8-9f41-0222bdb5059b\">\n",
              "    <div class=\"colab-df-container\">\n",
              "      <div>\n",
              "<style scoped>\n",
              "    .dataframe tbody tr th:only-of-type {\n",
              "        vertical-align: middle;\n",
              "    }\n",
              "\n",
              "    .dataframe tbody tr th {\n",
              "        vertical-align: top;\n",
              "    }\n",
              "\n",
              "    .dataframe thead th {\n",
              "        text-align: right;\n",
              "    }\n",
              "</style>\n",
              "<table border=\"1\" class=\"dataframe\">\n",
              "  <thead>\n",
              "    <tr style=\"text-align: right;\">\n",
              "      <th></th>\n",
              "      <th>Accuracy</th>\n",
              "      <th>F-Score</th>\n",
              "      <th>Precision</th>\n",
              "      <th>Recall</th>\n",
              "    </tr>\n",
              "  </thead>\n",
              "  <tbody>\n",
              "    <tr>\n",
              "      <th>Train</th>\n",
              "      <td>0.999782</td>\n",
              "      <td>0.999621</td>\n",
              "      <td>0.999487</td>\n",
              "      <td>0.999755</td>\n",
              "    </tr>\n",
              "    <tr>\n",
              "      <th>Test</th>\n",
              "      <td>0.574630</td>\n",
              "      <td>0.515172</td>\n",
              "      <td>0.569100</td>\n",
              "      <td>0.497194</td>\n",
              "    </tr>\n",
              "  </tbody>\n",
              "</table>\n",
              "</div>\n",
              "      <button class=\"colab-df-convert\" onclick=\"convertToInteractive('df-fd51fdcd-feef-49a8-9f41-0222bdb5059b')\"\n",
              "              title=\"Convert this dataframe to an interactive table.\"\n",
              "              style=\"display:none;\">\n",
              "        \n",
              "  <svg xmlns=\"http://www.w3.org/2000/svg\" height=\"24px\"viewBox=\"0 0 24 24\"\n",
              "       width=\"24px\">\n",
              "    <path d=\"M0 0h24v24H0V0z\" fill=\"none\"/>\n",
              "    <path d=\"M18.56 5.44l.94 2.06.94-2.06 2.06-.94-2.06-.94-.94-2.06-.94 2.06-2.06.94zm-11 1L8.5 8.5l.94-2.06 2.06-.94-2.06-.94L8.5 2.5l-.94 2.06-2.06.94zm10 10l.94 2.06.94-2.06 2.06-.94-2.06-.94-.94-2.06-.94 2.06-2.06.94z\"/><path d=\"M17.41 7.96l-1.37-1.37c-.4-.4-.92-.59-1.43-.59-.52 0-1.04.2-1.43.59L10.3 9.45l-7.72 7.72c-.78.78-.78 2.05 0 2.83L4 21.41c.39.39.9.59 1.41.59.51 0 1.02-.2 1.41-.59l7.78-7.78 2.81-2.81c.8-.78.8-2.07 0-2.86zM5.41 20L4 18.59l7.72-7.72 1.47 1.35L5.41 20z\"/>\n",
              "  </svg>\n",
              "      </button>\n",
              "      \n",
              "  <style>\n",
              "    .colab-df-container {\n",
              "      display:flex;\n",
              "      flex-wrap:wrap;\n",
              "      gap: 12px;\n",
              "    }\n",
              "\n",
              "    .colab-df-convert {\n",
              "      background-color: #E8F0FE;\n",
              "      border: none;\n",
              "      border-radius: 50%;\n",
              "      cursor: pointer;\n",
              "      display: none;\n",
              "      fill: #1967D2;\n",
              "      height: 32px;\n",
              "      padding: 0 0 0 0;\n",
              "      width: 32px;\n",
              "    }\n",
              "\n",
              "    .colab-df-convert:hover {\n",
              "      background-color: #E2EBFA;\n",
              "      box-shadow: 0px 1px 2px rgba(60, 64, 67, 0.3), 0px 1px 3px 1px rgba(60, 64, 67, 0.15);\n",
              "      fill: #174EA6;\n",
              "    }\n",
              "\n",
              "    [theme=dark] .colab-df-convert {\n",
              "      background-color: #3B4455;\n",
              "      fill: #D2E3FC;\n",
              "    }\n",
              "\n",
              "    [theme=dark] .colab-df-convert:hover {\n",
              "      background-color: #434B5C;\n",
              "      box-shadow: 0px 1px 3px 1px rgba(0, 0, 0, 0.15);\n",
              "      filter: drop-shadow(0px 1px 2px rgba(0, 0, 0, 0.3));\n",
              "      fill: #FFFFFF;\n",
              "    }\n",
              "  </style>\n",
              "\n",
              "      <script>\n",
              "        const buttonEl =\n",
              "          document.querySelector('#df-fd51fdcd-feef-49a8-9f41-0222bdb5059b button.colab-df-convert');\n",
              "        buttonEl.style.display =\n",
              "          google.colab.kernel.accessAllowed ? 'block' : 'none';\n",
              "\n",
              "        async function convertToInteractive(key) {\n",
              "          const element = document.querySelector('#df-fd51fdcd-feef-49a8-9f41-0222bdb5059b');\n",
              "          const dataTable =\n",
              "            await google.colab.kernel.invokeFunction('convertToInteractive',\n",
              "                                                     [key], {});\n",
              "          if (!dataTable) return;\n",
              "\n",
              "          const docLinkHtml = 'Like what you see? Visit the ' +\n",
              "            '<a target=\"_blank\" href=https://colab.research.google.com/notebooks/data_table.ipynb>data table notebook</a>'\n",
              "            + ' to learn more about interactive tables.';\n",
              "          element.innerHTML = '';\n",
              "          dataTable['output_type'] = 'display_data';\n",
              "          await google.colab.output.renderOutput(dataTable, element);\n",
              "          const docLink = document.createElement('div');\n",
              "          docLink.innerHTML = docLinkHtml;\n",
              "          element.appendChild(docLink);\n",
              "        }\n",
              "      </script>\n",
              "    </div>\n",
              "  </div>\n",
              "  "
            ],
            "text/plain": [
              "       Accuracy   F-Score  Precision    Recall\n",
              "Train  0.999782  0.999621   0.999487  0.999755\n",
              "Test   0.574630  0.515172   0.569100  0.497194"
            ]
          },
          "metadata": {},
          "output_type": "display_data"
        }
      ],
      "source": [
        "for fn, name in (\n",
        "    (\n",
        "        lambda: GaussianNB(), 'Naive Bayes'\n",
        "    ),\n",
        "    (\n",
        "        lambda: RandomForestClassifier(\n",
        "            n_estimators=100,\n",
        "            n_jobs=-1,\n",
        "            criterion='gini',\n",
        "            verbose=False\n",
        "        ),'Random Forest'\n",
        "    )\n",
        "):\n",
        "    printMd(f'***\\n ### Using **{name}**:')\n",
        "\n",
        "    printMd(f'Performing **K-Fold Cross Validation**:')\n",
        "    results = classifier.performKFold(k=10, modelFactory=fn, verbose=True)\n",
        "    printMd('**Total Results** (mean fold results):')\n",
        "    display(results)\n",
        "\n",
        "    printMd(f'Performing **Cross Validation** on the total dataset, using Train/Test split:')\n",
        "    results = classifier.performCrossValidation(model=fn())\n",
        "    printMd('**Total Results**:')\n",
        "    display(results)"
      ]
    },
    {
      "attachments": {},
      "cell_type": "markdown",
      "metadata": {
        "id": "x75uaac6ntcd"
      },
      "source": [
        "### Experimenting with `sklearn.svm.SVC`"
      ]
    },
    {
      "cell_type": "code",
      "execution_count": 53,
      "metadata": {
        "colab": {
          "base_uri": "https://localhost:8080/"
        },
        "id": "4MxrQsflntcd",
        "outputId": "d52c4cb3-a920-43de-8f64-b5eee75f0d19"
      },
      "outputs": [
        {
          "name": "stdout",
          "output_type": "stream",
          "text": [
            "Dataset Shape:\n",
            "Rows: 22979, Columns: 3\n"
          ]
        }
      ],
      "source": [
        "svcData = classifierData.iloc[:len(classifierData)]\n",
        "printDatasetShape(svcData)"
      ]
    },
    {
      "cell_type": "code",
      "execution_count": 54,
      "metadata": {
        "id": "H37nzvwwntce"
      },
      "outputs": [],
      "source": [
        "classifier = BookGenreClassifier()\n",
        "X, Y = classifier.createTrainingData(\n",
        "    booksDf=svcData,\n",
        "    vectorSize=300,\n",
        "    shuffle=True,\n",
        "    scale=False\n",
        ")"
      ]
    },
    {
      "cell_type": "code",
      "execution_count": 55,
      "metadata": {
        "colab": {
          "base_uri": "https://localhost:8080/",
          "height": 221
        },
        "id": "jpP_aLiGntce",
        "outputId": "ade2a7eb-2cbe-45b8-9b76-bc7045631760"
      },
      "outputs": [
        {
          "data": {
            "text/markdown": [
              "### Using kernel: `linear`"
            ],
            "text/plain": [
              "<IPython.core.display.Markdown object>"
            ]
          },
          "metadata": {},
          "output_type": "display_data"
        },
        {
          "name": "stdout",
          "output_type": "stream",
          "text": [
            "Fitting 1 folds for each of 3 candidates, totalling 3 fits\n"
          ]
        },
        {
          "data": {
            "text/markdown": [
              "Highest scoring parameter combination was: **`{'C': 10.0, 'gamma': 'auto', 'kernel': 'linear'}`** (61.77%)"
            ],
            "text/plain": [
              "<IPython.core.display.Markdown object>"
            ]
          },
          "metadata": {},
          "output_type": "display_data"
        },
        {
          "data": {
            "text/markdown": [
              "### Using kernel: `rbf`"
            ],
            "text/plain": [
              "<IPython.core.display.Markdown object>"
            ]
          },
          "metadata": {},
          "output_type": "display_data"
        },
        {
          "name": "stdout",
          "output_type": "stream",
          "text": [
            "Fitting 1 folds for each of 12 candidates, totalling 12 fits\n"
          ]
        },
        {
          "data": {
            "text/markdown": [
              "Highest scoring parameter combination was: **`{'C': 10.0, 'gamma': 0.1, 'kernel': 'rbf'}`** (61.21%)"
            ],
            "text/plain": [
              "<IPython.core.display.Markdown object>"
            ]
          },
          "metadata": {},
          "output_type": "display_data"
        },
        {
          "data": {
            "text/markdown": [
              "***\n",
              "Best scoring parameter combination (in total):\n",
              "**`{'C': 10.0, 'gamma': 'auto', 'kernel': 'linear'}`** (61.77%)"
            ],
            "text/plain": [
              "<IPython.core.display.Markdown object>"
            ]
          },
          "metadata": {},
          "output_type": "display_data"
        }
      ],
      "source": [
        "split = StratifiedShuffleSplit(n_splits=1, test_size=0.2)\n",
        "\n",
        "grids: List[GridSearchCV] = []\n",
        "for kernel, gammaRange in (\n",
        "    ('linear', ['auto']),\n",
        "    ('rbf', np.logspace(base=10, start=-1, stop=2, num=4))\n",
        "):\n",
        "    printMd(f'### Using kernel: `{kernel}`')\n",
        "    grid = GridSearchCV(\n",
        "        estimator=SVC(),\n",
        "        param_grid=dict(\n",
        "            C=np.logspace(base=10, start=-1, stop=1, num=3),\n",
        "            gamma=gammaRange,\n",
        "            kernel=[kernel]\n",
        "        ),\n",
        "        cv=split,\n",
        "        verbose=2,\n",
        "        n_jobs=-1,\n",
        "        refit=False\n",
        "    )\n",
        "    grid.fit(X, Y)\n",
        "    printMd(f'Highest scoring parameter combination was: **`{grid.best_params_}`** ({grid.best_score_ * 100:.2f}%)')\n",
        "    grids.append(grid)\n",
        "\n",
        "grids = sorted(grids, key=lambda g: g.best_score_, reverse=True)\n",
        "printMd(f'***\\nBest scoring parameter combination (in total):\\n**`{grids[0].best_params_}`** ({grids[0].best_score_ * 100:.2f}%)')"
      ]
    },
    {
      "cell_type": "code",
      "execution_count": 56,
      "metadata": {
        "colab": {
          "base_uri": "https://localhost:8080/",
          "height": 397,
          "referenced_widgets": [
            "8d08b8d361334af6817cd28e18c33992",
            "48e3d8ae9e75480ea1cadad2731568cd",
            "636390e8bb134eb58e6b7d4c46138d38",
            "c29a478104b54c47be1de23b3a19d4fe",
            "4c6bf75f11d54a81b88e00a2e43035f4",
            "87ee7423d30a4c8b936949ea2c56e2b5",
            "41ff5e4008964f3f93401931e8c2aef2",
            "2079cbd713dd41e5868d2d1d91eb70fd",
            "574256fe7fc94163895c336b19684c16",
            "fa250d800a354dce9b0877ae4e653c7d",
            "6147817ff59d4f34b767c0bb467654af"
          ]
        },
        "id": "ngPJIa3Jntcm",
        "outputId": "0b8c0f52-5f9a-4234-c6d2-2383ecbec4b8"
      },
      "outputs": [
        {
          "data": {
            "text/markdown": [
              "***\n",
              "### Using `SVC(C=10.0, gamma='auto', kernel='linear')`:"
            ],
            "text/plain": [
              "<IPython.core.display.Markdown object>"
            ]
          },
          "metadata": {},
          "output_type": "display_data"
        },
        {
          "data": {
            "text/markdown": [
              "Performing **Cross Validation** on the total dataset, using Train/Test split:"
            ],
            "text/plain": [
              "<IPython.core.display.Markdown object>"
            ]
          },
          "metadata": {},
          "output_type": "display_data"
        },
        {
          "data": {
            "text/markdown": [
              "**Total Results**:"
            ],
            "text/plain": [
              "<IPython.core.display.Markdown object>"
            ]
          },
          "metadata": {},
          "output_type": "display_data"
        },
        {
          "data": {
            "text/html": [
              "\n",
              "  <div id=\"df-bf5a9282-79e3-4e49-9fe5-ca5e9c672b26\">\n",
              "    <div class=\"colab-df-container\">\n",
              "      <div>\n",
              "<style scoped>\n",
              "    .dataframe tbody tr th:only-of-type {\n",
              "        vertical-align: middle;\n",
              "    }\n",
              "\n",
              "    .dataframe tbody tr th {\n",
              "        vertical-align: top;\n",
              "    }\n",
              "\n",
              "    .dataframe thead th {\n",
              "        text-align: right;\n",
              "    }\n",
              "</style>\n",
              "<table border=\"1\" class=\"dataframe\">\n",
              "  <thead>\n",
              "    <tr style=\"text-align: right;\">\n",
              "      <th></th>\n",
              "      <th>Accuracy</th>\n",
              "      <th>F-Score</th>\n",
              "      <th>Precision</th>\n",
              "      <th>Recall</th>\n",
              "    </tr>\n",
              "  </thead>\n",
              "  <tbody>\n",
              "    <tr>\n",
              "      <th>Train</th>\n",
              "      <td>0.637887</td>\n",
              "      <td>0.594287</td>\n",
              "      <td>0.636291</td>\n",
              "      <td>0.578474</td>\n",
              "    </tr>\n",
              "    <tr>\n",
              "      <th>Test</th>\n",
              "      <td>0.616841</td>\n",
              "      <td>0.565936</td>\n",
              "      <td>0.604486</td>\n",
              "      <td>0.554556</td>\n",
              "    </tr>\n",
              "  </tbody>\n",
              "</table>\n",
              "</div>\n",
              "      <button class=\"colab-df-convert\" onclick=\"convertToInteractive('df-bf5a9282-79e3-4e49-9fe5-ca5e9c672b26')\"\n",
              "              title=\"Convert this dataframe to an interactive table.\"\n",
              "              style=\"display:none;\">\n",
              "        \n",
              "  <svg xmlns=\"http://www.w3.org/2000/svg\" height=\"24px\"viewBox=\"0 0 24 24\"\n",
              "       width=\"24px\">\n",
              "    <path d=\"M0 0h24v24H0V0z\" fill=\"none\"/>\n",
              "    <path d=\"M18.56 5.44l.94 2.06.94-2.06 2.06-.94-2.06-.94-.94-2.06-.94 2.06-2.06.94zm-11 1L8.5 8.5l.94-2.06 2.06-.94-2.06-.94L8.5 2.5l-.94 2.06-2.06.94zm10 10l.94 2.06.94-2.06 2.06-.94-2.06-.94-.94-2.06-.94 2.06-2.06.94z\"/><path d=\"M17.41 7.96l-1.37-1.37c-.4-.4-.92-.59-1.43-.59-.52 0-1.04.2-1.43.59L10.3 9.45l-7.72 7.72c-.78.78-.78 2.05 0 2.83L4 21.41c.39.39.9.59 1.41.59.51 0 1.02-.2 1.41-.59l7.78-7.78 2.81-2.81c.8-.78.8-2.07 0-2.86zM5.41 20L4 18.59l7.72-7.72 1.47 1.35L5.41 20z\"/>\n",
              "  </svg>\n",
              "      </button>\n",
              "      \n",
              "  <style>\n",
              "    .colab-df-container {\n",
              "      display:flex;\n",
              "      flex-wrap:wrap;\n",
              "      gap: 12px;\n",
              "    }\n",
              "\n",
              "    .colab-df-convert {\n",
              "      background-color: #E8F0FE;\n",
              "      border: none;\n",
              "      border-radius: 50%;\n",
              "      cursor: pointer;\n",
              "      display: none;\n",
              "      fill: #1967D2;\n",
              "      height: 32px;\n",
              "      padding: 0 0 0 0;\n",
              "      width: 32px;\n",
              "    }\n",
              "\n",
              "    .colab-df-convert:hover {\n",
              "      background-color: #E2EBFA;\n",
              "      box-shadow: 0px 1px 2px rgba(60, 64, 67, 0.3), 0px 1px 3px 1px rgba(60, 64, 67, 0.15);\n",
              "      fill: #174EA6;\n",
              "    }\n",
              "\n",
              "    [theme=dark] .colab-df-convert {\n",
              "      background-color: #3B4455;\n",
              "      fill: #D2E3FC;\n",
              "    }\n",
              "\n",
              "    [theme=dark] .colab-df-convert:hover {\n",
              "      background-color: #434B5C;\n",
              "      box-shadow: 0px 1px 3px 1px rgba(0, 0, 0, 0.15);\n",
              "      filter: drop-shadow(0px 1px 2px rgba(0, 0, 0, 0.3));\n",
              "      fill: #FFFFFF;\n",
              "    }\n",
              "  </style>\n",
              "\n",
              "      <script>\n",
              "        const buttonEl =\n",
              "          document.querySelector('#df-bf5a9282-79e3-4e49-9fe5-ca5e9c672b26 button.colab-df-convert');\n",
              "        buttonEl.style.display =\n",
              "          google.colab.kernel.accessAllowed ? 'block' : 'none';\n",
              "\n",
              "        async function convertToInteractive(key) {\n",
              "          const element = document.querySelector('#df-bf5a9282-79e3-4e49-9fe5-ca5e9c672b26');\n",
              "          const dataTable =\n",
              "            await google.colab.kernel.invokeFunction('convertToInteractive',\n",
              "                                                     [key], {});\n",
              "          if (!dataTable) return;\n",
              "\n",
              "          const docLinkHtml = 'Like what you see? Visit the ' +\n",
              "            '<a target=\"_blank\" href=https://colab.research.google.com/notebooks/data_table.ipynb>data table notebook</a>'\n",
              "            + ' to learn more about interactive tables.';\n",
              "          element.innerHTML = '';\n",
              "          dataTable['output_type'] = 'display_data';\n",
              "          await google.colab.output.renderOutput(dataTable, element);\n",
              "          const docLink = document.createElement('div');\n",
              "          docLink.innerHTML = docLinkHtml;\n",
              "          element.appendChild(docLink);\n",
              "        }\n",
              "      </script>\n",
              "    </div>\n",
              "  </div>\n",
              "  "
            ],
            "text/plain": [
              "       Accuracy   F-Score  Precision    Recall\n",
              "Train  0.637887  0.594287   0.636291  0.578474\n",
              "Test   0.616841  0.565936   0.604486  0.554556"
            ]
          },
          "metadata": {},
          "output_type": "display_data"
        },
        {
          "data": {
            "text/markdown": [
              "Performing **K-Fold Cross Validation**:"
            ],
            "text/plain": [
              "<IPython.core.display.Markdown object>"
            ]
          },
          "metadata": {},
          "output_type": "display_data"
        },
        {
          "data": {
            "application/vnd.jupyter.widget-view+json": {
              "model_id": "8d08b8d361334af6817cd28e18c33992",
              "version_major": 2,
              "version_minor": 0
            },
            "text/plain": [
              "           0/10 -- Time Elapsed: 00:00"
            ]
          },
          "metadata": {},
          "output_type": "display_data"
        },
        {
          "data": {
            "text/markdown": [
              "**Total Results** (mean fold results):"
            ],
            "text/plain": [
              "<IPython.core.display.Markdown object>"
            ]
          },
          "metadata": {},
          "output_type": "display_data"
        },
        {
          "data": {
            "text/html": [
              "\n",
              "  <div id=\"df-a4f6b3f2-9a4f-498b-a291-fe99c5677d8f\">\n",
              "    <div class=\"colab-df-container\">\n",
              "      <div>\n",
              "<style scoped>\n",
              "    .dataframe tbody tr th:only-of-type {\n",
              "        vertical-align: middle;\n",
              "    }\n",
              "\n",
              "    .dataframe tbody tr th {\n",
              "        vertical-align: top;\n",
              "    }\n",
              "\n",
              "    .dataframe thead th {\n",
              "        text-align: right;\n",
              "    }\n",
              "</style>\n",
              "<table border=\"1\" class=\"dataframe\">\n",
              "  <thead>\n",
              "    <tr style=\"text-align: right;\">\n",
              "      <th></th>\n",
              "      <th>Accuracy</th>\n",
              "      <th>F-Score</th>\n",
              "      <th>Precision</th>\n",
              "      <th>Recall</th>\n",
              "    </tr>\n",
              "  </thead>\n",
              "  <tbody>\n",
              "    <tr>\n",
              "      <th>Train</th>\n",
              "      <td>0.63912</td>\n",
              "      <td>0.596043</td>\n",
              "      <td>0.638868</td>\n",
              "      <td>0.579491</td>\n",
              "    </tr>\n",
              "    <tr>\n",
              "      <th>Test</th>\n",
              "      <td>0.61988</td>\n",
              "      <td>0.572628</td>\n",
              "      <td>0.613315</td>\n",
              "      <td>0.558393</td>\n",
              "    </tr>\n",
              "  </tbody>\n",
              "</table>\n",
              "</div>\n",
              "      <button class=\"colab-df-convert\" onclick=\"convertToInteractive('df-a4f6b3f2-9a4f-498b-a291-fe99c5677d8f')\"\n",
              "              title=\"Convert this dataframe to an interactive table.\"\n",
              "              style=\"display:none;\">\n",
              "        \n",
              "  <svg xmlns=\"http://www.w3.org/2000/svg\" height=\"24px\"viewBox=\"0 0 24 24\"\n",
              "       width=\"24px\">\n",
              "    <path d=\"M0 0h24v24H0V0z\" fill=\"none\"/>\n",
              "    <path d=\"M18.56 5.44l.94 2.06.94-2.06 2.06-.94-2.06-.94-.94-2.06-.94 2.06-2.06.94zm-11 1L8.5 8.5l.94-2.06 2.06-.94-2.06-.94L8.5 2.5l-.94 2.06-2.06.94zm10 10l.94 2.06.94-2.06 2.06-.94-2.06-.94-.94-2.06-.94 2.06-2.06.94z\"/><path d=\"M17.41 7.96l-1.37-1.37c-.4-.4-.92-.59-1.43-.59-.52 0-1.04.2-1.43.59L10.3 9.45l-7.72 7.72c-.78.78-.78 2.05 0 2.83L4 21.41c.39.39.9.59 1.41.59.51 0 1.02-.2 1.41-.59l7.78-7.78 2.81-2.81c.8-.78.8-2.07 0-2.86zM5.41 20L4 18.59l7.72-7.72 1.47 1.35L5.41 20z\"/>\n",
              "  </svg>\n",
              "      </button>\n",
              "      \n",
              "  <style>\n",
              "    .colab-df-container {\n",
              "      display:flex;\n",
              "      flex-wrap:wrap;\n",
              "      gap: 12px;\n",
              "    }\n",
              "\n",
              "    .colab-df-convert {\n",
              "      background-color: #E8F0FE;\n",
              "      border: none;\n",
              "      border-radius: 50%;\n",
              "      cursor: pointer;\n",
              "      display: none;\n",
              "      fill: #1967D2;\n",
              "      height: 32px;\n",
              "      padding: 0 0 0 0;\n",
              "      width: 32px;\n",
              "    }\n",
              "\n",
              "    .colab-df-convert:hover {\n",
              "      background-color: #E2EBFA;\n",
              "      box-shadow: 0px 1px 2px rgba(60, 64, 67, 0.3), 0px 1px 3px 1px rgba(60, 64, 67, 0.15);\n",
              "      fill: #174EA6;\n",
              "    }\n",
              "\n",
              "    [theme=dark] .colab-df-convert {\n",
              "      background-color: #3B4455;\n",
              "      fill: #D2E3FC;\n",
              "    }\n",
              "\n",
              "    [theme=dark] .colab-df-convert:hover {\n",
              "      background-color: #434B5C;\n",
              "      box-shadow: 0px 1px 3px 1px rgba(0, 0, 0, 0.15);\n",
              "      filter: drop-shadow(0px 1px 2px rgba(0, 0, 0, 0.3));\n",
              "      fill: #FFFFFF;\n",
              "    }\n",
              "  </style>\n",
              "\n",
              "      <script>\n",
              "        const buttonEl =\n",
              "          document.querySelector('#df-a4f6b3f2-9a4f-498b-a291-fe99c5677d8f button.colab-df-convert');\n",
              "        buttonEl.style.display =\n",
              "          google.colab.kernel.accessAllowed ? 'block' : 'none';\n",
              "\n",
              "        async function convertToInteractive(key) {\n",
              "          const element = document.querySelector('#df-a4f6b3f2-9a4f-498b-a291-fe99c5677d8f');\n",
              "          const dataTable =\n",
              "            await google.colab.kernel.invokeFunction('convertToInteractive',\n",
              "                                                     [key], {});\n",
              "          if (!dataTable) return;\n",
              "\n",
              "          const docLinkHtml = 'Like what you see? Visit the ' +\n",
              "            '<a target=\"_blank\" href=https://colab.research.google.com/notebooks/data_table.ipynb>data table notebook</a>'\n",
              "            + ' to learn more about interactive tables.';\n",
              "          element.innerHTML = '';\n",
              "          dataTable['output_type'] = 'display_data';\n",
              "          await google.colab.output.renderOutput(dataTable, element);\n",
              "          const docLink = document.createElement('div');\n",
              "          docLink.innerHTML = docLinkHtml;\n",
              "          element.appendChild(docLink);\n",
              "        }\n",
              "      </script>\n",
              "    </div>\n",
              "  </div>\n",
              "  "
            ],
            "text/plain": [
              "       Accuracy   F-Score  Precision    Recall\n",
              "Train   0.63912  0.596043   0.638868  0.579491\n",
              "Test    0.61988  0.572628   0.613315  0.558393"
            ]
          },
          "metadata": {},
          "output_type": "display_data"
        }
      ],
      "source": [
        "svcFactory = lambda: SVC(**grids[0].best_params_)\n",
        "\n",
        "model = svcFactory()\n",
        "printMd(f'***\\n### Using `{model}`:')\n",
        "\n",
        "printMd(f'Performing **Cross Validation** on the total dataset, using Train/Test split:')\n",
        "results = classifier.performCrossValidation(model)\n",
        "printMd('**Total Results**:')\n",
        "display(results)\n",
        "\n",
        "printMd(f'Performing **K-Fold Cross Validation**:')\n",
        "results = classifier.performKFold(k=10, modelFactory=svcFactory, verbose=True)\n",
        "printMd('**Total Results** (mean fold results):')\n",
        "display(results)"
      ]
    }
  ],
  "metadata": {
    "colab": {
      "provenance": []
    },
    "kernelspec": {
      "display_name": "Python 3",
      "language": "python",
      "name": "python3"
    },
    "language_info": {
      "codemirror_mode": {
        "name": "ipython",
        "version": 3
      },
      "file_extension": ".py",
      "mimetype": "text/x-python",
      "name": "python",
      "nbconvert_exporter": "python",
      "pygments_lexer": "ipython3",
      "version": "3.8.10"
    },
    "orig_nbformat": 4,
    "widgets": {
      "application/vnd.jupyter.widget-state+json": {
        "0b4e11e4cacc49f2a81c5089db1c80fe": {
          "model_module": "@jupyter-widgets/controls",
          "model_module_version": "1.5.0",
          "model_name": "ProgressStyleModel",
          "state": {
            "_model_module": "@jupyter-widgets/controls",
            "_model_module_version": "1.5.0",
            "_model_name": "ProgressStyleModel",
            "_view_count": null,
            "_view_module": "@jupyter-widgets/base",
            "_view_module_version": "1.2.0",
            "_view_name": "StyleView",
            "bar_color": null,
            "description_width": ""
          }
        },
        "2079cbd713dd41e5868d2d1d91eb70fd": {
          "model_module": "@jupyter-widgets/base",
          "model_module_version": "1.2.0",
          "model_name": "LayoutModel",
          "state": {
            "_model_module": "@jupyter-widgets/base",
            "_model_module_version": "1.2.0",
            "_model_name": "LayoutModel",
            "_view_count": null,
            "_view_module": "@jupyter-widgets/base",
            "_view_module_version": "1.2.0",
            "_view_name": "LayoutView",
            "align_content": null,
            "align_items": null,
            "align_self": null,
            "border": null,
            "bottom": null,
            "display": null,
            "flex": null,
            "flex_flow": null,
            "grid_area": null,
            "grid_auto_columns": null,
            "grid_auto_flow": null,
            "grid_auto_rows": null,
            "grid_column": null,
            "grid_gap": null,
            "grid_row": null,
            "grid_template_areas": null,
            "grid_template_columns": null,
            "grid_template_rows": null,
            "height": null,
            "justify_content": null,
            "justify_items": null,
            "left": null,
            "margin": null,
            "max_height": null,
            "max_width": null,
            "min_height": null,
            "min_width": null,
            "object_fit": null,
            "object_position": null,
            "order": null,
            "overflow": null,
            "overflow_x": null,
            "overflow_y": null,
            "padding": null,
            "right": null,
            "top": null,
            "visibility": null,
            "width": null
          }
        },
        "399c575558724ff8a2da0e17cadec752": {
          "model_module": "@jupyter-widgets/controls",
          "model_module_version": "1.5.0",
          "model_name": "DescriptionStyleModel",
          "state": {
            "_model_module": "@jupyter-widgets/controls",
            "_model_module_version": "1.5.0",
            "_model_name": "DescriptionStyleModel",
            "_view_count": null,
            "_view_module": "@jupyter-widgets/base",
            "_view_module_version": "1.2.0",
            "_view_name": "StyleView",
            "description_width": ""
          }
        },
        "4029d49491de464cb5da616c20a7af8e": {
          "model_module": "@jupyter-widgets/base",
          "model_module_version": "1.2.0",
          "model_name": "LayoutModel",
          "state": {
            "_model_module": "@jupyter-widgets/base",
            "_model_module_version": "1.2.0",
            "_model_name": "LayoutModel",
            "_view_count": null,
            "_view_module": "@jupyter-widgets/base",
            "_view_module_version": "1.2.0",
            "_view_name": "LayoutView",
            "align_content": null,
            "align_items": null,
            "align_self": null,
            "border": null,
            "bottom": null,
            "display": null,
            "flex": null,
            "flex_flow": null,
            "grid_area": null,
            "grid_auto_columns": null,
            "grid_auto_flow": null,
            "grid_auto_rows": null,
            "grid_column": null,
            "grid_gap": null,
            "grid_row": null,
            "grid_template_areas": null,
            "grid_template_columns": null,
            "grid_template_rows": null,
            "height": null,
            "justify_content": null,
            "justify_items": null,
            "left": null,
            "margin": null,
            "max_height": null,
            "max_width": null,
            "min_height": null,
            "min_width": null,
            "object_fit": null,
            "object_position": null,
            "order": null,
            "overflow": null,
            "overflow_x": null,
            "overflow_y": null,
            "padding": null,
            "right": null,
            "top": null,
            "visibility": null,
            "width": null
          }
        },
        "41ff5e4008964f3f93401931e8c2aef2": {
          "model_module": "@jupyter-widgets/controls",
          "model_module_version": "1.5.0",
          "model_name": "DescriptionStyleModel",
          "state": {
            "_model_module": "@jupyter-widgets/controls",
            "_model_module_version": "1.5.0",
            "_model_name": "DescriptionStyleModel",
            "_view_count": null,
            "_view_module": "@jupyter-widgets/base",
            "_view_module_version": "1.2.0",
            "_view_name": "StyleView",
            "description_width": ""
          }
        },
        "42c2d05af92546438e76203ffd74e231": {
          "model_module": "@jupyter-widgets/controls",
          "model_module_version": "1.5.0",
          "model_name": "DescriptionStyleModel",
          "state": {
            "_model_module": "@jupyter-widgets/controls",
            "_model_module_version": "1.5.0",
            "_model_name": "DescriptionStyleModel",
            "_view_count": null,
            "_view_module": "@jupyter-widgets/base",
            "_view_module_version": "1.2.0",
            "_view_name": "StyleView",
            "description_width": ""
          }
        },
        "442cbd35d58d4214b8882e179f6e0f0e": {
          "model_module": "@jupyter-widgets/controls",
          "model_module_version": "1.5.0",
          "model_name": "FloatProgressModel",
          "state": {
            "_dom_classes": [],
            "_model_module": "@jupyter-widgets/controls",
            "_model_module_version": "1.5.0",
            "_model_name": "FloatProgressModel",
            "_view_count": null,
            "_view_module": "@jupyter-widgets/controls",
            "_view_module_version": "1.5.0",
            "_view_name": "ProgressView",
            "bar_style": "success",
            "description": "",
            "description_tooltip": null,
            "layout": "IPY_MODEL_da5b73691dcf46118afee32f0da258a0",
            "max": 10,
            "min": 0,
            "orientation": "horizontal",
            "style": "IPY_MODEL_0b4e11e4cacc49f2a81c5089db1c80fe",
            "value": 10
          }
        },
        "46b55aa0b62041c4b64e86dc34d0fd34": {
          "model_module": "@jupyter-widgets/controls",
          "model_module_version": "1.5.0",
          "model_name": "HTMLModel",
          "state": {
            "_dom_classes": [],
            "_model_module": "@jupyter-widgets/controls",
            "_model_module_version": "1.5.0",
            "_model_name": "HTMLModel",
            "_view_count": null,
            "_view_module": "@jupyter-widgets/controls",
            "_view_module_version": "1.5.0",
            "_view_name": "HTMLView",
            "description": "",
            "description_tooltip": null,
            "layout": "IPY_MODEL_6fa8002464b54a9890a428ff2e69b340",
            "placeholder": "​",
            "style": "IPY_MODEL_f5928b846e9740c9ad705caab13dc9f1",
            "value": ""
          }
        },
        "48e3d8ae9e75480ea1cadad2731568cd": {
          "model_module": "@jupyter-widgets/controls",
          "model_module_version": "1.5.0",
          "model_name": "HTMLModel",
          "state": {
            "_dom_classes": [],
            "_model_module": "@jupyter-widgets/controls",
            "_model_module_version": "1.5.0",
            "_model_name": "HTMLModel",
            "_view_count": null,
            "_view_module": "@jupyter-widgets/controls",
            "_view_module_version": "1.5.0",
            "_view_name": "HTMLView",
            "description": "",
            "description_tooltip": null,
            "layout": "IPY_MODEL_87ee7423d30a4c8b936949ea2c56e2b5",
            "placeholder": "​",
            "style": "IPY_MODEL_41ff5e4008964f3f93401931e8c2aef2",
            "value": ""
          }
        },
        "4b3470fa287549e393bcf5e4e6607b45": {
          "model_module": "@jupyter-widgets/controls",
          "model_module_version": "1.5.0",
          "model_name": "FloatProgressModel",
          "state": {
            "_dom_classes": [],
            "_model_module": "@jupyter-widgets/controls",
            "_model_module_version": "1.5.0",
            "_model_name": "FloatProgressModel",
            "_view_count": null,
            "_view_module": "@jupyter-widgets/controls",
            "_view_module_version": "1.5.0",
            "_view_name": "ProgressView",
            "bar_style": "success",
            "description": "",
            "description_tooltip": null,
            "layout": "IPY_MODEL_4029d49491de464cb5da616c20a7af8e",
            "max": 1000,
            "min": 0,
            "orientation": "horizontal",
            "style": "IPY_MODEL_9972d2f0defd4e61a356f53b2fc58dc8",
            "value": 1000
          }
        },
        "4b368a19031646498940f3a8a9172b30": {
          "model_module": "@jupyter-widgets/base",
          "model_module_version": "1.2.0",
          "model_name": "LayoutModel",
          "state": {
            "_model_module": "@jupyter-widgets/base",
            "_model_module_version": "1.2.0",
            "_model_name": "LayoutModel",
            "_view_count": null,
            "_view_module": "@jupyter-widgets/base",
            "_view_module_version": "1.2.0",
            "_view_name": "LayoutView",
            "align_content": null,
            "align_items": null,
            "align_self": null,
            "border": null,
            "bottom": null,
            "display": null,
            "flex": null,
            "flex_flow": null,
            "grid_area": null,
            "grid_auto_columns": null,
            "grid_auto_flow": null,
            "grid_auto_rows": null,
            "grid_column": null,
            "grid_gap": null,
            "grid_row": null,
            "grid_template_areas": null,
            "grid_template_columns": null,
            "grid_template_rows": null,
            "height": null,
            "justify_content": null,
            "justify_items": null,
            "left": null,
            "margin": null,
            "max_height": null,
            "max_width": null,
            "min_height": null,
            "min_width": null,
            "object_fit": null,
            "object_position": null,
            "order": null,
            "overflow": null,
            "overflow_x": null,
            "overflow_y": null,
            "padding": null,
            "right": null,
            "top": null,
            "visibility": null,
            "width": null
          }
        },
        "4c6bf75f11d54a81b88e00a2e43035f4": {
          "model_module": "@jupyter-widgets/base",
          "model_module_version": "1.2.0",
          "model_name": "LayoutModel",
          "state": {
            "_model_module": "@jupyter-widgets/base",
            "_model_module_version": "1.2.0",
            "_model_name": "LayoutModel",
            "_view_count": null,
            "_view_module": "@jupyter-widgets/base",
            "_view_module_version": "1.2.0",
            "_view_name": "LayoutView",
            "align_content": null,
            "align_items": null,
            "align_self": null,
            "border": null,
            "bottom": null,
            "display": null,
            "flex": null,
            "flex_flow": null,
            "grid_area": null,
            "grid_auto_columns": null,
            "grid_auto_flow": null,
            "grid_auto_rows": null,
            "grid_column": null,
            "grid_gap": null,
            "grid_row": null,
            "grid_template_areas": null,
            "grid_template_columns": null,
            "grid_template_rows": null,
            "height": null,
            "justify_content": null,
            "justify_items": null,
            "left": null,
            "margin": null,
            "max_height": null,
            "max_width": null,
            "min_height": null,
            "min_width": null,
            "object_fit": null,
            "object_position": null,
            "order": null,
            "overflow": null,
            "overflow_x": null,
            "overflow_y": null,
            "padding": null,
            "right": null,
            "top": null,
            "visibility": null,
            "width": null
          }
        },
        "574256fe7fc94163895c336b19684c16": {
          "model_module": "@jupyter-widgets/controls",
          "model_module_version": "1.5.0",
          "model_name": "ProgressStyleModel",
          "state": {
            "_model_module": "@jupyter-widgets/controls",
            "_model_module_version": "1.5.0",
            "_model_name": "ProgressStyleModel",
            "_view_count": null,
            "_view_module": "@jupyter-widgets/base",
            "_view_module_version": "1.2.0",
            "_view_name": "StyleView",
            "bar_color": null,
            "description_width": ""
          }
        },
        "578dca528216426ea6e8701d178e9466": {
          "model_module": "@jupyter-widgets/controls",
          "model_module_version": "1.5.0",
          "model_name": "HTMLModel",
          "state": {
            "_dom_classes": [],
            "_model_module": "@jupyter-widgets/controls",
            "_model_module_version": "1.5.0",
            "_model_name": "HTMLModel",
            "_view_count": null,
            "_view_module": "@jupyter-widgets/controls",
            "_view_module_version": "1.5.0",
            "_view_name": "HTMLView",
            "description": "",
            "description_tooltip": null,
            "layout": "IPY_MODEL_96e17b0467d44f13bb249b8ab78e544d",
            "placeholder": "​",
            "style": "IPY_MODEL_399c575558724ff8a2da0e17cadec752",
            "value": ""
          }
        },
        "5c41d3c7ce864ad0a1429d61979488f2": {
          "model_module": "@jupyter-widgets/controls",
          "model_module_version": "1.5.0",
          "model_name": "HTMLModel",
          "state": {
            "_dom_classes": [],
            "_model_module": "@jupyter-widgets/controls",
            "_model_module_version": "1.5.0",
            "_model_name": "HTMLModel",
            "_view_count": null,
            "_view_module": "@jupyter-widgets/controls",
            "_view_module_version": "1.5.0",
            "_view_name": "HTMLView",
            "description": "",
            "description_tooltip": null,
            "layout": "IPY_MODEL_c5f1f0e1a35e42dc9bc1bfdf8c821387",
            "placeholder": "​",
            "style": "IPY_MODEL_b3ad1c3aa70f4903ab2021ca053718d2",
            "value": " 10/10 -- Time Elapsed: 00:04"
          }
        },
        "5f37be8b45e94f6aa6a139a92e1bac28": {
          "model_module": "@jupyter-widgets/controls",
          "model_module_version": "1.5.0",
          "model_name": "HTMLModel",
          "state": {
            "_dom_classes": [],
            "_model_module": "@jupyter-widgets/controls",
            "_model_module_version": "1.5.0",
            "_model_name": "HTMLModel",
            "_view_count": null,
            "_view_module": "@jupyter-widgets/controls",
            "_view_module_version": "1.5.0",
            "_view_name": "HTMLView",
            "description": "",
            "description_tooltip": null,
            "layout": "IPY_MODEL_881d80fe6c024105a830870d55c2e560",
            "placeholder": "​",
            "style": "IPY_MODEL_42c2d05af92546438e76203ffd74e231",
            "value": " 1000/1000 -- Time Elapsed: 01:21"
          }
        },
        "6147817ff59d4f34b767c0bb467654af": {
          "model_module": "@jupyter-widgets/controls",
          "model_module_version": "1.5.0",
          "model_name": "DescriptionStyleModel",
          "state": {
            "_model_module": "@jupyter-widgets/controls",
            "_model_module_version": "1.5.0",
            "_model_name": "DescriptionStyleModel",
            "_view_count": null,
            "_view_module": "@jupyter-widgets/base",
            "_view_module_version": "1.2.0",
            "_view_name": "StyleView",
            "description_width": ""
          }
        },
        "636390e8bb134eb58e6b7d4c46138d38": {
          "model_module": "@jupyter-widgets/controls",
          "model_module_version": "1.5.0",
          "model_name": "FloatProgressModel",
          "state": {
            "_dom_classes": [],
            "_model_module": "@jupyter-widgets/controls",
            "_model_module_version": "1.5.0",
            "_model_name": "FloatProgressModel",
            "_view_count": null,
            "_view_module": "@jupyter-widgets/controls",
            "_view_module_version": "1.5.0",
            "_view_name": "ProgressView",
            "bar_style": "success",
            "description": "",
            "description_tooltip": null,
            "layout": "IPY_MODEL_2079cbd713dd41e5868d2d1d91eb70fd",
            "max": 10,
            "min": 0,
            "orientation": "horizontal",
            "style": "IPY_MODEL_574256fe7fc94163895c336b19684c16",
            "value": 10
          }
        },
        "6fa8002464b54a9890a428ff2e69b340": {
          "model_module": "@jupyter-widgets/base",
          "model_module_version": "1.2.0",
          "model_name": "LayoutModel",
          "state": {
            "_model_module": "@jupyter-widgets/base",
            "_model_module_version": "1.2.0",
            "_model_name": "LayoutModel",
            "_view_count": null,
            "_view_module": "@jupyter-widgets/base",
            "_view_module_version": "1.2.0",
            "_view_name": "LayoutView",
            "align_content": null,
            "align_items": null,
            "align_self": null,
            "border": null,
            "bottom": null,
            "display": null,
            "flex": null,
            "flex_flow": null,
            "grid_area": null,
            "grid_auto_columns": null,
            "grid_auto_flow": null,
            "grid_auto_rows": null,
            "grid_column": null,
            "grid_gap": null,
            "grid_row": null,
            "grid_template_areas": null,
            "grid_template_columns": null,
            "grid_template_rows": null,
            "height": null,
            "justify_content": null,
            "justify_items": null,
            "left": null,
            "margin": null,
            "max_height": null,
            "max_width": null,
            "min_height": null,
            "min_width": null,
            "object_fit": null,
            "object_position": null,
            "order": null,
            "overflow": null,
            "overflow_x": null,
            "overflow_y": null,
            "padding": null,
            "right": null,
            "top": null,
            "visibility": null,
            "width": null
          }
        },
        "78463bbae5b94ce4abb5ea7492c0a738": {
          "model_module": "@jupyter-widgets/controls",
          "model_module_version": "1.5.0",
          "model_name": "HTMLModel",
          "state": {
            "_dom_classes": [],
            "_model_module": "@jupyter-widgets/controls",
            "_model_module_version": "1.5.0",
            "_model_name": "HTMLModel",
            "_view_count": null,
            "_view_module": "@jupyter-widgets/controls",
            "_view_module_version": "1.5.0",
            "_view_name": "HTMLView",
            "description": "",
            "description_tooltip": null,
            "layout": "IPY_MODEL_db3878beaed3436ca3cbf1e1a9a3d5de",
            "placeholder": "​",
            "style": "IPY_MODEL_b412c09865a84735ba04cdc3afd6cc90",
            "value": ""
          }
        },
        "828ac1052ed64072b86b31582ba51b3f": {
          "model_module": "@jupyter-widgets/base",
          "model_module_version": "1.2.0",
          "model_name": "LayoutModel",
          "state": {
            "_model_module": "@jupyter-widgets/base",
            "_model_module_version": "1.2.0",
            "_model_name": "LayoutModel",
            "_view_count": null,
            "_view_module": "@jupyter-widgets/base",
            "_view_module_version": "1.2.0",
            "_view_name": "LayoutView",
            "align_content": null,
            "align_items": null,
            "align_self": null,
            "border": null,
            "bottom": null,
            "display": null,
            "flex": null,
            "flex_flow": null,
            "grid_area": null,
            "grid_auto_columns": null,
            "grid_auto_flow": null,
            "grid_auto_rows": null,
            "grid_column": null,
            "grid_gap": null,
            "grid_row": null,
            "grid_template_areas": null,
            "grid_template_columns": null,
            "grid_template_rows": null,
            "height": null,
            "justify_content": null,
            "justify_items": null,
            "left": null,
            "margin": null,
            "max_height": null,
            "max_width": null,
            "min_height": null,
            "min_width": null,
            "object_fit": null,
            "object_position": null,
            "order": null,
            "overflow": null,
            "overflow_x": null,
            "overflow_y": null,
            "padding": null,
            "right": null,
            "top": null,
            "visibility": null,
            "width": null
          }
        },
        "87ee7423d30a4c8b936949ea2c56e2b5": {
          "model_module": "@jupyter-widgets/base",
          "model_module_version": "1.2.0",
          "model_name": "LayoutModel",
          "state": {
            "_model_module": "@jupyter-widgets/base",
            "_model_module_version": "1.2.0",
            "_model_name": "LayoutModel",
            "_view_count": null,
            "_view_module": "@jupyter-widgets/base",
            "_view_module_version": "1.2.0",
            "_view_name": "LayoutView",
            "align_content": null,
            "align_items": null,
            "align_self": null,
            "border": null,
            "bottom": null,
            "display": null,
            "flex": null,
            "flex_flow": null,
            "grid_area": null,
            "grid_auto_columns": null,
            "grid_auto_flow": null,
            "grid_auto_rows": null,
            "grid_column": null,
            "grid_gap": null,
            "grid_row": null,
            "grid_template_areas": null,
            "grid_template_columns": null,
            "grid_template_rows": null,
            "height": null,
            "justify_content": null,
            "justify_items": null,
            "left": null,
            "margin": null,
            "max_height": null,
            "max_width": null,
            "min_height": null,
            "min_width": null,
            "object_fit": null,
            "object_position": null,
            "order": null,
            "overflow": null,
            "overflow_x": null,
            "overflow_y": null,
            "padding": null,
            "right": null,
            "top": null,
            "visibility": null,
            "width": null
          }
        },
        "881d80fe6c024105a830870d55c2e560": {
          "model_module": "@jupyter-widgets/base",
          "model_module_version": "1.2.0",
          "model_name": "LayoutModel",
          "state": {
            "_model_module": "@jupyter-widgets/base",
            "_model_module_version": "1.2.0",
            "_model_name": "LayoutModel",
            "_view_count": null,
            "_view_module": "@jupyter-widgets/base",
            "_view_module_version": "1.2.0",
            "_view_name": "LayoutView",
            "align_content": null,
            "align_items": null,
            "align_self": null,
            "border": null,
            "bottom": null,
            "display": null,
            "flex": null,
            "flex_flow": null,
            "grid_area": null,
            "grid_auto_columns": null,
            "grid_auto_flow": null,
            "grid_auto_rows": null,
            "grid_column": null,
            "grid_gap": null,
            "grid_row": null,
            "grid_template_areas": null,
            "grid_template_columns": null,
            "grid_template_rows": null,
            "height": null,
            "justify_content": null,
            "justify_items": null,
            "left": null,
            "margin": null,
            "max_height": null,
            "max_width": null,
            "min_height": null,
            "min_width": null,
            "object_fit": null,
            "object_position": null,
            "order": null,
            "overflow": null,
            "overflow_x": null,
            "overflow_y": null,
            "padding": null,
            "right": null,
            "top": null,
            "visibility": null,
            "width": null
          }
        },
        "8c2878ea879d4060afeafe7f9525e02d": {
          "model_module": "@jupyter-widgets/controls",
          "model_module_version": "1.5.0",
          "model_name": "HBoxModel",
          "state": {
            "_dom_classes": [],
            "_model_module": "@jupyter-widgets/controls",
            "_model_module_version": "1.5.0",
            "_model_name": "HBoxModel",
            "_view_count": null,
            "_view_module": "@jupyter-widgets/controls",
            "_view_module_version": "1.5.0",
            "_view_name": "HBoxView",
            "box_style": "",
            "children": [
              "IPY_MODEL_78463bbae5b94ce4abb5ea7492c0a738",
              "IPY_MODEL_442cbd35d58d4214b8882e179f6e0f0e",
              "IPY_MODEL_5c41d3c7ce864ad0a1429d61979488f2"
            ],
            "layout": "IPY_MODEL_828ac1052ed64072b86b31582ba51b3f"
          }
        },
        "8d08b8d361334af6817cd28e18c33992": {
          "model_module": "@jupyter-widgets/controls",
          "model_module_version": "1.5.0",
          "model_name": "HBoxModel",
          "state": {
            "_dom_classes": [],
            "_model_module": "@jupyter-widgets/controls",
            "_model_module_version": "1.5.0",
            "_model_name": "HBoxModel",
            "_view_count": null,
            "_view_module": "@jupyter-widgets/controls",
            "_view_module_version": "1.5.0",
            "_view_name": "HBoxView",
            "box_style": "",
            "children": [
              "IPY_MODEL_48e3d8ae9e75480ea1cadad2731568cd",
              "IPY_MODEL_636390e8bb134eb58e6b7d4c46138d38",
              "IPY_MODEL_c29a478104b54c47be1de23b3a19d4fe"
            ],
            "layout": "IPY_MODEL_4c6bf75f11d54a81b88e00a2e43035f4"
          }
        },
        "8efbc635eb6e48d4b677c23eb73ac4f0": {
          "model_module": "@jupyter-widgets/base",
          "model_module_version": "1.2.0",
          "model_name": "LayoutModel",
          "state": {
            "_model_module": "@jupyter-widgets/base",
            "_model_module_version": "1.2.0",
            "_model_name": "LayoutModel",
            "_view_count": null,
            "_view_module": "@jupyter-widgets/base",
            "_view_module_version": "1.2.0",
            "_view_name": "LayoutView",
            "align_content": null,
            "align_items": null,
            "align_self": null,
            "border": null,
            "bottom": null,
            "display": null,
            "flex": null,
            "flex_flow": null,
            "grid_area": null,
            "grid_auto_columns": null,
            "grid_auto_flow": null,
            "grid_auto_rows": null,
            "grid_column": null,
            "grid_gap": null,
            "grid_row": null,
            "grid_template_areas": null,
            "grid_template_columns": null,
            "grid_template_rows": null,
            "height": null,
            "justify_content": null,
            "justify_items": null,
            "left": null,
            "margin": null,
            "max_height": null,
            "max_width": null,
            "min_height": null,
            "min_width": null,
            "object_fit": null,
            "object_position": null,
            "order": null,
            "overflow": null,
            "overflow_x": null,
            "overflow_y": null,
            "padding": null,
            "right": null,
            "top": null,
            "visibility": null,
            "width": null
          }
        },
        "95b880eb07424852b9d9221c4c2ead69": {
          "model_module": "@jupyter-widgets/controls",
          "model_module_version": "1.5.0",
          "model_name": "ProgressStyleModel",
          "state": {
            "_model_module": "@jupyter-widgets/controls",
            "_model_module_version": "1.5.0",
            "_model_name": "ProgressStyleModel",
            "_view_count": null,
            "_view_module": "@jupyter-widgets/base",
            "_view_module_version": "1.2.0",
            "_view_name": "StyleView",
            "bar_color": null,
            "description_width": ""
          }
        },
        "96e17b0467d44f13bb249b8ab78e544d": {
          "model_module": "@jupyter-widgets/base",
          "model_module_version": "1.2.0",
          "model_name": "LayoutModel",
          "state": {
            "_model_module": "@jupyter-widgets/base",
            "_model_module_version": "1.2.0",
            "_model_name": "LayoutModel",
            "_view_count": null,
            "_view_module": "@jupyter-widgets/base",
            "_view_module_version": "1.2.0",
            "_view_name": "LayoutView",
            "align_content": null,
            "align_items": null,
            "align_self": null,
            "border": null,
            "bottom": null,
            "display": null,
            "flex": null,
            "flex_flow": null,
            "grid_area": null,
            "grid_auto_columns": null,
            "grid_auto_flow": null,
            "grid_auto_rows": null,
            "grid_column": null,
            "grid_gap": null,
            "grid_row": null,
            "grid_template_areas": null,
            "grid_template_columns": null,
            "grid_template_rows": null,
            "height": null,
            "justify_content": null,
            "justify_items": null,
            "left": null,
            "margin": null,
            "max_height": null,
            "max_width": null,
            "min_height": null,
            "min_width": null,
            "object_fit": null,
            "object_position": null,
            "order": null,
            "overflow": null,
            "overflow_x": null,
            "overflow_y": null,
            "padding": null,
            "right": null,
            "top": null,
            "visibility": null,
            "width": null
          }
        },
        "9972d2f0defd4e61a356f53b2fc58dc8": {
          "model_module": "@jupyter-widgets/controls",
          "model_module_version": "1.5.0",
          "model_name": "ProgressStyleModel",
          "state": {
            "_model_module": "@jupyter-widgets/controls",
            "_model_module_version": "1.5.0",
            "_model_name": "ProgressStyleModel",
            "_view_count": null,
            "_view_module": "@jupyter-widgets/base",
            "_view_module_version": "1.2.0",
            "_view_name": "StyleView",
            "bar_color": null,
            "description_width": ""
          }
        },
        "a0cc8422060b4e51bf8382c660442765": {
          "model_module": "@jupyter-widgets/controls",
          "model_module_version": "1.5.0",
          "model_name": "HBoxModel",
          "state": {
            "_dom_classes": [],
            "_model_module": "@jupyter-widgets/controls",
            "_model_module_version": "1.5.0",
            "_model_name": "HBoxModel",
            "_view_count": null,
            "_view_module": "@jupyter-widgets/controls",
            "_view_module_version": "1.5.0",
            "_view_name": "HBoxView",
            "box_style": "",
            "children": [
              "IPY_MODEL_46b55aa0b62041c4b64e86dc34d0fd34",
              "IPY_MODEL_e272a471d6124e6e93018572beeb8e37",
              "IPY_MODEL_c506fc7943b74fa5a8333df07c98ff6e"
            ],
            "layout": "IPY_MODEL_8efbc635eb6e48d4b677c23eb73ac4f0"
          }
        },
        "aab64614594740f39ffa591df650242e": {
          "model_module": "@jupyter-widgets/controls",
          "model_module_version": "1.5.0",
          "model_name": "HTMLModel",
          "state": {
            "_dom_classes": [],
            "_model_module": "@jupyter-widgets/controls",
            "_model_module_version": "1.5.0",
            "_model_name": "HTMLModel",
            "_view_count": null,
            "_view_module": "@jupyter-widgets/controls",
            "_view_module_version": "1.5.0",
            "_view_name": "HTMLView",
            "description": "",
            "description_tooltip": null,
            "layout": "IPY_MODEL_ee16bd4bb75f40ac84bb056efd0f36b7",
            "placeholder": "​",
            "style": "IPY_MODEL_efb58316a56349868d7d5e27f3540c07",
            "value": ""
          }
        },
        "ae2df40e9c2749b9a9f171a9fe7fd374": {
          "model_module": "@jupyter-widgets/controls",
          "model_module_version": "1.5.0",
          "model_name": "HBoxModel",
          "state": {
            "_dom_classes": [],
            "_model_module": "@jupyter-widgets/controls",
            "_model_module_version": "1.5.0",
            "_model_name": "HBoxModel",
            "_view_count": null,
            "_view_module": "@jupyter-widgets/controls",
            "_view_module_version": "1.5.0",
            "_view_name": "HBoxView",
            "box_style": "",
            "children": [
              "IPY_MODEL_aab64614594740f39ffa591df650242e",
              "IPY_MODEL_4b3470fa287549e393bcf5e4e6607b45",
              "IPY_MODEL_5f37be8b45e94f6aa6a139a92e1bac28"
            ],
            "layout": "IPY_MODEL_df764ea8c1414a709af2d7e284726319"
          }
        },
        "b3ad1c3aa70f4903ab2021ca053718d2": {
          "model_module": "@jupyter-widgets/controls",
          "model_module_version": "1.5.0",
          "model_name": "DescriptionStyleModel",
          "state": {
            "_model_module": "@jupyter-widgets/controls",
            "_model_module_version": "1.5.0",
            "_model_name": "DescriptionStyleModel",
            "_view_count": null,
            "_view_module": "@jupyter-widgets/base",
            "_view_module_version": "1.2.0",
            "_view_name": "StyleView",
            "description_width": ""
          }
        },
        "b412c09865a84735ba04cdc3afd6cc90": {
          "model_module": "@jupyter-widgets/controls",
          "model_module_version": "1.5.0",
          "model_name": "DescriptionStyleModel",
          "state": {
            "_model_module": "@jupyter-widgets/controls",
            "_model_module_version": "1.5.0",
            "_model_name": "DescriptionStyleModel",
            "_view_count": null,
            "_view_module": "@jupyter-widgets/base",
            "_view_module_version": "1.2.0",
            "_view_name": "StyleView",
            "description_width": ""
          }
        },
        "b448975c511540ddba952c7284a5c3ec": {
          "model_module": "@jupyter-widgets/controls",
          "model_module_version": "1.5.0",
          "model_name": "HTMLModel",
          "state": {
            "_dom_classes": [],
            "_model_module": "@jupyter-widgets/controls",
            "_model_module_version": "1.5.0",
            "_model_name": "HTMLModel",
            "_view_count": null,
            "_view_module": "@jupyter-widgets/controls",
            "_view_module_version": "1.5.0",
            "_view_name": "HTMLView",
            "description": "",
            "description_tooltip": null,
            "layout": "IPY_MODEL_b5bd2b42b759402da2926194d15e0ee8",
            "placeholder": "​",
            "style": "IPY_MODEL_c6264557a5a3456abc77e7f21e43cb8e",
            "value": " 1000/1000 -- Time Elapsed: 00:21"
          }
        },
        "b5bd2b42b759402da2926194d15e0ee8": {
          "model_module": "@jupyter-widgets/base",
          "model_module_version": "1.2.0",
          "model_name": "LayoutModel",
          "state": {
            "_model_module": "@jupyter-widgets/base",
            "_model_module_version": "1.2.0",
            "_model_name": "LayoutModel",
            "_view_count": null,
            "_view_module": "@jupyter-widgets/base",
            "_view_module_version": "1.2.0",
            "_view_name": "LayoutView",
            "align_content": null,
            "align_items": null,
            "align_self": null,
            "border": null,
            "bottom": null,
            "display": null,
            "flex": null,
            "flex_flow": null,
            "grid_area": null,
            "grid_auto_columns": null,
            "grid_auto_flow": null,
            "grid_auto_rows": null,
            "grid_column": null,
            "grid_gap": null,
            "grid_row": null,
            "grid_template_areas": null,
            "grid_template_columns": null,
            "grid_template_rows": null,
            "height": null,
            "justify_content": null,
            "justify_items": null,
            "left": null,
            "margin": null,
            "max_height": null,
            "max_width": null,
            "min_height": null,
            "min_width": null,
            "object_fit": null,
            "object_position": null,
            "order": null,
            "overflow": null,
            "overflow_x": null,
            "overflow_y": null,
            "padding": null,
            "right": null,
            "top": null,
            "visibility": null,
            "width": null
          }
        },
        "c29a478104b54c47be1de23b3a19d4fe": {
          "model_module": "@jupyter-widgets/controls",
          "model_module_version": "1.5.0",
          "model_name": "HTMLModel",
          "state": {
            "_dom_classes": [],
            "_model_module": "@jupyter-widgets/controls",
            "_model_module_version": "1.5.0",
            "_model_name": "HTMLModel",
            "_view_count": null,
            "_view_module": "@jupyter-widgets/controls",
            "_view_module_version": "1.5.0",
            "_view_name": "HTMLView",
            "description": "",
            "description_tooltip": null,
            "layout": "IPY_MODEL_fa250d800a354dce9b0877ae4e653c7d",
            "placeholder": "​",
            "style": "IPY_MODEL_6147817ff59d4f34b767c0bb467654af",
            "value": " 10/10 -- Time Elapsed: 09:20"
          }
        },
        "c506fc7943b74fa5a8333df07c98ff6e": {
          "model_module": "@jupyter-widgets/controls",
          "model_module_version": "1.5.0",
          "model_name": "HTMLModel",
          "state": {
            "_dom_classes": [],
            "_model_module": "@jupyter-widgets/controls",
            "_model_module_version": "1.5.0",
            "_model_name": "HTMLModel",
            "_view_count": null,
            "_view_module": "@jupyter-widgets/controls",
            "_view_module_version": "1.5.0",
            "_view_name": "HTMLView",
            "description": "",
            "description_tooltip": null,
            "layout": "IPY_MODEL_d3cfc24619834a72ae925f7eae1b2144",
            "placeholder": "​",
            "style": "IPY_MODEL_e76954d81b2140f4984e8eb4df9a004b",
            "value": " 10/10 -- Time Elapsed: 03:20"
          }
        },
        "c5f1f0e1a35e42dc9bc1bfdf8c821387": {
          "model_module": "@jupyter-widgets/base",
          "model_module_version": "1.2.0",
          "model_name": "LayoutModel",
          "state": {
            "_model_module": "@jupyter-widgets/base",
            "_model_module_version": "1.2.0",
            "_model_name": "LayoutModel",
            "_view_count": null,
            "_view_module": "@jupyter-widgets/base",
            "_view_module_version": "1.2.0",
            "_view_name": "LayoutView",
            "align_content": null,
            "align_items": null,
            "align_self": null,
            "border": null,
            "bottom": null,
            "display": null,
            "flex": null,
            "flex_flow": null,
            "grid_area": null,
            "grid_auto_columns": null,
            "grid_auto_flow": null,
            "grid_auto_rows": null,
            "grid_column": null,
            "grid_gap": null,
            "grid_row": null,
            "grid_template_areas": null,
            "grid_template_columns": null,
            "grid_template_rows": null,
            "height": null,
            "justify_content": null,
            "justify_items": null,
            "left": null,
            "margin": null,
            "max_height": null,
            "max_width": null,
            "min_height": null,
            "min_width": null,
            "object_fit": null,
            "object_position": null,
            "order": null,
            "overflow": null,
            "overflow_x": null,
            "overflow_y": null,
            "padding": null,
            "right": null,
            "top": null,
            "visibility": null,
            "width": null
          }
        },
        "c6264557a5a3456abc77e7f21e43cb8e": {
          "model_module": "@jupyter-widgets/controls",
          "model_module_version": "1.5.0",
          "model_name": "DescriptionStyleModel",
          "state": {
            "_model_module": "@jupyter-widgets/controls",
            "_model_module_version": "1.5.0",
            "_model_name": "DescriptionStyleModel",
            "_view_count": null,
            "_view_module": "@jupyter-widgets/base",
            "_view_module_version": "1.2.0",
            "_view_name": "StyleView",
            "description_width": ""
          }
        },
        "c983e046f63b45c0b3ac319bf283e1a5": {
          "model_module": "@jupyter-widgets/controls",
          "model_module_version": "1.5.0",
          "model_name": "HBoxModel",
          "state": {
            "_dom_classes": [],
            "_model_module": "@jupyter-widgets/controls",
            "_model_module_version": "1.5.0",
            "_model_name": "HBoxModel",
            "_view_count": null,
            "_view_module": "@jupyter-widgets/controls",
            "_view_module_version": "1.5.0",
            "_view_name": "HBoxView",
            "box_style": "",
            "children": [
              "IPY_MODEL_578dca528216426ea6e8701d178e9466",
              "IPY_MODEL_ca4ea0191aac4ae4ad005a901bf040cf",
              "IPY_MODEL_b448975c511540ddba952c7284a5c3ec"
            ],
            "layout": "IPY_MODEL_de135c49422548dcaa2770e3bba74523"
          }
        },
        "ca4ea0191aac4ae4ad005a901bf040cf": {
          "model_module": "@jupyter-widgets/controls",
          "model_module_version": "1.5.0",
          "model_name": "FloatProgressModel",
          "state": {
            "_dom_classes": [],
            "_model_module": "@jupyter-widgets/controls",
            "_model_module_version": "1.5.0",
            "_model_name": "FloatProgressModel",
            "_view_count": null,
            "_view_module": "@jupyter-widgets/controls",
            "_view_module_version": "1.5.0",
            "_view_name": "ProgressView",
            "bar_style": "success",
            "description": "",
            "description_tooltip": null,
            "layout": "IPY_MODEL_4b368a19031646498940f3a8a9172b30",
            "max": 1000,
            "min": 0,
            "orientation": "horizontal",
            "style": "IPY_MODEL_95b880eb07424852b9d9221c4c2ead69",
            "value": 1000
          }
        },
        "d18e2951c9cc41dc89f71ce59147fcb7": {
          "model_module": "@jupyter-widgets/controls",
          "model_module_version": "1.5.0",
          "model_name": "ProgressStyleModel",
          "state": {
            "_model_module": "@jupyter-widgets/controls",
            "_model_module_version": "1.5.0",
            "_model_name": "ProgressStyleModel",
            "_view_count": null,
            "_view_module": "@jupyter-widgets/base",
            "_view_module_version": "1.2.0",
            "_view_name": "StyleView",
            "bar_color": null,
            "description_width": ""
          }
        },
        "d3cfc24619834a72ae925f7eae1b2144": {
          "model_module": "@jupyter-widgets/base",
          "model_module_version": "1.2.0",
          "model_name": "LayoutModel",
          "state": {
            "_model_module": "@jupyter-widgets/base",
            "_model_module_version": "1.2.0",
            "_model_name": "LayoutModel",
            "_view_count": null,
            "_view_module": "@jupyter-widgets/base",
            "_view_module_version": "1.2.0",
            "_view_name": "LayoutView",
            "align_content": null,
            "align_items": null,
            "align_self": null,
            "border": null,
            "bottom": null,
            "display": null,
            "flex": null,
            "flex_flow": null,
            "grid_area": null,
            "grid_auto_columns": null,
            "grid_auto_flow": null,
            "grid_auto_rows": null,
            "grid_column": null,
            "grid_gap": null,
            "grid_row": null,
            "grid_template_areas": null,
            "grid_template_columns": null,
            "grid_template_rows": null,
            "height": null,
            "justify_content": null,
            "justify_items": null,
            "left": null,
            "margin": null,
            "max_height": null,
            "max_width": null,
            "min_height": null,
            "min_width": null,
            "object_fit": null,
            "object_position": null,
            "order": null,
            "overflow": null,
            "overflow_x": null,
            "overflow_y": null,
            "padding": null,
            "right": null,
            "top": null,
            "visibility": null,
            "width": null
          }
        },
        "d6806b27bc4248f18e2a2e6f9180f0b8": {
          "model_module": "@jupyter-widgets/base",
          "model_module_version": "1.2.0",
          "model_name": "LayoutModel",
          "state": {
            "_model_module": "@jupyter-widgets/base",
            "_model_module_version": "1.2.0",
            "_model_name": "LayoutModel",
            "_view_count": null,
            "_view_module": "@jupyter-widgets/base",
            "_view_module_version": "1.2.0",
            "_view_name": "LayoutView",
            "align_content": null,
            "align_items": null,
            "align_self": null,
            "border": null,
            "bottom": null,
            "display": null,
            "flex": null,
            "flex_flow": null,
            "grid_area": null,
            "grid_auto_columns": null,
            "grid_auto_flow": null,
            "grid_auto_rows": null,
            "grid_column": null,
            "grid_gap": null,
            "grid_row": null,
            "grid_template_areas": null,
            "grid_template_columns": null,
            "grid_template_rows": null,
            "height": null,
            "justify_content": null,
            "justify_items": null,
            "left": null,
            "margin": null,
            "max_height": null,
            "max_width": null,
            "min_height": null,
            "min_width": null,
            "object_fit": null,
            "object_position": null,
            "order": null,
            "overflow": null,
            "overflow_x": null,
            "overflow_y": null,
            "padding": null,
            "right": null,
            "top": null,
            "visibility": null,
            "width": null
          }
        },
        "da5b73691dcf46118afee32f0da258a0": {
          "model_module": "@jupyter-widgets/base",
          "model_module_version": "1.2.0",
          "model_name": "LayoutModel",
          "state": {
            "_model_module": "@jupyter-widgets/base",
            "_model_module_version": "1.2.0",
            "_model_name": "LayoutModel",
            "_view_count": null,
            "_view_module": "@jupyter-widgets/base",
            "_view_module_version": "1.2.0",
            "_view_name": "LayoutView",
            "align_content": null,
            "align_items": null,
            "align_self": null,
            "border": null,
            "bottom": null,
            "display": null,
            "flex": null,
            "flex_flow": null,
            "grid_area": null,
            "grid_auto_columns": null,
            "grid_auto_flow": null,
            "grid_auto_rows": null,
            "grid_column": null,
            "grid_gap": null,
            "grid_row": null,
            "grid_template_areas": null,
            "grid_template_columns": null,
            "grid_template_rows": null,
            "height": null,
            "justify_content": null,
            "justify_items": null,
            "left": null,
            "margin": null,
            "max_height": null,
            "max_width": null,
            "min_height": null,
            "min_width": null,
            "object_fit": null,
            "object_position": null,
            "order": null,
            "overflow": null,
            "overflow_x": null,
            "overflow_y": null,
            "padding": null,
            "right": null,
            "top": null,
            "visibility": null,
            "width": null
          }
        },
        "db3878beaed3436ca3cbf1e1a9a3d5de": {
          "model_module": "@jupyter-widgets/base",
          "model_module_version": "1.2.0",
          "model_name": "LayoutModel",
          "state": {
            "_model_module": "@jupyter-widgets/base",
            "_model_module_version": "1.2.0",
            "_model_name": "LayoutModel",
            "_view_count": null,
            "_view_module": "@jupyter-widgets/base",
            "_view_module_version": "1.2.0",
            "_view_name": "LayoutView",
            "align_content": null,
            "align_items": null,
            "align_self": null,
            "border": null,
            "bottom": null,
            "display": null,
            "flex": null,
            "flex_flow": null,
            "grid_area": null,
            "grid_auto_columns": null,
            "grid_auto_flow": null,
            "grid_auto_rows": null,
            "grid_column": null,
            "grid_gap": null,
            "grid_row": null,
            "grid_template_areas": null,
            "grid_template_columns": null,
            "grid_template_rows": null,
            "height": null,
            "justify_content": null,
            "justify_items": null,
            "left": null,
            "margin": null,
            "max_height": null,
            "max_width": null,
            "min_height": null,
            "min_width": null,
            "object_fit": null,
            "object_position": null,
            "order": null,
            "overflow": null,
            "overflow_x": null,
            "overflow_y": null,
            "padding": null,
            "right": null,
            "top": null,
            "visibility": null,
            "width": null
          }
        },
        "de135c49422548dcaa2770e3bba74523": {
          "model_module": "@jupyter-widgets/base",
          "model_module_version": "1.2.0",
          "model_name": "LayoutModel",
          "state": {
            "_model_module": "@jupyter-widgets/base",
            "_model_module_version": "1.2.0",
            "_model_name": "LayoutModel",
            "_view_count": null,
            "_view_module": "@jupyter-widgets/base",
            "_view_module_version": "1.2.0",
            "_view_name": "LayoutView",
            "align_content": null,
            "align_items": null,
            "align_self": null,
            "border": null,
            "bottom": null,
            "display": null,
            "flex": null,
            "flex_flow": null,
            "grid_area": null,
            "grid_auto_columns": null,
            "grid_auto_flow": null,
            "grid_auto_rows": null,
            "grid_column": null,
            "grid_gap": null,
            "grid_row": null,
            "grid_template_areas": null,
            "grid_template_columns": null,
            "grid_template_rows": null,
            "height": null,
            "justify_content": null,
            "justify_items": null,
            "left": null,
            "margin": null,
            "max_height": null,
            "max_width": null,
            "min_height": null,
            "min_width": null,
            "object_fit": null,
            "object_position": null,
            "order": null,
            "overflow": null,
            "overflow_x": null,
            "overflow_y": null,
            "padding": null,
            "right": null,
            "top": null,
            "visibility": null,
            "width": null
          }
        },
        "df764ea8c1414a709af2d7e284726319": {
          "model_module": "@jupyter-widgets/base",
          "model_module_version": "1.2.0",
          "model_name": "LayoutModel",
          "state": {
            "_model_module": "@jupyter-widgets/base",
            "_model_module_version": "1.2.0",
            "_model_name": "LayoutModel",
            "_view_count": null,
            "_view_module": "@jupyter-widgets/base",
            "_view_module_version": "1.2.0",
            "_view_name": "LayoutView",
            "align_content": null,
            "align_items": null,
            "align_self": null,
            "border": null,
            "bottom": null,
            "display": null,
            "flex": null,
            "flex_flow": null,
            "grid_area": null,
            "grid_auto_columns": null,
            "grid_auto_flow": null,
            "grid_auto_rows": null,
            "grid_column": null,
            "grid_gap": null,
            "grid_row": null,
            "grid_template_areas": null,
            "grid_template_columns": null,
            "grid_template_rows": null,
            "height": null,
            "justify_content": null,
            "justify_items": null,
            "left": null,
            "margin": null,
            "max_height": null,
            "max_width": null,
            "min_height": null,
            "min_width": null,
            "object_fit": null,
            "object_position": null,
            "order": null,
            "overflow": null,
            "overflow_x": null,
            "overflow_y": null,
            "padding": null,
            "right": null,
            "top": null,
            "visibility": null,
            "width": null
          }
        },
        "e272a471d6124e6e93018572beeb8e37": {
          "model_module": "@jupyter-widgets/controls",
          "model_module_version": "1.5.0",
          "model_name": "FloatProgressModel",
          "state": {
            "_dom_classes": [],
            "_model_module": "@jupyter-widgets/controls",
            "_model_module_version": "1.5.0",
            "_model_name": "FloatProgressModel",
            "_view_count": null,
            "_view_module": "@jupyter-widgets/controls",
            "_view_module_version": "1.5.0",
            "_view_name": "ProgressView",
            "bar_style": "success",
            "description": "",
            "description_tooltip": null,
            "layout": "IPY_MODEL_d6806b27bc4248f18e2a2e6f9180f0b8",
            "max": 10,
            "min": 0,
            "orientation": "horizontal",
            "style": "IPY_MODEL_d18e2951c9cc41dc89f71ce59147fcb7",
            "value": 10
          }
        },
        "e76954d81b2140f4984e8eb4df9a004b": {
          "model_module": "@jupyter-widgets/controls",
          "model_module_version": "1.5.0",
          "model_name": "DescriptionStyleModel",
          "state": {
            "_model_module": "@jupyter-widgets/controls",
            "_model_module_version": "1.5.0",
            "_model_name": "DescriptionStyleModel",
            "_view_count": null,
            "_view_module": "@jupyter-widgets/base",
            "_view_module_version": "1.2.0",
            "_view_name": "StyleView",
            "description_width": ""
          }
        },
        "ee16bd4bb75f40ac84bb056efd0f36b7": {
          "model_module": "@jupyter-widgets/base",
          "model_module_version": "1.2.0",
          "model_name": "LayoutModel",
          "state": {
            "_model_module": "@jupyter-widgets/base",
            "_model_module_version": "1.2.0",
            "_model_name": "LayoutModel",
            "_view_count": null,
            "_view_module": "@jupyter-widgets/base",
            "_view_module_version": "1.2.0",
            "_view_name": "LayoutView",
            "align_content": null,
            "align_items": null,
            "align_self": null,
            "border": null,
            "bottom": null,
            "display": null,
            "flex": null,
            "flex_flow": null,
            "grid_area": null,
            "grid_auto_columns": null,
            "grid_auto_flow": null,
            "grid_auto_rows": null,
            "grid_column": null,
            "grid_gap": null,
            "grid_row": null,
            "grid_template_areas": null,
            "grid_template_columns": null,
            "grid_template_rows": null,
            "height": null,
            "justify_content": null,
            "justify_items": null,
            "left": null,
            "margin": null,
            "max_height": null,
            "max_width": null,
            "min_height": null,
            "min_width": null,
            "object_fit": null,
            "object_position": null,
            "order": null,
            "overflow": null,
            "overflow_x": null,
            "overflow_y": null,
            "padding": null,
            "right": null,
            "top": null,
            "visibility": null,
            "width": null
          }
        },
        "efb58316a56349868d7d5e27f3540c07": {
          "model_module": "@jupyter-widgets/controls",
          "model_module_version": "1.5.0",
          "model_name": "DescriptionStyleModel",
          "state": {
            "_model_module": "@jupyter-widgets/controls",
            "_model_module_version": "1.5.0",
            "_model_name": "DescriptionStyleModel",
            "_view_count": null,
            "_view_module": "@jupyter-widgets/base",
            "_view_module_version": "1.2.0",
            "_view_name": "StyleView",
            "description_width": ""
          }
        },
        "f5928b846e9740c9ad705caab13dc9f1": {
          "model_module": "@jupyter-widgets/controls",
          "model_module_version": "1.5.0",
          "model_name": "DescriptionStyleModel",
          "state": {
            "_model_module": "@jupyter-widgets/controls",
            "_model_module_version": "1.5.0",
            "_model_name": "DescriptionStyleModel",
            "_view_count": null,
            "_view_module": "@jupyter-widgets/base",
            "_view_module_version": "1.2.0",
            "_view_name": "StyleView",
            "description_width": ""
          }
        },
        "fa250d800a354dce9b0877ae4e653c7d": {
          "model_module": "@jupyter-widgets/base",
          "model_module_version": "1.2.0",
          "model_name": "LayoutModel",
          "state": {
            "_model_module": "@jupyter-widgets/base",
            "_model_module_version": "1.2.0",
            "_model_name": "LayoutModel",
            "_view_count": null,
            "_view_module": "@jupyter-widgets/base",
            "_view_module_version": "1.2.0",
            "_view_name": "LayoutView",
            "align_content": null,
            "align_items": null,
            "align_self": null,
            "border": null,
            "bottom": null,
            "display": null,
            "flex": null,
            "flex_flow": null,
            "grid_area": null,
            "grid_auto_columns": null,
            "grid_auto_flow": null,
            "grid_auto_rows": null,
            "grid_column": null,
            "grid_gap": null,
            "grid_row": null,
            "grid_template_areas": null,
            "grid_template_columns": null,
            "grid_template_rows": null,
            "height": null,
            "justify_content": null,
            "justify_items": null,
            "left": null,
            "margin": null,
            "max_height": null,
            "max_width": null,
            "min_height": null,
            "min_width": null,
            "object_fit": null,
            "object_position": null,
            "order": null,
            "overflow": null,
            "overflow_x": null,
            "overflow_y": null,
            "padding": null,
            "right": null,
            "top": null,
            "visibility": null,
            "width": null
          }
        }
      }
    }
  },
  "nbformat": 4,
  "nbformat_minor": 0
}
