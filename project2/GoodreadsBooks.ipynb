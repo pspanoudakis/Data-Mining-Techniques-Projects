{
  "cells": [
    {
      "attachments": {},
      "cell_type": "markdown",
      "metadata": {
        "id": "tYHzFubCb-2D"
      },
      "source": [
        "**Pavlos Spanoudakis (sdi1800184)**\\\n",
        "**Theodora Troizi (sdi1800197)**\n",
        "### Homework 2 on Data Mining Techniques class\n",
        "## Goodreads Books Recommendation & Classification"
      ]
    },
    {
      "cell_type": "code",
      "execution_count": 1,
      "metadata": {
        "colab": {
          "base_uri": "https://localhost:8080/"
        },
        "id": "7z-NZTPXb-2F",
        "outputId": "585a7410-2c57-4bf5-fc0b-8239d6fc3066"
      },
      "outputs": [
        {
          "name": "stderr",
          "output_type": "stream",
          "text": [
            "[nltk_data] Downloading package stopwords to /home/pavlos/nltk_data...\n",
            "[nltk_data]   Package stopwords is already up-to-date!\n"
          ]
        }
      ],
      "source": [
        "### Standard Modules ###\n",
        "\n",
        "# Type Hints\n",
        "from typing import Iterable, List, Callable\n",
        "\n",
        "# from typing_extensions import NotRequired #, ParamSpec\n",
        "\n",
        "from collections import defaultdict\n",
        "import ast\n",
        "import string\n",
        "import re\n",
        "import io\n",
        "import requests\n",
        "import gc\n",
        "# import warnings\n",
        "\n",
        "### Non-standard Modules ###\n",
        "\n",
        "from PIL import Image\n",
        "import pandas as pd\n",
        "import numpy as np\n",
        "import seaborn as sns\n",
        "import matplotlib.pyplot as plt\n",
        "# sklearn\n",
        "from sklearn.feature_extraction.text import TfidfVectorizer\n",
        "from wordcloud import WordCloud\n",
        "# nltk\n",
        "import nltk\n",
        "nltk.download('stopwords')\n",
        "# ipynb-specific\n",
        "from IPython.display import display"
      ]
    },
    {
      "attachments": {},
      "cell_type": "markdown",
      "metadata": {
        "id": "q4ckl22X8B3X"
      },
      "source": [
        "Importing custom modules and reading the dataset"
      ]
    },
    {
      "cell_type": "code",
      "execution_count": 2,
      "metadata": {
        "colab": {
          "base_uri": "https://localhost:8080/"
        },
        "id": "4_-P3cLN7-x0",
        "outputId": "7a1bc5f2-9c9a-492d-bc61-6cbb0c2c82f6"
      },
      "outputs": [
        {
          "name": "stdout",
          "output_type": "stream",
          "text": [
            "/home/pavlos/Data-Mining-Techniques-Projects/project2\n"
          ]
        }
      ],
      "source": [
        "CSV_PATH = './books_1.Best_Books_Ever.csv'\n",
        "\"\"\"\n",
        "     The path to read the dataset from.\n",
        "     It should be set to a relative path under `/content/gdrive/My Drive/`,\n",
        "     if expected to be found from Google Drive.\n",
        "\"\"\"\n",
        "\n",
        "USE_GDRIVE = True\n",
        "\"\"\"\n",
        "\n",
        "\"\"\"\n",
        "\n",
        "def mountDrive() -> str:\n",
        "    \"\"\"\n",
        "        Attempts to mount Google Drive, if `USE_GDRIVE` is `True`.\n",
        "        If this is the case and this notebook is running on Google Colab\n",
        "        (`google.colab` module is available), it returns the absolute mount path.\n",
        "        Otherwise, it returns `.`\n",
        "    \"\"\"\n",
        "    try:\n",
        "        from google.colab import drive # type: ignore\n",
        "        drive.mount('/content/gdrive')\n",
        "        return '/content/gdrive/MyDrive/goodreads/'\n",
        "    except ImportError:\n",
        "        return '.'\n",
        "\n",
        "if USE_GDRIVE:\n",
        "    importsPath = mountDrive()\n",
        "    %cd {importsPath}\n",
        "\n",
        "### Custom Modules ###\n",
        "\n",
        "from modules.utils import printMd, printDatasetShape, STOP_WORDS, DataColumn, runWithNoWarnings\n",
        "from modules.year_extractor import YearExtractor\n",
        "from modules.generators import AnswerGenerator, TopColumnValuesAnswerGenerator\n",
        "from modules.questions import AnswerGeneratorQuestion, TopColumnValuesQuestion\n",
        "from modules.recommender import BookRecommender\n",
        "\n",
        "def readDataset() -> pd.DataFrame:\n",
        "    \"\"\"\n",
        "        Reads the dataset using `CSV_PATH`.\n",
        "    \"\"\"\n",
        "    return pd.read_csv(CSV_PATH)"
      ]
    },
    {
      "attachments": {},
      "cell_type": "markdown",
      "metadata": {
        "id": "sUCID_dzb-2H"
      },
      "source": [
        "### Dataset Preprocessing"
      ]
    },
    {
      "cell_type": "code",
      "execution_count": 3,
      "metadata": {
        "id": "871jOXUNb-2H"
      },
      "outputs": [],
      "source": [
        "def getFilteredColumns(df: pd.DataFrame, colsToIgnore: Iterable[str]) -> List[str]:\n",
        "    return [ c for c in df.columns if c not in colsToIgnore ]\n",
        "\n",
        "def extraDatasetNans(df: pd.DataFrame):\n",
        "    \"\"\"\n",
        "        Returns a single column, boolean `DataFrame`, indicating `df`\n",
        "        rows that should be considered NaN as well.\n",
        "    \"\"\" \n",
        "\n",
        "    return (\n",
        "        (df[DataColumn.RATINGSBYSTARS] == '[]')\n",
        "        |\n",
        "        (df[DataColumn.GENRES] == '[]')\n",
        "    )\n",
        "\n",
        "def dropNaNRows(df: pd.DataFrame, colsToIgnore: Iterable[str]):\n",
        "    \"\"\"\n",
        "        Drops rows in `df` with NaN values in columns *not* in `colsToIgnore`.\n",
        "    \"\"\"\n",
        "\n",
        "    cols = getFilteredColumns(df, colsToIgnore)\n",
        "\n",
        "    df.dropna(subset=cols, inplace=True)\n",
        "    df.drop(df[extraDatasetNans(df)].index, inplace=True)\n",
        "    df.reset_index(inplace=True, drop=True)\n",
        "\n",
        "def countMissingByColumn(df: pd.DataFrame, colsToIgnore: Iterable[str]):\n",
        "    \"\"\"\n",
        "        Returns a `DataFrame` which includes one row for each column\n",
        "        of `df` with at least one missing value.\n",
        "        \n",
        "        Each row contains the name of the respective column,\n",
        "        as well as the amount of missing values for that column.\n",
        "    \"\"\"\n",
        "\n",
        "    cols = getFilteredColumns(df, colsToIgnore)\n",
        "    nans = df[cols].isna().sum()\n",
        "    extras = df[[DataColumn.RATINGSBYSTARS, DataColumn.GENRES]] \n",
        "    extras = (extras[extraDatasetNans(extras)] == '[]').sum()\n",
        "\n",
        "    total = pd.concat([nans.loc[nans > 0], extras.loc[extras > 0]])\n",
        "    ret = pd.DataFrame(total.sort_values(ascending=False))\n",
        "    ret.columns = ['Missing']\n",
        "    return ret"
      ]
    },
    {
      "cell_type": "code",
      "execution_count": 4,
      "metadata": {
        "colab": {
          "base_uri": "https://localhost:8080/"
        },
        "id": "LiPs7Yzeb-2I",
        "outputId": "90531f01-a97f-4dc7-c2d3-d39fbad8316d"
      },
      "outputs": [
        {
          "name": "stdout",
          "output_type": "stream",
          "text": [
            "Dataset Shape:\n",
            "Rows: 52478, Columns: 25\n"
          ]
        }
      ],
      "source": [
        "dataDf = readDataset()\n",
        "printDatasetShape(dataDf)"
      ]
    },
    {
      "cell_type": "code",
      "execution_count": 5,
      "metadata": {
        "colab": {
          "base_uri": "https://localhost:8080/",
          "height": 269
        },
        "id": "vLkZKJK8b-2J",
        "outputId": "fe153fe9-3fcd-4fce-dff4-b62fc32241db"
      },
      "outputs": [
        {
          "data": {
            "text/html": [
              "<div>\n",
              "<style scoped>\n",
              "    .dataframe tbody tr th:only-of-type {\n",
              "        vertical-align: middle;\n",
              "    }\n",
              "\n",
              "    .dataframe tbody tr th {\n",
              "        vertical-align: top;\n",
              "    }\n",
              "\n",
              "    .dataframe thead th {\n",
              "        text-align: right;\n",
              "    }\n",
              "</style>\n",
              "<table border=\"1\" class=\"dataframe\">\n",
              "  <thead>\n",
              "    <tr style=\"text-align: right;\">\n",
              "      <th></th>\n",
              "      <th>Missing</th>\n",
              "    </tr>\n",
              "  </thead>\n",
              "  <tbody>\n",
              "    <tr>\n",
              "      <th>genres</th>\n",
              "      <td>4623</td>\n",
              "    </tr>\n",
              "    <tr>\n",
              "      <th>language</th>\n",
              "      <td>3806</td>\n",
              "    </tr>\n",
              "    <tr>\n",
              "      <th>publisher</th>\n",
              "      <td>3696</td>\n",
              "    </tr>\n",
              "    <tr>\n",
              "      <th>pages</th>\n",
              "      <td>2347</td>\n",
              "    </tr>\n",
              "    <tr>\n",
              "      <th>ratingsByStars</th>\n",
              "      <td>1423</td>\n",
              "    </tr>\n",
              "    <tr>\n",
              "      <th>description</th>\n",
              "      <td>1338</td>\n",
              "    </tr>\n",
              "    <tr>\n",
              "      <th>publishDate</th>\n",
              "      <td>880</td>\n",
              "    </tr>\n",
              "  </tbody>\n",
              "</table>\n",
              "</div>"
            ],
            "text/plain": [
              "                Missing\n",
              "genres             4623\n",
              "language           3806\n",
              "publisher          3696\n",
              "pages              2347\n",
              "ratingsByStars     1423\n",
              "description        1338\n",
              "publishDate         880"
            ]
          },
          "execution_count": 5,
          "metadata": {},
          "output_type": "execute_result"
        }
      ],
      "source": [
        "colsToIgnore = [\n",
        "    DataColumn.EDITION,\n",
        "    DataColumn.SERIES,\n",
        "    DataColumn.FIRSTPUBLISHDATE,\n",
        "    DataColumn.PRICE,\n",
        "    DataColumn.BOOKFORMAT,\n",
        "    DataColumn.LIKEDPERCENT,\n",
        "    DataColumn.COVERIMG,\n",
        "    DataColumn.CHARACTERS,\n",
        "    DataColumn.SETTING\n",
        "]\n",
        "countMissingByColumn(dataDf, colsToIgnore)"
      ]
    },
    {
      "cell_type": "code",
      "execution_count": 6,
      "metadata": {
        "colab": {
          "base_uri": "https://localhost:8080/",
          "height": 84
        },
        "id": "2kbz_Rzgb-2J",
        "outputId": "32514845-49aa-45b4-af32-cdf4b7d265bf"
      },
      "outputs": [
        {
          "name": "stdout",
          "output_type": "stream",
          "text": [
            "Dataset Shape:\n",
            "Rows: 41572, Columns: 16\n"
          ]
        },
        {
          "data": {
            "text/html": [
              "<div>\n",
              "<style scoped>\n",
              "    .dataframe tbody tr th:only-of-type {\n",
              "        vertical-align: middle;\n",
              "    }\n",
              "\n",
              "    .dataframe tbody tr th {\n",
              "        vertical-align: top;\n",
              "    }\n",
              "\n",
              "    .dataframe thead th {\n",
              "        text-align: right;\n",
              "    }\n",
              "</style>\n",
              "<table border=\"1\" class=\"dataframe\">\n",
              "  <thead>\n",
              "    <tr style=\"text-align: right;\">\n",
              "      <th></th>\n",
              "      <th>Missing</th>\n",
              "    </tr>\n",
              "  </thead>\n",
              "  <tbody>\n",
              "  </tbody>\n",
              "</table>\n",
              "</div>"
            ],
            "text/plain": [
              "Empty DataFrame\n",
              "Columns: [Missing]\n",
              "Index: []"
            ]
          },
          "execution_count": 6,
          "metadata": {},
          "output_type": "execute_result"
        }
      ],
      "source": [
        "dropNaNRows(dataDf, colsToIgnore)\n",
        "dataDf.drop(labels=colsToIgnore, axis=1, inplace=True)\n",
        "printDatasetShape(dataDf)\n",
        "countMissingByColumn(dataDf, colsToIgnore)"
      ]
    },
    {
      "cell_type": "code",
      "execution_count": 7,
      "metadata": {
        "colab": {
          "base_uri": "https://localhost:8080/",
          "height": 206
        },
        "id": "D3DPCK8Sb-2J",
        "outputId": "3a9a9294-45a7-4abb-c9af-3aec4d2743f7"
      },
      "outputs": [
        {
          "data": {
            "text/html": [
              "<div>\n",
              "<style scoped>\n",
              "    .dataframe tbody tr th:only-of-type {\n",
              "        vertical-align: middle;\n",
              "    }\n",
              "\n",
              "    .dataframe tbody tr th {\n",
              "        vertical-align: top;\n",
              "    }\n",
              "\n",
              "    .dataframe thead th {\n",
              "        text-align: right;\n",
              "    }\n",
              "</style>\n",
              "<table border=\"1\" class=\"dataframe\">\n",
              "  <thead>\n",
              "    <tr style=\"text-align: right;\">\n",
              "      <th></th>\n",
              "      <th>ratingStar5</th>\n",
              "      <th>ratingStar4</th>\n",
              "      <th>ratingStar3</th>\n",
              "      <th>ratingStar2</th>\n",
              "      <th>ratingStar1</th>\n",
              "      <th>ratingsByStars</th>\n",
              "    </tr>\n",
              "  </thead>\n",
              "  <tbody>\n",
              "    <tr>\n",
              "      <th>0</th>\n",
              "      <td>3444695</td>\n",
              "      <td>1921313</td>\n",
              "      <td>745221</td>\n",
              "      <td>171994</td>\n",
              "      <td>93557</td>\n",
              "      <td>['3444695', '1921313', '745221', '171994', '93...</td>\n",
              "    </tr>\n",
              "    <tr>\n",
              "      <th>1</th>\n",
              "      <td>1593642</td>\n",
              "      <td>637516</td>\n",
              "      <td>222366</td>\n",
              "      <td>39573</td>\n",
              "      <td>14526</td>\n",
              "      <td>['1593642', '637516', '222366', '39573', '14526']</td>\n",
              "    </tr>\n",
              "    <tr>\n",
              "      <th>2</th>\n",
              "      <td>2363896</td>\n",
              "      <td>1333153</td>\n",
              "      <td>573280</td>\n",
              "      <td>149952</td>\n",
              "      <td>80794</td>\n",
              "      <td>['2363896', '1333153', '573280', '149952', '80...</td>\n",
              "    </tr>\n",
              "    <tr>\n",
              "      <th>3</th>\n",
              "      <td>1617567</td>\n",
              "      <td>816659</td>\n",
              "      <td>373311</td>\n",
              "      <td>113934</td>\n",
              "      <td>76770</td>\n",
              "      <td>['1617567', '816659', '373311', '113934', '767...</td>\n",
              "    </tr>\n",
              "    <tr>\n",
              "      <th>4</th>\n",
              "      <td>1751460</td>\n",
              "      <td>1113682</td>\n",
              "      <td>1008686</td>\n",
              "      <td>542017</td>\n",
              "      <td>548674</td>\n",
              "      <td>['1751460', '1113682', '1008686', '542017', '5...</td>\n",
              "    </tr>\n",
              "  </tbody>\n",
              "</table>\n",
              "</div>"
            ],
            "text/plain": [
              "   ratingStar5  ratingStar4  ratingStar3  ratingStar2  ratingStar1  \\\n",
              "0      3444695      1921313       745221       171994        93557   \n",
              "1      1593642       637516       222366        39573        14526   \n",
              "2      2363896      1333153       573280       149952        80794   \n",
              "3      1617567       816659       373311       113934        76770   \n",
              "4      1751460      1113682      1008686       542017       548674   \n",
              "\n",
              "                                      ratingsByStars  \n",
              "0  ['3444695', '1921313', '745221', '171994', '93...  \n",
              "1  ['1593642', '637516', '222366', '39573', '14526']  \n",
              "2  ['2363896', '1333153', '573280', '149952', '80...  \n",
              "3  ['1617567', '816659', '373311', '113934', '767...  \n",
              "4  ['1751460', '1113682', '1008686', '542017', '5...  "
            ]
          },
          "execution_count": 7,
          "metadata": {},
          "output_type": "execute_result"
        }
      ],
      "source": [
        "class RatingStarColumns:\n",
        "    \n",
        "    starLabels = [\n",
        "        DataColumn.RATINGSTAR5,\n",
        "        DataColumn.RATINGSTAR4,\n",
        "        DataColumn.RATINGSTAR3,\n",
        "        DataColumn.RATINGSTAR2,\n",
        "        DataColumn.RATINGSTAR1\n",
        "    ]\n",
        "    allLabels = starLabels + [DataColumn.RATINGSBYSTARS]\n",
        "\n",
        "    @staticmethod\n",
        "    def extractColumns(df: pd.DataFrame) -> pd.DataFrame:        \n",
        "        for col in RatingStarColumns.starLabels:\n",
        "            if col in df.columns:\n",
        "                return df\n",
        "\n",
        "        ratingStarArray = np.zeros(shape=(df.shape[0], len(RatingStarColumns.starLabels)), dtype=int)\n",
        "        idxIter = iter(range(df.shape[0]))\n",
        "\n",
        "        def addRatingStarRow(ratingsByStarsStr: str):\n",
        "            idx = next(idxIter)\n",
        "            ratingsList: Iterable[str] = ast.literal_eval(ratingsByStarsStr)\n",
        "            for j, r in enumerate(ratingsList):\n",
        "                ratingStarArray[idx][j] = int(r)\n",
        "\n",
        "        df[DataColumn.RATINGSBYSTARS].apply(addRatingStarRow)\n",
        "\n",
        "        temp = pd.DataFrame(columns=RatingStarColumns.starLabels, data=ratingStarArray)\n",
        "        return pd.concat((df, temp), axis=1)\n",
        "    \n",
        "    @staticmethod\n",
        "    def testRatings(df: pd.DataFrame):\n",
        "        for _, row in df.iterrows():\n",
        "            a: List[str] = ast.literal_eval(row[DataColumn.RATINGSBYSTARS])\n",
        "            b = [str(row[col]) for col in (RatingStarColumns.starLabels)]\n",
        "            if a != b:\n",
        "                raise AssertionError(f'{a} != {b}')\n",
        "\n",
        "dataDf = RatingStarColumns.extractColumns(dataDf)\n",
        "RatingStarColumns.testRatings(dataDf)\n",
        "dataDf[RatingStarColumns.allLabels].head()"
      ]
    },
    {
      "cell_type": "code",
      "execution_count": 8,
      "metadata": {
        "id": "85RC_kAZb-2K"
      },
      "outputs": [],
      "source": [
        "dataDf[DataColumn.PUBLISHYEAR] = dataDf[DataColumn.PUBLISHDATE].apply(YearExtractor.extractYear)"
      ]
    },
    {
      "cell_type": "code",
      "execution_count": 9,
      "metadata": {
        "id": "Wd8X1YIqb-2K"
      },
      "outputs": [],
      "source": [
        "def extractSingleGenres(df: pd.DataFrame):\n",
        "\n",
        "    def singleGenreExtractor(s: str):\n",
        "        genres: List[str] = ast.literal_eval(s)\n",
        "        return genres[0] if len(genres) else 'NO_GENRE'\n",
        "\n",
        "    return df[DataColumn.GENRES].apply(singleGenreExtractor)\n",
        "\n",
        "dataDf[DataColumn.GENRESINGLE] = extractSingleGenres(dataDf)"
      ]
    },
    {
      "attachments": {},
      "cell_type": "markdown",
      "metadata": {
        "id": "jNlIFxSCb-2K"
      },
      "source": [
        "### Data Observation"
      ]
    },
    {
      "cell_type": "code",
      "execution_count": 10,
      "metadata": {
        "colab": {
          "base_uri": "https://localhost:8080/",
          "height": 501
        },
        "id": "ZKWQy80nb-2L",
        "outputId": "b184e063-e55c-4a07-ad56-74c448334aa3"
      },
      "outputs": [
        {
          "data": {
            "text/markdown": [
              "**1.** Book Ratings histogram"
            ],
            "text/plain": [
              "<IPython.core.display.Markdown object>"
            ]
          },
          "metadata": {},
          "output_type": "display_data"
        },
        {
          "data": {
            "image/png": "[encoded data removed]",
            "text/plain": [
              "<Figure size 432x288 with 1 Axes>"
            ]
          },
          "metadata": {
            "needs_background": "light"
          },
          "output_type": "display_data"
        }
      ],
      "source": [
        "def displayColumnHistogram(\n",
        "    df: pd.DataFrame,\n",
        "    col: str,\n",
        "    xlabel: str,\n",
        "    ylabel: str = '# Books',\n",
        "    title: str = ''\n",
        "):\n",
        "    \"\"\"\n",
        "        Displays the Histogram for column `col` of `df`.\n",
        "        - `xlabel`: the label for x-axis.\n",
        "        - `ylabel`: the label for y-axis.\n",
        "    \"\"\"\n",
        "\n",
        "    ax = plt.subplot()\n",
        "    ax.set_title(title if title else col)\n",
        "    ax.set_xlabel(xlabel)\n",
        "    ax.set_ylabel(ylabel)\n",
        "    df[col].hist(ax=ax, grid=True, zorder=3)\n",
        "\n",
        "printMd('**1.** Book Ratings histogram')\n",
        "displayColumnHistogram(dataDf, col=DataColumn.RATING, xlabel='Rating', title='Book Ratings')"
      ]
    },
    {
      "cell_type": "code",
      "execution_count": 11,
      "metadata": {
        "id": "jzYag0Cib-2M"
      },
      "outputs": [],
      "source": [
        "class TopBooksAnswerGenerator(AnswerGenerator[AnswerGeneratorQuestion]):\n",
        "    \"\"\"\n",
        "        Used to generate `DataFrame` answers on questions regarding\n",
        "        the top books based on a specific column value.\n",
        "    \"\"\" \n",
        "    \n",
        "    def createDataFrameAnswer(self, q: AnswerGeneratorQuestion, df: pd.DataFrame):\n",
        "        results = df.sort_values(by=q['col'], ascending=False)\n",
        "        return results[[DataColumn.TITLE, q['col']]]"
      ]
    },
    {
      "cell_type": "code",
      "execution_count": 12,
      "metadata": {
        "colab": {
          "base_uri": "https://localhost:8080/",
          "height": 768
        },
        "id": "Q2dZ2Om1b-2M",
        "outputId": "88b20c55-4867-4358-abb9-c931cad8b06c"
      },
      "outputs": [
        {
          "data": {
            "text/markdown": [
              "**2**. Top 10 books with the most pages:"
            ],
            "text/plain": [
              "<IPython.core.display.Markdown object>"
            ]
          },
          "metadata": {},
          "output_type": "display_data"
        },
        {
          "data": {
            "text/html": [
              "<div>\n",
              "<style scoped>\n",
              "    .dataframe tbody tr th:only-of-type {\n",
              "        vertical-align: middle;\n",
              "    }\n",
              "\n",
              "    .dataframe tbody tr th {\n",
              "        vertical-align: top;\n",
              "    }\n",
              "\n",
              "    .dataframe thead th {\n",
              "        text-align: right;\n",
              "    }\n",
              "</style>\n",
              "<table border=\"1\" class=\"dataframe\">\n",
              "  <thead>\n",
              "    <tr style=\"text-align: right;\">\n",
              "      <th></th>\n",
              "      <th>title</th>\n",
              "      <th>pages</th>\n",
              "    </tr>\n",
              "  </thead>\n",
              "  <tbody>\n",
              "    <tr>\n",
              "      <th>30698</th>\n",
              "      <td>The Marx Sisters: A Kathy Kolla and David Broc...</td>\n",
              "      <td>999</td>\n",
              "    </tr>\n",
              "    <tr>\n",
              "      <th>304</th>\n",
              "      <td>The Wise Man's Fear</td>\n",
              "      <td>994</td>\n",
              "    </tr>\n",
              "    <tr>\n",
              "      <th>656</th>\n",
              "      <td>A Breath of Snow and Ashes</td>\n",
              "      <td>993</td>\n",
              "    </tr>\n",
              "    <tr>\n",
              "      <th>35898</th>\n",
              "      <td>Hamzanama: The Adventures of Amir Hamza</td>\n",
              "      <td>992</td>\n",
              "    </tr>\n",
              "    <tr>\n",
              "      <th>27195</th>\n",
              "      <td>The Ball is Round: A Global History of Soccer</td>\n",
              "      <td>992</td>\n",
              "    </tr>\n",
              "    <tr>\n",
              "      <th>14843</th>\n",
              "      <td>The Endymion Omnibus</td>\n",
              "      <td>992</td>\n",
              "    </tr>\n",
              "    <tr>\n",
              "      <th>11779</th>\n",
              "      <td>The Braided Path</td>\n",
              "      <td>992</td>\n",
              "    </tr>\n",
              "    <tr>\n",
              "      <th>17695</th>\n",
              "      <td>Three Novels of Old New York: The House of Mir...</td>\n",
              "      <td>992</td>\n",
              "    </tr>\n",
              "    <tr>\n",
              "      <th>12217</th>\n",
              "      <td>The Last Lion: Winston Spencer Churchill: Visi...</td>\n",
              "      <td>992</td>\n",
              "    </tr>\n",
              "    <tr>\n",
              "      <th>36110</th>\n",
              "      <td>1,000 Places to See Before You Die</td>\n",
              "      <td>992</td>\n",
              "    </tr>\n",
              "  </tbody>\n",
              "</table>\n",
              "</div>"
            ],
            "text/plain": [
              "                                                   title pages\n",
              "30698  The Marx Sisters: A Kathy Kolla and David Broc...   999\n",
              "304                                  The Wise Man's Fear   994\n",
              "656                           A Breath of Snow and Ashes   993\n",
              "35898            Hamzanama: The Adventures of Amir Hamza   992\n",
              "27195      The Ball is Round: A Global History of Soccer   992\n",
              "14843                               The Endymion Omnibus   992\n",
              "11779                                   The Braided Path   992\n",
              "17695  Three Novels of Old New York: The House of Mir...   992\n",
              "12217  The Last Lion: Winston Spencer Churchill: Visi...   992\n",
              "36110                 1,000 Places to See Before You Die   992"
            ]
          },
          "metadata": {},
          "output_type": "display_data"
        },
        {
          "data": {
            "text/markdown": [
              "**3**. Top 10 books with the most 5-star ratings (min 10000):"
            ],
            "text/plain": [
              "<IPython.core.display.Markdown object>"
            ]
          },
          "metadata": {},
          "output_type": "display_data"
        },
        {
          "data": {
            "text/html": [
              "<div>\n",
              "<style scoped>\n",
              "    .dataframe tbody tr th:only-of-type {\n",
              "        vertical-align: middle;\n",
              "    }\n",
              "\n",
              "    .dataframe tbody tr th {\n",
              "        vertical-align: top;\n",
              "    }\n",
              "\n",
              "    .dataframe thead th {\n",
              "        text-align: right;\n",
              "    }\n",
              "</style>\n",
              "<table border=\"1\" class=\"dataframe\">\n",
              "  <thead>\n",
              "    <tr style=\"text-align: right;\">\n",
              "      <th></th>\n",
              "      <th>title</th>\n",
              "      <th>ratingStar5</th>\n",
              "    </tr>\n",
              "  </thead>\n",
              "  <tbody>\n",
              "    <tr>\n",
              "      <th>32</th>\n",
              "      <td>Harry Potter and the Sorcerer's Stone</td>\n",
              "      <td>4578137</td>\n",
              "    </tr>\n",
              "    <tr>\n",
              "      <th>0</th>\n",
              "      <td>The Hunger Games</td>\n",
              "      <td>3444695</td>\n",
              "    </tr>\n",
              "    <tr>\n",
              "      <th>2</th>\n",
              "      <td>To Kill a Mockingbird</td>\n",
              "      <td>2363896</td>\n",
              "    </tr>\n",
              "    <tr>\n",
              "      <th>71</th>\n",
              "      <td>Harry Potter and the Deathly Hallows</td>\n",
              "      <td>2038930</td>\n",
              "    </tr>\n",
              "    <tr>\n",
              "      <th>93</th>\n",
              "      <td>Harry Potter and the Prisoner of Azkaban</td>\n",
              "      <td>1892635</td>\n",
              "    </tr>\n",
              "    <tr>\n",
              "      <th>10</th>\n",
              "      <td>The Fault in Our Stars</td>\n",
              "      <td>1784471</td>\n",
              "    </tr>\n",
              "    <tr>\n",
              "      <th>4</th>\n",
              "      <td>Twilight</td>\n",
              "      <td>1751460</td>\n",
              "    </tr>\n",
              "    <tr>\n",
              "      <th>103</th>\n",
              "      <td>Harry Potter and the Goblet of Fire</td>\n",
              "      <td>1729403</td>\n",
              "    </tr>\n",
              "    <tr>\n",
              "      <th>105</th>\n",
              "      <td>Harry Potter and the Half-Blood Prince</td>\n",
              "      <td>1646703</td>\n",
              "    </tr>\n",
              "    <tr>\n",
              "      <th>3</th>\n",
              "      <td>Pride and Prejudice</td>\n",
              "      <td>1617567</td>\n",
              "    </tr>\n",
              "  </tbody>\n",
              "</table>\n",
              "</div>"
            ],
            "text/plain": [
              "                                        title  ratingStar5\n",
              "32      Harry Potter and the Sorcerer's Stone      4578137\n",
              "0                            The Hunger Games      3444695\n",
              "2                       To Kill a Mockingbird      2363896\n",
              "71       Harry Potter and the Deathly Hallows      2038930\n",
              "93   Harry Potter and the Prisoner of Azkaban      1892635\n",
              "10                     The Fault in Our Stars      1784471\n",
              "4                                    Twilight      1751460\n",
              "103       Harry Potter and the Goblet of Fire      1729403\n",
              "105    Harry Potter and the Half-Blood Prince      1646703\n",
              "3                         Pride and Prejudice      1617567"
            ]
          },
          "metadata": {},
          "output_type": "display_data"
        }
      ],
      "source": [
        "questions: List[AnswerGeneratorQuestion] = [\n",
        "    {\n",
        "        'qnum': '2',\n",
        "        'qtitle': 'Top 10 books with the most pages',\n",
        "        'col': DataColumn.PAGES,\n",
        "        'limit': 10,\n",
        "        'dataFilter': None\n",
        "    },\n",
        "    {\n",
        "        'qnum': '3',\n",
        "        'qtitle': 'Top 10 books with the most 5-star ratings (min 10000)',\n",
        "        'col': DataColumn.RATINGSTAR5,\n",
        "        'limit': 10,\n",
        "        'dataFilter': lambda df: df[df[DataColumn.RATINGSTAR5] > 10000]\n",
        "    },\n",
        "]\n",
        "\n",
        "TopBooksAnswerGenerator().registerQuestions(questions).displayAnswers(dataDf)"
      ]
    },
    {
      "cell_type": "code",
      "execution_count": 13,
      "metadata": {
        "colab": {
          "base_uri": "https://localhost:8080/",
          "height": 392
        },
        "id": "cJ9V_lCHpd3i",
        "outputId": "149143cb-d6f1-42ae-dc28-e91d9d0f2ca5"
      },
      "outputs": [
        {
          "data": {
            "text/markdown": [
              "Most common words in column `title`:"
            ],
            "text/plain": [
              "<IPython.core.display.Markdown object>"
            ]
          },
          "metadata": {},
          "output_type": "display_data"
        },
        {
          "data": {
            "text/html": [
              "<div>\n",
              "<style scoped>\n",
              "    .dataframe tbody tr th:only-of-type {\n",
              "        vertical-align: middle;\n",
              "    }\n",
              "\n",
              "    .dataframe tbody tr th {\n",
              "        vertical-align: top;\n",
              "    }\n",
              "\n",
              "    .dataframe thead th {\n",
              "        text-align: right;\n",
              "    }\n",
              "</style>\n",
              "<table border=\"1\" class=\"dataframe\">\n",
              "  <thead>\n",
              "    <tr style=\"text-align: right;\">\n",
              "      <th></th>\n",
              "      <th>Word</th>\n",
              "      <th>Frequency</th>\n",
              "    </tr>\n",
              "  </thead>\n",
              "  <tbody>\n",
              "    <tr>\n",
              "      <th>1</th>\n",
              "      <td>life</td>\n",
              "      <td>721</td>\n",
              "    </tr>\n",
              "    <tr>\n",
              "      <th>2</th>\n",
              "      <td>love</td>\n",
              "      <td>603</td>\n",
              "    </tr>\n",
              "    <tr>\n",
              "      <th>3</th>\n",
              "      <td>world</td>\n",
              "      <td>456</td>\n",
              "    </tr>\n",
              "    <tr>\n",
              "      <th>4</th>\n",
              "      <td>girl</td>\n",
              "      <td>449</td>\n",
              "    </tr>\n",
              "    <tr>\n",
              "      <th>5</th>\n",
              "      <td>book</td>\n",
              "      <td>440</td>\n",
              "    </tr>\n",
              "    <tr>\n",
              "      <th>6</th>\n",
              "      <td>de</td>\n",
              "      <td>373</td>\n",
              "    </tr>\n",
              "    <tr>\n",
              "      <th>7</th>\n",
              "      <td>secret</td>\n",
              "      <td>368</td>\n",
              "    </tr>\n",
              "    <tr>\n",
              "      <th>8</th>\n",
              "      <td>story</td>\n",
              "      <td>364</td>\n",
              "    </tr>\n",
              "    <tr>\n",
              "      <th>9</th>\n",
              "      <td>one</td>\n",
              "      <td>347</td>\n",
              "    </tr>\n",
              "    <tr>\n",
              "      <th>10</th>\n",
              "      <td>god</td>\n",
              "      <td>344</td>\n",
              "    </tr>\n",
              "  </tbody>\n",
              "</table>\n",
              "</div>"
            ],
            "text/plain": [
              "      Word  Frequency\n",
              "1     life        721\n",
              "2     love        603\n",
              "3    world        456\n",
              "4     girl        449\n",
              "5     book        440\n",
              "6       de        373\n",
              "7   secret        368\n",
              "8    story        364\n",
              "9      one        347\n",
              "10     god        344"
            ]
          },
          "metadata": {},
          "output_type": "display_data"
        }
      ],
      "source": [
        "def displayMostCommonColumnWords(df: pd.DataFrame, col: str, n: int):\n",
        "    text = ' '.join(df[col]).lower()\n",
        "    \n",
        "    results = WordCloud(stopwords=STOP_WORDS).process_text(text)\n",
        "\n",
        "    resultsDf = pd.DataFrame(results.items())\n",
        "    resultsDf.columns = ['Word', 'Frequency']\n",
        "    resultsDf.sort_values(by='Frequency', inplace=True, ascending=False)\n",
        "    resultsDf.reset_index(drop=True, inplace=True)\n",
        "    resultsDf.index += 1\n",
        "\n",
        "    printMd(f'Most common words in column `{col}`:')\n",
        "    display(resultsDf.head(n))\n",
        "\n",
        "displayMostCommonColumnWords(dataDf, DataColumn.TITLE, 10)"
      ]
    },
    {
      "cell_type": "code",
      "execution_count": 14,
      "metadata": {
        "colab": {
          "base_uri": "https://localhost:8080/",
          "height": 1000
        },
        "id": "xWL0qEw1b-2N",
        "outputId": "124ad3d1-2fcb-4367-fee3-4157fa2a518c"
      },
      "outputs": [
        {
          "data": {
            "text/markdown": [
              "**5**. Top 10 Authors with the most books:"
            ],
            "text/plain": [
              "<IPython.core.display.Markdown object>"
            ]
          },
          "metadata": {},
          "output_type": "display_data"
        },
        {
          "data": {
            "text/html": [
              "<div>\n",
              "<style scoped>\n",
              "    .dataframe tbody tr th:only-of-type {\n",
              "        vertical-align: middle;\n",
              "    }\n",
              "\n",
              "    .dataframe tbody tr th {\n",
              "        vertical-align: top;\n",
              "    }\n",
              "\n",
              "    .dataframe thead th {\n",
              "        text-align: right;\n",
              "    }\n",
              "</style>\n",
              "<table border=\"1\" class=\"dataframe\">\n",
              "  <thead>\n",
              "    <tr style=\"text-align: right;\">\n",
              "      <th></th>\n",
              "      <th>author</th>\n",
              "      <th>Books</th>\n",
              "    </tr>\n",
              "  </thead>\n",
              "  <tbody>\n",
              "    <tr>\n",
              "      <th>1</th>\n",
              "      <td>Stephen King</td>\n",
              "      <td>90</td>\n",
              "    </tr>\n",
              "    <tr>\n",
              "      <th>2</th>\n",
              "      <td>Nora Roberts</td>\n",
              "      <td>89</td>\n",
              "    </tr>\n",
              "    <tr>\n",
              "      <th>3</th>\n",
              "      <td>James Patterson</td>\n",
              "      <td>82</td>\n",
              "    </tr>\n",
              "    <tr>\n",
              "      <th>4</th>\n",
              "      <td>Agatha Christie</td>\n",
              "      <td>81</td>\n",
              "    </tr>\n",
              "    <tr>\n",
              "      <th>5</th>\n",
              "      <td>Erin Hunter</td>\n",
              "      <td>67</td>\n",
              "    </tr>\n",
              "    <tr>\n",
              "      <th>6</th>\n",
              "      <td>J.D. Robb</td>\n",
              "      <td>63</td>\n",
              "    </tr>\n",
              "    <tr>\n",
              "      <th>7</th>\n",
              "      <td>Terry Pratchett</td>\n",
              "      <td>62</td>\n",
              "    </tr>\n",
              "    <tr>\n",
              "      <th>8</th>\n",
              "      <td>Francine Pascal</td>\n",
              "      <td>60</td>\n",
              "    </tr>\n",
              "    <tr>\n",
              "      <th>9</th>\n",
              "      <td>Carolyn Keene</td>\n",
              "      <td>57</td>\n",
              "    </tr>\n",
              "    <tr>\n",
              "      <th>10</th>\n",
              "      <td>Karen Kingsbury</td>\n",
              "      <td>57</td>\n",
              "    </tr>\n",
              "  </tbody>\n",
              "</table>\n",
              "</div>"
            ],
            "text/plain": [
              "             author  Books\n",
              "1      Stephen King     90\n",
              "2      Nora Roberts     89\n",
              "3   James Patterson     82\n",
              "4   Agatha Christie     81\n",
              "5       Erin Hunter     67\n",
              "6         J.D. Robb     63\n",
              "7   Terry Pratchett     62\n",
              "8   Francine Pascal     60\n",
              "9     Carolyn Keene     57\n",
              "10  Karen Kingsbury     57"
            ]
          },
          "metadata": {},
          "output_type": "display_data"
        },
        {
          "data": {
            "text/markdown": [
              "**6**. Top 10 Authors with the most ratings:"
            ],
            "text/plain": [
              "<IPython.core.display.Markdown object>"
            ]
          },
          "metadata": {},
          "output_type": "display_data"
        },
        {
          "data": {
            "text/html": [
              "<div>\n",
              "<style scoped>\n",
              "    .dataframe tbody tr th:only-of-type {\n",
              "        vertical-align: middle;\n",
              "    }\n",
              "\n",
              "    .dataframe tbody tr th {\n",
              "        vertical-align: top;\n",
              "    }\n",
              "\n",
              "    .dataframe thead th {\n",
              "        text-align: right;\n",
              "    }\n",
              "</style>\n",
              "<table border=\"1\" class=\"dataframe\">\n",
              "  <thead>\n",
              "    <tr style=\"text-align: right;\">\n",
              "      <th></th>\n",
              "      <th>author</th>\n",
              "      <th>Total numRatings</th>\n",
              "    </tr>\n",
              "  </thead>\n",
              "  <tbody>\n",
              "    <tr>\n",
              "      <th>1</th>\n",
              "      <td>J.K. Rowling</td>\n",
              "      <td>24342485</td>\n",
              "    </tr>\n",
              "    <tr>\n",
              "      <th>2</th>\n",
              "      <td>Stephen King</td>\n",
              "      <td>12994174</td>\n",
              "    </tr>\n",
              "    <tr>\n",
              "      <th>3</th>\n",
              "      <td>Suzanne Collins</td>\n",
              "      <td>11836703</td>\n",
              "    </tr>\n",
              "    <tr>\n",
              "      <th>4</th>\n",
              "      <td>Stephenie Meyer</td>\n",
              "      <td>10562763</td>\n",
              "    </tr>\n",
              "    <tr>\n",
              "      <th>5</th>\n",
              "      <td>Rick Riordan</td>\n",
              "      <td>8432058</td>\n",
              "    </tr>\n",
              "    <tr>\n",
              "      <th>6</th>\n",
              "      <td>J.R.R. Tolkien</td>\n",
              "      <td>8086696</td>\n",
              "    </tr>\n",
              "    <tr>\n",
              "      <th>7</th>\n",
              "      <td>Dan Brown</td>\n",
              "      <td>7014203</td>\n",
              "    </tr>\n",
              "    <tr>\n",
              "      <th>8</th>\n",
              "      <td>John Green</td>\n",
              "      <td>6793133</td>\n",
              "    </tr>\n",
              "    <tr>\n",
              "      <th>9</th>\n",
              "      <td>Cassandra Clare</td>\n",
              "      <td>6650456</td>\n",
              "    </tr>\n",
              "    <tr>\n",
              "      <th>10</th>\n",
              "      <td>George Orwell</td>\n",
              "      <td>6230842</td>\n",
              "    </tr>\n",
              "  </tbody>\n",
              "</table>\n",
              "</div>"
            ],
            "text/plain": [
              "             author  Total numRatings\n",
              "1      J.K. Rowling          24342485\n",
              "2      Stephen King          12994174\n",
              "3   Suzanne Collins          11836703\n",
              "4   Stephenie Meyer          10562763\n",
              "5      Rick Riordan           8432058\n",
              "6    J.R.R. Tolkien           8086696\n",
              "7         Dan Brown           7014203\n",
              "8        John Green           6793133\n",
              "9   Cassandra Clare           6650456\n",
              "10    George Orwell           6230842"
            ]
          },
          "metadata": {},
          "output_type": "display_data"
        },
        {
          "data": {
            "text/markdown": [
              "**7(1)**. Top 10 Authors with the most books in 2000:"
            ],
            "text/plain": [
              "<IPython.core.display.Markdown object>"
            ]
          },
          "metadata": {},
          "output_type": "display_data"
        },
        {
          "data": {
            "text/html": [
              "<div>\n",
              "<style scoped>\n",
              "    .dataframe tbody tr th:only-of-type {\n",
              "        vertical-align: middle;\n",
              "    }\n",
              "\n",
              "    .dataframe tbody tr th {\n",
              "        vertical-align: top;\n",
              "    }\n",
              "\n",
              "    .dataframe thead th {\n",
              "        text-align: right;\n",
              "    }\n",
              "</style>\n",
              "<table border=\"1\" class=\"dataframe\">\n",
              "  <thead>\n",
              "    <tr style=\"text-align: right;\">\n",
              "      <th></th>\n",
              "      <th>author</th>\n",
              "      <th>Books</th>\n",
              "    </tr>\n",
              "  </thead>\n",
              "  <tbody>\n",
              "    <tr>\n",
              "      <th>1</th>\n",
              "      <td>Agatha Christie</td>\n",
              "      <td>7</td>\n",
              "    </tr>\n",
              "    <tr>\n",
              "      <th>2</th>\n",
              "      <td>Larry McMurtry</td>\n",
              "      <td>5</td>\n",
              "    </tr>\n",
              "    <tr>\n",
              "      <th>3</th>\n",
              "      <td>Lawrence Block (Goodreads Author)</td>\n",
              "      <td>5</td>\n",
              "    </tr>\n",
              "    <tr>\n",
              "      <th>4</th>\n",
              "      <td>Katherine Applegate</td>\n",
              "      <td>5</td>\n",
              "    </tr>\n",
              "    <tr>\n",
              "      <th>5</th>\n",
              "      <td>Linda Howard</td>\n",
              "      <td>4</td>\n",
              "    </tr>\n",
              "    <tr>\n",
              "      <th>6</th>\n",
              "      <td>P.G. Wodehouse</td>\n",
              "      <td>4</td>\n",
              "    </tr>\n",
              "    <tr>\n",
              "      <th>7</th>\n",
              "      <td>Jude Watson (Goodreads Author)</td>\n",
              "      <td>3</td>\n",
              "    </tr>\n",
              "    <tr>\n",
              "      <th>8</th>\n",
              "      <td>Elizabeth Peters</td>\n",
              "      <td>3</td>\n",
              "    </tr>\n",
              "    <tr>\n",
              "      <th>9</th>\n",
              "      <td>Francine Rivers (Goodreads Author)</td>\n",
              "      <td>3</td>\n",
              "    </tr>\n",
              "    <tr>\n",
              "      <th>10</th>\n",
              "      <td>Jude Watson (Goodreads Author), Cliff Nielsen ...</td>\n",
              "      <td>3</td>\n",
              "    </tr>\n",
              "  </tbody>\n",
              "</table>\n",
              "</div>"
            ],
            "text/plain": [
              "                                               author  Books\n",
              "1                                     Agatha Christie      7\n",
              "2                                      Larry McMurtry      5\n",
              "3                   Lawrence Block (Goodreads Author)      5\n",
              "4                                 Katherine Applegate      5\n",
              "5                                        Linda Howard      4\n",
              "6                                      P.G. Wodehouse      4\n",
              "7                      Jude Watson (Goodreads Author)      3\n",
              "8                                    Elizabeth Peters      3\n",
              "9                  Francine Rivers (Goodreads Author)      3\n",
              "10  Jude Watson (Goodreads Author), Cliff Nielsen ...      3"
            ]
          },
          "metadata": {},
          "output_type": "display_data"
        },
        {
          "data": {
            "text/markdown": [
              "**7(2)**. Top 10 Authors with the most books in 2005:"
            ],
            "text/plain": [
              "<IPython.core.display.Markdown object>"
            ]
          },
          "metadata": {},
          "output_type": "display_data"
        },
        {
          "data": {
            "text/html": [
              "<div>\n",
              "<style scoped>\n",
              "    .dataframe tbody tr th:only-of-type {\n",
              "        vertical-align: middle;\n",
              "    }\n",
              "\n",
              "    .dataframe tbody tr th {\n",
              "        vertical-align: top;\n",
              "    }\n",
              "\n",
              "    .dataframe thead th {\n",
              "        text-align: right;\n",
              "    }\n",
              "</style>\n",
              "<table border=\"1\" class=\"dataframe\">\n",
              "  <thead>\n",
              "    <tr style=\"text-align: right;\">\n",
              "      <th></th>\n",
              "      <th>author</th>\n",
              "      <th>Books</th>\n",
              "    </tr>\n",
              "  </thead>\n",
              "  <tbody>\n",
              "    <tr>\n",
              "      <th>1</th>\n",
              "      <td>Terry Pratchett</td>\n",
              "      <td>9</td>\n",
              "    </tr>\n",
              "    <tr>\n",
              "      <th>2</th>\n",
              "      <td>Bodie Thoene (Goodreads Author), Brock Thoene</td>\n",
              "      <td>9</td>\n",
              "    </tr>\n",
              "    <tr>\n",
              "      <th>3</th>\n",
              "      <td>Georgette Heyer</td>\n",
              "      <td>9</td>\n",
              "    </tr>\n",
              "    <tr>\n",
              "      <th>4</th>\n",
              "      <td>R.L. Stine (Goodreads Author)</td>\n",
              "      <td>8</td>\n",
              "    </tr>\n",
              "    <tr>\n",
              "      <th>5</th>\n",
              "      <td>Ted Dekker (Goodreads Author)</td>\n",
              "      <td>8</td>\n",
              "    </tr>\n",
              "    <tr>\n",
              "      <th>6</th>\n",
              "      <td>Tamora Pierce (Goodreads Author)</td>\n",
              "      <td>8</td>\n",
              "    </tr>\n",
              "    <tr>\n",
              "      <th>7</th>\n",
              "      <td>Laurell K. Hamilton (Goodreads Author)</td>\n",
              "      <td>7</td>\n",
              "    </tr>\n",
              "    <tr>\n",
              "      <th>8</th>\n",
              "      <td>Nora Roberts (Goodreads Author)</td>\n",
              "      <td>7</td>\n",
              "    </tr>\n",
              "    <tr>\n",
              "      <th>9</th>\n",
              "      <td>C.S. Lewis</td>\n",
              "      <td>7</td>\n",
              "    </tr>\n",
              "    <tr>\n",
              "      <th>10</th>\n",
              "      <td>CLAMP, William Flanagan (Translator)</td>\n",
              "      <td>7</td>\n",
              "    </tr>\n",
              "  </tbody>\n",
              "</table>\n",
              "</div>"
            ],
            "text/plain": [
              "                                           author  Books\n",
              "1                                 Terry Pratchett      9\n",
              "2   Bodie Thoene (Goodreads Author), Brock Thoene      9\n",
              "3                                 Georgette Heyer      9\n",
              "4                   R.L. Stine (Goodreads Author)      8\n",
              "5                   Ted Dekker (Goodreads Author)      8\n",
              "6                Tamora Pierce (Goodreads Author)      8\n",
              "7          Laurell K. Hamilton (Goodreads Author)      7\n",
              "8                 Nora Roberts (Goodreads Author)      7\n",
              "9                                      C.S. Lewis      7\n",
              "10           CLAMP, William Flanagan (Translator)      7"
            ]
          },
          "metadata": {},
          "output_type": "display_data"
        },
        {
          "data": {
            "text/markdown": [
              "**7(3)**. Top 10 Authors with the most books in 2010:"
            ],
            "text/plain": [
              "<IPython.core.display.Markdown object>"
            ]
          },
          "metadata": {},
          "output_type": "display_data"
        },
        {
          "data": {
            "text/html": [
              "<div>\n",
              "<style scoped>\n",
              "    .dataframe tbody tr th:only-of-type {\n",
              "        vertical-align: middle;\n",
              "    }\n",
              "\n",
              "    .dataframe tbody tr th {\n",
              "        vertical-align: top;\n",
              "    }\n",
              "\n",
              "    .dataframe thead th {\n",
              "        text-align: right;\n",
              "    }\n",
              "</style>\n",
              "<table border=\"1\" class=\"dataframe\">\n",
              "  <thead>\n",
              "    <tr style=\"text-align: right;\">\n",
              "      <th></th>\n",
              "      <th>author</th>\n",
              "      <th>Books</th>\n",
              "    </tr>\n",
              "  </thead>\n",
              "  <tbody>\n",
              "    <tr>\n",
              "      <th>1</th>\n",
              "      <td>Mary Pope Osborne, Salvatore Murdocca (Illustr...</td>\n",
              "      <td>8</td>\n",
              "    </tr>\n",
              "    <tr>\n",
              "      <th>2</th>\n",
              "      <td>Laurann Dohner</td>\n",
              "      <td>7</td>\n",
              "    </tr>\n",
              "    <tr>\n",
              "      <th>3</th>\n",
              "      <td>Joey W. Hill (Goodreads Author)</td>\n",
              "      <td>5</td>\n",
              "    </tr>\n",
              "    <tr>\n",
              "      <th>4</th>\n",
              "      <td>Rachel Caine (Goodreads Author)</td>\n",
              "      <td>5</td>\n",
              "    </tr>\n",
              "    <tr>\n",
              "      <th>5</th>\n",
              "      <td>Jim Butcher (Goodreads Author)</td>\n",
              "      <td>5</td>\n",
              "    </tr>\n",
              "    <tr>\n",
              "      <th>6</th>\n",
              "      <td>Meg Cabot (Goodreads Author)</td>\n",
              "      <td>5</td>\n",
              "    </tr>\n",
              "    <tr>\n",
              "      <th>7</th>\n",
              "      <td>Gena Showalter (Goodreads Author)</td>\n",
              "      <td>5</td>\n",
              "    </tr>\n",
              "    <tr>\n",
              "      <th>8</th>\n",
              "      <td>Christopher Pike</td>\n",
              "      <td>5</td>\n",
              "    </tr>\n",
              "    <tr>\n",
              "      <th>9</th>\n",
              "      <td>Will Durant, Ariel Durant, عبد الرحمن عبد الله...</td>\n",
              "      <td>5</td>\n",
              "    </tr>\n",
              "    <tr>\n",
              "      <th>10</th>\n",
              "      <td>T.M. Nielsen</td>\n",
              "      <td>4</td>\n",
              "    </tr>\n",
              "  </tbody>\n",
              "</table>\n",
              "</div>"
            ],
            "text/plain": [
              "                                               author  Books\n",
              "1   Mary Pope Osborne, Salvatore Murdocca (Illustr...      8\n",
              "2                                      Laurann Dohner      7\n",
              "3                     Joey W. Hill (Goodreads Author)      5\n",
              "4                     Rachel Caine (Goodreads Author)      5\n",
              "5                      Jim Butcher (Goodreads Author)      5\n",
              "6                        Meg Cabot (Goodreads Author)      5\n",
              "7                   Gena Showalter (Goodreads Author)      5\n",
              "8                                    Christopher Pike      5\n",
              "9   Will Durant, Ariel Durant, عبد الرحمن عبد الله...      5\n",
              "10                                       T.M. Nielsen      4"
            ]
          },
          "metadata": {},
          "output_type": "display_data"
        },
        {
          "data": {
            "text/markdown": [
              "**7(4)**. Top 10 Authors with the most books in 2015:"
            ],
            "text/plain": [
              "<IPython.core.display.Markdown object>"
            ]
          },
          "metadata": {},
          "output_type": "display_data"
        },
        {
          "data": {
            "text/html": [
              "<div>\n",
              "<style scoped>\n",
              "    .dataframe tbody tr th:only-of-type {\n",
              "        vertical-align: middle;\n",
              "    }\n",
              "\n",
              "    .dataframe tbody tr th {\n",
              "        vertical-align: top;\n",
              "    }\n",
              "\n",
              "    .dataframe thead th {\n",
              "        text-align: right;\n",
              "    }\n",
              "</style>\n",
              "<table border=\"1\" class=\"dataframe\">\n",
              "  <thead>\n",
              "    <tr style=\"text-align: right;\">\n",
              "      <th></th>\n",
              "      <th>author</th>\n",
              "      <th>Books</th>\n",
              "    </tr>\n",
              "  </thead>\n",
              "  <tbody>\n",
              "    <tr>\n",
              "      <th>1</th>\n",
              "      <td>Jennifer L. Armentrout (Goodreads Author)</td>\n",
              "      <td>5</td>\n",
              "    </tr>\n",
              "    <tr>\n",
              "      <th>2</th>\n",
              "      <td>Anna Gallegos (Goodreads Author)</td>\n",
              "      <td>4</td>\n",
              "    </tr>\n",
              "    <tr>\n",
              "      <th>3</th>\n",
              "      <td>Penny Reid (Goodreads Author)</td>\n",
              "      <td>4</td>\n",
              "    </tr>\n",
              "    <tr>\n",
              "      <th>4</th>\n",
              "      <td>Anne Jolin (Goodreads Author)</td>\n",
              "      <td>4</td>\n",
              "    </tr>\n",
              "    <tr>\n",
              "      <th>5</th>\n",
              "      <td>Meredith Wild (Goodreads Author)</td>\n",
              "      <td>4</td>\n",
              "    </tr>\n",
              "    <tr>\n",
              "      <th>6</th>\n",
              "      <td>Suzanne Wright (Goodreads Author)</td>\n",
              "      <td>3</td>\n",
              "    </tr>\n",
              "    <tr>\n",
              "      <th>7</th>\n",
              "      <td>Sherrilyn Kenyon (Goodreads Author)</td>\n",
              "      <td>3</td>\n",
              "    </tr>\n",
              "    <tr>\n",
              "      <th>8</th>\n",
              "      <td>Marissa Meyer (Goodreads Author)</td>\n",
              "      <td>3</td>\n",
              "    </tr>\n",
              "    <tr>\n",
              "      <th>9</th>\n",
              "      <td>Jennifer Donnelly (Goodreads Author)</td>\n",
              "      <td>3</td>\n",
              "    </tr>\n",
              "    <tr>\n",
              "      <th>10</th>\n",
              "      <td>C.S. Lewis</td>\n",
              "      <td>3</td>\n",
              "    </tr>\n",
              "  </tbody>\n",
              "</table>\n",
              "</div>"
            ],
            "text/plain": [
              "                                       author  Books\n",
              "1   Jennifer L. Armentrout (Goodreads Author)      5\n",
              "2            Anna Gallegos (Goodreads Author)      4\n",
              "3               Penny Reid (Goodreads Author)      4\n",
              "4               Anne Jolin (Goodreads Author)      4\n",
              "5            Meredith Wild (Goodreads Author)      4\n",
              "6           Suzanne Wright (Goodreads Author)      3\n",
              "7         Sherrilyn Kenyon (Goodreads Author)      3\n",
              "8            Marissa Meyer (Goodreads Author)      3\n",
              "9        Jennifer Donnelly (Goodreads Author)      3\n",
              "10                                 C.S. Lewis      3"
            ]
          },
          "metadata": {},
          "output_type": "display_data"
        },
        {
          "data": {
            "text/markdown": [
              "**8**. Top 10 Languages used in the most books:"
            ],
            "text/plain": [
              "<IPython.core.display.Markdown object>"
            ]
          },
          "metadata": {},
          "output_type": "display_data"
        },
        {
          "data": {
            "text/html": [
              "<div>\n",
              "<style scoped>\n",
              "    .dataframe tbody tr th:only-of-type {\n",
              "        vertical-align: middle;\n",
              "    }\n",
              "\n",
              "    .dataframe tbody tr th {\n",
              "        vertical-align: top;\n",
              "    }\n",
              "\n",
              "    .dataframe thead th {\n",
              "        text-align: right;\n",
              "    }\n",
              "</style>\n",
              "<table border=\"1\" class=\"dataframe\">\n",
              "  <thead>\n",
              "    <tr style=\"text-align: right;\">\n",
              "      <th></th>\n",
              "      <th>language</th>\n",
              "      <th>Books</th>\n",
              "    </tr>\n",
              "  </thead>\n",
              "  <tbody>\n",
              "    <tr>\n",
              "      <th>1</th>\n",
              "      <td>English</td>\n",
              "      <td>37005</td>\n",
              "    </tr>\n",
              "    <tr>\n",
              "      <th>2</th>\n",
              "      <td>Arabic</td>\n",
              "      <td>744</td>\n",
              "    </tr>\n",
              "    <tr>\n",
              "      <th>3</th>\n",
              "      <td>Spanish</td>\n",
              "      <td>519</td>\n",
              "    </tr>\n",
              "    <tr>\n",
              "      <th>4</th>\n",
              "      <td>French</td>\n",
              "      <td>494</td>\n",
              "    </tr>\n",
              "    <tr>\n",
              "      <th>5</th>\n",
              "      <td>German</td>\n",
              "      <td>404</td>\n",
              "    </tr>\n",
              "    <tr>\n",
              "      <th>6</th>\n",
              "      <td>Indonesian</td>\n",
              "      <td>300</td>\n",
              "    </tr>\n",
              "    <tr>\n",
              "      <th>7</th>\n",
              "      <td>Portuguese</td>\n",
              "      <td>298</td>\n",
              "    </tr>\n",
              "    <tr>\n",
              "      <th>8</th>\n",
              "      <td>Italian</td>\n",
              "      <td>214</td>\n",
              "    </tr>\n",
              "    <tr>\n",
              "      <th>9</th>\n",
              "      <td>Dutch</td>\n",
              "      <td>192</td>\n",
              "    </tr>\n",
              "    <tr>\n",
              "      <th>10</th>\n",
              "      <td>Turkish</td>\n",
              "      <td>173</td>\n",
              "    </tr>\n",
              "  </tbody>\n",
              "</table>\n",
              "</div>"
            ],
            "text/plain": [
              "      language  Books\n",
              "1      English  37005\n",
              "2       Arabic    744\n",
              "3      Spanish    519\n",
              "4       French    494\n",
              "5       German    404\n",
              "6   Indonesian    300\n",
              "7   Portuguese    298\n",
              "8      Italian    214\n",
              "9        Dutch    192\n",
              "10     Turkish    173"
            ]
          },
          "metadata": {},
          "output_type": "display_data"
        },
        {
          "data": {
            "text/markdown": [
              "**9**. Top 10 Publishers with the most books:"
            ],
            "text/plain": [
              "<IPython.core.display.Markdown object>"
            ]
          },
          "metadata": {},
          "output_type": "display_data"
        },
        {
          "data": {
            "text/html": [
              "<div>\n",
              "<style scoped>\n",
              "    .dataframe tbody tr th:only-of-type {\n",
              "        vertical-align: middle;\n",
              "    }\n",
              "\n",
              "    .dataframe tbody tr th {\n",
              "        vertical-align: top;\n",
              "    }\n",
              "\n",
              "    .dataframe thead th {\n",
              "        text-align: right;\n",
              "    }\n",
              "</style>\n",
              "<table border=\"1\" class=\"dataframe\">\n",
              "  <thead>\n",
              "    <tr style=\"text-align: right;\">\n",
              "      <th></th>\n",
              "      <th>publisher</th>\n",
              "      <th>Books</th>\n",
              "    </tr>\n",
              "  </thead>\n",
              "  <tbody>\n",
              "    <tr>\n",
              "      <th>1</th>\n",
              "      <td>Vintage</td>\n",
              "      <td>559</td>\n",
              "    </tr>\n",
              "    <tr>\n",
              "      <th>2</th>\n",
              "      <td>HarperCollins</td>\n",
              "      <td>494</td>\n",
              "    </tr>\n",
              "    <tr>\n",
              "      <th>3</th>\n",
              "      <td>Penguin Books</td>\n",
              "      <td>410</td>\n",
              "    </tr>\n",
              "    <tr>\n",
              "      <th>4</th>\n",
              "      <td>Ballantine Books</td>\n",
              "      <td>383</td>\n",
              "    </tr>\n",
              "    <tr>\n",
              "      <th>5</th>\n",
              "      <td>Bantam</td>\n",
              "      <td>346</td>\n",
              "    </tr>\n",
              "    <tr>\n",
              "      <th>6</th>\n",
              "      <td>Avon</td>\n",
              "      <td>305</td>\n",
              "    </tr>\n",
              "    <tr>\n",
              "      <th>7</th>\n",
              "      <td>Pocket Books</td>\n",
              "      <td>304</td>\n",
              "    </tr>\n",
              "    <tr>\n",
              "      <th>8</th>\n",
              "      <td>Del Rey</td>\n",
              "      <td>282</td>\n",
              "    </tr>\n",
              "    <tr>\n",
              "      <th>9</th>\n",
              "      <td>Berkley</td>\n",
              "      <td>276</td>\n",
              "    </tr>\n",
              "    <tr>\n",
              "      <th>10</th>\n",
              "      <td>Tor Books</td>\n",
              "      <td>275</td>\n",
              "    </tr>\n",
              "  </tbody>\n",
              "</table>\n",
              "</div>"
            ],
            "text/plain": [
              "           publisher  Books\n",
              "1            Vintage    559\n",
              "2      HarperCollins    494\n",
              "3      Penguin Books    410\n",
              "4   Ballantine Books    383\n",
              "5             Bantam    346\n",
              "6               Avon    305\n",
              "7       Pocket Books    304\n",
              "8            Del Rey    282\n",
              "9            Berkley    276\n",
              "10         Tor Books    275"
            ]
          },
          "metadata": {},
          "output_type": "display_data"
        }
      ],
      "source": [
        "questions: List[TopColumnValuesQuestion] = [\n",
        "    {\n",
        "        'qnum': '5',\n",
        "        'qtitle': 'Top 10 Authors with the most books',\n",
        "        'col': DataColumn.AUTHOR,\n",
        "        'countCol': TopColumnValuesAnswerGenerator.COUNT_ROWS,\n",
        "        'limit': 10,\n",
        "        'extractor': lambda s: re.split(r'[,(]', s, maxsplit=1)[0].strip(),\n",
        "    },    \n",
        "    {\n",
        "        'qnum': '6',\n",
        "        'qtitle': 'Top 10 Authors with the most ratings',\n",
        "        'col': DataColumn.AUTHOR,\n",
        "        'countCol': DataColumn.NUMRATINGS,\n",
        "        'limit': 10,\n",
        "        'useExtracted': True\n",
        "    },\n",
        "    {\n",
        "        'qnum': '8',\n",
        "        'qtitle': 'Top 10 Languages used in the most books',\n",
        "        'col': DataColumn.LANGUAGE,\n",
        "        'countCol': TopColumnValuesAnswerGenerator.COUNT_ROWS,\n",
        "        'limit': 10,\n",
        "    },\n",
        "    {\n",
        "        'qnum': '9',\n",
        "        'qtitle': 'Top 10 Publishers with the most books',\n",
        "        'col': DataColumn.PUBLISHER,\n",
        "        'countCol': TopColumnValuesAnswerGenerator.COUNT_ROWS,\n",
        "        'limit': 10,\n",
        "    }\n",
        "]\n",
        "\n",
        "def buildYearFilter(y: int) -> Callable[[pd.DataFrame], pd.DataFrame]:\n",
        "    return lambda df: df[df[DataColumn.PUBLISHYEAR] == y]\n",
        "\n",
        "for i, y in enumerate(range(2000, 2016, 5)):\n",
        "    questions.append({\n",
        "        'qnum': f'7({i + 1})',\n",
        "        'qtitle': f'Top 10 Authors with the most books in {y}',\n",
        "        'col': DataColumn.AUTHOR,\n",
        "        'countCol': TopColumnValuesAnswerGenerator.COUNT_ROWS,\n",
        "        'limit': 10,\n",
        "        'dataFilter': buildYearFilter(y),\n",
        "    })\n",
        "questions = sorted(questions, key=lambda q: q['qnum'])\n",
        "TopColumnValuesAnswerGenerator().registerQuestions(questions).displayAnswers(dataDf)"
      ]
    },
    {
      "attachments": {},
      "cell_type": "markdown",
      "metadata": {
        "id": "RMeCRIMKb-2N"
      },
      "source": [
        "**10.** Relationship between number of pages and ratings"
      ]
    },
    {
      "cell_type": "code",
      "execution_count": 15,
      "metadata": {
        "colab": {
          "base_uri": "https://localhost:8080/",
          "height": 751
        },
        "id": "lExQbwAdb-2N",
        "outputId": "5f2b3552-1564-4886-c158-ea63823d5c76"
      },
      "outputs": [
        {
          "data": {
            "image/png": "[encoded data removed]",
            "text/plain": [
              "<Figure size 576x576 with 2 Axes>"
            ]
          },
          "metadata": {
            "needs_background": "light"
          },
          "output_type": "display_data"
        }
      ],
      "source": [
        "def drawHeatmap(df: pd.DataFrame, ax: plt.Axes, cmap: str = \"coolwarm\", **kwargs):\n",
        "    _ = sns.heatmap(df.corr(), ax=ax, cmap=cmap, **kwargs)\n",
        "\n",
        "_, axes = plt.subplots(1, 1, figsize=(8,8))\n",
        "cols = [\n",
        "    DataColumn.PAGES,\n",
        "    DataColumn.NUMRATINGS,\n",
        "    DataColumn.RATING,\n",
        "    DataColumn.RATINGSTAR1,\n",
        "    DataColumn.RATINGSTAR2,\n",
        "    DataColumn.RATINGSTAR3,\n",
        "    DataColumn.RATINGSTAR4,\n",
        "    DataColumn.RATINGSTAR5\n",
        "]\n",
        "\n",
        "def pageStrToInt(s: str):\n",
        "    try:\n",
        "        return int(s)\n",
        "    except ValueError:\n",
        "        return int(s.split(maxsplit=1)[0])\n",
        "\n",
        "dataDf[DataColumn.PAGES] = dataDf[DataColumn.PAGES].apply(pageStrToInt)\n",
        "drawHeatmap(dataDf[dataDf[DataColumn.PAGES] > 1000][cols], axes)"
      ]
    },
    {
      "cell_type": "code",
      "execution_count": 16,
      "metadata": {
        "colab": {
          "base_uri": "https://localhost:8080/",
          "height": 768
        },
        "id": "IK8RMOwHb-2O",
        "outputId": "cd25a57b-a889-406e-f41d-4e3238e5cbe7"
      },
      "outputs": [
        {
          "data": {
            "text/markdown": [
              "**11**. Top Genres of the most books:"
            ],
            "text/plain": [
              "<IPython.core.display.Markdown object>"
            ]
          },
          "metadata": {},
          "output_type": "display_data"
        },
        {
          "data": {
            "text/html": [
              "<div>\n",
              "<style scoped>\n",
              "    .dataframe tbody tr th:only-of-type {\n",
              "        vertical-align: middle;\n",
              "    }\n",
              "\n",
              "    .dataframe tbody tr th {\n",
              "        vertical-align: top;\n",
              "    }\n",
              "\n",
              "    .dataframe thead th {\n",
              "        text-align: right;\n",
              "    }\n",
              "</style>\n",
              "<table border=\"1\" class=\"dataframe\">\n",
              "  <thead>\n",
              "    <tr style=\"text-align: right;\">\n",
              "      <th></th>\n",
              "      <th>genres</th>\n",
              "      <th>Books</th>\n",
              "    </tr>\n",
              "  </thead>\n",
              "  <tbody>\n",
              "    <tr>\n",
              "      <th>1</th>\n",
              "      <td>Fiction</td>\n",
              "      <td>28657</td>\n",
              "    </tr>\n",
              "    <tr>\n",
              "      <th>2</th>\n",
              "      <td>Fantasy</td>\n",
              "      <td>13481</td>\n",
              "    </tr>\n",
              "    <tr>\n",
              "      <th>3</th>\n",
              "      <td>Romance</td>\n",
              "      <td>13159</td>\n",
              "    </tr>\n",
              "    <tr>\n",
              "      <th>4</th>\n",
              "      <td>Young Adult</td>\n",
              "      <td>10453</td>\n",
              "    </tr>\n",
              "    <tr>\n",
              "      <th>5</th>\n",
              "      <td>Contemporary</td>\n",
              "      <td>8919</td>\n",
              "    </tr>\n",
              "    <tr>\n",
              "      <th>6</th>\n",
              "      <td>Nonfiction</td>\n",
              "      <td>7310</td>\n",
              "    </tr>\n",
              "    <tr>\n",
              "      <th>7</th>\n",
              "      <td>Adult</td>\n",
              "      <td>7228</td>\n",
              "    </tr>\n",
              "    <tr>\n",
              "      <th>8</th>\n",
              "      <td>Novels</td>\n",
              "      <td>7224</td>\n",
              "    </tr>\n",
              "    <tr>\n",
              "      <th>9</th>\n",
              "      <td>Historical Fiction</td>\n",
              "      <td>7098</td>\n",
              "    </tr>\n",
              "    <tr>\n",
              "      <th>10</th>\n",
              "      <td>Mystery</td>\n",
              "      <td>7075</td>\n",
              "    </tr>\n",
              "  </tbody>\n",
              "</table>\n",
              "</div>"
            ],
            "text/plain": [
              "                genres  Books\n",
              "1              Fiction  28657\n",
              "2              Fantasy  13481\n",
              "3              Romance  13159\n",
              "4          Young Adult  10453\n",
              "5         Contemporary   8919\n",
              "6           Nonfiction   7310\n",
              "7                Adult   7228\n",
              "8               Novels   7224\n",
              "9   Historical Fiction   7098\n",
              "10             Mystery   7075"
            ]
          },
          "metadata": {},
          "output_type": "display_data"
        },
        {
          "data": {
            "text/markdown": [
              "**12**. Top Awards of the most books:"
            ],
            "text/plain": [
              "<IPython.core.display.Markdown object>"
            ]
          },
          "metadata": {},
          "output_type": "display_data"
        },
        {
          "data": {
            "text/html": [
              "<div>\n",
              "<style scoped>\n",
              "    .dataframe tbody tr th:only-of-type {\n",
              "        vertical-align: middle;\n",
              "    }\n",
              "\n",
              "    .dataframe tbody tr th {\n",
              "        vertical-align: top;\n",
              "    }\n",
              "\n",
              "    .dataframe thead th {\n",
              "        text-align: right;\n",
              "    }\n",
              "</style>\n",
              "<table border=\"1\" class=\"dataframe\">\n",
              "  <thead>\n",
              "    <tr style=\"text-align: right;\">\n",
              "      <th></th>\n",
              "      <th>awards</th>\n",
              "      <th>Books</th>\n",
              "    </tr>\n",
              "  </thead>\n",
              "  <tbody>\n",
              "    <tr>\n",
              "      <th>1</th>\n",
              "      <td>Dorothy Canfield Fisher Children's Book Award ...</td>\n",
              "      <td>317</td>\n",
              "    </tr>\n",
              "    <tr>\n",
              "      <th>2</th>\n",
              "      <td>Lincoln Award Nominee</td>\n",
              "      <td>246</td>\n",
              "    </tr>\n",
              "    <tr>\n",
              "      <th>3</th>\n",
              "      <td>Rhode Island Teen Book Award Nominee</td>\n",
              "      <td>214</td>\n",
              "    </tr>\n",
              "    <tr>\n",
              "      <th>4</th>\n",
              "      <td>Carnegie Medal Nominee</td>\n",
              "      <td>160</td>\n",
              "    </tr>\n",
              "    <tr>\n",
              "      <th>5</th>\n",
              "      <td>Goodreads Choice Award Nominee for Young Adult...</td>\n",
              "      <td>155</td>\n",
              "    </tr>\n",
              "    <tr>\n",
              "      <th>6</th>\n",
              "      <td>Rebecca Caudill Young Readers' Book Award Nominee</td>\n",
              "      <td>138</td>\n",
              "    </tr>\n",
              "    <tr>\n",
              "      <th>7</th>\n",
              "      <td>Goodreads Choice Award Nominee for Fiction</td>\n",
              "      <td>137</td>\n",
              "    </tr>\n",
              "    <tr>\n",
              "      <th>8</th>\n",
              "      <td>Goodreads Choice Award Nominee for Romance</td>\n",
              "      <td>136</td>\n",
              "    </tr>\n",
              "    <tr>\n",
              "      <th>9</th>\n",
              "      <td>Missouri Gateway Readers Award Nominee</td>\n",
              "      <td>136</td>\n",
              "    </tr>\n",
              "    <tr>\n",
              "      <th>10</th>\n",
              "      <td>Goodreads Choice Award Nominee for Young Adult...</td>\n",
              "      <td>134</td>\n",
              "    </tr>\n",
              "  </tbody>\n",
              "</table>\n",
              "</div>"
            ],
            "text/plain": [
              "                                               awards  Books\n",
              "1   Dorothy Canfield Fisher Children's Book Award ...    317\n",
              "2                               Lincoln Award Nominee    246\n",
              "3                Rhode Island Teen Book Award Nominee    214\n",
              "4                              Carnegie Medal Nominee    160\n",
              "5   Goodreads Choice Award Nominee for Young Adult...    155\n",
              "6   Rebecca Caudill Young Readers' Book Award Nominee    138\n",
              "7          Goodreads Choice Award Nominee for Fiction    137\n",
              "8          Goodreads Choice Award Nominee for Romance    136\n",
              "9              Missouri Gateway Readers Award Nominee    136\n",
              "10  Goodreads Choice Award Nominee for Young Adult...    134"
            ]
          },
          "metadata": {},
          "output_type": "display_data"
        }
      ],
      "source": [
        "def countListRowStrings(d: \"defaultdict[str, int]\", s: str, listExtractor: Callable[[str], List[str]]):\n",
        "    items: List[str] = listExtractor(s)\n",
        "    for i in items:\n",
        "        d[i] += 1\n",
        "\n",
        "def awardTitlesExtractor(awardListStr: str) -> List[str]:    \n",
        "    awardList: List[str] = ast.literal_eval(awardListStr)\n",
        "    awards = []\n",
        "    for s in awardList:\n",
        "        awards.append(re.sub(fr'[(]{YearExtractor.YEAR_RE_NO_GROUP}[)]', repl='', string=s).strip())\n",
        "    return awards\n",
        "\n",
        "TopColumnValuesAnswerGenerator().registerQuestions([\n",
        "    {\n",
        "        'qnum': '11',\n",
        "        'qtitle': 'Top Genres of the most books',\n",
        "        'col': DataColumn.GENRES,\n",
        "        'countCol': TopColumnValuesAnswerGenerator.COUNT_ROWS,\n",
        "        'limit': 10,\n",
        "        'counter': lambda d, s, _: countListRowStrings(d, s, ast.literal_eval)\n",
        "    },\n",
        "    {\n",
        "        'qnum': '12',\n",
        "        'qtitle': 'Top Awards of the most books',\n",
        "        'col': DataColumn.AWARDS,\n",
        "        'countCol': TopColumnValuesAnswerGenerator.COUNT_ROWS,\n",
        "        'limit': 10,\n",
        "        'counter': lambda d, s, _: countListRowStrings(d, s, awardTitlesExtractor)\n",
        "    }\n",
        "]).displayAnswers(dataDf)"
      ]
    },
    {
      "cell_type": "code",
      "execution_count": 17,
      "metadata": {
        "colab": {
          "base_uri": "https://localhost:8080/",
          "height": 549
        },
        "id": "1mqRbH5Pb-2O",
        "outputId": "fd844998-9041-4e98-fdfc-269e59cfb20b"
      },
      "outputs": [
        {
          "data": {
            "text/markdown": [
              "**13**. Books published by year:"
            ],
            "text/plain": [
              "<IPython.core.display.Markdown object>"
            ]
          },
          "metadata": {},
          "output_type": "display_data"
        },
        {
          "data": {
            "text/html": [
              "<div>\n",
              "<style scoped>\n",
              "    .dataframe tbody tr th:only-of-type {\n",
              "        vertical-align: middle;\n",
              "    }\n",
              "\n",
              "    .dataframe tbody tr th {\n",
              "        vertical-align: top;\n",
              "    }\n",
              "\n",
              "    .dataframe thead th {\n",
              "        text-align: right;\n",
              "    }\n",
              "</style>\n",
              "<table border=\"1\" class=\"dataframe\">\n",
              "  <thead>\n",
              "    <tr style=\"text-align: right;\">\n",
              "      <th></th>\n",
              "      <th>publishYear</th>\n",
              "      <th>Books</th>\n",
              "    </tr>\n",
              "  </thead>\n",
              "  <tbody>\n",
              "    <tr>\n",
              "      <th>1</th>\n",
              "      <td>2012</td>\n",
              "      <td>2642</td>\n",
              "    </tr>\n",
              "    <tr>\n",
              "      <th>2</th>\n",
              "      <td>2006</td>\n",
              "      <td>2432</td>\n",
              "    </tr>\n",
              "    <tr>\n",
              "      <th>3</th>\n",
              "      <td>2013</td>\n",
              "      <td>2418</td>\n",
              "    </tr>\n",
              "    <tr>\n",
              "      <th>4</th>\n",
              "      <td>2011</td>\n",
              "      <td>2399</td>\n",
              "    </tr>\n",
              "    <tr>\n",
              "      <th>5</th>\n",
              "      <td>2010</td>\n",
              "      <td>2235</td>\n",
              "    </tr>\n",
              "    <tr>\n",
              "      <th>6</th>\n",
              "      <td>2007</td>\n",
              "      <td>2217</td>\n",
              "    </tr>\n",
              "    <tr>\n",
              "      <th>7</th>\n",
              "      <td>2009</td>\n",
              "      <td>2014</td>\n",
              "    </tr>\n",
              "    <tr>\n",
              "      <th>8</th>\n",
              "      <td>2014</td>\n",
              "      <td>1995</td>\n",
              "    </tr>\n",
              "    <tr>\n",
              "      <th>9</th>\n",
              "      <td>2005</td>\n",
              "      <td>1902</td>\n",
              "    </tr>\n",
              "    <tr>\n",
              "      <th>10</th>\n",
              "      <td>2008</td>\n",
              "      <td>1866</td>\n",
              "    </tr>\n",
              "    <tr>\n",
              "      <th>11</th>\n",
              "      <td>2004</td>\n",
              "      <td>1697</td>\n",
              "    </tr>\n",
              "    <tr>\n",
              "      <th>12</th>\n",
              "      <td>2003</td>\n",
              "      <td>1479</td>\n",
              "    </tr>\n",
              "    <tr>\n",
              "      <th>13</th>\n",
              "      <td>2015</td>\n",
              "      <td>1475</td>\n",
              "    </tr>\n",
              "    <tr>\n",
              "      <th>14</th>\n",
              "      <td>2002</td>\n",
              "      <td>1254</td>\n",
              "    </tr>\n",
              "    <tr>\n",
              "      <th>15</th>\n",
              "      <td>2001</td>\n",
              "      <td>1101</td>\n",
              "    </tr>\n",
              "  </tbody>\n",
              "</table>\n",
              "</div>"
            ],
            "text/plain": [
              "    publishYear  Books\n",
              "1          2012   2642\n",
              "2          2006   2432\n",
              "3          2013   2418\n",
              "4          2011   2399\n",
              "5          2010   2235\n",
              "6          2007   2217\n",
              "7          2009   2014\n",
              "8          2014   1995\n",
              "9          2005   1902\n",
              "10         2008   1866\n",
              "11         2004   1697\n",
              "12         2003   1479\n",
              "13         2015   1475\n",
              "14         2002   1254\n",
              "15         2001   1101"
            ]
          },
          "metadata": {},
          "output_type": "display_data"
        }
      ],
      "source": [
        "TopColumnValuesAnswerGenerator().registerQuestion({\n",
        "    'qnum': '13',\n",
        "    'qtitle': 'Books published by year',\n",
        "    'col': DataColumn.PUBLISHYEAR,\n",
        "    'countCol': TopColumnValuesAnswerGenerator.COUNT_ROWS,\n",
        "    'limit': 15\n",
        "}).displayAnswers(dataDf)"
      ]
    },
    {
      "cell_type": "code",
      "execution_count": 18,
      "metadata": {
        "colab": {
          "base_uri": "https://localhost:8080/",
          "height": 909
        },
        "id": "BvhaGQW7iFxj",
        "outputId": "2cf9ef21-dfac-4b33-921d-6ca572ac17c3"
      },
      "outputs": [
        {
          "data": {
            "image/png": "[encoded data removed]",
            "text/plain": [
              "<Figure size 432x288 with 1 Axes>"
            ]
          },
          "metadata": {
            "needs_background": "light"
          },
          "output_type": "display_data"
        },
        {
          "data": {
            "text/plain": [
              "<Figure size 2880x1440 with 0 Axes>"
            ]
          },
          "metadata": {},
          "output_type": "display_data"
        },
        {
          "data": {
            "text/markdown": [
              "Top 10 most popular words used in book descriptions:"
            ],
            "text/plain": [
              "<IPython.core.display.Markdown object>"
            ]
          },
          "metadata": {},
          "output_type": "display_data"
        },
        {
          "data": {
            "text/html": [
              "<div>\n",
              "<style scoped>\n",
              "    .dataframe tbody tr th:only-of-type {\n",
              "        vertical-align: middle;\n",
              "    }\n",
              "\n",
              "    .dataframe tbody tr th {\n",
              "        vertical-align: top;\n",
              "    }\n",
              "\n",
              "    .dataframe thead th {\n",
              "        text-align: right;\n",
              "    }\n",
              "</style>\n",
              "<table border=\"1\" class=\"dataframe\">\n",
              "  <thead>\n",
              "    <tr style=\"text-align: right;\">\n",
              "      <th></th>\n",
              "      <th>Word</th>\n",
              "    </tr>\n",
              "  </thead>\n",
              "  <tbody>\n",
              "    <tr>\n",
              "      <th>1</th>\n",
              "      <td>life</td>\n",
              "    </tr>\n",
              "    <tr>\n",
              "      <th>2</th>\n",
              "      <td>world</td>\n",
              "    </tr>\n",
              "    <tr>\n",
              "      <th>3</th>\n",
              "      <td>find</td>\n",
              "    </tr>\n",
              "    <tr>\n",
              "      <th>4</th>\n",
              "      <td>book</td>\n",
              "    </tr>\n",
              "    <tr>\n",
              "      <th>5</th>\n",
              "      <td>love</td>\n",
              "    </tr>\n",
              "    <tr>\n",
              "      <th>6</th>\n",
              "      <td>live</td>\n",
              "    </tr>\n",
              "    <tr>\n",
              "      <th>7</th>\n",
              "      <td>family</td>\n",
              "    </tr>\n",
              "    <tr>\n",
              "      <th>8</th>\n",
              "      <td>even</td>\n",
              "    </tr>\n",
              "    <tr>\n",
              "      <th>9</th>\n",
              "      <td>story</td>\n",
              "    </tr>\n",
              "    <tr>\n",
              "      <th>10</th>\n",
              "      <td>time</td>\n",
              "    </tr>\n",
              "  </tbody>\n",
              "</table>\n",
              "</div>"
            ],
            "text/plain": [
              "      Word\n",
              "1     life\n",
              "2    world\n",
              "3     find\n",
              "4     book\n",
              "5     love\n",
              "6     live\n",
              "7   family\n",
              "8     even\n",
              "9    story\n",
              "10    time"
            ]
          },
          "metadata": {},
          "output_type": "display_data"
        }
      ],
      "source": [
        "def displayWordcloud(text: str) -> WordCloud:\n",
        "\n",
        "    def downloadImageMask() -> \"np.ndarray | None\":\n",
        "        IMG_PATH = 'https://img.freepik.com/premium-vector/book-logo_535345-3487.jpg'\n",
        "\n",
        "        res = requests.get(IMG_PATH)\n",
        "\n",
        "        if res.ok:\n",
        "            return np.array( Image.open(io.BytesIO(res.content)) )\n",
        "        else:\n",
        "            return None\n",
        "\n",
        "    cloud = WordCloud(\n",
        "        background_color=\"rgba(255, 255, 255, 0)\", mode=\"RGBA\",\n",
        "        colormap='gist_heat',\n",
        "        width=2000, height=1000,\n",
        "        max_words=500,\n",
        "        min_word_length=4,\n",
        "        stopwords=STOP_WORDS,\n",
        "        mask=downloadImageMask()\n",
        "    ).generate(text)\n",
        "\n",
        "    plt.axis(\"off\")\n",
        "    plt.tight_layout(pad=0)\n",
        "    plt.imshow(cloud, interpolation='bilinear')\n",
        "    plt.figure(figsize=(40, 20))\n",
        "    plt.show()\n",
        "\n",
        "    return cloud\n",
        "\n",
        "def displayTopWordcloudWords(wcloud: WordCloud, n: int):\n",
        "    printMd(f'Top {n} most popular words used in book descriptions:')\n",
        "    topWords = pd.DataFrame(wcloud.words_.keys())\n",
        "    topWords.columns=['Word']\n",
        "    topWords.index += 1\n",
        "    display(topWords.head(n))\n",
        "\n",
        "descriptionsTotal = (\n",
        "    ' '.join(d for d in dataDf[DataColumn.DESCRIPTION])\n",
        "    .translate(str.maketrans('', '', string.punctuation))\n",
        ")\n",
        "wcloud = displayWordcloud(descriptionsTotal)\n",
        "displayTopWordcloudWords(wcloud, 10)"
      ]
    },
    {
      "attachments": {},
      "cell_type": "markdown",
      "metadata": {},
      "source": [
        "### A similarity-based Recommendation System"
      ]
    },
    {
      "cell_type": "code",
      "execution_count": 19,
      "metadata": {
        "colab": {
          "base_uri": "https://localhost:8080/"
        },
        "id": "CNdtNDlE8fzE",
        "outputId": "359ba0b9-3f82-4efb-8bff-38ffc97b5757"
      },
      "outputs": [
        {
          "name": "stdout",
          "output_type": "stream",
          "text": [
            "Dataset Shape:\n",
            "Rows: 41572, Columns: 23\n"
          ]
        }
      ],
      "source": [
        "recommenderDf = dataDf[dataDf[DataColumn.LANGUAGE] == 'English']\n",
        "printDatasetShape(dataDf)"
      ]
    },
    {
      "cell_type": "code",
      "execution_count": 20,
      "metadata": {
        "colab": {
          "base_uri": "https://localhost:8080/"
        },
        "id": "XrCAbMth8fzF",
        "outputId": "252f140d-6149-4a62-cbad-652a5badb917"
      },
      "outputs": [
        {
          "data": {
            "text/plain": [
              "1026"
            ]
          },
          "execution_count": 20,
          "metadata": {},
          "output_type": "execute_result"
        }
      ],
      "source": [
        "gc.collect()"
      ]
    },
    {
      "cell_type": "code",
      "execution_count": 21,
      "metadata": {
        "colab": {
          "base_uri": "https://localhost:8080/"
        },
        "id": "3OXqEtXD8fzF",
        "outputId": "38e38d39-b0fa-40b5-a299-cd713b5722e6"
      },
      "outputs": [
        {
          "data": {
            "text/markdown": [
              "### Using `1-grams`:"
            ],
            "text/plain": [
              "<IPython.core.display.Markdown object>"
            ]
          },
          "metadata": {},
          "output_type": "display_data"
        },
        {
          "data": {
            "application/json": {
              "ascii": false,
              "bar_format": "{desc}{bar} {n}/{total} -- Time Elapsed: {elapsed}",
              "colour": null,
              "elapsed": 0.04936790466308594,
              "initial": 0,
              "n": 0,
              "ncols": null,
              "nrows": null,
              "postfix": null,
              "prefix": "",
              "rate": null,
              "total": 1000,
              "unit": "it",
              "unit_divisor": 1000,
              "unit_scale": false
            },
            "application/vnd.jupyter.widget-view+json": {
              "model_id": "d0e95e88e48e4cf1b24193f9e628d6df",
              "version_major": 2,
              "version_minor": 0
            },
            "text/plain": [
              "           0/1000 -- Time Elapsed: 00:00"
            ]
          },
          "metadata": {},
          "output_type": "display_data"
        },
        {
          "data": {
            "text/markdown": [
              "Recommending up to 5 books similar to **Harry Potter and the Order of the Phoenix**"
            ],
            "text/plain": [
              "<IPython.core.display.Markdown object>"
            ]
          },
          "metadata": {},
          "output_type": "display_data"
        },
        {
          "data": {
            "text/markdown": [
              "***"
            ],
            "text/plain": [
              "<IPython.core.display.Markdown object>"
            ]
          },
          "metadata": {},
          "output_type": "display_data"
        },
        {
          "data": {
            "text/markdown": [
              "1. **Harry Potter and the Prisoner of Azkaban**"
            ],
            "text/plain": [
              "<IPython.core.display.Markdown object>"
            ]
          },
          "metadata": {},
          "output_type": "display_data"
        },
        {
          "data": {
            "text/markdown": [
              "<u>Description</u>: Harry Potter's third year at Hogwarts is full of new dangers.  A convicted murderer, Sirius Black,\\\n",
              "has broken out of Azkaban prison, and it seems he's after Harry.  Now Hogwarts is being patrolled by\\\n",
              "the dementors, the Azkaban guards who are hunting Sirius.  But Harry can't imagine that Sirius or,\\\n",
              "for that matter, the evil Lord Voldemort could be more frightening than the dementors themselves,\\\n",
              "who have the terrible power to fill anyone they come across with aching loneliness and despair.\\\n",
              "Meanwhile, life continues as usual at Hogwarts.  A top-of-the-line broom takes Harry's success at\\\n",
              "Quidditch, the sport of the Wizarding world, to new heights.  A cute fourth-year student catches his\\\n",
              "eye.  And he becomes close with the new Defense of the Dark Arts teacher, who was a childhood friend\\\n",
              "of his father.  Yet despite the relative safety of life at Hogwarts and the best efforts of the\\\n",
              "dementors, the threat of Sirius Black grows ever closer.  But if Harry has learned anything from his\\\n",
              "education in wizardry, it is that things are often not what they seem.  Tragic revelations,\\\n",
              "heartwarming surprises, and high-stakes magical adventures await the boy wizard in this funny and\\\n",
              "poignant third installment of the beloved series.--scholastic.com"
            ],
            "text/plain": [
              "<IPython.core.display.Markdown object>"
            ]
          },
          "metadata": {},
          "output_type": "display_data"
        },
        {
          "data": {
            "text/markdown": [
              "<u>Score</u>: 0.416161054787754"
            ],
            "text/plain": [
              "<IPython.core.display.Markdown object>"
            ]
          },
          "metadata": {},
          "output_type": "display_data"
        },
        {
          "data": {
            "text/markdown": [
              "2. **Harry Potter and the Chamber of Secrets**"
            ],
            "text/plain": [
              "<IPython.core.display.Markdown object>"
            ]
          },
          "metadata": {},
          "output_type": "display_data"
        },
        {
          "data": {
            "text/markdown": [
              "<u>Description</u>: Ever since Harry Potter had come home for the summer, the Dursleys had been so mean and hideous that\\\n",
              "all Harry wanted was to get back to the Hogwarts School for Witchcraft and Wizardry.  But just as\\\n",
              "he’s packing his bags, Harry receives a warning from a strange impish creature who says that if\\\n",
              "Harry returns to Hogwarts, disaster will strike.And strike it does.  For in Harry’s second year at\\\n",
              "Hogwarts, fresh torments and horrors arise, including an outrageously stuck-up new professor and a\\\n",
              "spirit who haunts the girls’ bathroom.  But then the real trouble begins – someone is turning\\\n",
              "Hogwarts students to stone.  Could it be Draco Malfoy, a more poisonous rival than ever?  Could it\\\n",
              "possible be Hagrid, whose mysterious past is finally told?  Or could it be the one everyone at\\\n",
              "Hogwarts most suspects… Harry Potter himself!"
            ],
            "text/plain": [
              "<IPython.core.display.Markdown object>"
            ]
          },
          "metadata": {},
          "output_type": "display_data"
        },
        {
          "data": {
            "text/markdown": [
              "<u>Score</u>: 0.3733984350022985"
            ],
            "text/plain": [
              "<IPython.core.display.Markdown object>"
            ]
          },
          "metadata": {},
          "output_type": "display_data"
        },
        {
          "data": {
            "text/markdown": [
              "3. **The Last of the Mohicans**"
            ],
            "text/plain": [
              "<IPython.core.display.Markdown object>"
            ]
          },
          "metadata": {},
          "output_type": "display_data"
        },
        {
          "data": {
            "text/markdown": [
              "<u>Description</u>: The wild rush of action in this classic frontier adventure story has made The Last of the Mohicans\\\n",
              "the most popular of James Fenimore Cooper’s Leatherstocking Tales.  Deep in the forests of upper New\\\n",
              "York State, the brave woodsman Hawkeye (Natty Bumppo) and his loyal Mohican friends Chingachgook and\\\n",
              "Uncas become embroiled in the bloody battles of the French and Indian War.  The abduction of the\\\n",
              "beautiful Munro sisters by hostile savages, the treachery of the renegade brave Magua, the ambush of\\\n",
              "innocent settlers, and the thrilling events that lead to the final tragic confrontation between\\\n",
              "rival war parties create an unforgettable, spine-tingling picture of life on the frontier.  And as\\\n",
              "the idyllic wilderness gives way to the forces of civilization, the novel presents a moving\\\n",
              "portrayal of a vanishing race and the end of its way of life in the great American forests."
            ],
            "text/plain": [
              "<IPython.core.display.Markdown object>"
            ]
          },
          "metadata": {},
          "output_type": "display_data"
        },
        {
          "data": {
            "text/markdown": [
              "<u>Score</u>: 0.3587625066857846"
            ],
            "text/plain": [
              "<IPython.core.display.Markdown object>"
            ]
          },
          "metadata": {},
          "output_type": "display_data"
        },
        {
          "data": {
            "text/markdown": [
              "4. **Harry Potter and the Sorcerer's Stone**"
            ],
            "text/plain": [
              "<IPython.core.display.Markdown object>"
            ]
          },
          "metadata": {},
          "output_type": "display_data"
        },
        {
          "data": {
            "text/markdown": [
              "<u>Description</u>: Harry Potter's life is miserable.  His parents are dead and he's stuck with his heartless relatives,\\\n",
              "who force him to live in a tiny closet under the stairs.  But his fortune changes when he receives a\\\n",
              "letter that tells him the truth about himself: he's a wizard.  A mysterious visitor rescues him from\\\n",
              "his relatives and takes him to his new home, Hogwarts School of Witchcraft and Wizardry.After a\\\n",
              "lifetime of bottling up his magical powers, Harry finally feels like a normal kid.  But even within\\\n",
              "the Wizarding community, he is special.  He is the boy who lived: the only person to have ever\\\n",
              "survived a killing curse inflicted by the evil Lord Voldemort, who launched a brutal takeover of the\\\n",
              "Wizarding world, only to vanish after failing to kill Harry.Though Harry's first year at Hogwarts is\\\n",
              "the best of his life, not everything is perfect.  There is a dangerous secret object hidden within\\\n",
              "the castle walls, and Harry believes it's his responsibility to prevent it from falling into evil\\\n",
              "hands.  But doing so will bring him into contact with forces more terrifying than he ever could have\\\n",
              "imagined.Full of sympathetic characters, wildly imaginative situations, and countless exciting\\\n",
              "details, the first installment in the series assembles an unforgettable magical world and sets the\\\n",
              "stage for many high-stakes adventures to come."
            ],
            "text/plain": [
              "<IPython.core.display.Markdown object>"
            ]
          },
          "metadata": {},
          "output_type": "display_data"
        },
        {
          "data": {
            "text/markdown": [
              "<u>Score</u>: 0.31790886991883904"
            ],
            "text/plain": [
              "<IPython.core.display.Markdown object>"
            ]
          },
          "metadata": {},
          "output_type": "display_data"
        },
        {
          "data": {
            "text/markdown": [
              "5. **Harry Potter and the Half-Blood Prince**"
            ],
            "text/plain": [
              "<IPython.core.display.Markdown object>"
            ]
          },
          "metadata": {},
          "output_type": "display_data"
        },
        {
          "data": {
            "text/markdown": [
              "<u>Description</u>: The war against Voldemort is not going well; even Muggle governments are noticing.  Ron scans the\\\n",
              "obituary pages of the Daily Prophet, looking for familiar names.  Dumbledore is absent from Hogwarts\\\n",
              "for long stretches of time, and the Order of the Phoenix has already suffered losses.And yet . . .As\\\n",
              "in all wars, life goes on.  The Weasley twins expand their business.  Sixth-year students learn to\\\n",
              "Apparate - and lose a few eyebrows in the process.  Teenagers flirt and fight and fall in love.\\\n",
              "Classes are never straightforward, through Harry receives some extraordinary help from the\\\n",
              "mysterious Half-Blood Prince.So it's the home front that takes center stage in the multilayered\\\n",
              "sixth installment of the story of Harry Potter.  Here at Hogwarts, Harry will search for the full\\\n",
              "and complete story of the boy who became Lord Voldemort - and thereby find what may be his only\\\n",
              "vulnerability."
            ],
            "text/plain": [
              "<IPython.core.display.Markdown object>"
            ]
          },
          "metadata": {},
          "output_type": "display_data"
        },
        {
          "data": {
            "text/markdown": [
              "<u>Score</u>: 0.2668923784082573"
            ],
            "text/plain": [
              "<IPython.core.display.Markdown object>"
            ]
          },
          "metadata": {},
          "output_type": "display_data"
        },
        {
          "data": {
            "text/markdown": [
              "***"
            ],
            "text/plain": [
              "<IPython.core.display.Markdown object>"
            ]
          },
          "metadata": {},
          "output_type": "display_data"
        },
        {
          "data": {
            "text/markdown": [
              "### Using `2-grams`:"
            ],
            "text/plain": [
              "<IPython.core.display.Markdown object>"
            ]
          },
          "metadata": {},
          "output_type": "display_data"
        },
        {
          "data": {
            "application/json": {
              "ascii": false,
              "bar_format": "{desc}{bar} {n}/{total} -- Time Elapsed: {elapsed}",
              "colour": null,
              "elapsed": 0.046408891677856445,
              "initial": 0,
              "n": 0,
              "ncols": null,
              "nrows": null,
              "postfix": null,
              "prefix": "",
              "rate": null,
              "total": 1000,
              "unit": "it",
              "unit_divisor": 1000,
              "unit_scale": false
            },
            "application/vnd.jupyter.widget-view+json": {
              "model_id": "3a992415b9444eb1845b349bd81d0758",
              "version_major": 2,
              "version_minor": 0
            },
            "text/plain": [
              "           0/1000 -- Time Elapsed: 00:00"
            ]
          },
          "metadata": {},
          "output_type": "display_data"
        },
        {
          "data": {
            "text/markdown": [
              "Recommending up to 5 books similar to **Harry Potter and the Order of the Phoenix**"
            ],
            "text/plain": [
              "<IPython.core.display.Markdown object>"
            ]
          },
          "metadata": {},
          "output_type": "display_data"
        },
        {
          "data": {
            "text/markdown": [
              "***"
            ],
            "text/plain": [
              "<IPython.core.display.Markdown object>"
            ]
          },
          "metadata": {},
          "output_type": "display_data"
        },
        {
          "data": {
            "text/markdown": [
              "1. **Harry Potter and the Prisoner of Azkaban**"
            ],
            "text/plain": [
              "<IPython.core.display.Markdown object>"
            ]
          },
          "metadata": {},
          "output_type": "display_data"
        },
        {
          "data": {
            "text/markdown": [
              "<u>Description</u>: Harry Potter's third year at Hogwarts is full of new dangers.  A convicted murderer, Sirius Black,\\\n",
              "has broken out of Azkaban prison, and it seems he's after Harry.  Now Hogwarts is being patrolled by\\\n",
              "the dementors, the Azkaban guards who are hunting Sirius.  But Harry can't imagine that Sirius or,\\\n",
              "for that matter, the evil Lord Voldemort could be more frightening than the dementors themselves,\\\n",
              "who have the terrible power to fill anyone they come across with aching loneliness and despair.\\\n",
              "Meanwhile, life continues as usual at Hogwarts.  A top-of-the-line broom takes Harry's success at\\\n",
              "Quidditch, the sport of the Wizarding world, to new heights.  A cute fourth-year student catches his\\\n",
              "eye.  And he becomes close with the new Defense of the Dark Arts teacher, who was a childhood friend\\\n",
              "of his father.  Yet despite the relative safety of life at Hogwarts and the best efforts of the\\\n",
              "dementors, the threat of Sirius Black grows ever closer.  But if Harry has learned anything from his\\\n",
              "education in wizardry, it is that things are often not what they seem.  Tragic revelations,\\\n",
              "heartwarming surprises, and high-stakes magical adventures await the boy wizard in this funny and\\\n",
              "poignant third installment of the beloved series.--scholastic.com"
            ],
            "text/plain": [
              "<IPython.core.display.Markdown object>"
            ]
          },
          "metadata": {},
          "output_type": "display_data"
        },
        {
          "data": {
            "text/markdown": [
              "<u>Score</u>: 0.04166349433609784"
            ],
            "text/plain": [
              "<IPython.core.display.Markdown object>"
            ]
          },
          "metadata": {},
          "output_type": "display_data"
        },
        {
          "data": {
            "text/markdown": [
              "2. **Like Water for Chocolate**"
            ],
            "text/plain": [
              "<IPython.core.display.Markdown object>"
            ]
          },
          "metadata": {},
          "output_type": "display_data"
        },
        {
          "data": {
            "text/markdown": [
              "<u>Description</u>: Earthy, magical, and utterly charming, this tale of family life in turn-of-the-century Mexico became\\\n",
              "a best-selling phenomenon with its winning blend of poignant romance and bittersweet wit.The number\\\n",
              "one bestseller in Mexico and America for almost two years, and subsequently a bestseller around the\\\n",
              "world, Like Water For Chocolate is a romantic, poignant tale, touched with moments of magic, graphic\\\n",
              "earthiness, bittersweet wit - and recipes.  A sumptuous feast of a novel, it relates the bizarre\\\n",
              "history of the all-female De La Garza family.  Tita, the youngest daughter of the house, has been\\\n",
              "forbidden to marry, condemned by Mexican tradition to look after her mother until she dies.  But\\\n",
              "Tita falls in love with Pedro, and he is seduced by the magical food she cooks.  In desperation,\\\n",
              "Pedro marries her sister Rosaura so that he can stay close to her, so that Tita and Pedro are forced\\\n",
              "to circle each other in unconsummated passion.  Only a freakish chain of tragedies, bad luck and\\\n",
              "fate finally reunite them against all the odds."
            ],
            "text/plain": [
              "<IPython.core.display.Markdown object>"
            ]
          },
          "metadata": {},
          "output_type": "display_data"
        },
        {
          "data": {
            "text/markdown": [
              "<u>Score</u>: 0.01604368493115349"
            ],
            "text/plain": [
              "<IPython.core.display.Markdown object>"
            ]
          },
          "metadata": {},
          "output_type": "display_data"
        },
        {
          "data": {
            "text/markdown": [
              "3. **Harry Potter and the Chamber of Secrets**"
            ],
            "text/plain": [
              "<IPython.core.display.Markdown object>"
            ]
          },
          "metadata": {},
          "output_type": "display_data"
        },
        {
          "data": {
            "text/markdown": [
              "<u>Description</u>: Ever since Harry Potter had come home for the summer, the Dursleys had been so mean and hideous that\\\n",
              "all Harry wanted was to get back to the Hogwarts School for Witchcraft and Wizardry.  But just as\\\n",
              "he’s packing his bags, Harry receives a warning from a strange impish creature who says that if\\\n",
              "Harry returns to Hogwarts, disaster will strike.And strike it does.  For in Harry’s second year at\\\n",
              "Hogwarts, fresh torments and horrors arise, including an outrageously stuck-up new professor and a\\\n",
              "spirit who haunts the girls’ bathroom.  But then the real trouble begins – someone is turning\\\n",
              "Hogwarts students to stone.  Could it be Draco Malfoy, a more poisonous rival than ever?  Could it\\\n",
              "possible be Hagrid, whose mysterious past is finally told?  Or could it be the one everyone at\\\n",
              "Hogwarts most suspects… Harry Potter himself!"
            ],
            "text/plain": [
              "<IPython.core.display.Markdown object>"
            ]
          },
          "metadata": {},
          "output_type": "display_data"
        },
        {
          "data": {
            "text/markdown": [
              "<u>Score</u>: 0.011495027955446324"
            ],
            "text/plain": [
              "<IPython.core.display.Markdown object>"
            ]
          },
          "metadata": {},
          "output_type": "display_data"
        },
        {
          "data": {
            "text/markdown": [
              "4. **The Iron King**"
            ],
            "text/plain": [
              "<IPython.core.display.Markdown object>"
            ]
          },
          "metadata": {},
          "output_type": "display_data"
        },
        {
          "data": {
            "text/markdown": [
              "<u>Description</u>: Meghan Chase has a secret destiny; one she could never have imagined.Something has always felt\\\n",
              "slightly off in Meghan's life, ever since her father disappeared before her eyes when she was six.\\\n",
              "She has never quite fit in at school or at home.When a dark stranger begins watching her from afar,\\\n",
              "and her prankster best friend becomes strangely protective of her, Meghan senses that everything\\\n",
              "she's known is about to change.But she could never have guessed the truth - that she is the daughter\\\n",
              "of a mythical faery king and is a pawn in a deadly war.  Now Meghan will learn just how far she'll\\\n",
              "go to save someone she cares about, to stop a mysterious evil, no faery creature dare face; and to\\\n",
              "find love with a young prince who might rather see her dead than let her touch his icy heart."
            ],
            "text/plain": [
              "<IPython.core.display.Markdown object>"
            ]
          },
          "metadata": {},
          "output_type": "display_data"
        },
        {
          "data": {
            "text/markdown": [
              "<u>Score</u>: 0.009484079705203152"
            ],
            "text/plain": [
              "<IPython.core.display.Markdown object>"
            ]
          },
          "metadata": {},
          "output_type": "display_data"
        },
        {
          "data": {
            "text/markdown": [
              "5. **Harry Potter and the Sorcerer's Stone**"
            ],
            "text/plain": [
              "<IPython.core.display.Markdown object>"
            ]
          },
          "metadata": {},
          "output_type": "display_data"
        },
        {
          "data": {
            "text/markdown": [
              "<u>Description</u>: Harry Potter's life is miserable.  His parents are dead and he's stuck with his heartless relatives,\\\n",
              "who force him to live in a tiny closet under the stairs.  But his fortune changes when he receives a\\\n",
              "letter that tells him the truth about himself: he's a wizard.  A mysterious visitor rescues him from\\\n",
              "his relatives and takes him to his new home, Hogwarts School of Witchcraft and Wizardry.After a\\\n",
              "lifetime of bottling up his magical powers, Harry finally feels like a normal kid.  But even within\\\n",
              "the Wizarding community, he is special.  He is the boy who lived: the only person to have ever\\\n",
              "survived a killing curse inflicted by the evil Lord Voldemort, who launched a brutal takeover of the\\\n",
              "Wizarding world, only to vanish after failing to kill Harry.Though Harry's first year at Hogwarts is\\\n",
              "the best of his life, not everything is perfect.  There is a dangerous secret object hidden within\\\n",
              "the castle walls, and Harry believes it's his responsibility to prevent it from falling into evil\\\n",
              "hands.  But doing so will bring him into contact with forces more terrifying than he ever could have\\\n",
              "imagined.Full of sympathetic characters, wildly imaginative situations, and countless exciting\\\n",
              "details, the first installment in the series assembles an unforgettable magical world and sets the\\\n",
              "stage for many high-stakes adventures to come."
            ],
            "text/plain": [
              "<IPython.core.display.Markdown object>"
            ]
          },
          "metadata": {},
          "output_type": "display_data"
        },
        {
          "data": {
            "text/markdown": [
              "<u>Score</u>: 0.009234756451768522"
            ],
            "text/plain": [
              "<IPython.core.display.Markdown object>"
            ]
          },
          "metadata": {},
          "output_type": "display_data"
        },
        {
          "data": {
            "text/markdown": [
              "***"
            ],
            "text/plain": [
              "<IPython.core.display.Markdown object>"
            ]
          },
          "metadata": {},
          "output_type": "display_data"
        }
      ],
      "source": [
        "bookId = '2.Harry_Potter_and_the_Order_of_the_Phoenix'\n",
        "for n in range (1, 3):\n",
        "    recommender = BookRecommender(\n",
        "        books=recommenderDf,\n",
        "        numBooks=1000,\n",
        "        numTop=100,\n",
        "        vectorizer=TfidfVectorizer(\n",
        "            stop_words='english',\n",
        "            ngram_range=(n, n),\n",
        "            max_df=0.85, min_df=(0.01 if n == 1 else 1),\n",
        "            strip_accents='unicode',\n",
        "        )\n",
        "    )\n",
        "    printMd(f'### Using `{n}-grams`:')\n",
        "    runWithNoWarnings(lambda: recommender.findMostSimilar(showProgress=True))\n",
        "    recommender.showRecommendations(bookId, num=5)"
      ]
    },
    {
      "attachments": {},
      "cell_type": "markdown",
      "metadata": {},
      "source": [
        "### Implementing a Book Genre Classifier"
      ]
    },
    {
      "cell_type": "code",
      "execution_count": 22,
      "metadata": {},
      "outputs": [
        {
          "data": {
            "text/html": [
              "<div>\n",
              "<style scoped>\n",
              "    .dataframe tbody tr th:only-of-type {\n",
              "        vertical-align: middle;\n",
              "    }\n",
              "\n",
              "    .dataframe tbody tr th {\n",
              "        vertical-align: top;\n",
              "    }\n",
              "\n",
              "    .dataframe thead th {\n",
              "        text-align: right;\n",
              "    }\n",
              "</style>\n",
              "<table border=\"1\" class=\"dataframe\">\n",
              "  <thead>\n",
              "    <tr style=\"text-align: right;\">\n",
              "      <th></th>\n",
              "      <th>genreSingle</th>\n",
              "      <th>Books</th>\n",
              "    </tr>\n",
              "  </thead>\n",
              "  <tbody>\n",
              "    <tr>\n",
              "      <th>1</th>\n",
              "      <td>Fiction</td>\n",
              "      <td>4865</td>\n",
              "    </tr>\n",
              "    <tr>\n",
              "      <th>2</th>\n",
              "      <td>Fantasy</td>\n",
              "      <td>4561</td>\n",
              "    </tr>\n",
              "    <tr>\n",
              "      <th>3</th>\n",
              "      <td>Young Adult</td>\n",
              "      <td>2799</td>\n",
              "    </tr>\n",
              "    <tr>\n",
              "      <th>4</th>\n",
              "      <td>Romance</td>\n",
              "      <td>2207</td>\n",
              "    </tr>\n",
              "    <tr>\n",
              "      <th>5</th>\n",
              "      <td>Nonfiction</td>\n",
              "      <td>2073</td>\n",
              "    </tr>\n",
              "    <tr>\n",
              "      <th>6</th>\n",
              "      <td>Historical Fiction</td>\n",
              "      <td>1888</td>\n",
              "    </tr>\n",
              "    <tr>\n",
              "      <th>7</th>\n",
              "      <td>Mystery</td>\n",
              "      <td>1760</td>\n",
              "    </tr>\n",
              "    <tr>\n",
              "      <th>8</th>\n",
              "      <td>Science Fiction</td>\n",
              "      <td>1217</td>\n",
              "    </tr>\n",
              "    <tr>\n",
              "      <th>9</th>\n",
              "      <td>Classics</td>\n",
              "      <td>860</td>\n",
              "    </tr>\n",
              "    <tr>\n",
              "      <th>10</th>\n",
              "      <td>History</td>\n",
              "      <td>749</td>\n",
              "    </tr>\n",
              "  </tbody>\n",
              "</table>\n",
              "</div>"
            ],
            "text/plain": [
              "           genreSingle  Books\n",
              "1              Fiction   4865\n",
              "2              Fantasy   4561\n",
              "3          Young Adult   2799\n",
              "4              Romance   2207\n",
              "5           Nonfiction   2073\n",
              "6   Historical Fiction   1888\n",
              "7              Mystery   1760\n",
              "8      Science Fiction   1217\n",
              "9             Classics    860\n",
              "10             History    749"
            ]
          },
          "execution_count": 22,
          "metadata": {},
          "output_type": "execute_result"
        }
      ],
      "source": [
        "topGenreSingle = TopColumnValuesAnswerGenerator().generateAnswer(\n",
        "    df=dataDf,\n",
        "    q={\n",
        "        'col': DataColumn.GENRESINGLE,\n",
        "        'countCol': TopColumnValuesAnswerGenerator.COUNT_ROWS,\n",
        "        'dataFilter': lambda df: (\n",
        "            df[df[DataColumn.LANGUAGE] == 'English']\n",
        "        ),\n",
        "        'limit': 10\n",
        "    }\n",
        ")\n",
        "topGenreSingle"
      ]
    },
    {
      "cell_type": "code",
      "execution_count": 24,
      "metadata": {},
      "outputs": [],
      "source": [
        "classifierDf = dataDf[\n",
        "    (dataDf[DataColumn.LANGUAGE] == 'English')\n",
        "    &\n",
        "    (dataDf[DataColumn.GENRESINGLE].isin(topGenreSingle[DataColumn.GENRESINGLE].values))\n",
        "][[DataColumn.BOOKID, DataColumn.DESCRIPTION, DataColumn.GENRESINGLE]]\n",
        "\n",
        "def cleanDescription(s: str):\n",
        "    s = ''.join(c.lower() if (ord(c) < 128 and c not in (string.punctuation + string.digits)) else ' ' for c in s)    \n",
        "    return (' '.join((w for w in s.split() if w not in STOP_WORDS))).strip()\n",
        "\n",
        "classifierDf[DataColumn.DESCRIPTION] = classifierDf[DataColumn.DESCRIPTION].apply(cleanDescription)\n",
        "\n",
        "classifierDf = classifierDf.loc[classifierDf[DataColumn.DESCRIPTION] != '']"
      ]
    }
  ],
  "metadata": {
    "colab": {
      "provenance": []
    },
    "kernelspec": {
      "display_name": "Python 3",
      "language": "python",
      "name": "python3"
    },
    "language_info": {
      "codemirror_mode": {
        "name": "ipython",
        "version": 3
      },
      "file_extension": ".py",
      "mimetype": "text/x-python",
      "name": "python",
      "nbconvert_exporter": "python",
      "pygments_lexer": "ipython3",
      "version": "3.8.10"
    },
    "orig_nbformat": 4
  },
  "nbformat": 4,
  "nbformat_minor": 0
}
