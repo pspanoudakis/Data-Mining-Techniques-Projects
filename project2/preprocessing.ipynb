{
 "cells": [
  {
   "cell_type": "code",
   "execution_count": 36,
   "metadata": {},
   "outputs": [],
   "source": [
    "### Standard Modules ###\n",
    "\n",
    "# Type Hints\n",
    "from typing import Sequence\n",
    "# from typing_extensions import ParamSpec\n",
    "\n",
    "# from datetime import datetime, date, timedelta\n",
    "# from enum import Enum, auto\n",
    "# import warnings\n",
    "\n",
    "\n",
    "### Non-standard Modules ###\n",
    "\n",
    "import pandas as pd\n",
    "import numpy as np\n",
    "# import seaborn as sns\n",
    "# # matplotlib\n",
    "# import matplotlib.pyplot as plt\n",
    "# from mpl_toolkits.mplot3d.axes3d import Axes3D\n",
    "# # sklearn\n",
    "# from sklearn.decomposition import PCA\n",
    "# from sklearn.cluster import KMeans, AgglomerativeClustering\n",
    "# # ipynb-specific\n",
    "from IPython.display import display, Markdown\n",
    "# from tqdm.notebook import tqdm"
   ]
  },
  {
   "cell_type": "code",
   "execution_count": 37,
   "metadata": {},
   "outputs": [],
   "source": [
    "CSV_PATH = '/books_1.Best_Books_Ever.csv'\n",
    "def readDataset() -> pd.DataFrame:\n",
    "    path = ''\n",
    "    try:\n",
    "        from google.colab import drive # type: ignore\n",
    "        drive.mount('/content/gdrive', force_remount=True)\n",
    "        path = '/content/gdrive/My Drive'\n",
    "    except ImportError:\n",
    "        path = '.'\n",
    "    \n",
    "    path += CSV_PATH\n",
    "    return pd.read_csv(path)\n",
    "\n",
    "class DataColumn:\n",
    "    \"\"\" Autocomplete (& typo prevention) helper for Column Titles. \"\"\"\n",
    "\n",
    "    BOOKID = 'bookId'\n",
    "    TITLE = 'title'\n",
    "    SERIES = 'series'\n",
    "    AUTHOR = 'author'\n",
    "    RATING = 'rating'\n",
    "    DESCRIPTION = 'description'\n",
    "    LANGUAGE = 'language'\n",
    "    ISBN = 'isbn'\n",
    "    GENRES = 'genres'\n",
    "    CHARACTERS = 'characters'\n",
    "    BOOKFORMAT = 'bookFormat'\n",
    "    EDITION = 'edition'\n",
    "    PAGES = 'pages'\n",
    "    PUBLISHER = 'publisher'\n",
    "    PUBLISHDATE = 'publishDate'\n",
    "    FIRSTPUBLISHDATE = 'firstPublishDate'\n",
    "    AWARDS = 'awards'\n",
    "    NUMRATINGS = 'numRatings'\n",
    "    RATINGSBYSTARS = 'ratingsByStars'\n",
    "    LIKEDPERCENT = 'likedPercent'\n",
    "    SETTING = 'setting'\n",
    "    COVERIMG = 'coverImg'\n",
    "    BBESCORE = 'bbeScore'\n",
    "    BBEVOTES = 'bbeVotes'\n",
    "    PRICE = 'price'\n",
    "\n",
    "def printMd(s: str):\n",
    "    \"\"\" Displays `s` as Markdown text in the output cell. \"\"\"\n",
    "    display(Markdown(s))\n",
    "\n",
    "# TRet = TypeVar('TRet')\n",
    "# TParams = ParamSpec('TParams')\n",
    "# def runWithNoWarnings(fn: Callable[TParams, TRet], *args: TParams.args, **kwargs: TParams.kwargs) -> TRet:\n",
    "#     \"\"\" Executes `fn` with the specified `*args` and `**kwargs` while ignoring any raised warnings. \"\"\"\n",
    "#     with warnings.catch_warnings():\n",
    "#         warnings.filterwarnings('ignore')\n",
    "#         return fn(*args, **kwargs)"
   ]
  },
  {
   "cell_type": "code",
   "execution_count": 38,
   "metadata": {},
   "outputs": [],
   "source": [
    "def trimDataset(df: pd.DataFrame, colsToDrop: Sequence[str], dropNaN = False):\n",
    "    df.drop(labels=colsToDrop, axis=1, inplace=True)\n",
    "    if dropNaN:\n",
    "        df.dropna(inplace=True)\n",
    "\n",
    "def countMissingByColumn(df: pd.DataFrame):\n",
    "    \"\"\"\n",
    "        Returns a `DataFrame` which includes one row for each column of `df` with at least one missing value.\n",
    "        \n",
    "        Each row contains the name of the respective column, as well as the amount of missing values for that column.\n",
    "    \"\"\"\n",
    "\n",
    "    temp = df.isnull().sum().sort_values(ascending=False)\n",
    "    missingDf = pd.DataFrame(temp.loc[temp > 0])\n",
    "    missingDf.columns = ['Missing']\n",
    "    return missingDf"
   ]
  },
  {
   "cell_type": "code",
   "execution_count": 39,
   "metadata": {},
   "outputs": [
    {
     "data": {
      "text/html": [
       "<div>\n",
       "<style scoped>\n",
       "    .dataframe tbody tr th:only-of-type {\n",
       "        vertical-align: middle;\n",
       "    }\n",
       "\n",
       "    .dataframe tbody tr th {\n",
       "        vertical-align: top;\n",
       "    }\n",
       "\n",
       "    .dataframe thead th {\n",
       "        text-align: right;\n",
       "    }\n",
       "</style>\n",
       "<table border=\"1\" class=\"dataframe\">\n",
       "  <thead>\n",
       "    <tr style=\"text-align: right;\">\n",
       "      <th></th>\n",
       "      <th>Missing</th>\n",
       "    </tr>\n",
       "  </thead>\n",
       "  <tbody>\n",
       "    <tr>\n",
       "      <th>language</th>\n",
       "      <td>3806</td>\n",
       "    </tr>\n",
       "    <tr>\n",
       "      <th>publisher</th>\n",
       "      <td>3696</td>\n",
       "    </tr>\n",
       "    <tr>\n",
       "      <th>pages</th>\n",
       "      <td>2347</td>\n",
       "    </tr>\n",
       "    <tr>\n",
       "      <th>description</th>\n",
       "      <td>1338</td>\n",
       "    </tr>\n",
       "    <tr>\n",
       "      <th>publishDate</th>\n",
       "      <td>880</td>\n",
       "    </tr>\n",
       "  </tbody>\n",
       "</table>\n",
       "</div>"
      ],
      "text/plain": [
       "             Missing\n",
       "language        3806\n",
       "publisher       3696\n",
       "pages           2347\n",
       "description     1338\n",
       "publishDate      880"
      ]
     },
     "execution_count": 39,
     "metadata": {},
     "output_type": "execute_result"
    }
   ],
   "source": [
    "colsToDrop = [\n",
    "    DataColumn.EDITION,\n",
    "    DataColumn.SERIES,\n",
    "    DataColumn.FIRSTPUBLISHDATE,\n",
    "    DataColumn.PRICE,\n",
    "    DataColumn.BOOKFORMAT,\n",
    "    DataColumn.LIKEDPERCENT,\n",
    "    DataColumn.COVERIMG,\n",
    "]\n",
    "\n",
    "dataDf = readDataset()\n",
    "trimDataset(dataDf, colsToDrop, dropNaN=False)\n",
    "countMissingByColumn(dataDf)"
   ]
  },
  {
   "cell_type": "code",
   "execution_count": 40,
   "metadata": {},
   "outputs": [
    {
     "data": {
      "text/plain": [
       "(44034, 18)"
      ]
     },
     "execution_count": 40,
     "metadata": {},
     "output_type": "execute_result"
    }
   ],
   "source": [
    "trimDataset(dataDf, colsToDrop=[], dropNaN=True)\n",
    "dataDf.shape"
   ]
  }
 ],
 "metadata": {
  "kernelspec": {
   "display_name": "Python 3",
   "language": "python",
   "name": "python3"
  },
  "language_info": {
   "codemirror_mode": {
    "name": "ipython",
    "version": 3
   },
   "file_extension": ".py",
   "mimetype": "text/x-python",
   "name": "python",
   "nbconvert_exporter": "python",
   "pygments_lexer": "ipython3",
   "version": "3.8.10"
  },
  "orig_nbformat": 4
 },
 "nbformat": 4,
 "nbformat_minor": 2
}
